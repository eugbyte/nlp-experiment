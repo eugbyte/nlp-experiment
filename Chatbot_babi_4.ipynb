{
  "nbformat": 4,
  "nbformat_minor": 0,
  "metadata": {
    "colab": {
      "name": "Chatbot_babi_4.ipynb",
      "provenance": [],
      "collapsed_sections": [],
      "authorship_tag": "ABX9TyMp5zTvu903rKKIwOMR7zVz",
      "include_colab_link": true
    },
    "kernelspec": {
      "display_name": "Python 3",
      "name": "python3"
    },
    "accelerator": "GPU"
  },
  "cells": [
    {
      "cell_type": "markdown",
      "metadata": {
        "id": "view-in-github",
        "colab_type": "text"
      },
      "source": [
        "<a href=\"https://colab.research.google.com/github/eugbyte/nlp-experiment/blob/main/Chatbot_babi_4.ipynb\" target=\"_parent\"><img src=\"https://colab.research.google.com/assets/colab-badge.svg\" alt=\"Open In Colab\"/></a>"
      ]
    },
    {
      "cell_type": "markdown",
      "metadata": {
        "id": "psmaB7j1l2vz"
      },
      "source": [
        "This chatbot is trained using the End-to-End Memory Network\r\n",
        "\r\n",
        "[Summary](https://medium.com/analytics-vidhya/end-to-end-memory-network-highlights-29dba9a6d59b)\r\n",
        "\r\n",
        "[Original Paper](https://arxiv.org/pdf/1503.08895.pdf)\r\n",
        "\r\n",
        "Dataset is from the [Facebook bAbI tasks dataset](www.thespermwhale.com/jaseweston/babi/tasks_1-20_v1-2.tar.gz)"
      ]
    },
    {
      "cell_type": "code",
      "metadata": {
        "id": "296n7LsSx2E_",
        "colab": {
          "base_uri": "https://localhost:8080/"
        },
        "outputId": "6f7e507a-37e5-4590-e1c4-5d14cd7290b8"
      },
      "source": [
        "import numpy as np\r\n",
        "import re\r\n",
        "from tensorflow.keras.preprocessing.text import Tokenizer\r\n",
        "from tensorflow.keras.preprocessing.sequence import pad_sequences\r\n",
        "from tensorflow.keras.models import Sequential, Model\r\n",
        "from tensorflow.keras.layers import Input, Activation, Dense, Permute, Dropout, add, dot, concatenate, LSTM, Embedding\r\n",
        "import matplotlib.pyplot as plt\r\n",
        "from nltk.stem import WordNetLemmatizer\r\n",
        "import nltk\r\n",
        "from nltk import tokenize\r\n",
        "from copy import deepcopy\r\n",
        "\r\n",
        "nltk.download('wordnet')\r\n",
        "nltk.download('punkt')\r\n"
      ],
      "execution_count": null,
      "outputs": [
        {
          "output_type": "stream",
          "text": [
            "[nltk_data] Downloading package wordnet to /root/nltk_data...\n",
            "[nltk_data]   Package wordnet is already up-to-date!\n",
            "[nltk_data] Downloading package punkt to /root/nltk_data...\n",
            "[nltk_data]   Package punkt is already up-to-date!\n"
          ],
          "name": "stdout"
        },
        {
          "output_type": "execute_result",
          "data": {
            "text/plain": [
              "True"
            ]
          },
          "metadata": {
            "tags": []
          },
          "execution_count": 257
        }
      ]
    },
    {
      "cell_type": "markdown",
      "metadata": {
        "id": "CbiOYeCegTQB"
      },
      "source": [
        "# Data cleaning and encoding"
      ]
    },
    {
      "cell_type": "markdown",
      "metadata": {
        "id": "aJKJEGFIdqj3"
      },
      "source": [
        "## 1. Load Text"
      ]
    },
    {
      "cell_type": "code",
      "metadata": {
        "id": "FhS7Jy7d1Z1o"
      },
      "source": [
        "# from google.colab import files\r\n",
        "# files.upload()"
      ],
      "execution_count": null,
      "outputs": []
    },
    {
      "cell_type": "code",
      "metadata": {
        "id": "cgjGaLH81iHb",
        "colab": {
          "base_uri": "https://localhost:8080/"
        },
        "outputId": "56049ef8-65b6-422e-dbda-9ea877b16596"
      },
      "source": [
        "!ls"
      ],
      "execution_count": null,
      "outputs": [
        {
          "output_type": "stream",
          "text": [
            "my_model.h5\t\t\t     qa1_single-supporting-fact_train.txt\n",
            "qa1_single-supporting-fact_test.txt  sample_data\n"
          ],
          "name": "stdout"
        }
      ]
    },
    {
      "cell_type": "code",
      "metadata": {
        "id": "ht1HJ3ya0zPV"
      },
      "source": [
        "train_data = None\r\n",
        "with open('qa1_single-supporting-fact_train.txt', 'r') as f:\r\n",
        "  train_data = f.read()"
      ],
      "execution_count": null,
      "outputs": []
    },
    {
      "cell_type": "code",
      "metadata": {
        "id": "_MfPl7QE1k62"
      },
      "source": [
        "test_data = None\r\n",
        "with open('qa1_single-supporting-fact_test.txt', 'r') as f:\r\n",
        "  test_data = f.read()"
      ],
      "execution_count": null,
      "outputs": []
    },
    {
      "cell_type": "code",
      "metadata": {
        "id": "V7NwXQsd328S",
        "colab": {
          "base_uri": "https://localhost:8080/"
        },
        "outputId": "ef788d17-cc22-4d49-80b5-34a6492d0ddb"
      },
      "source": [
        "type(train_data)\r\n",
        "# str"
      ],
      "execution_count": null,
      "outputs": [
        {
          "output_type": "execute_result",
          "data": {
            "text/plain": [
              "str"
            ]
          },
          "metadata": {
            "tags": []
          },
          "execution_count": 262
        }
      ]
    },
    {
      "cell_type": "code",
      "metadata": {
        "id": "GQvciroC36Tc",
        "colab": {
          "base_uri": "https://localhost:8080/"
        },
        "outputId": "be04df6e-9130-4c5f-db13-2bbea0939c57"
      },
      "source": [
        "len(train_data)\r\n",
        "# 94346"
      ],
      "execution_count": null,
      "outputs": [
        {
          "output_type": "execute_result",
          "data": {
            "text/plain": [
              "94346"
            ]
          },
          "metadata": {
            "tags": []
          },
          "execution_count": 263
        }
      ]
    },
    {
      "cell_type": "code",
      "metadata": {
        "id": "9BuWEZjl37Xp",
        "colab": {
          "base_uri": "https://localhost:8080/"
        },
        "outputId": "c69f7da5-690a-4f59-a354-68fdd42d8202"
      },
      "source": [
        "print(train_data[:100])\r\n",
        "\r\n",
        "# 1 Mary moved to the bathroom.\r\n",
        "# 2 John went to the hallway.\r\n",
        "# 3 Where is Mary? \tbathroom\t1\r\n",
        "# 4 Daniel went"
      ],
      "execution_count": null,
      "outputs": [
        {
          "output_type": "stream",
          "text": [
            "1 Mary moved to the bathroom.\n",
            "2 John went to the hallway.\n",
            "3 Where is Mary? \tbathroom\t1\n",
            "4 Daniel went\n"
          ],
          "name": "stdout"
        }
      ]
    },
    {
      "cell_type": "markdown",
      "metadata": {
        "id": "eAO0MbAOfcM1"
      },
      "source": [
        "## 2. Text Preprocessing"
      ]
    },
    {
      "cell_type": "code",
      "metadata": {
        "id": "3e8zLXmuduNE"
      },
      "source": [
        "def remove_digits(text):\r\n",
        "  text = re.sub(\"^\\d+\\s|\\s\\d+\\s|\\s\\d+$\", \" \", text)\r\n",
        "  return text"
      ],
      "execution_count": null,
      "outputs": []
    },
    {
      "cell_type": "code",
      "metadata": {
        "id": "hnajiizF3yFh"
      },
      "source": [
        "def remove_punc(text):\r\n",
        "  text = re.sub(r'[^\\w\\s]', ' ', text)\r\n",
        "  return text"
      ],
      "execution_count": null,
      "outputs": []
    },
    {
      "cell_type": "code",
      "metadata": {
        "id": "Skq9Zg1iWbhY"
      },
      "source": [
        "def lemmat(text):\r\n",
        "  wordnet_lemmatizer = WordNetLemmatizer()\r\n",
        "  words = tokenize.word_tokenize(text)\r\n",
        "  output = [wordnet_lemmatizer.lemmatize(word, 'v') for word in words]  \r\n",
        "  return \" \".join(output)"
      ],
      "execution_count": null,
      "outputs": []
    },
    {
      "cell_type": "code",
      "metadata": {
        "colab": {
          "base_uri": "https://localhost:8080/",
          "height": 36
        },
        "id": "KsuZPMH0YFZH",
        "outputId": "c529270a-8adf-41d5-b45c-3e25a06c616c"
      },
      "source": [
        "lemmat(\"ran run running\")"
      ],
      "execution_count": null,
      "outputs": [
        {
          "output_type": "execute_result",
          "data": {
            "application/vnd.google.colaboratory.intrinsic+json": {
              "type": "string"
            },
            "text/plain": [
              "'run run run'"
            ]
          },
          "metadata": {
            "tags": []
          },
          "execution_count": 268
        }
      ]
    },
    {
      "cell_type": "code",
      "metadata": {
        "id": "R86tcwaXV7MR"
      },
      "source": [
        "def clean_text(text):\r\n",
        "  text = remove_punc(text)\r\n",
        "  text = remove_digits(text)\r\n",
        "  text = text.strip()\r\n",
        "  text = lemmat(text)\r\n",
        "  return text"
      ],
      "execution_count": null,
      "outputs": []
    },
    {
      "cell_type": "code",
      "metadata": {
        "colab": {
          "base_uri": "https://localhost:8080/"
        },
        "id": "PPgK-l4pXcCX",
        "outputId": "2a4b3196-70c4-4858-8cfe-848154992a19"
      },
      "source": [
        "print(train_data[:100])"
      ],
      "execution_count": null,
      "outputs": [
        {
          "output_type": "stream",
          "text": [
            "1 Mary moved to the bathroom.\n",
            "2 John went to the hallway.\n",
            "3 Where is Mary? \tbathroom\t1\n",
            "4 Daniel went\n"
          ],
          "name": "stdout"
        }
      ]
    },
    {
      "cell_type": "markdown",
      "metadata": {
        "id": "pDUCH5OMdy49"
      },
      "source": [
        "## 3. Generate train test dataset"
      ]
    },
    {
      "cell_type": "code",
      "metadata": {
        "id": "2GJtsztLeBQ4"
      },
      "source": [
        "def group_s_q_a(X):\r\n",
        "  # s = story, q = question, a = answer\r\n",
        "\r\n",
        "  X = train_data.split(\"\\n\")\r\n",
        "  output = []\r\n",
        "  for i in range(len(X)):\r\n",
        "    if (i+1) % 3 != 0:\r\n",
        "      continue\r\n",
        "\r\n",
        "    q, a, *rest = X[i].split(\"\\t\")\r\n",
        "    \r\n",
        "    q = clean_text(q)\r\n",
        "\r\n",
        "    s = X[i-2] + X[i-1]\r\n",
        "    s = clean_text(s)\r\n",
        "\r\n",
        "    s = s.split(\" \")\r\n",
        "    q = q.split(\" \")\r\n",
        "    a = a.split(\" \")\r\n",
        "\r\n",
        "    output.append( (s, q, a) )\r\n",
        "\r\n",
        "  return output\r\n",
        "  "
      ],
      "execution_count": null,
      "outputs": []
    },
    {
      "cell_type": "code",
      "metadata": {
        "id": "RPEmlmLKNzeJ"
      },
      "source": [
        "train_data_list = group_s_q_a(train_data)\r\n",
        "test_data_list = group_s_q_a(test_data)"
      ],
      "execution_count": null,
      "outputs": []
    },
    {
      "cell_type": "code",
      "metadata": {
        "id": "RtuNs8m_bg4n"
      },
      "source": [
        "original_train_data_list = deepcopy(train_data_list)\r\n",
        "original_test_data_list = deepcopy(test_data_list)"
      ],
      "execution_count": null,
      "outputs": []
    },
    {
      "cell_type": "code",
      "metadata": {
        "id": "m6FtIb03N8gh"
      },
      "source": [
        "# to get the a cumulative representation of the stories\r\n",
        "\r\n",
        "def accum_story(data):\r\n",
        "\r\n",
        "  for i, group in enumerate(data):\r\n",
        "    if i == 0:\r\n",
        "      continue\r\n",
        "\r\n",
        "    story, qn, ans = group\r\n",
        "    prev_story, *rest = data[i-1]\r\n",
        "\r\n",
        "    accum_story = prev_story + story\r\n",
        "    data[i] = (accum_story, qn, ans)\r\n"
      ],
      "execution_count": null,
      "outputs": []
    },
    {
      "cell_type": "code",
      "metadata": {
        "id": "axq5BEssO_7T"
      },
      "source": [
        "accum_story(train_data_list)\r\n",
        "accum_story(test_data_list)"
      ],
      "execution_count": null,
      "outputs": []
    },
    {
      "cell_type": "code",
      "metadata": {
        "colab": {
          "base_uri": "https://localhost:8080/"
        },
        "id": "y4Ddl6AhTYiW",
        "outputId": "cf4eec8d-b8d8-403f-9cd1-2f295f2990ce"
      },
      "source": [
        "for i, group in enumerate(original_test_data_list):\r\n",
        "  if i > 5:\r\n",
        "    break\r\n",
        "\r\n",
        "  story, qn, ans = group\r\n",
        "  print(story)\r\n",
        "\r\n",
        "  print(qn)\r\n"
      ],
      "execution_count": null,
      "outputs": [
        {
          "output_type": "stream",
          "text": [
            "['Mary', 'move', 'to', 'the', 'bathroom', 'John', 'go', 'to', 'the', 'hallway']\n",
            "['Where', 'be', 'Mary']\n",
            "['Daniel', 'go', 'back', 'to', 'the', 'hallway', 'Sandra', 'move', 'to', 'the', 'garden']\n",
            "['Where', 'be', 'Daniel']\n",
            "['John', 'move', 'to', 'the', 'office', 'Sandra', 'journey', 'to', 'the', 'bathroom']\n",
            "['Where', 'be', 'Daniel']\n",
            "['Mary', 'move', 'to', 'the', 'hallway', 'Daniel', 'travel', 'to', 'the', 'office']\n",
            "['Where', 'be', 'Daniel']\n",
            "['John', 'go', 'back', 'to', 'the', 'garden', 'John', 'move', 'to', 'the', 'bedroom']\n",
            "['Where', 'be', 'Sandra']\n",
            "['Sandra', 'travel', 'to', 'the', 'office', 'Sandra', 'go', 'to', 'the', 'bathroom']\n",
            "['Where', 'be', 'Sandra']\n"
          ],
          "name": "stdout"
        }
      ]
    },
    {
      "cell_type": "markdown",
      "metadata": {
        "id": "5mCrvxZaeTRn"
      },
      "source": [
        "## 4. Get unique vocab"
      ]
    },
    {
      "cell_type": "code",
      "metadata": {
        "id": "iWl-qXvvfG_n",
        "colab": {
          "base_uri": "https://localhost:8080/"
        },
        "outputId": "32f0f9eb-61f2-4313-d4d4-3ddb35c4bf0b"
      },
      "source": [
        "all_data = group_s_q_a(train_data) + group_s_q_a(test_data)\r\n",
        "print(all_data)\r\n",
        "\r\n",
        "# [(['Mary', 'moved', 'to', 'the', 'bathroom', 'John', 'went', 'to', 'the', 'hallway'], ['Where', 'is', 'Mary'], ['bathroom'])"
      ],
      "execution_count": null,
      "outputs": [
        {
          "output_type": "stream",
          "text": [
            "[(['Mary', 'move', 'to', 'the', 'bathroom', 'John', 'go', 'to', 'the', 'hallway'], ['Where', 'be', 'Mary'], ['bathroom']), (['Daniel', 'go', 'back', 'to', 'the', 'hallway', 'Sandra', 'move', 'to', 'the', 'garden'], ['Where', 'be', 'Daniel'], ['hallway']), (['John', 'move', 'to', 'the', 'office', 'Sandra', 'journey', 'to', 'the', 'bathroom'], ['Where', 'be', 'Daniel'], ['hallway']), (['Mary', 'move', 'to', 'the', 'hallway', 'Daniel', 'travel', 'to', 'the', 'office'], ['Where', 'be', 'Daniel'], ['office']), (['John', 'go', 'back', 'to', 'the', 'garden', 'John', 'move', 'to', 'the', 'bedroom'], ['Where', 'be', 'Sandra'], ['bathroom']), (['Sandra', 'travel', 'to', 'the', 'office', 'Sandra', 'go', 'to', 'the', 'bathroom'], ['Where', 'be', 'Sandra'], ['bathroom']), (['Mary', 'go', 'to', 'the', 'bedroom', 'Daniel', 'move', 'to', 'the', 'hallway'], ['Where', 'be', 'Sandra'], ['bathroom']), (['John', 'go', 'to', 'the', 'garden', 'John', 'travel', 'to', 'the', 'office'], ['Where', 'be', 'Sandra'], ['bathroom']), (['Daniel', 'journey', 'to', 'the', 'bedroom', 'Daniel', 'travel', 'to', 'the', 'hallway'], ['Where', 'be', 'John'], ['office']), (['John', 'go', 'to', 'the', 'bedroom', 'John', 'travel', 'to', 'the', 'office'], ['Where', 'be', 'Daniel'], ['hallway']), (['Mary', 'go', 'to', 'the', 'bedroom', 'John', 'journey', 'to', 'the', 'bathroom'], ['Where', 'be', 'John'], ['bathroom']), (['Sandra', 'journey', 'to', 'the', 'hallway', 'John', 'journey', 'to', 'the', 'garden'], ['Where', 'be', 'Mary'], ['bedroom']), (['John', 'journey', 'to', 'the', 'bathroom', 'Sandra', 'journey', 'to', 'the', 'garden'], ['Where', 'be', 'John'], ['bathroom']), (['Sandra', 'go', 'back', 'to', 'the', 'bedroom', 'Daniel', 'travel', 'to', 'the', 'bathroom'], ['Where', 'be', 'John'], ['bathroom']), (['John', 'go', 'to', 'the', 'office', 'Mary', 'move', 'to', 'the', 'office'], ['Where', 'be', 'Sandra'], ['bedroom']), (['Daniel', 'journey', 'to', 'the', 'kitchen', 'Daniel', 'journey', 'to', 'the', 'bedroom'], ['Where', 'be', 'Daniel'], ['bedroom']), (['Sandra', 'move', 'to', 'the', 'garden', 'Sandra', 'go', 'back', 'to', 'the', 'kitchen'], ['Where', 'be', 'Sandra'], ['kitchen']), (['Daniel', 'travel', 'to', 'the', 'office', 'Sandra', 'go', 'back', 'to', 'the', 'hallway'], ['Where', 'be', 'Sandra'], ['hallway']), (['Daniel', 'journey', 'to', 'the', 'hallway', 'Daniel', 'go', 'to', 'the', 'bathroom'], ['Where', 'be', 'Sandra'], ['hallway']), (['John', 'travel', 'to', 'the', 'garden', 'Daniel', 'move', 'to', 'the', 'hallway'], ['Where', 'be', 'Daniel'], ['hallway']), (['Mary', 'move', 'to', 'the', 'garden', 'John', 'journey', 'to', 'the', 'bathroom'], ['Where', 'be', 'John'], ['bathroom']), (['Sandra', 'move', 'to', 'the', 'office', 'John', 'move', 'to', 'the', 'kitchen'], ['Where', 'be', 'Mary'], ['garden']), (['Sandra', 'go', 'to', 'the', 'hallway', 'Mary', 'travel', 'to', 'the', 'bedroom'], ['Where', 'be', 'John'], ['kitchen']), (['Mary', 'move', 'to', 'the', 'office', 'John', 'move', 'to', 'the', 'garden'], ['Where', 'be', 'Sandra'], ['hallway']), (['John', 'journey', 'to', 'the', 'office', 'Sandra', 'go', 'to', 'the', 'office'], ['Where', 'be', 'John'], ['office']), (['Mary', 'move', 'to', 'the', 'garden', 'Daniel', 'journey', 'to', 'the', 'bathroom'], ['Where', 'be', 'Daniel'], ['bathroom']), (['John', 'travel', 'to', 'the', 'kitchen', 'John', 'go', 'back', 'to', 'the', 'bedroom'], ['Where', 'be', 'John'], ['bedroom']), (['John', 'move', 'to', 'the', 'office', 'Daniel', 'go', 'back', 'to', 'the', 'garden'], ['Where', 'be', 'Daniel'], ['garden']), (['John', 'go', 'back', 'to', 'the', 'hallway', 'Mary', 'go', 'to', 'the', 'office'], ['Where', 'be', 'John'], ['hallway']), (['Sandra', 'travel', 'to', 'the', 'bedroom', 'John', 'travel', 'to', 'the', 'garden'], ['Where', 'be', 'Daniel'], ['garden']), (['John', 'move', 'to', 'the', 'bedroom', 'Mary', 'move', 'to', 'the', 'hallway'], ['Where', 'be', 'Mary'], ['hallway']), (['Sandra', 'move', 'to', 'the', 'bedroom', 'Sandra', 'travel', 'to', 'the', 'kitchen'], ['Where', 'be', 'Sandra'], ['kitchen']), (['Daniel', 'journey', 'to', 'the', 'bathroom', 'Sandra', 'move', 'to', 'the', 'bathroom'], ['Where', 'be', 'Daniel'], ['bathroom']), (['Daniel', 'go', 'back', 'to', 'the', 'garden', 'John', 'move', 'to', 'the', 'kitchen'], ['Where', 'be', 'John'], ['kitchen']), (['Daniel', 'journey', 'to', 'the', 'kitchen', 'Daniel', 'journey', 'to', 'the', 'garden'], ['Where', 'be', 'Daniel'], ['garden']), (['Mary', 'go', 'to', 'the', 'kitchen', 'John', 'go', 'back', 'to', 'the', 'bedroom'], ['Where', 'be', 'Mary'], ['kitchen']), (['Mary', 'go', 'back', 'to', 'the', 'bathroom', 'Mary', 'move', 'to', 'the', 'hallway'], ['Where', 'be', 'John'], ['bedroom']), (['John', 'go', 'to', 'the', 'kitchen', 'Daniel', 'travel', 'to', 'the', 'bedroom'], ['Where', 'be', 'Daniel'], ['bedroom']), (['Mary', 'travel', 'to', 'the', 'office', 'Sandra', 'move', 'to', 'the', 'bedroom'], ['Where', 'be', 'John'], ['kitchen']), (['John', 'move', 'to', 'the', 'bedroom', 'Sandra', 'journey', 'to', 'the', 'kitchen'], ['Where', 'be', 'Sandra'], ['kitchen']), (['Daniel', 'move', 'to', 'the', 'hallway', 'Daniel', 'travel', 'to', 'the', 'office'], ['Where', 'be', 'Daniel'], ['office']), (['Daniel', 'go', 'to', 'the', 'bedroom', 'Daniel', 'journey', 'to', 'the', 'office'], ['Where', 'be', 'Daniel'], ['office']), (['Sandra', 'go', 'back', 'to', 'the', 'bathroom', 'Sandra', 'journey', 'to', 'the', 'kitchen'], ['Where', 'be', 'Daniel'], ['office']), (['Daniel', 'move', 'to', 'the', 'bedroom', 'Daniel', 'journey', 'to', 'the', 'hallway'], ['Where', 'be', 'Sandra'], ['kitchen']), (['Sandra', 'travel', 'to', 'the', 'garden', 'Sandra', 'go', 'back', 'to', 'the', 'bathroom'], ['Where', 'be', 'Daniel'], ['hallway']), (['Sandra', 'go', 'to', 'the', 'garden', 'Sandra', 'journey', 'to', 'the', 'bedroom'], ['Where', 'be', 'Sandra'], ['bedroom']), (['Mary', 'travel', 'to', 'the', 'bathroom', 'John', 'journey', 'to', 'the', 'bedroom'], ['Where', 'be', 'Sandra'], ['bedroom']), (['Mary', 'go', 'back', 'to', 'the', 'kitchen', 'John', 'go', 'to', 'the', 'kitchen'], ['Where', 'be', 'John'], ['kitchen']), (['Daniel', 'travel', 'to', 'the', 'kitchen', 'Sandra', 'travel', 'to', 'the', 'bathroom'], ['Where', 'be', 'Sandra'], ['bathroom']), (['Sandra', 'go', 'back', 'to', 'the', 'garden', 'John', 'go', 'back', 'to', 'the', 'garden'], ['Where', 'be', 'Daniel'], ['kitchen']), (['Sandra', 'go', 'back', 'to', 'the', 'bathroom', 'Mary', 'move', 'to', 'the', 'garden'], ['Where', 'be', 'Mary'], ['garden']), (['Mary', 'go', 'back', 'to', 'the', 'hallway', 'Sandra', 'go', 'to', 'the', 'office'], ['Where', 'be', 'Sandra'], ['office']), (['John', 'go', 'back', 'to', 'the', 'hallway', 'John', 'travel', 'to', 'the', 'office'], ['Where', 'be', 'Sandra'], ['office']), (['Sandra', 'journey', 'to', 'the', 'hallway', 'Daniel', 'move', 'to', 'the', 'office'], ['Where', 'be', 'John'], ['office']), (['Mary', 'go', 'to', 'the', 'office', 'Sandra', 'go', 'to', 'the', 'office'], ['Where', 'be', 'John'], ['office']), (['Mary', 'go', 'back', 'to', 'the', 'office', 'John', 'go', 'back', 'to', 'the', 'bathroom'], ['Where', 'be', 'Mary'], ['office']), (['John', 'go', 'to', 'the', 'hallway', 'Mary', 'journey', 'to', 'the', 'hallway'], ['Where', 'be', 'Mary'], ['hallway']), (['Sandra', 'travel', 'to', 'the', 'hallway', 'Mary', 'travel', 'to', 'the', 'office'], ['Where', 'be', 'John'], ['hallway']), (['Mary', 'go', 'back', 'to', 'the', 'hallway', 'Sandra', 'travel', 'to', 'the', 'office'], ['Where', 'be', 'Sandra'], ['office']), (['John', 'go', 'to', 'the', 'kitchen', 'Sandra', 'go', 'to', 'the', 'hallway'], ['Where', 'be', 'Mary'], ['hallway']), (['Sandra', 'move', 'to', 'the', 'hallway', 'John', 'move', 'to', 'the', 'hallway'], ['Where', 'be', 'John'], ['hallway']), (['John', 'journey', 'to', 'the', 'bathroom', 'Daniel', 'go', 'back', 'to', 'the', 'bedroom'], ['Where', 'be', 'John'], ['bathroom']), (['Mary', 'travel', 'to', 'the', 'bedroom', 'Mary', 'journey', 'to', 'the', 'garden'], ['Where', 'be', 'Daniel'], ['bedroom']), (['John', 'travel', 'to', 'the', 'bedroom', 'Sandra', 'journey', 'to', 'the', 'garden'], ['Where', 'be', 'Daniel'], ['bedroom']), (['John', 'journey', 'to', 'the', 'kitchen', 'Sandra', 'go', 'to', 'the', 'kitchen'], ['Where', 'be', 'John'], ['kitchen']), (['Daniel', 'go', 'to', 'the', 'kitchen', 'Mary', 'travel', 'to', 'the', 'hallway'], ['Where', 'be', 'Daniel'], ['kitchen']), (['Daniel', 'go', 'back', 'to', 'the', 'garden', 'Mary', 'go', 'back', 'to', 'the', 'bathroom'], ['Where', 'be', 'Mary'], ['bathroom']), (['Sandra', 'move', 'to', 'the', 'hallway', 'John', 'move', 'to', 'the', 'garden'], ['Where', 'be', 'Daniel'], ['garden']), (['Daniel', 'move', 'to', 'the', 'kitchen', 'Mary', 'travel', 'to', 'the', 'office'], ['Where', 'be', 'Daniel'], ['kitchen']), (['Daniel', 'travel', 'to', 'the', 'hallway', 'Sandra', 'travel', 'to', 'the', 'bathroom'], ['Where', 'be', 'Sandra'], ['bathroom']), (['Sandra', 'move', 'to', 'the', 'kitchen', 'Sandra', 'go', 'back', 'to', 'the', 'garden'], ['Where', 'be', 'Sandra'], ['garden']), (['Sandra', 'journey', 'to', 'the', 'office', 'Mary', 'move', 'to', 'the', 'office'], ['Where', 'be', 'Mary'], ['office']), (['Sandra', 'journey', 'to', 'the', 'bathroom', 'Daniel', 'move', 'to', 'the', 'office'], ['Where', 'be', 'Sandra'], ['bathroom']), (['Daniel', 'go', 'back', 'to', 'the', 'kitchen', 'Mary', 'move', 'to', 'the', 'hallway'], ['Where', 'be', 'Mary'], ['hallway']), (['John', 'go', 'to', 'the', 'office', 'Sandra', 'go', 'to', 'the', 'office'], ['Where', 'be', 'John'], ['office']), (['Sandra', 'go', 'to', 'the', 'garden', 'Mary', 'travel', 'to', 'the', 'bathroom'], ['Where', 'be', 'Sandra'], ['garden']), (['Sandra', 'move', 'to', 'the', 'bathroom', 'Mary', 'travel', 'to', 'the', 'hallway'], ['Where', 'be', 'Mary'], ['hallway']), (['Mary', 'go', 'back', 'to', 'the', 'kitchen', 'Daniel', 'travel', 'to', 'the', 'bedroom'], ['Where', 'be', 'Mary'], ['kitchen']), (['Mary', 'journey', 'to', 'the', 'bedroom', 'Mary', 'journey', 'to', 'the', 'office'], ['Where', 'be', 'Daniel'], ['bedroom']), (['Mary', 'go', 'back', 'to', 'the', 'bedroom', 'Daniel', 'go', 'to', 'the', 'garden'], ['Where', 'be', 'Mary'], ['bedroom']), (['Mary', 'journey', 'to', 'the', 'garden', 'Sandra', 'go', 'back', 'to', 'the', 'office'], ['Where', 'be', 'Sandra'], ['office']), (['Sandra', 'go', 'to', 'the', 'bathroom', 'John', 'travel', 'to', 'the', 'bathroom'], ['Where', 'be', 'Sandra'], ['bathroom']), (['Sandra', 'move', 'to', 'the', 'bedroom', 'Sandra', 'travel', 'to', 'the', 'hallway'], ['Where', 'be', 'Sandra'], ['hallway']), (['Mary', 'move', 'to', 'the', 'bathroom', 'John', 'go', 'to', 'the', 'kitchen'], ['Where', 'be', 'Mary'], ['bathroom']), (['Daniel', 'move', 'to', 'the', 'bathroom', 'Daniel', 'go', 'to', 'the', 'office'], ['Where', 'be', 'John'], ['kitchen']), (['Mary', 'move', 'to', 'the', 'office', 'Daniel', 'go', 'to', 'the', 'kitchen'], ['Where', 'be', 'Mary'], ['office']), (['Sandra', 'go', 'to', 'the', 'bathroom', 'Daniel', 'move', 'to', 'the', 'office'], ['Where', 'be', 'Daniel'], ['office']), (['Sandra', 'go', 'to', 'the', 'office', 'Sandra', 'go', 'to', 'the', 'hallway'], ['Where', 'be', 'Daniel'], ['office']), (['Mary', 'go', 'to', 'the', 'garden', 'Daniel', 'move', 'to', 'the', 'kitchen'], ['Where', 'be', 'Sandra'], ['hallway']), (['Mary', 'go', 'back', 'to', 'the', 'kitchen', 'John', 'journey', 'to', 'the', 'hallway'], ['Where', 'be', 'Mary'], ['kitchen']), (['John', 'go', 'back', 'to', 'the', 'bathroom', 'Mary', 'travel', 'to', 'the', 'bathroom'], ['Where', 'be', 'John'], ['bathroom']), (['Mary', 'go', 'to', 'the', 'garden', 'Sandra', 'move', 'to', 'the', 'garden'], ['Where', 'be', 'John'], ['bathroom']), (['John', 'go', 'to', 'the', 'kitchen', 'Daniel', 'move', 'to', 'the', 'bathroom'], ['Where', 'be', 'John'], ['kitchen']), (['Daniel', 'go', 'back', 'to', 'the', 'hallway', 'Mary', 'go', 'to', 'the', 'kitchen'], ['Where', 'be', 'Mary'], ['kitchen']), (['Daniel', 'go', 'to', 'the', 'garden', 'Daniel', 'travel', 'to', 'the', 'hallway'], ['Where', 'be', 'Daniel'], ['hallway']), (['Mary', 'go', 'back', 'to', 'the', 'bedroom', 'Mary', 'travel', 'to', 'the', 'bathroom'], ['Where', 'be', 'Mary'], ['bathroom']), (['John', 'travel', 'to', 'the', 'office', 'Mary', 'travel', 'to', 'the', 'bedroom'], ['Where', 'be', 'Mary'], ['bedroom']), (['John', 'journey', 'to', 'the', 'kitchen', 'John', 'move', 'to', 'the', 'hallway'], ['Where', 'be', 'Mary'], ['bedroom']), (['Daniel', 'move', 'to', 'the', 'hallway', 'Mary', 'go', 'back', 'to', 'the', 'garden'], ['Where', 'be', 'Mary'], ['garden']), (['Daniel', 'go', 'back', 'to', 'the', 'office', 'Daniel', 'travel', 'to', 'the', 'kitchen'], ['Where', 'be', 'Daniel'], ['kitchen']), (['Daniel', 'move', 'to', 'the', 'garden', 'Mary', 'go', 'back', 'to', 'the', 'bathroom'], ['Where', 'be', 'Daniel'], ['garden']), (['Daniel', 'travel', 'to', 'the', 'kitchen', 'Sandra', 'go', 'to', 'the', 'kitchen'], ['Where', 'be', 'Sandra'], ['kitchen']), (['Daniel', 'journey', 'to', 'the', 'garden', 'Mary', 'journey', 'to', 'the', 'kitchen'], ['Where', 'be', 'Mary'], ['kitchen']), (['Mary', 'move', 'to', 'the', 'hallway', 'John', 'go', 'back', 'to', 'the', 'bedroom'], ['Where', 'be', 'Mary'], ['hallway']), (['John', 'move', 'to', 'the', 'office', 'John', 'travel', 'to', 'the', 'bathroom'], ['Where', 'be', 'Mary'], ['hallway']), (['Mary', 'go', 'back', 'to', 'the', 'hallway', 'Sandra', 'journey', 'to', 'the', 'garden'], ['Where', 'be', 'Sandra'], ['garden']), (['Sandra', 'travel', 'to', 'the', 'bathroom', 'John', 'travel', 'to', 'the', 'hallway'], ['Where', 'be', 'Sandra'], ['bathroom']), (['John', 'travel', 'to', 'the', 'garden', 'Mary', 'journey', 'to', 'the', 'bedroom'], ['Where', 'be', 'Mary'], ['bedroom']), (['Sandra', 'journey', 'to', 'the', 'office', 'Daniel', 'journey', 'to', 'the', 'hallway'], ['Where', 'be', 'John'], ['garden']), (['Mary', 'journey', 'to', 'the', 'hallway', 'Mary', 'move', 'to', 'the', 'bedroom'], ['Where', 'be', 'Mary'], ['bedroom']), (['Sandra', 'journey', 'to', 'the', 'kitchen', 'Sandra', 'journey', 'to', 'the', 'garden'], ['Where', 'be', 'Sandra'], ['garden']), (['Daniel', 'travel', 'to', 'the', 'kitchen', 'Mary', 'move', 'to', 'the', 'bedroom'], ['Where', 'be', 'Sandra'], ['garden']), (['Sandra', 'move', 'to', 'the', 'bedroom', 'John', 'travel', 'to', 'the', 'garden'], ['Where', 'be', 'Sandra'], ['bedroom']), (['Sandra', 'go', 'back', 'to', 'the', 'kitchen', 'John', 'journey', 'to', 'the', 'bedroom'], ['Where', 'be', 'Sandra'], ['kitchen']), (['Daniel', 'go', 'back', 'to', 'the', 'bathroom', 'Sandra', 'journey', 'to', 'the', 'bedroom'], ['Where', 'be', 'Daniel'], ['bathroom']), (['Mary', 'go', 'back', 'to', 'the', 'hallway', 'Daniel', 'go', 'back', 'to', 'the', 'bedroom'], ['Where', 'be', 'Mary'], ['hallway']), (['Sandra', 'move', 'to', 'the', 'bathroom', 'Sandra', 'journey', 'to', 'the', 'hallway'], ['Where', 'be', 'Sandra'], ['hallway']), (['Mary', 'go', 'back', 'to', 'the', 'bedroom', 'Mary', 'go', 'back', 'to', 'the', 'garden'], ['Where', 'be', 'Mary'], ['garden']), (['Sandra', 'go', 'back', 'to', 'the', 'bathroom', 'John', 'go', 'to', 'the', 'office'], ['Where', 'be', 'John'], ['office']), (['Daniel', 'travel', 'to', 'the', 'garden', 'Sandra', 'travel', 'to', 'the', 'hallway'], ['Where', 'be', 'John'], ['office']), (['John', 'go', 'back', 'to', 'the', 'hallway', 'Sandra', 'journey', 'to', 'the', 'kitchen'], ['Where', 'be', 'John'], ['hallway']), (['Daniel', 'journey', 'to', 'the', 'office', 'John', 'go', 'to', 'the', 'kitchen'], ['Where', 'be', 'John'], ['kitchen']), (['Daniel', 'journey', 'to', 'the', 'garden', 'John', 'travel', 'to', 'the', 'bedroom'], ['Where', 'be', 'John'], ['bedroom']), (['Daniel', 'journey', 'to', 'the', 'office', 'Daniel', 'go', 'to', 'the', 'bedroom'], ['Where', 'be', 'Daniel'], ['bedroom']), (['Sandra', 'travel', 'to', 'the', 'hallway', 'Sandra', 'journey', 'to', 'the', 'bedroom'], ['Where', 'be', 'Daniel'], ['bedroom']), (['John', 'move', 'to', 'the', 'kitchen', 'Daniel', 'travel', 'to', 'the', 'garden'], ['Where', 'be', 'John'], ['kitchen']), (['Daniel', 'go', 'to', 'the', 'kitchen', 'Daniel', 'travel', 'to', 'the', 'bathroom'], ['Where', 'be', 'Daniel'], ['bathroom']), (['John', 'move', 'to', 'the', 'bathroom', 'Mary', 'journey', 'to', 'the', 'bathroom'], ['Where', 'be', 'John'], ['bathroom']), (['Mary', 'go', 'to', 'the', 'kitchen', 'Daniel', 'journey', 'to', 'the', 'garden'], ['Where', 'be', 'Mary'], ['kitchen']), (['Daniel', 'go', 'to', 'the', 'kitchen', 'John', 'go', 'to', 'the', 'hallway'], ['Where', 'be', 'Daniel'], ['kitchen']), (['Sandra', 'go', 'back', 'to', 'the', 'kitchen', 'Sandra', 'travel', 'to', 'the', 'bathroom'], ['Where', 'be', 'Sandra'], ['bathroom']), (['John', 'travel', 'to', 'the', 'garden', 'Daniel', 'move', 'to', 'the', 'hallway'], ['Where', 'be', 'Daniel'], ['hallway']), (['John', 'go', 'to', 'the', 'kitchen', 'Daniel', 'journey', 'to', 'the', 'garden'], ['Where', 'be', 'Sandra'], ['bathroom']), (['Daniel', 'journey', 'to', 'the', 'hallway', 'Sandra', 'journey', 'to', 'the', 'garden'], ['Where', 'be', 'Daniel'], ['hallway']), (['John', 'go', 'back', 'to', 'the', 'hallway', 'Mary', 'travel', 'to', 'the', 'office'], ['Where', 'be', 'John'], ['hallway']), (['Daniel', 'move', 'to', 'the', 'bedroom', 'John', 'go', 'back', 'to', 'the', 'garden'], ['Where', 'be', 'Daniel'], ['bedroom']), (['John', 'travel', 'to', 'the', 'bathroom', 'John', 'travel', 'to', 'the', 'garden'], ['Where', 'be', 'John'], ['garden']), (['John', 'go', 'to', 'the', 'kitchen', 'Daniel', 'journey', 'to', 'the', 'garden'], ['Where', 'be', 'Daniel'], ['garden']), (['John', 'go', 'back', 'to', 'the', 'garden', 'Sandra', 'go', 'back', 'to', 'the', 'kitchen'], ['Where', 'be', 'John'], ['garden']), (['Daniel', 'journey', 'to', 'the', 'hallway', 'Daniel', 'move', 'to', 'the', 'bathroom'], ['Where', 'be', 'Daniel'], ['bathroom']), (['Mary', 'travel', 'to', 'the', 'hallway', 'Mary', 'move', 'to', 'the', 'garden'], ['Where', 'be', 'Mary'], ['garden']), (['Sandra', 'go', 'to', 'the', 'kitchen', 'Sandra', 'move', 'to', 'the', 'bathroom'], ['Where', 'be', 'Sandra'], ['bathroom']), (['Daniel', 'go', 'back', 'to', 'the', 'bedroom', 'John', 'go', 'back', 'to', 'the', 'office'], ['Where', 'be', 'Mary'], ['garden']), (['Mary', 'go', 'back', 'to', 'the', 'office', 'Mary', 'go', 'to', 'the', 'bathroom'], ['Where', 'be', 'Mary'], ['bathroom']), (['Daniel', 'go', 'back', 'to', 'the', 'kitchen', 'Mary', 'move', 'to', 'the', 'kitchen'], ['Where', 'be', 'Daniel'], ['kitchen']), (['Daniel', 'go', 'to', 'the', 'office', 'John', 'journey', 'to', 'the', 'garden'], ['Where', 'be', 'Daniel'], ['office']), (['John', 'travel', 'to', 'the', 'bathroom', 'Daniel', 'move', 'to', 'the', 'bedroom'], ['Where', 'be', 'John'], ['bathroom']), (['Mary', 'travel', 'to', 'the', 'kitchen', 'John', 'journey', 'to', 'the', 'kitchen'], ['Where', 'be', 'John'], ['kitchen']), (['John', 'travel', 'to', 'the', 'office', 'Sandra', 'move', 'to', 'the', 'office'], ['Where', 'be', 'Sandra'], ['office']), (['John', 'move', 'to', 'the', 'garden', 'Mary', 'journey', 'to', 'the', 'bedroom'], ['Where', 'be', 'Sandra'], ['office']), (['Sandra', 'journey', 'to', 'the', 'hallway', 'Daniel', 'travel', 'to', 'the', 'hallway'], ['Where', 'be', 'Sandra'], ['hallway']), (['John', 'travel', 'to', 'the', 'hallway', 'Sandra', 'go', 'to', 'the', 'bedroom'], ['Where', 'be', 'John'], ['hallway']), (['John', 'travel', 'to', 'the', 'office', 'Sandra', 'go', 'to', 'the', 'kitchen'], ['Where', 'be', 'Sandra'], ['kitchen']), (['Mary', 'move', 'to', 'the', 'office', 'Daniel', 'move', 'to', 'the', 'office'], ['Where', 'be', 'Sandra'], ['kitchen']), (['Daniel', 'go', 'back', 'to', 'the', 'bathroom', 'Daniel', 'travel', 'to', 'the', 'office'], ['Where', 'be', 'Daniel'], ['office']), (['Mary', 'go', 'to', 'the', 'bathroom', 'John', 'travel', 'to', 'the', 'hallway'], ['Where', 'be', 'Mary'], ['bathroom']), (['John', 'move', 'to', 'the', 'kitchen', 'Mary', 'go', 'back', 'to', 'the', 'hallway'], ['Where', 'be', 'John'], ['kitchen']), (['Daniel', 'go', 'back', 'to', 'the', 'bedroom', 'Mary', 'journey', 'to', 'the', 'garden'], ['Where', 'be', 'John'], ['kitchen']), (['Mary', 'go', 'back', 'to', 'the', 'office', 'Daniel', 'go', 'back', 'to', 'the', 'bathroom'], ['Where', 'be', 'Daniel'], ['bathroom']), (['Sandra', 'move', 'to', 'the', 'hallway', 'John', 'go', 'back', 'to', 'the', 'bedroom'], ['Where', 'be', 'Mary'], ['office']), (['Daniel', 'journey', 'to', 'the', 'bedroom', 'John', 'go', 'to', 'the', 'kitchen'], ['Where', 'be', 'Daniel'], ['bedroom']), (['Mary', 'move', 'to', 'the', 'office', 'Sandra', 'travel', 'to', 'the', 'bathroom'], ['Where', 'be', 'Sandra'], ['bathroom']), (['Mary', 'go', 'to', 'the', 'kitchen', 'Sandra', 'journey', 'to', 'the', 'bedroom'], ['Where', 'be', 'Mary'], ['kitchen']), (['Sandra', 'journey', 'to', 'the', 'office', 'Daniel', 'go', 'back', 'to', 'the', 'bathroom'], ['Where', 'be', 'Daniel'], ['bathroom']), (['Mary', 'go', 'back', 'to', 'the', 'office', 'John', 'go', 'back', 'to', 'the', 'office'], ['Where', 'be', 'Sandra'], ['office']), (['Mary', 'move', 'to', 'the', 'garden', 'John', 'go', 'to', 'the', 'bedroom'], ['Where', 'be', 'John'], ['bedroom']), (['Daniel', 'journey', 'to', 'the', 'kitchen', 'Sandra', 'go', 'to', 'the', 'bathroom'], ['Where', 'be', 'Mary'], ['garden']), (['Daniel', 'journey', 'to', 'the', 'bathroom', 'Daniel', 'move', 'to', 'the', 'garden'], ['Where', 'be', 'Sandra'], ['bathroom']), (['Daniel', 'go', 'to', 'the', 'kitchen', 'Mary', 'journey', 'to', 'the', 'bathroom'], ['Where', 'be', 'Daniel'], ['kitchen']), (['Sandra', 'travel', 'to', 'the', 'garden', 'Sandra', 'go', 'to', 'the', 'hallway'], ['Where', 'be', 'Mary'], ['bathroom']), (['Sandra', 'travel', 'to', 'the', 'office', 'Sandra', 'travel', 'to', 'the', 'bathroom'], ['Where', 'be', 'Sandra'], ['bathroom']), (['Mary', 'go', 'back', 'to', 'the', 'hallway', 'Mary', 'travel', 'to', 'the', 'bathroom'], ['Where', 'be', 'Mary'], ['bathroom']), (['Daniel', 'go', 'to', 'the', 'bedroom', 'Mary', 'go', 'to', 'the', 'office'], ['Where', 'be', 'Mary'], ['office']), (['Mary', 'travel', 'to', 'the', 'hallway', 'John', 'move', 'to', 'the', 'garden'], ['Where', 'be', 'Mary'], ['hallway']), (['Sandra', 'journey', 'to', 'the', 'office', 'Sandra', 'move', 'to', 'the', 'bathroom'], ['Where', 'be', 'John'], ['garden']), (['Sandra', 'journey', 'to', 'the', 'garden', 'Mary', 'travel', 'to', 'the', 'hallway'], ['Where', 'be', 'Mary'], ['hallway']), (['John', 'travel', 'to', 'the', 'bathroom', 'Sandra', 'go', 'back', 'to', 'the', 'kitchen'], ['Where', 'be', 'Mary'], ['hallway']), (['Daniel', 'travel', 'to', 'the', 'bathroom', 'Daniel', 'travel', 'to', 'the', 'kitchen'], ['Where', 'be', 'John'], ['bathroom']), (['John', 'go', 'back', 'to', 'the', 'hallway', 'John', 'travel', 'to', 'the', 'bathroom'], ['Where', 'be', 'John'], ['bathroom']), (['Mary', 'journey', 'to', 'the', 'bathroom', 'Mary', 'travel', 'to', 'the', 'bedroom'], ['Where', 'be', 'Mary'], ['bedroom']), (['John', 'go', 'to', 'the', 'office', 'Daniel', 'journey', 'to', 'the', 'kitchen'], ['Where', 'be', 'Daniel'], ['kitchen']), (['John', 'travel', 'to', 'the', 'bedroom', 'John', 'move', 'to', 'the', 'garden'], ['Where', 'be', 'Daniel'], ['kitchen']), (['Daniel', 'journey', 'to', 'the', 'bathroom', 'John', 'journey', 'to', 'the', 'bedroom'], ['Where', 'be', 'John'], ['bedroom']), (['Sandra', 'journey', 'to', 'the', 'kitchen', 'Mary', 'move', 'to', 'the', 'garden'], ['Where', 'be', 'John'], ['bedroom']), (['Sandra', 'journey', 'to', 'the', 'bathroom', 'Sandra', 'go', 'back', 'to', 'the', 'bedroom'], ['Where', 'be', 'Sandra'], ['bedroom']), (['Daniel', 'go', 'back', 'to', 'the', 'bedroom', 'Sandra', 'travel', 'to', 'the', 'bedroom'], ['Where', 'be', 'Sandra'], ['bedroom']), (['Sandra', 'go', 'to', 'the', 'office', 'Mary', 'go', 'to', 'the', 'office'], ['Where', 'be', 'Mary'], ['office']), (['John', 'journey', 'to', 'the', 'garden', 'Mary', 'journey', 'to', 'the', 'garden'], ['Where', 'be', 'Mary'], ['garden']), (['Daniel', 'travel', 'to', 'the', 'bathroom', 'John', 'move', 'to', 'the', 'kitchen'], ['Where', 'be', 'John'], ['kitchen']), (['Sandra', 'go', 'back', 'to', 'the', 'kitchen', 'Daniel', 'journey', 'to', 'the', 'hallway'], ['Where', 'be', 'Mary'], ['garden']), (['Daniel', 'move', 'to', 'the', 'bathroom', 'John', 'move', 'to', 'the', 'office'], ['Where', 'be', 'Daniel'], ['bathroom']), (['Mary', 'go', 'back', 'to', 'the', 'office', 'John', 'go', 'back', 'to', 'the', 'hallway'], ['Where', 'be', 'Mary'], ['office']), (['Mary', 'move', 'to', 'the', 'hallway', 'Mary', 'journey', 'to', 'the', 'kitchen'], ['Where', 'be', 'Mary'], ['kitchen']), (['Daniel', 'go', 'to', 'the', 'office', 'Daniel', 'move', 'to', 'the', 'bedroom'], ['Where', 'be', 'Daniel'], ['bedroom']), (['Sandra', 'journey', 'to', 'the', 'hallway', 'Daniel', 'travel', 'to', 'the', 'garden'], ['Where', 'be', 'Daniel'], ['garden']), (['Mary', 'travel', 'to', 'the', 'hallway', 'Sandra', 'go', 'to', 'the', 'garden'], ['Where', 'be', 'Sandra'], ['garden']), (['Daniel', 'travel', 'to', 'the', 'bedroom', 'Mary', 'go', 'to', 'the', 'bedroom'], ['Where', 'be', 'Daniel'], ['bedroom']), (['Daniel', 'move', 'to', 'the', 'hallway', 'John', 'travel', 'to', 'the', 'bathroom'], ['Where', 'be', 'Sandra'], ['garden']), (['Daniel', 'journey', 'to', 'the', 'bathroom', 'John', 'journey', 'to', 'the', 'office'], ['Where', 'be', 'Daniel'], ['bathroom']), (['Mary', 'go', 'back', 'to', 'the', 'garden', 'John', 'go', 'to', 'the', 'kitchen'], ['Where', 'be', 'John'], ['kitchen']), (['Daniel', 'travel', 'to', 'the', 'kitchen', 'Daniel', 'journey', 'to', 'the', 'garden'], ['Where', 'be', 'Daniel'], ['garden']), (['John', 'journey', 'to', 'the', 'office', 'John', 'travel', 'to', 'the', 'garden'], ['Where', 'be', 'Daniel'], ['garden']), (['Daniel', 'move', 'to', 'the', 'office', 'John', 'go', 'to', 'the', 'hallway'], ['Where', 'be', 'John'], ['hallway']), (['John', 'move', 'to', 'the', 'office', 'Daniel', 'journey', 'to', 'the', 'kitchen'], ['Where', 'be', 'John'], ['office']), (['Daniel', 'go', 'to', 'the', 'garden', 'John', 'go', 'back', 'to', 'the', 'bathroom'], ['Where', 'be', 'Daniel'], ['garden']), (['Mary', 'go', 'to', 'the', 'bathroom', 'John', 'go', 'to', 'the', 'kitchen'], ['Where', 'be', 'John'], ['kitchen']), (['Daniel', 'move', 'to', 'the', 'office', 'Daniel', 'move', 'to', 'the', 'bathroom'], ['Where', 'be', 'Daniel'], ['bathroom']), (['Sandra', 'travel', 'to', 'the', 'bathroom', 'Mary', 'travel', 'to', 'the', 'kitchen'], ['Where', 'be', 'John'], ['kitchen']), (['Mary', 'go', 'to', 'the', 'garden', 'Sandra', 'move', 'to', 'the', 'bedroom'], ['Where', 'be', 'Mary'], ['garden']), (['Sandra', 'journey', 'to', 'the', 'kitchen', 'Daniel', 'travel', 'to', 'the', 'garden'], ['Where', 'be', 'Sandra'], ['kitchen']), (['Daniel', 'move', 'to', 'the', 'garden', 'John', 'go', 'to', 'the', 'kitchen'], ['Where', 'be', 'Daniel'], ['garden']), (['Mary', 'go', 'to', 'the', 'office', 'Sandra', 'travel', 'to', 'the', 'bedroom'], ['Where', 'be', 'Mary'], ['office']), (['Mary', 'go', 'to', 'the', 'bathroom', 'John', 'journey', 'to', 'the', 'bathroom'], ['Where', 'be', 'John'], ['bathroom']), (['Mary', 'go', 'back', 'to', 'the', 'office', 'John', 'go', 'back', 'to', 'the', 'kitchen'], ['Where', 'be', 'Mary'], ['office']), (['John', 'move', 'to', 'the', 'office', 'Mary', 'journey', 'to', 'the', 'bathroom'], ['Where', 'be', 'John'], ['office']), (['Mary', 'travel', 'to', 'the', 'kitchen', 'Mary', 'move', 'to', 'the', 'bedroom'], ['Where', 'be', 'Mary'], ['bedroom']), (['Mary', 'go', 'to', 'the', 'hallway', 'Sandra', 'go', 'back', 'to', 'the', 'bathroom'], ['Where', 'be', 'Sandra'], ['bathroom']), (['John', 'go', 'to', 'the', 'bedroom', 'Daniel', 'travel', 'to', 'the', 'garden'], ['Where', 'be', 'John'], ['bedroom']), (['Daniel', 'go', 'to', 'the', 'hallway', 'Sandra', 'go', 'to', 'the', 'office'], ['Where', 'be', 'Sandra'], ['office']), (['Sandra', 'journey', 'to', 'the', 'bedroom', 'John', 'travel', 'to', 'the', 'bathroom'], ['Where', 'be', 'Sandra'], ['bedroom']), (['John', 'journey', 'to', 'the', 'kitchen', 'John', 'journey', 'to', 'the', 'garden'], ['Where', 'be', 'John'], ['garden']), (['Mary', 'go', 'back', 'to', 'the', 'bathroom', 'Mary', 'move', 'to', 'the', 'garden'], ['Where', 'be', 'Mary'], ['garden']), (['Daniel', 'travel', 'to', 'the', 'bedroom', 'John', 'move', 'to', 'the', 'kitchen'], ['Where', 'be', 'Mary'], ['garden']), (['John', 'journey', 'to', 'the', 'hallway', 'Mary', 'go', 'back', 'to', 'the', 'bathroom'], ['Where', 'be', 'Mary'], ['bathroom']), (['John', 'journey', 'to', 'the', 'bathroom', 'Sandra', 'move', 'to', 'the', 'kitchen'], ['Where', 'be', 'Mary'], ['bathroom']), (['Mary', 'journey', 'to', 'the', 'office', 'Daniel', 'journey', 'to', 'the', 'bedroom'], ['Where', 'be', 'Daniel'], ['bedroom']), (['Mary', 'go', 'to', 'the', 'bedroom', 'Sandra', 'go', 'to', 'the', 'bedroom'], ['Where', 'be', 'Mary'], ['bedroom']), (['John', 'go', 'back', 'to', 'the', 'hallway', 'Daniel', 'go', 'back', 'to', 'the', 'bathroom'], ['Where', 'be', 'Daniel'], ['bathroom']), (['Mary', 'travel', 'to', 'the', 'garden', 'Daniel', 'move', 'to', 'the', 'hallway'], ['Where', 'be', 'John'], ['hallway']), (['Sandra', 'travel', 'to', 'the', 'office', 'Daniel', 'move', 'to', 'the', 'bathroom'], ['Where', 'be', 'Sandra'], ['office']), (['Mary', 'move', 'to', 'the', 'kitchen', 'Sandra', 'move', 'to', 'the', 'kitchen'], ['Where', 'be', 'Mary'], ['kitchen']), (['Mary', 'go', 'to', 'the', 'garden', 'John', 'move', 'to', 'the', 'bedroom'], ['Where', 'be', 'Sandra'], ['kitchen']), (['Mary', 'journey', 'to', 'the', 'office', 'Mary', 'go', 'to', 'the', 'bathroom'], ['Where', 'be', 'John'], ['bedroom']), (['Sandra', 'travel', 'to', 'the', 'garden', 'Daniel', 'go', 'back', 'to', 'the', 'hallway'], ['Where', 'be', 'Sandra'], ['garden']), (['Daniel', 'go', 'to', 'the', 'bedroom', 'Sandra', 'journey', 'to', 'the', 'hallway'], ['Where', 'be', 'Sandra'], ['hallway']), (['John', 'go', 'to', 'the', 'kitchen', 'John', 'go', 'to', 'the', 'hallway'], ['Where', 'be', 'John'], ['hallway']), (['John', 'travel', 'to', 'the', 'bathroom', 'Sandra', 'travel', 'to', 'the', 'kitchen'], ['Where', 'be', 'John'], ['bathroom']), (['John', 'journey', 'to', 'the', 'garden', 'Sandra', 'go', 'back', 'to', 'the', 'bedroom'], ['Where', 'be', 'John'], ['garden']), (['Mary', 'move', 'to', 'the', 'hallway', 'Mary', 'go', 'to', 'the', 'bedroom'], ['Where', 'be', 'Sandra'], ['bedroom']), (['Mary', 'go', 'back', 'to', 'the', 'garden', 'Sandra', 'travel', 'to', 'the', 'hallway'], ['Where', 'be', 'Mary'], ['garden']), (['Daniel', 'go', 'back', 'to', 'the', 'bathroom', 'Mary', 'journey', 'to', 'the', 'office'], ['Where', 'be', 'Daniel'], ['bathroom']), (['Sandra', 'go', 'back', 'to', 'the', 'garden', 'Daniel', 'move', 'to', 'the', 'garden'], ['Where', 'be', 'Daniel'], ['garden']), (['Daniel', 'journey', 'to', 'the', 'hallway', 'John', 'move', 'to', 'the', 'garden'], ['Where', 'be', 'Mary'], ['office']), (['Sandra', 'go', 'back', 'to', 'the', 'hallway', 'Mary', 'go', 'back', 'to', 'the', 'bedroom'], ['Where', 'be', 'Sandra'], ['hallway']), (['John', 'journey', 'to', 'the', 'office', 'John', 'go', 'to', 'the', 'bathroom'], ['Where', 'be', 'John'], ['bathroom']), (['Sandra', 'move', 'to', 'the', 'bathroom', 'Daniel', 'journey', 'to', 'the', 'garden'], ['Where', 'be', 'Daniel'], ['garden']), (['Mary', 'journey', 'to', 'the', 'bathroom', 'Sandra', 'move', 'to', 'the', 'hallway'], ['Where', 'be', 'Sandra'], ['hallway']), (['Daniel', 'move', 'to', 'the', 'office', 'Daniel', 'go', 'to', 'the', 'garden'], ['Where', 'be', 'Daniel'], ['garden']), (['John', 'travel', 'to', 'the', 'bathroom', 'Mary', 'move', 'to', 'the', 'bedroom'], ['Where', 'be', 'Daniel'], ['garden']), (['Sandra', 'go', 'back', 'to', 'the', 'bathroom', 'Sandra', 'go', 'to', 'the', 'garden'], ['Where', 'be', 'Mary'], ['bedroom']), (['John', 'journey', 'to', 'the', 'hallway', 'Daniel', 'journey', 'to', 'the', 'hallway'], ['Where', 'be', 'John'], ['hallway']), (['Daniel', 'go', 'to', 'the', 'office', 'Sandra', 'move', 'to', 'the', 'bedroom'], ['Where', 'be', 'Sandra'], ['bedroom']), (['John', 'go', 'to', 'the', 'bedroom', 'Daniel', 'go', 'back', 'to', 'the', 'kitchen'], ['Where', 'be', 'Sandra'], ['bedroom']), (['John', 'journey', 'to', 'the', 'kitchen', 'Mary', 'go', 'to', 'the', 'hallway'], ['Where', 'be', 'John'], ['kitchen']), (['Sandra', 'go', 'back', 'to', 'the', 'bathroom', 'Mary', 'go', 'to', 'the', 'office'], ['Where', 'be', 'Daniel'], ['kitchen']), (['Daniel', 'journey', 'to', 'the', 'office', 'Mary', 'go', 'back', 'to', 'the', 'garden'], ['Where', 'be', 'Daniel'], ['office']), (['Daniel', 'go', 'back', 'to', 'the', 'garden', 'John', 'move', 'to', 'the', 'hallway'], ['Where', 'be', 'Daniel'], ['garden']), (['John', 'travel', 'to', 'the', 'bathroom', 'Mary', 'move', 'to', 'the', 'kitchen'], ['Where', 'be', 'Daniel'], ['garden']), (['Daniel', 'travel', 'to', 'the', 'bathroom', 'Sandra', 'journey', 'to', 'the', 'bedroom'], ['Where', 'be', 'Sandra'], ['bedroom']), (['Daniel', 'journey', 'to', 'the', 'garden', 'Sandra', 'travel', 'to', 'the', 'office'], ['Where', 'be', 'Sandra'], ['office']), (['Daniel', 'go', 'back', 'to', 'the', 'bathroom', 'John', 'move', 'to', 'the', 'bathroom'], ['Where', 'be', 'John'], ['bathroom']), (['Mary', 'journey', 'to', 'the', 'bathroom', 'Sandra', 'go', 'to', 'the', 'kitchen'], ['Where', 'be', 'Daniel'], ['bathroom']), (['Mary', 'go', 'back', 'to', 'the', 'kitchen', 'Daniel', 'travel', 'to', 'the', 'office'], ['Where', 'be', 'John'], ['bathroom']), (['Sandra', 'go', 'back', 'to', 'the', 'office', 'Mary', 'go', 'back', 'to', 'the', 'garden'], ['Where', 'be', 'Sandra'], ['office']), (['Mary', 'move', 'to', 'the', 'bedroom', 'Daniel', 'move', 'to', 'the', 'hallway'], ['Where', 'be', 'Daniel'], ['hallway']), (['Sandra', 'go', 'to', 'the', 'hallway', 'Sandra', 'journey', 'to', 'the', 'kitchen'], ['Where', 'be', 'Sandra'], ['kitchen']), (['Sandra', 'travel', 'to', 'the', 'garden', 'Mary', 'journey', 'to', 'the', 'garden'], ['Where', 'be', 'Mary'], ['garden']), (['Daniel', 'go', 'back', 'to', 'the', 'bathroom', 'Daniel', 'go', 'to', 'the', 'garden'], ['Where', 'be', 'Sandra'], ['garden']), (['John', 'go', 'back', 'to', 'the', 'garden', 'John', 'travel', 'to', 'the', 'bedroom'], ['Where', 'be', 'Mary'], ['garden']), (['Mary', 'go', 'to', 'the', 'kitchen', 'Sandra', 'move', 'to', 'the', 'hallway'], ['Where', 'be', 'Daniel'], ['garden']), (['John', 'go', 'back', 'to', 'the', 'garden', 'Sandra', 'go', 'back', 'to', 'the', 'bedroom'], ['Where', 'be', 'John'], ['garden']), (['Sandra', 'go', 'to', 'the', 'bathroom', 'John', 'go', 'back', 'to', 'the', 'kitchen'], ['Where', 'be', 'John'], ['kitchen']), (['Mary', 'go', 'back', 'to', 'the', 'hallway', 'Daniel', 'travel', 'to', 'the', 'kitchen'], ['Where', 'be', 'Daniel'], ['kitchen']), (['Sandra', 'go', 'back', 'to', 'the', 'bedroom', 'Sandra', 'go', 'to', 'the', 'office'], ['Where', 'be', 'Sandra'], ['office']), (['Sandra', 'go', 'to', 'the', 'kitchen', 'Daniel', 'travel', 'to', 'the', 'hallway'], ['Where', 'be', 'Sandra'], ['kitchen']), (['Sandra', 'journey', 'to', 'the', 'office', 'John', 'move', 'to', 'the', 'bathroom'], ['Where', 'be', 'John'], ['bathroom']), (['Daniel', 'move', 'to', 'the', 'hallway', 'John', 'move', 'to', 'the', 'hallway'], ['Where', 'be', 'John'], ['hallway']), (['John', 'travel', 'to', 'the', 'kitchen', 'John', 'go', 'to', 'the', 'bedroom'], ['Where', 'be', 'John'], ['bedroom']), (['Daniel', 'journey', 'to', 'the', 'kitchen', 'John', 'journey', 'to', 'the', 'kitchen'], ['Where', 'be', 'John'], ['kitchen']), (['John', 'travel', 'to', 'the', 'bathroom', 'John', 'travel', 'to', 'the', 'kitchen'], ['Where', 'be', 'John'], ['kitchen']), (['Mary', 'move', 'to', 'the', 'hallway', 'John', 'travel', 'to', 'the', 'hallway'], ['Where', 'be', 'John'], ['hallway']), (['Daniel', 'travel', 'to', 'the', 'bedroom', 'Daniel', 'go', 'to', 'the', 'garden'], ['Where', 'be', 'Mary'], ['hallway']), (['John', 'go', 'back', 'to', 'the', 'bathroom', 'Sandra', 'move', 'to', 'the', 'hallway'], ['Where', 'be', 'Sandra'], ['hallway']), (['Daniel', 'move', 'to', 'the', 'hallway', 'Mary', 'go', 'to', 'the', 'office'], ['Where', 'be', 'Daniel'], ['hallway']), (['Mary', 'journey', 'to', 'the', 'garden', 'John', 'go', 'to', 'the', 'hallway'], ['Where', 'be', 'Mary'], ['garden']), (['John', 'journey', 'to', 'the', 'bathroom', 'Daniel', 'go', 'back', 'to', 'the', 'kitchen'], ['Where', 'be', 'Daniel'], ['kitchen']), (['John', 'journey', 'to', 'the', 'office', 'Sandra', 'travel', 'to', 'the', 'bedroom'], ['Where', 'be', 'Daniel'], ['kitchen']), (['Daniel', 'move', 'to', 'the', 'bathroom', 'Daniel', 'go', 'to', 'the', 'hallway'], ['Where', 'be', 'John'], ['office']), (['Mary', 'go', 'back', 'to', 'the', 'office', 'Mary', 'go', 'to', 'the', 'bathroom'], ['Where', 'be', 'Mary'], ['bathroom']), (['Mary', 'journey', 'to', 'the', 'kitchen', 'Mary', 'move', 'to', 'the', 'bedroom'], ['Where', 'be', 'Mary'], ['bedroom']), (['Mary', 'journey', 'to', 'the', 'bathroom', 'Mary', 'move', 'to', 'the', 'hallway'], ['Where', 'be', 'Mary'], ['hallway']), (['Daniel', 'move', 'to', 'the', 'bathroom', 'Sandra', 'go', 'back', 'to', 'the', 'bathroom'], ['Where', 'be', 'Mary'], ['hallway']), (['Sandra', 'go', 'to', 'the', 'kitchen', 'Mary', 'travel', 'to', 'the', 'kitchen'], ['Where', 'be', 'Sandra'], ['kitchen']), (['Daniel', 'journey', 'to', 'the', 'kitchen', 'Sandra', 'go', 'to', 'the', 'garden'], ['Where', 'be', 'Sandra'], ['garden']), (['Daniel', 'go', 'to', 'the', 'bedroom', 'Sandra', 'go', 'to', 'the', 'bathroom'], ['Where', 'be', 'Daniel'], ['bedroom']), (['Mary', 'travel', 'to', 'the', 'garden', 'John', 'journey', 'to', 'the', 'bathroom'], ['Where', 'be', 'Mary'], ['garden']), (['Mary', 'journey', 'to', 'the', 'kitchen', 'John', 'travel', 'to', 'the', 'kitchen'], ['Where', 'be', 'John'], ['kitchen']), (['Mary', 'move', 'to', 'the', 'bedroom', 'Mary', 'travel', 'to', 'the', 'garden'], ['Where', 'be', 'John'], ['kitchen']), (['John', 'go', 'back', 'to', 'the', 'bedroom', 'Daniel', 'go', 'back', 'to', 'the', 'bedroom'], ['Where', 'be', 'Mary'], ['garden']), (['John', 'go', 'back', 'to', 'the', 'kitchen', 'Mary', 'go', 'to', 'the', 'bedroom'], ['Where', 'be', 'John'], ['kitchen']), (['Mary', 'go', 'back', 'to', 'the', 'bedroom', 'Daniel', 'travel', 'to', 'the', 'office'], ['Where', 'be', 'Mary'], ['bedroom']), (['Mary', 'journey', 'to', 'the', 'hallway', 'Sandra', 'go', 'back', 'to', 'the', 'garden'], ['Where', 'be', 'Daniel'], ['office']), (['Mary', 'move', 'to', 'the', 'garden', 'Daniel', 'move', 'to', 'the', 'kitchen'], ['Where', 'be', 'Daniel'], ['kitchen']), (['John', 'go', 'to', 'the', 'office', 'Sandra', 'journey', 'to', 'the', 'office'], ['Where', 'be', 'Sandra'], ['office']), (['John', 'travel', 'to', 'the', 'hallway', 'Sandra', 'travel', 'to', 'the', 'bathroom'], ['Where', 'be', 'Daniel'], ['kitchen']), (['Sandra', 'journey', 'to', 'the', 'bathroom', 'John', 'go', 'to', 'the', 'hallway'], ['Where', 'be', 'John'], ['hallway']), (['Mary', 'travel', 'to', 'the', 'garden', 'Mary', 'go', 'back', 'to', 'the', 'kitchen'], ['Where', 'be', 'Mary'], ['kitchen']), (['Daniel', 'travel', 'to', 'the', 'bathroom', 'John', 'move', 'to', 'the', 'garden'], ['Where', 'be', 'Mary'], ['kitchen']), (['Daniel', 'move', 'to', 'the', 'kitchen', 'Sandra', 'journey', 'to', 'the', 'hallway'], ['Where', 'be', 'Daniel'], ['kitchen']), (['Daniel', 'move', 'to', 'the', 'bedroom', 'John', 'go', 'back', 'to', 'the', 'office'], ['Where', 'be', 'Daniel'], ['bedroom']), (['John', 'go', 'back', 'to', 'the', 'kitchen', 'John', 'move', 'to', 'the', 'office'], ['Where', 'be', 'John'], ['office']), (['John', 'journey', 'to', 'the', 'garden', 'Sandra', 'journey', 'to', 'the', 'bedroom'], ['Where', 'be', 'John'], ['garden']), (['Mary', 'go', 'back', 'to', 'the', 'garden', 'John', 'journey', 'to', 'the', 'bedroom'], ['Where', 'be', 'John'], ['bedroom']), (['John', 'go', 'to', 'the', 'hallway', 'Sandra', 'go', 'back', 'to', 'the', 'hallway'], ['Where', 'be', 'Sandra'], ['hallway']), (['John', 'journey', 'to', 'the', 'bathroom', 'Mary', 'go', 'to', 'the', 'hallway'], ['Where', 'be', 'John'], ['bathroom']), (['John', 'go', 'back', 'to', 'the', 'bedroom', 'John', 'move', 'to', 'the', 'kitchen'], ['Where', 'be', 'John'], ['kitchen']), (['John', 'journey', 'to', 'the', 'garden', 'Mary', 'go', 'back', 'to', 'the', 'hallway'], ['Where', 'be', 'John'], ['garden']), (['Daniel', 'go', 'back', 'to', 'the', 'bedroom', 'John', 'go', 'to', 'the', 'bedroom'], ['Where', 'be', 'John'], ['bedroom']), (['Sandra', 'travel', 'to', 'the', 'garden', 'Daniel', 'go', 'back', 'to', 'the', 'office'], ['Where', 'be', 'John'], ['bedroom']), (['Mary', 'go', 'back', 'to', 'the', 'bedroom', 'Daniel', 'journey', 'to', 'the', 'kitchen'], ['Where', 'be', 'Daniel'], ['kitchen']), (['Mary', 'go', 'to', 'the', 'garden', 'Daniel', 'journey', 'to', 'the', 'bathroom'], ['Where', 'be', 'Mary'], ['garden']), (['John', 'go', 'to', 'the', 'office', 'Mary', 'move', 'to', 'the', 'hallway'], ['Where', 'be', 'Daniel'], ['bathroom']), (['John', 'go', 'to', 'the', 'bathroom', 'Daniel', 'move', 'to', 'the', 'kitchen'], ['Where', 'be', 'John'], ['bathroom']), (['John', 'go', 'to', 'the', 'kitchen', 'Daniel', 'go', 'to', 'the', 'bedroom'], ['Where', 'be', 'Mary'], ['hallway']), (['Mary', 'go', 'to', 'the', 'kitchen', 'Sandra', 'journey', 'to', 'the', 'garden'], ['Where', 'be', 'Sandra'], ['garden']), (['Daniel', 'go', 'back', 'to', 'the', 'kitchen', 'Daniel', 'move', 'to', 'the', 'garden'], ['Where', 'be', 'Daniel'], ['garden']), (['Sandra', 'journey', 'to', 'the', 'bedroom', 'Mary', 'move', 'to', 'the', 'bathroom'], ['Where', 'be', 'Sandra'], ['bedroom']), (['John', 'go', 'back', 'to', 'the', 'office', 'Daniel', 'go', 'back', 'to', 'the', 'bathroom'], ['Where', 'be', 'Daniel'], ['bathroom']), (['Daniel', 'travel', 'to', 'the', 'bedroom', 'Sandra', 'go', 'to', 'the', 'bathroom'], ['Where', 'be', 'Mary'], ['bathroom']), (['Daniel', 'go', 'back', 'to', 'the', 'hallway', 'Sandra', 'travel', 'to', 'the', 'kitchen'], ['Where', 'be', 'Sandra'], ['kitchen']), (['Sandra', 'move', 'to', 'the', 'bedroom', 'Mary', 'journey', 'to', 'the', 'bedroom'], ['Where', 'be', 'Mary'], ['bedroom']), (['Mary', 'move', 'to', 'the', 'bathroom', 'Daniel', 'travel', 'to', 'the', 'bedroom'], ['Where', 'be', 'Sandra'], ['bedroom']), (['Mary', 'move', 'to', 'the', 'bedroom', 'Sandra', 'go', 'to', 'the', 'kitchen'], ['Where', 'be', 'Mary'], ['bedroom']), (['Sandra', 'go', 'to', 'the', 'garden', 'Daniel', 'move', 'to', 'the', 'kitchen'], ['Where', 'be', 'Sandra'], ['garden']), (['Sandra', 'go', 'back', 'to', 'the', 'bedroom', 'Sandra', 'go', 'to', 'the', 'hallway'], ['Where', 'be', 'Sandra'], ['hallway']), (['John', 'journey', 'to', 'the', 'bedroom', 'Daniel', 'move', 'to', 'the', 'office'], ['Where', 'be', 'Daniel'], ['office']), (['John', 'go', 'to', 'the', 'hallway', 'John', 'journey', 'to', 'the', 'kitchen'], ['Where', 'be', 'John'], ['kitchen']), (['Mary', 'go', 'to', 'the', 'office', 'Daniel', 'go', 'back', 'to', 'the', 'bedroom'], ['Where', 'be', 'Mary'], ['office']), (['Daniel', 'move', 'to', 'the', 'hallway', 'John', 'go', 'to', 'the', 'bedroom'], ['Where', 'be', 'Daniel'], ['hallway']), (['Sandra', 'move', 'to', 'the', 'kitchen', 'Daniel', 'move', 'to', 'the', 'office'], ['Where', 'be', 'Daniel'], ['office']), (['Mary', 'journey', 'to', 'the', 'office', 'Daniel', 'go', 'to', 'the', 'bedroom'], ['Where', 'be', 'Mary'], ['office']), (['Daniel', 'journey', 'to', 'the', 'bathroom', 'Sandra', 'go', 'to', 'the', 'bedroom'], ['Where', 'be', 'Daniel'], ['bathroom']), (['Mary', 'journey', 'to', 'the', 'hallway', 'Daniel', 'travel', 'to', 'the', 'kitchen'], ['Where', 'be', 'Daniel'], ['kitchen']), (['Sandra', 'journey', 'to', 'the', 'bathroom', 'Sandra', 'move', 'to', 'the', 'bedroom'], ['Where', 'be', 'Mary'], ['hallway']), (['John', 'move', 'to', 'the', 'garden', 'Daniel', 'travel', 'to', 'the', 'bathroom'], ['Where', 'be', 'Sandra'], ['bedroom']), (['John', 'journey', 'to', 'the', 'garden', 'John', 'travel', 'to', 'the', 'office'], ['Where', 'be', 'John'], ['office']), (['Mary', 'travel', 'to', 'the', 'hallway', 'John', 'journey', 'to', 'the', 'bedroom'], ['Where', 'be', 'John'], ['bedroom']), (['Daniel', 'move', 'to', 'the', 'garden', 'Mary', 'journey', 'to', 'the', 'bedroom'], ['Where', 'be', 'John'], ['bedroom']), (['Daniel', 'go', 'to', 'the', 'office', 'Daniel', 'journey', 'to', 'the', 'kitchen'], ['Where', 'be', 'Daniel'], ['kitchen']), (['John', 'travel', 'to', 'the', 'hallway', 'Daniel', 'go', 'back', 'to', 'the', 'garden'], ['Where', 'be', 'Mary'], ['bedroom']), (['Daniel', 'journey', 'to', 'the', 'garden', 'John', 'move', 'to', 'the', 'garden'], ['Where', 'be', 'Daniel'], ['garden']), (['Daniel', 'travel', 'to', 'the', 'bathroom', 'Sandra', 'go', 'back', 'to', 'the', 'garden'], ['Where', 'be', 'Daniel'], ['bathroom']), (['Daniel', 'go', 'back', 'to', 'the', 'office', 'Mary', 'journey', 'to', 'the', 'bedroom'], ['Where', 'be', 'Sandra'], ['garden']), (['Daniel', 'go', 'to', 'the', 'kitchen', 'John', 'journey', 'to', 'the', 'kitchen'], ['Where', 'be', 'Sandra'], ['garden']), (['Sandra', 'journey', 'to', 'the', 'kitchen', 'Sandra', 'go', 'back', 'to', 'the', 'office'], ['Where', 'be', 'Sandra'], ['office']), (['Sandra', 'move', 'to', 'the', 'bathroom', 'John', 'journey', 'to', 'the', 'office'], ['Where', 'be', 'Sandra'], ['bathroom']), (['Sandra', 'go', 'back', 'to', 'the', 'hallway', 'John', 'move', 'to', 'the', 'bedroom'], ['Where', 'be', 'John'], ['bedroom']), (['Daniel', 'move', 'to', 'the', 'garden', 'Daniel', 'go', 'back', 'to', 'the', 'kitchen'], ['Where', 'be', 'Daniel'], ['kitchen']), (['Mary', 'go', 'back', 'to', 'the', 'bedroom', 'John', 'go', 'back', 'to', 'the', 'office'], ['Where', 'be', 'John'], ['office']), (['Mary', 'travel', 'to', 'the', 'office', 'Sandra', 'go', 'back', 'to', 'the', 'bedroom'], ['Where', 'be', 'John'], ['office']), (['Sandra', 'journey', 'to', 'the', 'bathroom', 'Mary', 'travel', 'to', 'the', 'hallway'], ['Where', 'be', 'Mary'], ['hallway']), (['Sandra', 'move', 'to', 'the', 'kitchen', 'Mary', 'journey', 'to', 'the', 'garden'], ['Where', 'be', 'Mary'], ['garden']), (['John', 'travel', 'to', 'the', 'office', 'John', 'go', 'to', 'the', 'hallway'], ['Where', 'be', 'John'], ['hallway']), (['Daniel', 'travel', 'to', 'the', 'bedroom', 'John', 'go', 'back', 'to', 'the', 'office'], ['Where', 'be', 'Mary'], ['garden']), (['Sandra', 'go', 'back', 'to', 'the', 'bedroom', 'John', 'go', 'to', 'the', 'bedroom'], ['Where', 'be', 'Sandra'], ['bedroom']), (['Mary', 'go', 'to', 'the', 'hallway', 'Daniel', 'go', 'to', 'the', 'bathroom'], ['Where', 'be', 'Daniel'], ['bathroom']), (['Mary', 'go', 'to', 'the', 'bedroom', 'Mary', 'go', 'to', 'the', 'kitchen'], ['Where', 'be', 'Mary'], ['kitchen']), (['Daniel', 'move', 'to', 'the', 'garden', 'Daniel', 'go', 'to', 'the', 'office'], ['Where', 'be', 'Daniel'], ['office']), (['John', 'go', 'to', 'the', 'kitchen', 'Sandra', 'travel', 'to', 'the', 'garden'], ['Where', 'be', 'John'], ['kitchen']), (['Mary', 'journey', 'to', 'the', 'hallway', 'Sandra', 'go', 'back', 'to', 'the', 'hallway'], ['Where', 'be', 'Sandra'], ['hallway']), (['Mary', 'go', 'back', 'to', 'the', 'hallway', 'Sandra', 'journey', 'to', 'the', 'bedroom'], ['Where', 'be', 'Sandra'], ['bedroom']), (['Sandra', 'travel', 'to', 'the', 'kitchen', 'John', 'go', 'back', 'to', 'the', 'hallway'], ['Where', 'be', 'Sandra'], ['kitchen']), (['Daniel', 'go', 'back', 'to', 'the', 'office', 'Mary', 'move', 'to', 'the', 'kitchen'], ['Where', 'be', 'Sandra'], ['kitchen']), (['Daniel', 'go', 'back', 'to', 'the', 'bathroom', 'Daniel', 'travel', 'to', 'the', 'office'], ['Where', 'be', 'Daniel'], ['office']), (['Daniel', 'go', 'to', 'the', 'hallway', 'Daniel', 'go', 'to', 'the', 'bathroom'], ['Where', 'be', 'Daniel'], ['bathroom']), (['Daniel', 'go', 'to', 'the', 'office', 'Mary', 'go', 'back', 'to', 'the', 'office'], ['Where', 'be', 'Mary'], ['office']), (['Sandra', 'travel', 'to', 'the', 'bedroom', 'John', 'journey', 'to', 'the', 'bedroom'], ['Where', 'be', 'John'], ['bedroom']), (['Mary', 'move', 'to', 'the', 'bedroom', 'Daniel', 'travel', 'to', 'the', 'kitchen'], ['Where', 'be', 'Mary'], ['bedroom']), (['Sandra', 'journey', 'to', 'the', 'garden', 'Sandra', 'journey', 'to', 'the', 'office'], ['Where', 'be', 'Sandra'], ['office']), (['Sandra', 'journey', 'to', 'the', 'garden', 'Sandra', 'travel', 'to', 'the', 'hallway'], ['Where', 'be', 'Daniel'], ['kitchen']), (['John', 'travel', 'to', 'the', 'bedroom', 'Mary', 'move', 'to', 'the', 'bedroom'], ['Where', 'be', 'John'], ['bedroom']), (['John', 'go', 'back', 'to', 'the', 'bathroom', 'Sandra', 'move', 'to', 'the', 'bathroom'], ['Where', 'be', 'Sandra'], ['bathroom']), (['John', 'journey', 'to', 'the', 'office', 'Daniel', 'journey', 'to', 'the', 'office'], ['Where', 'be', 'Sandra'], ['bathroom']), (['John', 'go', 'back', 'to', 'the', 'garden', 'John', 'journey', 'to', 'the', 'bedroom'], ['Where', 'be', 'John'], ['bedroom']), (['John', 'go', 'to', 'the', 'bathroom', 'Mary', 'move', 'to', 'the', 'office'], ['Where', 'be', 'John'], ['bathroom']), (['John', 'go', 'to', 'the', 'bathroom', 'John', 'move', 'to', 'the', 'office'], ['Where', 'be', 'John'], ['office']), (['John', 'go', 'to', 'the', 'hallway', 'Sandra', 'journey', 'to', 'the', 'hallway'], ['Where', 'be', 'John'], ['hallway']), (['John', 'journey', 'to', 'the', 'bathroom', 'Daniel', 'go', 'to', 'the', 'bathroom'], ['Where', 'be', 'John'], ['bathroom']), (['Sandra', 'move', 'to', 'the', 'garden', 'John', 'move', 'to', 'the', 'office'], ['Where', 'be', 'John'], ['office']), (['Sandra', 'move', 'to', 'the', 'hallway', 'Daniel', 'go', 'to', 'the', 'kitchen'], ['Where', 'be', 'Daniel'], ['kitchen']), (['Mary', 'travel', 'to', 'the', 'garden', 'Daniel', 'move', 'to', 'the', 'bathroom'], ['Where', 'be', 'Mary'], ['garden']), (['John', 'go', 'to', 'the', 'hallway', 'Sandra', 'go', 'back', 'to', 'the', 'kitchen'], ['Where', 'be', 'John'], ['hallway']), (['Daniel', 'go', 'back', 'to', 'the', 'garden', 'John', 'travel', 'to', 'the', 'garden'], ['Where', 'be', 'John'], ['garden']), (['Mary', 'go', 'to', 'the', 'bathroom', 'Sandra', 'go', 'back', 'to', 'the', 'hallway'], ['Where', 'be', 'Mary'], ['bathroom']), (['Daniel', 'travel', 'to', 'the', 'office', 'Daniel', 'travel', 'to', 'the', 'bathroom'], ['Where', 'be', 'Daniel'], ['bathroom']), (['John', 'move', 'to', 'the', 'hallway', 'Mary', 'travel', 'to', 'the', 'hallway'], ['Where', 'be', 'John'], ['hallway']), (['Sandra', 'go', 'to', 'the', 'bedroom', 'Sandra', 'go', 'back', 'to', 'the', 'hallway'], ['Where', 'be', 'Mary'], ['hallway']), (['John', 'go', 'back', 'to', 'the', 'office', 'Daniel', 'travel', 'to', 'the', 'kitchen'], ['Where', 'be', 'John'], ['office']), (['John', 'travel', 'to', 'the', 'hallway', 'Mary', 'journey', 'to', 'the', 'kitchen'], ['Where', 'be', 'John'], ['hallway']), (['John', 'travel', 'to', 'the', 'office', 'John', 'travel', 'to', 'the', 'kitchen'], ['Where', 'be', 'John'], ['kitchen']), (['Mary', 'move', 'to', 'the', 'bedroom', 'Sandra', 'go', 'back', 'to', 'the', 'garden'], ['Where', 'be', 'Sandra'], ['garden']), (['Daniel', 'go', 'to', 'the', 'bedroom', 'Mary', 'journey', 'to', 'the', 'hallway'], ['Where', 'be', 'Mary'], ['hallway']), (['Mary', 'go', 'back', 'to', 'the', 'bathroom', 'Daniel', 'journey', 'to', 'the', 'office'], ['Where', 'be', 'Sandra'], ['garden']), (['Daniel', 'go', 'back', 'to', 'the', 'bedroom', 'Mary', 'go', 'back', 'to', 'the', 'office'], ['Where', 'be', 'Mary'], ['office']), (['John', 'journey', 'to', 'the', 'garden', 'John', 'move', 'to', 'the', 'office'], ['Where', 'be', 'John'], ['office']), (['John', 'travel', 'to', 'the', 'bathroom', 'Sandra', 'move', 'to', 'the', 'hallway'], ['Where', 'be', 'Sandra'], ['hallway']), (['Daniel', 'travel', 'to', 'the', 'kitchen', 'Daniel', 'travel', 'to', 'the', 'hallway'], ['Where', 'be', 'Daniel'], ['hallway']), (['John', 'move', 'to', 'the', 'hallway', 'Mary', 'go', 'to', 'the', 'hallway'], ['Where', 'be', 'Daniel'], ['hallway']), (['Daniel', 'journey', 'to', 'the', 'office', 'Daniel', 'journey', 'to', 'the', 'kitchen'], ['Where', 'be', 'Daniel'], ['kitchen']), (['Mary', 'move', 'to', 'the', 'office', 'Mary', 'go', 'to', 'the', 'bedroom'], ['Where', 'be', 'Daniel'], ['kitchen']), (['Daniel', 'journey', 'to', 'the', 'hallway', 'Sandra', 'travel', 'to', 'the', 'kitchen'], ['Where', 'be', 'Sandra'], ['kitchen']), (['John', 'journey', 'to', 'the', 'hallway', 'Sandra', 'travel', 'to', 'the', 'office'], ['Where', 'be', 'Sandra'], ['office']), (['Sandra', 'go', 'to', 'the', 'hallway', 'Daniel', 'journey', 'to', 'the', 'office'], ['Where', 'be', 'Sandra'], ['hallway']), (['Daniel', 'go', 'back', 'to', 'the', 'bedroom', 'Sandra', 'move', 'to', 'the', 'bedroom'], ['Where', 'be', 'Sandra'], ['bedroom']), (['John', 'move', 'to', 'the', 'office', 'Daniel', 'travel', 'to', 'the', 'kitchen'], ['Where', 'be', 'Daniel'], ['kitchen']), (['Sandra', 'travel', 'to', 'the', 'bedroom', 'Mary', 'go', 'to', 'the', 'hallway'], ['Where', 'be', 'Mary'], ['hallway']), (['Sandra', 'go', 'to', 'the', 'office', 'Sandra', 'journey', 'to', 'the', 'kitchen'], ['Where', 'be', 'Mary'], ['hallway']), (['Sandra', 'travel', 'to', 'the', 'bathroom', 'Daniel', 'journey', 'to', 'the', 'office'], ['Where', 'be', 'Daniel'], ['office']), (['John', 'go', 'back', 'to', 'the', 'hallway', 'Daniel', 'journey', 'to', 'the', 'bedroom'], ['Where', 'be', 'Daniel'], ['bedroom']), (['Sandra', 'move', 'to', 'the', 'garden', 'Mary', 'go', 'back', 'to', 'the', 'bathroom'], ['Where', 'be', 'Mary'], ['bathroom']), (['Daniel', 'journey', 'to', 'the', 'bathroom', 'Daniel', 'travel', 'to', 'the', 'hallway'], ['Where', 'be', 'Daniel'], ['hallway']), (['Sandra', 'go', 'back', 'to', 'the', 'bedroom', 'Sandra', 'travel', 'to', 'the', 'bathroom'], ['Where', 'be', 'Sandra'], ['bathroom']), (['John', 'go', 'to', 'the', 'bathroom', 'Sandra', 'go', 'to', 'the', 'garden'], ['Where', 'be', 'John'], ['bathroom']), (['Mary', 'journey', 'to', 'the', 'hallway', 'Mary', 'travel', 'to', 'the', 'garden'], ['Where', 'be', 'Mary'], ['garden']), (['Mary', 'go', 'back', 'to', 'the', 'bedroom', 'John', 'go', 'back', 'to', 'the', 'bedroom'], ['Where', 'be', 'Mary'], ['bedroom']), (['John', 'move', 'to', 'the', 'bedroom', 'Mary', 'go', 'back', 'to', 'the', 'bedroom'], ['Where', 'be', 'Mary'], ['bedroom']), (['Daniel', 'move', 'to', 'the', 'bathroom', 'Daniel', 'move', 'to', 'the', 'office'], ['Where', 'be', 'John'], ['bedroom']), (['Sandra', 'journey', 'to', 'the', 'bedroom', 'Mary', 'move', 'to', 'the', 'garden'], ['Where', 'be', 'Daniel'], ['office']), (['John', 'go', 'back', 'to', 'the', 'garden', 'Sandra', 'go', 'to', 'the', 'bathroom'], ['Where', 'be', 'Sandra'], ['bathroom']), (['John', 'travel', 'to', 'the', 'bedroom', 'Sandra', 'travel', 'to', 'the', 'kitchen'], ['Where', 'be', 'Mary'], ['garden']), (['Daniel', 'move', 'to', 'the', 'garden', 'Sandra', 'move', 'to', 'the', 'bedroom'], ['Where', 'be', 'Daniel'], ['garden']), (['Daniel', 'journey', 'to', 'the', 'hallway', 'Sandra', 'go', 'to', 'the', 'office'], ['Where', 'be', 'Sandra'], ['office']), (['Daniel', 'move', 'to', 'the', 'bedroom', 'John', 'go', 'back', 'to', 'the', 'bathroom'], ['Where', 'be', 'Daniel'], ['bedroom']), (['Sandra', 'travel', 'to', 'the', 'kitchen', 'Sandra', 'go', 'back', 'to', 'the', 'bedroom'], ['Where', 'be', 'Sandra'], ['bedroom']), (['John', 'journey', 'to', 'the', 'garden', 'Daniel', 'go', 'back', 'to', 'the', 'garden'], ['Where', 'be', 'Sandra'], ['bedroom']), (['Daniel', 'go', 'back', 'to', 'the', 'office', 'Mary', 'go', 'back', 'to', 'the', 'hallway'], ['Where', 'be', 'Mary'], ['hallway']), (['Sandra', 'journey', 'to', 'the', 'bathroom', 'Sandra', 'travel', 'to', 'the', 'hallway'], ['Where', 'be', 'Mary'], ['hallway']), (['Mary', 'go', 'back', 'to', 'the', 'office', 'Daniel', 'go', 'to', 'the', 'bathroom'], ['Where', 'be', 'Daniel'], ['bathroom']), (['Mary', 'move', 'to', 'the', 'bathroom', 'John', 'go', 'to', 'the', 'bedroom'], ['Where', 'be', 'Mary'], ['bathroom']), (['Daniel', 'go', 'back', 'to', 'the', 'bedroom', 'Sandra', 'travel', 'to', 'the', 'office'], ['Where', 'be', 'Mary'], ['bathroom']), (['John', 'go', 'to', 'the', 'office', 'Mary', 'journey', 'to', 'the', 'garden'], ['Where', 'be', 'Mary'], ['garden']), (['John', 'go', 'to', 'the', 'garden', 'John', 'journey', 'to', 'the', 'hallway'], ['Where', 'be', 'John'], ['hallway']), (['Sandra', 'go', 'to', 'the', 'hallway', 'John', 'go', 'to', 'the', 'bedroom'], ['Where', 'be', 'Mary'], ['garden']), (['Sandra', 'move', 'to', 'the', 'bedroom', 'Mary', 'travel', 'to', 'the', 'hallway'], ['Where', 'be', 'John'], ['bedroom']), (['John', 'travel', 'to', 'the', 'garden', 'Daniel', 'go', 'back', 'to', 'the', 'bedroom'], ['Where', 'be', 'Sandra'], ['bedroom']), (['Sandra', 'travel', 'to', 'the', 'bathroom', 'Mary', 'travel', 'to', 'the', 'office'], ['Where', 'be', 'Mary'], ['office']), (['Sandra', 'travel', 'to', 'the', 'hallway', 'Mary', 'move', 'to', 'the', 'bathroom'], ['Where', 'be', 'Sandra'], ['hallway']), (['John', 'go', 'to', 'the', 'office', 'Sandra', 'journey', 'to', 'the', 'office'], ['Where', 'be', 'Sandra'], ['office']), (['John', 'go', 'back', 'to', 'the', 'bathroom', 'John', 'travel', 'to', 'the', 'kitchen'], ['Where', 'be', 'John'], ['kitchen']), (['John', 'move', 'to', 'the', 'office', 'Daniel', 'go', 'back', 'to', 'the', 'kitchen'], ['Where', 'be', 'Sandra'], ['office']), (['Mary', 'go', 'back', 'to', 'the', 'bedroom', 'Mary', 'move', 'to', 'the', 'bathroom'], ['Where', 'be', 'Mary'], ['bathroom']), (['Sandra', 'travel', 'to', 'the', 'bedroom', 'Sandra', 'go', 'to', 'the', 'office'], ['Where', 'be', 'Sandra'], ['office']), (['Daniel', 'go', 'to', 'the', 'garden', 'Daniel', 'journey', 'to', 'the', 'bathroom'], ['Where', 'be', 'Daniel'], ['bathroom']), (['Sandra', 'move', 'to', 'the', 'hallway', 'John', 'journey', 'to', 'the', 'kitchen'], ['Where', 'be', 'Daniel'], ['bathroom']), (['Sandra', 'go', 'to', 'the', 'office', 'John', 'move', 'to', 'the', 'bathroom'], ['Where', 'be', 'Daniel'], ['bathroom']), (['Daniel', 'go', 'to', 'the', 'kitchen', 'Sandra', 'go', 'to', 'the', 'kitchen'], ['Where', 'be', 'Sandra'], ['kitchen']), (['John', 'move', 'to', 'the', 'bedroom', 'Mary', 'go', 'to', 'the', 'hallway'], ['Where', 'be', 'Mary'], ['hallway']), (['Mary', 'travel', 'to', 'the', 'kitchen', 'Sandra', 'journey', 'to', 'the', 'hallway'], ['Where', 'be', 'Sandra'], ['hallway']), (['Sandra', 'travel', 'to', 'the', 'bedroom', 'Daniel', 'journey', 'to', 'the', 'garden'], ['Where', 'be', 'Mary'], ['kitchen']), (['Sandra', 'journey', 'to', 'the', 'office', 'Sandra', 'journey', 'to', 'the', 'kitchen'], ['Where', 'be', 'Daniel'], ['garden']), (['Daniel', 'travel', 'to', 'the', 'kitchen', 'Daniel', 'go', 'to', 'the', 'hallway'], ['Where', 'be', 'Daniel'], ['hallway']), (['Mary', 'travel', 'to', 'the', 'hallway', 'John', 'go', 'to', 'the', 'hallway'], ['Where', 'be', 'Mary'], ['hallway']), (['Sandra', 'move', 'to', 'the', 'garden', 'Mary', 'go', 'to', 'the', 'kitchen'], ['Where', 'be', 'John'], ['hallway']), (['John', 'move', 'to', 'the', 'garden', 'John', 'go', 'back', 'to', 'the', 'bathroom'], ['Where', 'be', 'John'], ['bathroom']), (['Mary', 'go', 'to', 'the', 'hallway', 'Daniel', 'move', 'to', 'the', 'kitchen'], ['Where', 'be', 'Mary'], ['hallway']), (['John', 'go', 'back', 'to', 'the', 'hallway', 'Daniel', 'journey', 'to', 'the', 'bedroom'], ['Where', 'be', 'John'], ['hallway']), (['Sandra', 'go', 'back', 'to', 'the', 'bedroom', 'Sandra', 'move', 'to', 'the', 'bathroom'], ['Where', 'be', 'Daniel'], ['bedroom']), (['John', 'go', 'to', 'the', 'office', 'John', 'travel', 'to', 'the', 'garden'], ['Where', 'be', 'John'], ['garden']), (['John', 'go', 'to', 'the', 'bedroom', 'Mary', 'go', 'back', 'to', 'the', 'kitchen'], ['Where', 'be', 'Sandra'], ['bathroom']), (['Mary', 'go', 'back', 'to', 'the', 'garden', 'Mary', 'journey', 'to', 'the', 'bedroom'], ['Where', 'be', 'Mary'], ['bedroom']), (['Daniel', 'journey', 'to', 'the', 'kitchen', 'Daniel', 'go', 'back', 'to', 'the', 'bedroom'], ['Where', 'be', 'Daniel'], ['bedroom']), (['Sandra', 'travel', 'to', 'the', 'bathroom', 'Sandra', 'move', 'to', 'the', 'kitchen'], ['Where', 'be', 'Sandra'], ['kitchen']), (['Sandra', 'journey', 'to', 'the', 'bedroom', 'Mary', 'go', 'to', 'the', 'kitchen'], ['Where', 'be', 'Sandra'], ['bedroom']), (['Daniel', 'move', 'to', 'the', 'bathroom', 'Sandra', 'move', 'to', 'the', 'office'], ['Where', 'be', 'Daniel'], ['bathroom']), (['Sandra', 'travel', 'to', 'the', 'hallway', 'John', 'go', 'to', 'the', 'kitchen'], ['Where', 'be', 'Mary'], ['kitchen']), (['John', 'go', 'to', 'the', 'hallway', 'Daniel', 'move', 'to', 'the', 'garden'], ['Where', 'be', 'Daniel'], ['garden']), (['John', 'go', 'back', 'to', 'the', 'bedroom', 'Mary', 'journey', 'to', 'the', 'garden'], ['Where', 'be', 'John'], ['bedroom']), (['Sandra', 'go', 'back', 'to', 'the', 'kitchen', 'Daniel', 'go', 'to', 'the', 'hallway'], ['Where', 'be', 'Sandra'], ['kitchen']), (['John', 'go', 'back', 'to', 'the', 'bathroom', 'Daniel', 'go', 'back', 'to', 'the', 'kitchen'], ['Where', 'be', 'John'], ['bathroom']), (['Daniel', 'go', 'to', 'the', 'bedroom', 'John', 'travel', 'to', 'the', 'hallway'], ['Where', 'be', 'Daniel'], ['bedroom']), (['Daniel', 'travel', 'to', 'the', 'bathroom', 'Sandra', 'move', 'to', 'the', 'kitchen'], ['Where', 'be', 'Sandra'], ['kitchen']), (['Mary', 'move', 'to', 'the', 'bedroom', 'Mary', 'journey', 'to', 'the', 'garden'], ['Where', 'be', 'Daniel'], ['bathroom']), (['Mary', 'move', 'to', 'the', 'hallway', 'Sandra', 'go', 'back', 'to', 'the', 'hallway'], ['Where', 'be', 'Sandra'], ['hallway']), (['Mary', 'go', 'to', 'the', 'kitchen', 'John', 'go', 'to', 'the', 'garden'], ['Where', 'be', 'Mary'], ['kitchen']), (['John', 'move', 'to', 'the', 'office', 'Daniel', 'go', 'back', 'to', 'the', 'bedroom'], ['Where', 'be', 'John'], ['office']), (['Sandra', 'move', 'to', 'the', 'office', 'John', 'go', 'back', 'to', 'the', 'garden'], ['Where', 'be', 'John'], ['garden']), (['Daniel', 'travel', 'to', 'the', 'office', 'Sandra', 'journey', 'to', 'the', 'bathroom'], ['Where', 'be', 'Sandra'], ['bathroom']), (['John', 'move', 'to', 'the', 'kitchen', 'John', 'move', 'to', 'the', 'bathroom'], ['Where', 'be', 'Sandra'], ['bathroom']), (['Sandra', 'journey', 'to', 'the', 'hallway', 'Daniel', 'go', 'to', 'the', 'bathroom'], ['Where', 'be', 'Daniel'], ['bathroom']), (['Sandra', 'go', 'to', 'the', 'bathroom', 'Sandra', 'journey', 'to', 'the', 'hallway'], ['Where', 'be', 'Sandra'], ['hallway']), (['John', 'travel', 'to', 'the', 'kitchen', 'John', 'go', 'to', 'the', 'bathroom'], ['Where', 'be', 'John'], ['bathroom']), (['Sandra', 'travel', 'to', 'the', 'bedroom', 'Sandra', 'journey', 'to', 'the', 'garden'], ['Where', 'be', 'John'], ['bathroom']), (['John', 'journey', 'to', 'the', 'bedroom', 'John', 'journey', 'to', 'the', 'bathroom'], ['Where', 'be', 'John'], ['bathroom']), (['Mary', 'travel', 'to', 'the', 'kitchen', 'Mary', 'journey', 'to', 'the', 'garden'], ['Where', 'be', 'John'], ['bathroom']), (['John', 'journey', 'to', 'the', 'office', 'Daniel', 'journey', 'to', 'the', 'bathroom'], ['Where', 'be', 'Daniel'], ['bathroom']), (['Mary', 'move', 'to', 'the', 'bedroom', 'Sandra', 'travel', 'to', 'the', 'garden'], ['Where', 'be', 'Mary'], ['bedroom']), (['Sandra', 'journey', 'to', 'the', 'kitchen', 'Sandra', 'move', 'to', 'the', 'garden'], ['Where', 'be', 'Sandra'], ['garden']), (['Sandra', 'travel', 'to', 'the', 'kitchen', 'Daniel', 'go', 'to', 'the', 'garden'], ['Where', 'be', 'Daniel'], ['garden']), (['John', 'go', 'to', 'the', 'hallway', 'Mary', 'travel', 'to', 'the', 'hallway'], ['Where', 'be', 'John'], ['hallway']), (['Daniel', 'go', 'back', 'to', 'the', 'hallway', 'Daniel', 'move', 'to', 'the', 'bathroom'], ['Where', 'be', 'Mary'], ['hallway']), (['Daniel', 'go', 'to', 'the', 'bedroom', 'Mary', 'go', 'to', 'the', 'kitchen'], ['Where', 'be', 'Mary'], ['kitchen']), (['Mary', 'travel', 'to', 'the', 'bedroom', 'John', 'journey', 'to', 'the', 'bathroom'], ['Where', 'be', 'Mary'], ['bedroom']), (['Sandra', 'move', 'to', 'the', 'garden', 'Sandra', 'go', 'to', 'the', 'office'], ['Where', 'be', 'Mary'], ['bedroom']), (['Daniel', 'go', 'back', 'to', 'the', 'hallway', 'Sandra', 'move', 'to', 'the', 'kitchen'], ['Where', 'be', 'Sandra'], ['kitchen']), (['Mary', 'travel', 'to', 'the', 'bathroom', 'Sandra', 'journey', 'to', 'the', 'bedroom'], ['Where', 'be', 'Sandra'], ['bedroom']), (['Daniel', 'go', 'to', 'the', 'kitchen', 'Daniel', 'go', 'back', 'to', 'the', 'garden'], ['Where', 'be', 'Daniel'], ['garden']), (['Daniel', 'go', 'back', 'to', 'the', 'office', 'John', 'travel', 'to', 'the', 'kitchen'], ['Where', 'be', 'Daniel'], ['office']), (['Sandra', 'move', 'to', 'the', 'bedroom', 'John', 'go', 'to', 'the', 'office'], ['Where', 'be', 'Daniel'], ['office']), (['Mary', 'journey', 'to', 'the', 'office', 'Sandra', 'move', 'to', 'the', 'kitchen'], ['Where', 'be', 'Mary'], ['office']), (['Sandra', 'move', 'to', 'the', 'office', 'John', 'travel', 'to', 'the', 'garden'], ['Where', 'be', 'John'], ['garden']), (['Sandra', 'journey', 'to', 'the', 'hallway', 'Mary', 'travel', 'to', 'the', 'bathroom'], ['Where', 'be', 'Mary'], ['bathroom']), (['John', 'move', 'to', 'the', 'office', 'Mary', 'move', 'to', 'the', 'bedroom'], ['Where', 'be', 'Mary'], ['bedroom']), (['Mary', 'journey', 'to', 'the', 'kitchen', 'Mary', 'go', 'back', 'to', 'the', 'bathroom'], ['Where', 'be', 'John'], ['office']), (['John', 'move', 'to', 'the', 'bathroom', 'Mary', 'go', 'back', 'to', 'the', 'kitchen'], ['Where', 'be', 'Mary'], ['kitchen']), (['Sandra', 'journey', 'to', 'the', 'bedroom', 'Daniel', 'go', 'back', 'to', 'the', 'kitchen'], ['Where', 'be', 'John'], ['bathroom']), (['Sandra', 'move', 'to', 'the', 'hallway', 'John', 'go', 'back', 'to', 'the', 'hallway'], ['Where', 'be', 'Sandra'], ['hallway']), (['Daniel', 'move', 'to', 'the', 'garden', 'Daniel', 'go', 'to', 'the', 'bathroom'], ['Where', 'be', 'Sandra'], ['hallway']), (['Daniel', 'move', 'to', 'the', 'hallway', 'Sandra', 'go', 'to', 'the', 'kitchen'], ['Where', 'be', 'Sandra'], ['kitchen']), (['Daniel', 'journey', 'to', 'the', 'kitchen', 'Daniel', 'go', 'to', 'the', 'garden'], ['Where', 'be', 'Daniel'], ['garden']), (['Daniel', 'move', 'to', 'the', 'bathroom', 'Mary', 'go', 'to', 'the', 'office'], ['Where', 'be', 'Daniel'], ['bathroom']), (['Sandra', 'travel', 'to', 'the', 'office', 'Sandra', 'go', 'to', 'the', 'garden'], ['Where', 'be', 'Sandra'], ['garden']), (['Mary', 'go', 'back', 'to', 'the', 'garden', 'Daniel', 'go', 'to', 'the', 'kitchen'], ['Where', 'be', 'Mary'], ['garden']), (['Sandra', 'move', 'to', 'the', 'bathroom', 'Sandra', 'travel', 'to', 'the', 'garden'], ['Where', 'be', 'Daniel'], ['kitchen']), (['Mary', 'go', 'to', 'the', 'bedroom', 'Mary', 'go', 'to', 'the', 'garden'], ['Where', 'be', 'Sandra'], ['garden']), (['Sandra', 'move', 'to', 'the', 'hallway', 'Mary', 'move', 'to', 'the', 'bathroom'], ['Where', 'be', 'Mary'], ['bathroom']), (['Daniel', 'journey', 'to', 'the', 'kitchen', 'John', 'go', 'back', 'to', 'the', 'kitchen'], ['Where', 'be', 'John'], ['kitchen']), (['Mary', 'go', 'to', 'the', 'hallway', 'John', 'move', 'to', 'the', 'office'], ['Where', 'be', 'John'], ['office']), (['Daniel', 'travel', 'to', 'the', 'hallway', 'Mary', 'go', 'to', 'the', 'garden'], ['Where', 'be', 'John'], ['office']), (['Mary', 'go', 'back', 'to', 'the', 'office', 'Mary', 'go', 'to', 'the', 'garden'], ['Where', 'be', 'Mary'], ['garden']), (['Sandra', 'move', 'to', 'the', 'bathroom', 'Daniel', 'move', 'to', 'the', 'office'], ['Where', 'be', 'Mary'], ['garden']), (['John', 'go', 'to', 'the', 'kitchen', 'John', 'move', 'to', 'the', 'garden'], ['Where', 'be', 'John'], ['garden']), (['Daniel', 'go', 'back', 'to', 'the', 'bedroom', 'Sandra', 'move', 'to', 'the', 'office'], ['Where', 'be', 'Sandra'], ['office']), (['Sandra', 'journey', 'to', 'the', 'garden', 'John', 'move', 'to', 'the', 'bathroom'], ['Where', 'be', 'Sandra'], ['garden']), (['Daniel', 'travel', 'to', 'the', 'bathroom', 'John', 'travel', 'to', 'the', 'garden'], ['Where', 'be', 'John'], ['garden']), (['Mary', 'go', 'back', 'to', 'the', 'bathroom', 'Sandra', 'travel', 'to', 'the', 'hallway'], ['Where', 'be', 'John'], ['garden']), (['Sandra', 'go', 'to', 'the', 'garden', 'Mary', 'travel', 'to', 'the', 'garden'], ['Where', 'be', 'Sandra'], ['garden']), (['Sandra', 'travel', 'to', 'the', 'kitchen', 'Daniel', 'go', 'back', 'to', 'the', 'bedroom'], ['Where', 'be', 'Mary'], ['garden']), (['Daniel', 'go', 'to', 'the', 'kitchen', 'Sandra', 'travel', 'to', 'the', 'garden'], ['Where', 'be', 'Sandra'], ['garden']), (['Mary', 'go', 'back', 'to', 'the', 'bedroom', 'Mary', 'travel', 'to', 'the', 'kitchen'], ['Where', 'be', 'Daniel'], ['kitchen']), (['John', 'travel', 'to', 'the', 'bathroom', 'Mary', 'travel', 'to', 'the', 'hallway'], ['Where', 'be', 'Sandra'], ['garden']), (['Daniel', 'travel', 'to', 'the', 'bathroom', 'Sandra', 'move', 'to', 'the', 'hallway'], ['Where', 'be', 'Sandra'], ['hallway']), (['Sandra', 'go', 'to', 'the', 'office', 'Mary', 'journey', 'to', 'the', 'kitchen'], ['Where', 'be', 'Mary'], ['kitchen']), (['Daniel', 'go', 'to', 'the', 'kitchen', 'Mary', 'go', 'back', 'to', 'the', 'garden'], ['Where', 'be', 'Mary'], ['garden']), (['Daniel', 'move', 'to', 'the', 'bedroom', 'Sandra', 'travel', 'to', 'the', 'garden'], ['Where', 'be', 'Daniel'], ['bedroom']), (['Daniel', 'go', 'back', 'to', 'the', 'hallway', 'John', 'move', 'to', 'the', 'bedroom'], ['Where', 'be', 'Sandra'], ['garden']), (['Mary', 'travel', 'to', 'the', 'bedroom', 'Daniel', 'travel', 'to', 'the', 'office'], ['Where', 'be', 'Mary'], ['bedroom']), (['Daniel', 'journey', 'to', 'the', 'hallway', 'Mary', 'travel', 'to', 'the', 'hallway'], ['Where', 'be', 'Mary'], ['hallway']), (['Sandra', 'travel', 'to', 'the', 'kitchen', 'Mary', 'travel', 'to', 'the', 'kitchen'], ['Where', 'be', 'Daniel'], ['hallway']), (['John', 'journey', 'to', 'the', 'garden', 'Daniel', 'go', 'to', 'the', 'bathroom'], ['Where', 'be', 'Sandra'], ['kitchen']), (['Daniel', 'move', 'to', 'the', 'garden', 'John', 'go', 'to', 'the', 'kitchen'], ['Where', 'be', 'Daniel'], ['garden']), (['Sandra', 'go', 'back', 'to', 'the', 'office', 'Sandra', 'move', 'to', 'the', 'bathroom'], ['Where', 'be', 'Sandra'], ['bathroom']), (['Mary', 'travel', 'to', 'the', 'office', 'Mary', 'move', 'to', 'the', 'hallway'], ['Where', 'be', 'Sandra'], ['bathroom']), (['Mary', 'go', 'to', 'the', 'bedroom', 'Mary', 'journey', 'to', 'the', 'office'], ['Where', 'be', 'Mary'], ['office']), (['Mary', 'journey', 'to', 'the', 'bathroom', 'Sandra', 'travel', 'to', 'the', 'garden'], ['Where', 'be', 'Sandra'], ['garden']), (['Mary', 'go', 'to', 'the', 'kitchen', 'John', 'travel', 'to', 'the', 'hallway'], ['Where', 'be', 'Mary'], ['kitchen']), (['Sandra', 'go', 'to', 'the', 'kitchen', 'Daniel', 'go', 'back', 'to', 'the', 'bathroom'], ['Where', 'be', 'Sandra'], ['kitchen']), (['Daniel', 'journey', 'to', 'the', 'hallway', 'Mary', 'journey', 'to', 'the', 'kitchen'], ['Where', 'be', 'Mary'], ['kitchen']), (['Sandra', 'travel', 'to', 'the', 'bedroom', 'Sandra', 'go', 'to', 'the', 'office'], ['Where', 'be', 'Sandra'], ['office']), (['Mary', 'move', 'to', 'the', 'office', 'Sandra', 'go', 'back', 'to', 'the', 'hallway'], ['Where', 'be', 'Mary'], ['office']), (['John', 'travel', 'to', 'the', 'bedroom', 'Daniel', 'journey', 'to', 'the', 'office'], ['Where', 'be', 'Mary'], ['office']), (['John', 'travel', 'to', 'the', 'hallway', 'Mary', 'travel', 'to', 'the', 'bathroom'], ['Where', 'be', 'John'], ['hallway']), (['Sandra', 'go', 'to', 'the', 'bedroom', 'Daniel', 'move', 'to', 'the', 'office'], ['Where', 'be', 'Daniel'], ['office']), (['Daniel', 'travel', 'to', 'the', 'hallway', 'Daniel', 'journey', 'to', 'the', 'bathroom'], ['Where', 'be', 'Sandra'], ['bedroom']), (['Daniel', 'go', 'to', 'the', 'hallway', 'Mary', 'journey', 'to', 'the', 'office'], ['Where', 'be', 'Daniel'], ['hallway']), (['Mary', 'travel', 'to', 'the', 'bathroom', 'Sandra', 'journey', 'to', 'the', 'garden'], ['Where', 'be', 'Mary'], ['bathroom']), (['Daniel', 'journey', 'to', 'the', 'bedroom', 'Daniel', 'move', 'to', 'the', 'kitchen'], ['Where', 'be', 'Daniel'], ['kitchen']), (['Mary', 'travel', 'to', 'the', 'kitchen', 'Mary', 'move', 'to', 'the', 'bathroom'], ['Where', 'be', 'Daniel'], ['kitchen']), (['John', 'travel', 'to', 'the', 'office', 'Daniel', 'go', 'to', 'the', 'hallway'], ['Where', 'be', 'John'], ['office']), (['John', 'go', 'back', 'to', 'the', 'garden', 'Sandra', 'travel', 'to', 'the', 'bathroom'], ['Where', 'be', 'Mary'], ['bathroom']), (['Sandra', 'journey', 'to', 'the', 'office', 'John', 'go', 'to', 'the', 'bathroom'], ['Where', 'be', 'John'], ['bathroom']), (['Sandra', 'travel', 'to', 'the', 'bathroom', 'Sandra', 'move', 'to', 'the', 'kitchen'], ['Where', 'be', 'Sandra'], ['kitchen']), (['Sandra', 'journey', 'to', 'the', 'bathroom', 'Sandra', 'journey', 'to', 'the', 'bedroom'], ['Where', 'be', 'Sandra'], ['bedroom']), (['Sandra', 'journey', 'to', 'the', 'hallway', 'Mary', 'go', 'to', 'the', 'kitchen'], ['Where', 'be', 'Sandra'], ['hallway']), (['John', 'go', 'back', 'to', 'the', 'garden', 'Mary', 'go', 'to', 'the', 'office'], ['Where', 'be', 'Mary'], ['office']), (['Daniel', 'journey', 'to', 'the', 'office', 'Mary', 'go', 'back', 'to', 'the', 'bedroom'], ['Where', 'be', 'John'], ['garden']), (['John', 'travel', 'to', 'the', 'office', 'Daniel', 'go', 'back', 'to', 'the', 'bedroom'], ['Where', 'be', 'John'], ['office']), (['Sandra', 'travel', 'to', 'the', 'hallway', 'Daniel', 'journey', 'to', 'the', 'office'], ['Where', 'be', 'Daniel'], ['office']), (['Daniel', 'travel', 'to', 'the', 'bathroom', 'Mary', 'travel', 'to', 'the', 'garden'], ['Where', 'be', 'Daniel'], ['bathroom']), (['Mary', 'go', 'to', 'the', 'bedroom', 'Sandra', 'move', 'to', 'the', 'office'], ['Where', 'be', 'Daniel'], ['bathroom']), (['Mary', 'go', 'to', 'the', 'kitchen', 'Sandra', 'go', 'to', 'the', 'kitchen'], ['Where', 'be', 'Mary'], ['kitchen']), (['John', 'go', 'back', 'to', 'the', 'hallway', 'Sandra', 'move', 'to', 'the', 'bedroom'], ['Where', 'be', 'Sandra'], ['bedroom']), (['Sandra', 'go', 'to', 'the', 'bathroom', 'Daniel', 'go', 'back', 'to', 'the', 'office'], ['Where', 'be', 'Daniel'], ['office']), (['Sandra', 'go', 'to', 'the', 'kitchen', 'Sandra', 'move', 'to', 'the', 'bedroom'], ['Where', 'be', 'Daniel'], ['office']), (['John', 'journey', 'to', 'the', 'garden', 'Mary', 'travel', 'to', 'the', 'hallway'], ['Where', 'be', 'Mary'], ['hallway']), (['Mary', 'go', 'to', 'the', 'office', 'Daniel', 'travel', 'to', 'the', 'bedroom'], ['Where', 'be', 'Sandra'], ['bedroom']), (['Mary', 'travel', 'to', 'the', 'kitchen', 'Mary', 'move', 'to', 'the', 'hallway'], ['Where', 'be', 'Mary'], ['hallway']), (['John', 'go', 'to', 'the', 'office', 'John', 'go', 'back', 'to', 'the', 'garden'], ['Where', 'be', 'John'], ['garden']), (['John', 'move', 'to', 'the', 'hallway', 'Sandra', 'travel', 'to', 'the', 'hallway'], ['Where', 'be', 'John'], ['hallway']), (['Mary', 'move', 'to', 'the', 'garden', 'Daniel', 'journey', 'to', 'the', 'hallway'], ['Where', 'be', 'Mary'], ['garden']), (['Daniel', 'go', 'to', 'the', 'bedroom', 'Mary', 'travel', 'to', 'the', 'bedroom'], ['Where', 'be', 'Sandra'], ['hallway']), (['Mary', 'journey', 'to', 'the', 'office', 'Sandra', 'travel', 'to', 'the', 'bathroom'], ['Where', 'be', 'Mary'], ['office']), (['Sandra', 'travel', 'to', 'the', 'office', 'Mary', 'go', 'back', 'to', 'the', 'hallway'], ['Where', 'be', 'Mary'], ['hallway']), (['Daniel', 'go', 'back', 'to', 'the', 'office', 'Sandra', 'go', 'to', 'the', 'bathroom'], ['Where', 'be', 'Sandra'], ['bathroom']), (['John', 'journey', 'to', 'the', 'bedroom', 'Sandra', 'go', 'back', 'to', 'the', 'office'], ['Where', 'be', 'John'], ['bedroom']), (['Daniel', 'go', 'to', 'the', 'bedroom', 'Sandra', 'travel', 'to', 'the', 'garden'], ['Where', 'be', 'Sandra'], ['garden']), (['Mary', 'journey', 'to', 'the', 'hallway', 'Sandra', 'go', 'to', 'the', 'garden'], ['Where', 'be', 'Mary'], ['hallway']), (['Sandra', 'journey', 'to', 'the', 'hallway', 'Mary', 'journey', 'to', 'the', 'bathroom'], ['Where', 'be', 'Mary'], ['bathroom']), (['John', 'go', 'to', 'the', 'bathroom', 'Mary', 'go', 'back', 'to', 'the', 'kitchen'], ['Where', 'be', 'Mary'], ['kitchen']), (['Daniel', 'go', 'back', 'to', 'the', 'bedroom', 'Sandra', 'travel', 'to', 'the', 'bathroom'], ['Where', 'be', 'Sandra'], ['bathroom']), (['Sandra', 'journey', 'to', 'the', 'bedroom', 'Sandra', 'go', 'to', 'the', 'office'], ['Where', 'be', 'Sandra'], ['office']), (['Mary', 'go', 'back', 'to', 'the', 'bedroom', 'Mary', 'travel', 'to', 'the', 'garden'], ['Where', 'be', 'Mary'], ['garden']), (['John', 'journey', 'to', 'the', 'kitchen', 'Sandra', 'go', 'back', 'to', 'the', 'office'], ['Where', 'be', 'Mary'], ['garden']), (['Mary', 'journey', 'to', 'the', 'bedroom', 'Sandra', 'travel', 'to', 'the', 'bathroom'], ['Where', 'be', 'John'], ['kitchen']), (['Daniel', 'journey', 'to', 'the', 'garden', 'Mary', 'go', 'back', 'to', 'the', 'hallway'], ['Where', 'be', 'Mary'], ['hallway']), (['John', 'move', 'to', 'the', 'bedroom', 'Mary', 'travel', 'to', 'the', 'kitchen'], ['Where', 'be', 'Daniel'], ['garden']), (['Sandra', 'go', 'back', 'to', 'the', 'garden', 'Sandra', 'go', 'to', 'the', 'hallway'], ['Where', 'be', 'Sandra'], ['hallway']), (['Mary', 'go', 'back', 'to', 'the', 'garden', 'Sandra', 'journey', 'to', 'the', 'office'], ['Where', 'be', 'Sandra'], ['office']), (['Sandra', 'travel', 'to', 'the', 'hallway', 'Sandra', 'move', 'to', 'the', 'bedroom'], ['Where', 'be', 'Mary'], ['garden']), (['Daniel', 'move', 'to', 'the', 'office', 'Mary', 'journey', 'to', 'the', 'hallway'], ['Where', 'be', 'Daniel'], ['office']), (['Mary', 'journey', 'to', 'the', 'bedroom', 'Daniel', 'go', 'back', 'to', 'the', 'kitchen'], ['Where', 'be', 'Mary'], ['bedroom']), (['Sandra', 'journey', 'to', 'the', 'garden', 'Sandra', 'journey', 'to', 'the', 'kitchen'], ['Where', 'be', 'Sandra'], ['kitchen']), (['Daniel', 'journey', 'to', 'the', 'bedroom', 'Sandra', 'move', 'to', 'the', 'garden'], ['Where', 'be', 'Sandra'], ['garden']), (['Mary', 'journey', 'to', 'the', 'office', 'Mary', 'journey', 'to', 'the', 'bathroom'], ['Where', 'be', 'Mary'], ['bathroom']), (['Daniel', 'journey', 'to', 'the', 'garden', 'Mary', 'go', 'back', 'to', 'the', 'bedroom'], ['Where', 'be', 'Daniel'], ['garden']), (['Sandra', 'go', 'back', 'to', 'the', 'kitchen', 'Sandra', 'travel', 'to', 'the', 'bedroom'], ['Where', 'be', 'Sandra'], ['bedroom']), (['Daniel', 'go', 'to', 'the', 'hallway', 'Daniel', 'move', 'to', 'the', 'bedroom'], ['Where', 'be', 'Daniel'], ['bedroom']), (['Sandra', 'move', 'to', 'the', 'office', 'Daniel', 'journey', 'to', 'the', 'hallway'], ['Where', 'be', 'Daniel'], ['hallway']), (['John', 'journey', 'to', 'the', 'bathroom', 'Sandra', 'go', 'to', 'the', 'garden'], ['Where', 'be', 'Daniel'], ['hallway']), (['John', 'move', 'to', 'the', 'garden', 'Mary', 'journey', 'to', 'the', 'garden'], ['Where', 'be', 'John'], ['garden']), (['Mary', 'go', 'to', 'the', 'office', 'Sandra', 'journey', 'to', 'the', 'hallway'], ['Where', 'be', 'John'], ['garden']), (['John', 'travel', 'to', 'the', 'garden', 'Daniel', 'journey', 'to', 'the', 'bedroom'], ['Where', 'be', 'John'], ['garden']), (['Sandra', 'go', 'back', 'to', 'the', 'garden', 'Mary', 'go', 'to', 'the', 'kitchen'], ['Where', 'be', 'John'], ['garden']), (['John', 'travel', 'to', 'the', 'kitchen', 'Sandra', 'move', 'to', 'the', 'bedroom'], ['Where', 'be', 'Sandra'], ['bedroom']), (['Daniel', 'move', 'to', 'the', 'garden', 'Daniel', 'travel', 'to', 'the', 'bedroom'], ['Where', 'be', 'Daniel'], ['bedroom']), (['Mary', 'journey', 'to', 'the', 'office', 'Sandra', 'move', 'to', 'the', 'bathroom'], ['Where', 'be', 'Daniel'], ['bedroom']), (['John', 'travel', 'to', 'the', 'bathroom', 'Sandra', 'go', 'to', 'the', 'kitchen'], ['Where', 'be', 'Sandra'], ['kitchen']), (['Daniel', 'go', 'to', 'the', 'garden', 'Mary', 'move', 'to', 'the', 'bedroom'], ['Where', 'be', 'Mary'], ['bedroom']), (['Sandra', 'move', 'to', 'the', 'bathroom', 'John', 'move', 'to', 'the', 'hallway'], ['Where', 'be', 'Sandra'], ['bathroom']), (['John', 'go', 'back', 'to', 'the', 'kitchen', 'Daniel', 'journey', 'to', 'the', 'hallway'], ['Where', 'be', 'John'], ['kitchen']), (['Daniel', 'go', 'back', 'to', 'the', 'office', 'Sandra', 'go', 'back', 'to', 'the', 'hallway'], ['Where', 'be', 'John'], ['kitchen']), (['Sandra', 'move', 'to', 'the', 'office', 'Mary', 'go', 'back', 'to', 'the', 'bathroom'], ['Where', 'be', 'Sandra'], ['office']), (['Mary', 'travel', 'to', 'the', 'office', 'Sandra', 'move', 'to', 'the', 'kitchen'], ['Where', 'be', 'Mary'], ['office']), (['Sandra', 'move', 'to', 'the', 'bedroom', 'Mary', 'go', 'back', 'to', 'the', 'garden'], ['Where', 'be', 'Mary'], ['garden']), (['John', 'go', 'to', 'the', 'hallway', 'Daniel', 'go', 'back', 'to', 'the', 'bathroom'], ['Where', 'be', 'Daniel'], ['bathroom']), (['John', 'travel', 'to', 'the', 'garden', 'John', 'go', 'back', 'to', 'the', 'bathroom'], ['Where', 'be', 'John'], ['bathroom']), (['Mary', 'travel', 'to', 'the', 'garden', 'Daniel', 'go', 'to', 'the', 'garden'], ['Where', 'be', 'Daniel'], ['garden']), (['Mary', 'journey', 'to', 'the', 'kitchen', 'Mary', 'go', 'back', 'to', 'the', 'hallway'], ['Where', 'be', 'Mary'], ['hallway']), (['Daniel', 'travel', 'to', 'the', 'office', 'Daniel', 'move', 'to', 'the', 'garden'], ['Where', 'be', 'Mary'], ['hallway']), (['Sandra', 'go', 'back', 'to', 'the', 'kitchen', 'John', 'travel', 'to', 'the', 'bathroom'], ['Where', 'be', 'Mary'], ['hallway']), (['Daniel', 'go', 'to', 'the', 'kitchen', 'Mary', 'move', 'to', 'the', 'office'], ['Where', 'be', 'Sandra'], ['kitchen']), (['Mary', 'go', 'to', 'the', 'office', 'Sandra', 'travel', 'to', 'the', 'bathroom'], ['Where', 'be', 'Mary'], ['office']), (['Sandra', 'go', 'to', 'the', 'hallway', 'Daniel', 'journey', 'to', 'the', 'kitchen'], ['Where', 'be', 'Sandra'], ['hallway']), (['Sandra', 'travel', 'to', 'the', 'office', 'John', 'journey', 'to', 'the', 'bedroom'], ['Where', 'be', 'Sandra'], ['office']), (['Daniel', 'move', 'to', 'the', 'hallway', 'Sandra', 'go', 'to', 'the', 'hallway'], ['Where', 'be', 'Daniel'], ['hallway']), (['John', 'journey', 'to', 'the', 'garden', 'Sandra', 'go', 'back', 'to', 'the', 'garden'], ['Where', 'be', 'Daniel'], ['hallway']), (['Sandra', 'journey', 'to', 'the', 'garden', 'Daniel', 'travel', 'to', 'the', 'bathroom'], ['Where', 'be', 'Sandra'], ['garden']), (['Sandra', 'go', 'to', 'the', 'bedroom', 'Sandra', 'travel', 'to', 'the', 'hallway'], ['Where', 'be', 'Sandra'], ['hallway']), (['Sandra', 'travel', 'to', 'the', 'office', 'Sandra', 'go', 'back', 'to', 'the', 'garden'], ['Where', 'be', 'Sandra'], ['garden']), (['John', 'journey', 'to', 'the', 'hallway', 'John', 'move', 'to', 'the', 'bedroom'], ['Where', 'be', 'John'], ['bedroom']), (['Sandra', 'move', 'to', 'the', 'kitchen', 'John', 'journey', 'to', 'the', 'kitchen'], ['Where', 'be', 'John'], ['kitchen']), (['Sandra', 'go', 'to', 'the', 'bedroom', 'Mary', 'move', 'to', 'the', 'bedroom'], ['Where', 'be', 'Mary'], ['bedroom']), (['John', 'go', 'to', 'the', 'office', 'Daniel', 'journey', 'to', 'the', 'garden'], ['Where', 'be', 'John'], ['office']), (['Mary', 'travel', 'to', 'the', 'bathroom', 'Daniel', 'move', 'to', 'the', 'hallway'], ['Where', 'be', 'Mary'], ['bathroom']), (['Daniel', 'travel', 'to', 'the', 'garden', 'John', 'move', 'to', 'the', 'garden'], ['Where', 'be', 'Mary'], ['bathroom']), (['Mary', 'go', 'to', 'the', 'garden', 'Mary', 'go', 'to', 'the', 'bedroom'], ['Where', 'be', 'Mary'], ['bedroom']), (['Mary', 'move', 'to', 'the', 'kitchen', 'John', 'travel', 'to', 'the', 'office'], ['Where', 'be', 'John'], ['office']), (['Daniel', 'go', 'to', 'the', 'hallway', 'Daniel', 'go', 'back', 'to', 'the', 'kitchen'], ['Where', 'be', 'Daniel'], ['kitchen']), (['Sandra', 'go', 'back', 'to', 'the', 'hallway', 'John', 'travel', 'to', 'the', 'bedroom'], ['Where', 'be', 'John'], ['bedroom']), (['Daniel', 'travel', 'to', 'the', 'garden', 'Mary', 'move', 'to', 'the', 'office'], ['Where', 'be', 'Daniel'], ['garden']), (['Mary', 'journey', 'to', 'the', 'garden', 'John', 'go', 'to', 'the', 'office'], ['Where', 'be', 'Daniel'], ['garden']), (['Daniel', 'go', 'to', 'the', 'bedroom', 'Mary', 'travel', 'to', 'the', 'bathroom'], ['Where', 'be', 'Daniel'], ['bedroom']), (['John', 'go', 'back', 'to', 'the', 'kitchen', 'John', 'travel', 'to', 'the', 'hallway'], ['Where', 'be', 'Daniel'], ['bedroom']), (['Mary', 'travel', 'to', 'the', 'hallway', 'John', 'travel', 'to', 'the', 'garden'], ['Where', 'be', 'John'], ['garden']), (['Sandra', 'go', 'to', 'the', 'office', 'Mary', 'move', 'to', 'the', 'bathroom'], ['Where', 'be', 'Mary'], ['bathroom']), (['Mary', 'journey', 'to', 'the', 'garden', 'John', 'go', 'to', 'the', 'hallway'], ['Where', 'be', 'John'], ['hallway']), (['John', 'move', 'to', 'the', 'hallway', 'Mary', 'move', 'to', 'the', 'garden'], ['Where', 'be', 'John'], ['hallway']), (['Daniel', 'travel', 'to', 'the', 'garden', 'Mary', 'go', 'to', 'the', 'bathroom'], ['Where', 'be', 'John'], ['hallway']), (['Mary', 'go', 'back', 'to', 'the', 'bedroom', 'John', 'go', 'to', 'the', 'kitchen'], ['Where', 'be', 'Mary'], ['bedroom']), (['Sandra', 'go', 'back', 'to', 'the', 'hallway', 'John', 'go', 'to', 'the', 'bathroom'], ['Where', 'be', 'Mary'], ['bedroom']), (['Mary', 'go', 'back', 'to', 'the', 'office', 'John', 'travel', 'to', 'the', 'bedroom'], ['Where', 'be', 'Sandra'], ['hallway']), (['John', 'go', 'to', 'the', 'bedroom', 'Daniel', 'journey', 'to', 'the', 'bedroom'], ['Where', 'be', 'John'], ['bedroom']), (['Daniel', 'journey', 'to', 'the', 'kitchen', 'Sandra', 'go', 'back', 'to', 'the', 'bedroom'], ['Where', 'be', 'John'], ['bedroom']), (['Mary', 'journey', 'to', 'the', 'hallway', 'Daniel', 'journey', 'to', 'the', 'hallway'], ['Where', 'be', 'Daniel'], ['hallway']), (['Daniel', 'go', 'to', 'the', 'bedroom', 'Mary', 'journey', 'to', 'the', 'garden'], ['Where', 'be', 'Mary'], ['garden']), (['John', 'go', 'to', 'the', 'office', 'John', 'move', 'to', 'the', 'hallway'], ['Where', 'be', 'John'], ['hallway']), (['John', 'go', 'back', 'to', 'the', 'hallway', 'Daniel', 'move', 'to', 'the', 'garden'], ['Where', 'be', 'John'], ['hallway']), (['Sandra', 'travel', 'to', 'the', 'bathroom', 'Mary', 'go', 'back', 'to', 'the', 'office'], ['Where', 'be', 'Daniel'], ['garden']), (['Sandra', 'travel', 'to', 'the', 'hallway', 'Sandra', 'go', 'back', 'to', 'the', 'bedroom'], ['Where', 'be', 'Daniel'], ['garden']), (['Daniel', 'move', 'to', 'the', 'bedroom', 'Daniel', 'travel', 'to', 'the', 'hallway'], ['Where', 'be', 'Daniel'], ['hallway']), (['Daniel', 'travel', 'to', 'the', 'garden', 'Daniel', 'move', 'to', 'the', 'hallway'], ['Where', 'be', 'Daniel'], ['hallway']), (['Mary', 'go', 'back', 'to', 'the', 'kitchen', 'Sandra', 'travel', 'to', 'the', 'kitchen'], ['Where', 'be', 'Sandra'], ['kitchen']), (['John', 'move', 'to', 'the', 'bathroom', 'Sandra', 'travel', 'to', 'the', 'bedroom'], ['Where', 'be', 'Sandra'], ['bedroom']), (['John', 'go', 'to', 'the', 'hallway', 'Daniel', 'go', 'to', 'the', 'hallway'], ['Where', 'be', 'John'], ['hallway']), (['John', 'go', 'to', 'the', 'kitchen', 'Sandra', 'move', 'to', 'the', 'kitchen'], ['Where', 'be', 'John'], ['kitchen']), (['Daniel', 'travel', 'to', 'the', 'kitchen', 'Daniel', 'move', 'to', 'the', 'office'], ['Where', 'be', 'Sandra'], ['kitchen']), (['Sandra', 'go', 'to', 'the', 'kitchen', 'Mary', 'move', 'to', 'the', 'kitchen'], ['Where', 'be', 'Sandra'], ['kitchen']), (['Sandra', 'move', 'to', 'the', 'hallway', 'Mary', 'go', 'to', 'the', 'office'], ['Where', 'be', 'Mary'], ['office']), (['Daniel', 'journey', 'to', 'the', 'garden', 'Sandra', 'journey', 'to', 'the', 'garden'], ['Where', 'be', 'Mary'], ['office']), (['Daniel', 'go', 'back', 'to', 'the', 'kitchen', 'Sandra', 'move', 'to', 'the', 'office'], ['Where', 'be', 'Daniel'], ['kitchen']), (['Daniel', 'move', 'to', 'the', 'bedroom', 'John', 'travel', 'to', 'the', 'bathroom'], ['Where', 'be', 'John'], ['bathroom']), (['Daniel', 'go', 'back', 'to', 'the', 'hallway', 'Mary', 'travel', 'to', 'the', 'kitchen'], ['Where', 'be', 'Daniel'], ['hallway']), (['John', 'go', 'back', 'to', 'the', 'office', 'John', 'journey', 'to', 'the', 'bathroom'], ['Where', 'be', 'Mary'], ['kitchen']), (['John', 'travel', 'to', 'the', 'kitchen', 'John', 'go', 'to', 'the', 'bedroom'], ['Where', 'be', 'John'], ['bedroom']), (['Mary', 'move', 'to', 'the', 'bathroom', 'John', 'journey', 'to', 'the', 'garden'], ['Where', 'be', 'John'], ['garden']), (['Daniel', 'journey', 'to', 'the', 'kitchen', 'Daniel', 'travel', 'to', 'the', 'bathroom'], ['Where', 'be', 'Daniel'], ['bathroom']), (['Daniel', 'travel', 'to', 'the', 'hallway', 'John', 'journey', 'to', 'the', 'hallway'], ['Where', 'be', 'John'], ['hallway']), (['John', 'journey', 'to', 'the', 'office', 'Daniel', 'go', 'to', 'the', 'kitchen'], ['Where', 'be', 'John'], ['office']), (['Daniel', 'travel', 'to', 'the', 'hallway', 'John', 'journey', 'to', 'the', 'hallway'], ['Where', 'be', 'John'], ['hallway']), (['Daniel', 'travel', 'to', 'the', 'kitchen', 'Daniel', 'go', 'back', 'to', 'the', 'hallway'], ['Where', 'be', 'Daniel'], ['hallway']), (['John', 'go', 'to', 'the', 'office', 'John', 'go', 'to', 'the', 'bathroom'], ['Where', 'be', 'John'], ['bathroom']), (['John', 'go', 'to', 'the', 'bedroom', 'John', 'go', 'back', 'to', 'the', 'office'], ['Where', 'be', 'John'], ['office']), (['Daniel', 'move', 'to', 'the', 'bathroom', 'Mary', 'journey', 'to', 'the', 'garden'], ['Where', 'be', 'Daniel'], ['bathroom']), (['Sandra', 'move', 'to', 'the', 'kitchen', 'Sandra', 'go', 'to', 'the', 'bathroom'], ['Where', 'be', 'John'], ['office']), (['Daniel', 'go', 'to', 'the', 'bedroom', 'Sandra', 'go', 'to', 'the', 'hallway'], ['Where', 'be', 'Sandra'], ['hallway']), (['John', 'go', 'back', 'to', 'the', 'bedroom', 'Mary', 'move', 'to', 'the', 'kitchen'], ['Where', 'be', 'John'], ['bedroom']), (['Mary', 'go', 'back', 'to', 'the', 'kitchen', 'John', 'go', 'back', 'to', 'the', 'office'], ['Where', 'be', 'John'], ['office']), (['Daniel', 'journey', 'to', 'the', 'bedroom', 'Mary', 'travel', 'to', 'the', 'bathroom'], ['Where', 'be', 'Daniel'], ['bedroom']), (['John', 'journey', 'to', 'the', 'kitchen', 'Sandra', 'journey', 'to', 'the', 'kitchen'], ['Where', 'be', 'Mary'], ['bathroom']), (['Daniel', 'travel', 'to', 'the', 'office', 'Daniel', 'journey', 'to', 'the', 'bathroom'], ['Where', 'be', 'Mary'], ['bathroom']), (['John', 'travel', 'to', 'the', 'office', 'Daniel', 'go', 'back', 'to', 'the', 'kitchen'], ['Where', 'be', 'Daniel'], ['kitchen']), (['Mary', 'move', 'to', 'the', 'bedroom', 'Sandra', 'move', 'to', 'the', 'garden'], ['Where', 'be', 'Sandra'], ['garden']), (['John', 'travel', 'to', 'the', 'office', 'Sandra', 'journey', 'to', 'the', 'office'], ['Where', 'be', 'John'], ['office']), (['Mary', 'journey', 'to', 'the', 'garden', 'Sandra', 'journey', 'to', 'the', 'hallway'], ['Where', 'be', 'Sandra'], ['hallway']), (['Daniel', 'go', 'back', 'to', 'the', 'kitchen', 'Sandra', 'go', 'back', 'to', 'the', 'garden'], ['Where', 'be', 'Mary'], ['garden']), (['Sandra', 'move', 'to', 'the', 'kitchen', 'John', 'go', 'back', 'to', 'the', 'bathroom'], ['Where', 'be', 'Daniel'], ['kitchen']), (['Sandra', 'go', 'to', 'the', 'garden', 'Mary', 'journey', 'to', 'the', 'office'], ['Where', 'be', 'Sandra'], ['garden']), (['John', 'go', 'to', 'the', 'hallway', 'Sandra', 'journey', 'to', 'the', 'bathroom'], ['Where', 'be', 'Mary'], ['office']), (['Daniel', 'go', 'to', 'the', 'hallway', 'Daniel', 'go', 'to', 'the', 'office'], ['Where', 'be', 'Daniel'], ['office']), (['Mary', 'move', 'to', 'the', 'garden', 'Mary', 'move', 'to', 'the', 'office'], ['Where', 'be', 'Daniel'], ['office']), (['Sandra', 'move', 'to', 'the', 'hallway', 'John', 'travel', 'to', 'the', 'office'], ['Where', 'be', 'Mary'], ['office']), (['Sandra', 'travel', 'to', 'the', 'hallway', 'Mary', 'move', 'to', 'the', 'office'], ['Where', 'be', 'Sandra'], ['hallway']), (['John', 'go', 'back', 'to', 'the', 'kitchen', 'John', 'go', 'to', 'the', 'office'], ['Where', 'be', 'Mary'], ['office']), (['Mary', 'go', 'back', 'to', 'the', 'kitchen', 'John', 'journey', 'to', 'the', 'hallway'], ['Where', 'be', 'Mary'], ['kitchen']), (['Daniel', 'move', 'to', 'the', 'office', 'John', 'journey', 'to', 'the', 'bathroom'], ['Where', 'be', 'Daniel'], ['office']), (['Daniel', 'journey', 'to', 'the', 'bedroom', 'Sandra', 'travel', 'to', 'the', 'garden'], ['Where', 'be', 'Daniel'], ['bedroom']), (['Daniel', 'go', 'to', 'the', 'bedroom', 'John', 'go', 'back', 'to', 'the', 'kitchen'], ['Where', 'be', 'Daniel'], ['bedroom']), (['John', 'move', 'to', 'the', 'bedroom', 'Mary', 'travel', 'to', 'the', 'office'], ['Where', 'be', 'Daniel'], ['bedroom']), (['Sandra', 'go', 'to', 'the', 'office', 'Sandra', 'go', 'back', 'to', 'the', 'hallway'], ['Where', 'be', 'Mary'], ['office']), (['John', 'go', 'back', 'to', 'the', 'kitchen', 'Mary', 'go', 'back', 'to', 'the', 'garden'], ['Where', 'be', 'Mary'], ['garden']), (['Mary', 'journey', 'to', 'the', 'bathroom', 'Daniel', 'travel', 'to', 'the', 'hallway'], ['Where', 'be', 'Mary'], ['bathroom']), (['John', 'go', 'to', 'the', 'bathroom', 'John', 'go', 'back', 'to', 'the', 'hallway'], ['Where', 'be', 'John'], ['hallway']), (['Sandra', 'go', 'back', 'to', 'the', 'kitchen', 'Daniel', 'go', 'back', 'to', 'the', 'office'], ['Where', 'be', 'John'], ['hallway']), (['Daniel', 'go', 'back', 'to', 'the', 'bathroom', 'Daniel', 'move', 'to', 'the', 'bedroom'], ['Where', 'be', 'John'], ['hallway']), (['Mary', 'go', 'to', 'the', 'office', 'Sandra', 'travel', 'to', 'the', 'office'], ['Where', 'be', 'Sandra'], ['office']), (['John', 'move', 'to', 'the', 'bedroom', 'Mary', 'go', 'back', 'to', 'the', 'kitchen'], ['Where', 'be', 'Mary'], ['kitchen']), (['Sandra', 'go', 'to', 'the', 'garden', 'John', 'journey', 'to', 'the', 'kitchen'], ['Where', 'be', 'John'], ['kitchen']), (['John', 'go', 'back', 'to', 'the', 'office', 'Daniel', 'move', 'to', 'the', 'garden'], ['Where', 'be', 'John'], ['office']), (['Mary', 'go', 'back', 'to', 'the', 'hallway', 'Sandra', 'move', 'to', 'the', 'bedroom'], ['Where', 'be', 'John'], ['office']), (['Daniel', 'journey', 'to', 'the', 'hallway', 'Sandra', 'travel', 'to', 'the', 'bathroom'], ['Where', 'be', 'Daniel'], ['hallway']), (['Daniel', 'move', 'to', 'the', 'kitchen', 'Sandra', 'go', 'to', 'the', 'garden'], ['Where', 'be', 'Sandra'], ['garden']), (['Daniel', 'travel', 'to', 'the', 'hallway', 'John', 'travel', 'to', 'the', 'office'], ['Where', 'be', 'John'], ['office']), (['Daniel', 'go', 'to', 'the', 'bedroom', 'Daniel', 'go', 'back', 'to', 'the', 'office'], ['Where', 'be', 'Daniel'], ['office']), (['Mary', 'go', 'to', 'the', 'bedroom', 'Mary', 'go', 'to', 'the', 'hallway'], ['Where', 'be', 'Daniel'], ['office']), (['Mary', 'travel', 'to', 'the', 'office', 'Sandra', 'go', 'to', 'the', 'garden'], ['Where', 'be', 'Sandra'], ['garden']), (['Daniel', 'journey', 'to', 'the', 'bedroom', 'John', 'journey', 'to', 'the', 'bedroom'], ['Where', 'be', 'Mary'], ['office']), (['Daniel', 'journey', 'to', 'the', 'hallway', 'Sandra', 'go', 'back', 'to', 'the', 'bathroom'], ['Where', 'be', 'Sandra'], ['bathroom']), (['John', 'go', 'to', 'the', 'bedroom', 'Sandra', 'move', 'to', 'the', 'office'], ['Where', 'be', 'John'], ['bedroom']), (['Daniel', 'go', 'to', 'the', 'bathroom', 'Mary', 'travel', 'to', 'the', 'bathroom'], ['Where', 'be', 'Mary'], ['bathroom']), (['Sandra', 'go', 'back', 'to', 'the', 'hallway', 'John', 'go', 'to', 'the', 'office'], ['Where', 'be', 'Sandra'], ['hallway']), (['John', 'move', 'to', 'the', 'kitchen', 'John', 'go', 'back', 'to', 'the', 'hallway'], ['Where', 'be', 'John'], ['hallway']), (['Daniel', 'go', 'to', 'the', 'bathroom', 'Sandra', 'go', 'to', 'the', 'hallway'], ['Where', 'be', 'Sandra'], ['hallway']), (['John', 'go', 'to', 'the', 'office', 'Sandra', 'journey', 'to', 'the', 'garden'], ['Where', 'be', 'John'], ['office']), (['Mary', 'go', 'back', 'to', 'the', 'garden', 'Mary', 'go', 'to', 'the', 'bedroom'], ['Where', 'be', 'Sandra'], ['garden']), (['Daniel', 'go', 'to', 'the', 'bedroom', 'Sandra', 'journey', 'to', 'the', 'hallway'], ['Where', 'be', 'Sandra'], ['hallway']), (['Sandra', 'go', 'back', 'to', 'the', 'kitchen', 'Daniel', 'journey', 'to', 'the', 'hallway'], ['Where', 'be', 'Mary'], ['bedroom']), (['Mary', 'move', 'to', 'the', 'bathroom', 'Sandra', 'go', 'to', 'the', 'hallway'], ['Where', 'be', 'Mary'], ['bathroom']), (['Mary', 'go', 'back', 'to', 'the', 'kitchen', 'Daniel', 'go', 'back', 'to', 'the', 'kitchen'], ['Where', 'be', 'Daniel'], ['kitchen']), (['John', 'go', 'back', 'to', 'the', 'bathroom', 'Daniel', 'journey', 'to', 'the', 'office'], ['Where', 'be', 'Daniel'], ['office']), (['Daniel', 'journey', 'to', 'the', 'bathroom', 'Daniel', 'go', 'back', 'to', 'the', 'garden'], ['Where', 'be', 'Daniel'], ['garden']), (['Sandra', 'move', 'to', 'the', 'bathroom', 'Mary', 'go', 'to', 'the', 'office'], ['Where', 'be', 'Sandra'], ['bathroom']), (['Daniel', 'go', 'to', 'the', 'office', 'Mary', 'go', 'back', 'to', 'the', 'bedroom'], ['Where', 'be', 'Mary'], ['bedroom']), (['Mary', 'journey', 'to', 'the', 'garden', 'John', 'move', 'to', 'the', 'kitchen'], ['Where', 'be', 'John'], ['kitchen']), (['Sandra', 'move', 'to', 'the', 'garden', 'Sandra', 'journey', 'to', 'the', 'hallway'], ['Where', 'be', 'Sandra'], ['hallway']), (['Sandra', 'go', 'back', 'to', 'the', 'bathroom', 'Mary', 'go', 'to', 'the', 'bathroom'], ['Where', 'be', 'Sandra'], ['bathroom']), (['Daniel', 'go', 'to', 'the', 'garden', 'John', 'move', 'to', 'the', 'bedroom'], ['Where', 'be', 'Daniel'], ['garden']), (['Mary', 'go', 'back', 'to', 'the', 'office', 'Mary', 'go', 'to', 'the', 'bathroom'], ['Where', 'be', 'Mary'], ['bathroom']), (['Mary', 'go', 'back', 'to', 'the', 'hallway', 'John', 'journey', 'to', 'the', 'hallway'], ['Where', 'be', 'Mary'], ['hallway']), (['John', 'travel', 'to', 'the', 'garden', 'Sandra', 'go', 'back', 'to', 'the', 'office'], ['Where', 'be', 'Mary'], ['hallway']), (['Daniel', 'go', 'back', 'to', 'the', 'garden', 'Mary', 'journey', 'to', 'the', 'garden'], ['Where', 'be', 'John'], ['garden']), (['Daniel', 'journey', 'to', 'the', 'bedroom', 'Mary', 'go', 'back', 'to', 'the', 'office'], ['Where', 'be', 'Daniel'], ['bedroom']), (['Mary', 'move', 'to', 'the', 'hallway', 'Mary', 'travel', 'to', 'the', 'kitchen'], ['Where', 'be', 'Mary'], ['kitchen']), (['John', 'go', 'to', 'the', 'kitchen', 'Sandra', 'move', 'to', 'the', 'bedroom'], ['Where', 'be', 'John'], ['kitchen']), (['Mary', 'travel', 'to', 'the', 'garden', 'Mary', 'go', 'back', 'to', 'the', 'office'], ['Where', 'be', 'Sandra'], ['bedroom']), (['Sandra', 'move', 'to', 'the', 'hallway', 'Mary', 'go', 'to', 'the', 'garden'], ['Where', 'be', 'Mary'], ['garden']), (['Sandra', 'journey', 'to', 'the', 'office', 'Mary', 'move', 'to', 'the', 'bedroom'], ['Where', 'be', 'Mary'], ['bedroom']), (['Sandra', 'go', 'to', 'the', 'garden', 'Daniel', 'journey', 'to', 'the', 'office'], ['Where', 'be', 'Daniel'], ['office']), (['Sandra', 'travel', 'to', 'the', 'bathroom', 'Sandra', 'travel', 'to', 'the', 'kitchen'], ['Where', 'be', 'Sandra'], ['kitchen']), (['John', 'travel', 'to', 'the', 'bedroom', 'Sandra', 'go', 'to', 'the', 'hallway'], ['Where', 'be', 'Sandra'], ['hallway']), (['John', 'go', 'back', 'to', 'the', 'office', 'Mary', 'travel', 'to', 'the', 'hallway'], ['Where', 'be', 'Mary'], ['hallway']), (['John', 'go', 'to', 'the', 'bedroom', 'Sandra', 'journey', 'to', 'the', 'bathroom'], ['Where', 'be', 'Sandra'], ['bathroom']), (['John', 'journey', 'to', 'the', 'hallway', 'Daniel', 'travel', 'to', 'the', 'office'], ['Where', 'be', 'Daniel'], ['office']), (['Mary', 'move', 'to', 'the', 'garden', 'Mary', 'move', 'to', 'the', 'bedroom'], ['Where', 'be', 'Daniel'], ['office']), (['Mary', 'go', 'back', 'to', 'the', 'hallway', 'John', 'journey', 'to', 'the', 'bathroom'], ['Where', 'be', 'John'], ['bathroom']), (['John', 'move', 'to', 'the', 'kitchen', 'John', 'go', 'to', 'the', 'office'], ['Where', 'be', 'John'], ['office']), (['Daniel', 'move', 'to', 'the', 'garden', 'Sandra', 'go', 'back', 'to', 'the', 'office'], ['Where', 'be', 'John'], ['office']), (['Sandra', 'journey', 'to', 'the', 'bathroom', 'Daniel', 'move', 'to', 'the', 'garden'], ['Where', 'be', 'Daniel'], ['garden']), (['John', 'travel', 'to', 'the', 'garden', 'Daniel', 'go', 'to', 'the', 'office'], ['Where', 'be', 'John'], ['garden']), (['Daniel', 'go', 'back', 'to', 'the', 'hallway', 'Mary', 'go', 'back', 'to', 'the', 'hallway'], ['Where', 'be', 'Daniel'], ['hallway']), (['Mary', 'go', 'back', 'to', 'the', 'kitchen', 'John', 'go', 'to', 'the', 'bedroom'], ['Where', 'be', 'John'], ['bedroom']), (['Mary', 'journey', 'to', 'the', 'garden', 'John', 'travel', 'to', 'the', 'hallway'], ['Where', 'be', 'Mary'], ['garden']), (['Sandra', 'travel', 'to', 'the', 'kitchen', 'John', 'journey', 'to', 'the', 'bedroom'], ['Where', 'be', 'Sandra'], ['kitchen']), (['Sandra', 'journey', 'to', 'the', 'office', 'John', 'journey', 'to', 'the', 'hallway'], ['Where', 'be', 'Sandra'], ['office']), (['Daniel', 'journey', 'to', 'the', 'office', 'Mary', 'move', 'to', 'the', 'office'], ['Where', 'be', 'Sandra'], ['office']), (['Sandra', 'go', 'to', 'the', 'kitchen', 'John', 'go', 'back', 'to', 'the', 'kitchen'], ['Where', 'be', 'Mary'], ['office']), (['Sandra', 'go', 'back', 'to', 'the', 'hallway', 'Mary', 'travel', 'to', 'the', 'bathroom'], ['Where', 'be', 'Sandra'], ['hallway']), (['Sandra', 'travel', 'to', 'the', 'hallway', 'John', 'journey', 'to', 'the', 'bathroom'], ['Where', 'be', 'Sandra'], ['hallway']), (['John', 'go', 'to', 'the', 'garden', 'John', 'go', 'to', 'the', 'kitchen'], ['Where', 'be', 'John'], ['kitchen']), (['Mary', 'journey', 'to', 'the', 'garden', 'John', 'journey', 'to', 'the', 'hallway'], ['Where', 'be', 'John'], ['hallway']), (['Daniel', 'travel', 'to', 'the', 'kitchen', 'Sandra', 'move', 'to', 'the', 'kitchen'], ['Where', 'be', 'John'], ['hallway']), (['Daniel', 'travel', 'to', 'the', 'office', 'Daniel', 'journey', 'to', 'the', 'garden'], ['Where', 'be', 'Daniel'], ['garden']), (['Sandra', 'go', 'to', 'the', 'bedroom', 'John', 'go', 'to', 'the', 'hallway'], ['Where', 'be', 'Sandra'], ['bedroom']), (['John', 'move', 'to', 'the', 'garden', 'Sandra', 'journey', 'to', 'the', 'office'], ['Where', 'be', 'Sandra'], ['office']), (['Mary', 'go', 'to', 'the', 'garden', 'John', 'journey', 'to', 'the', 'bathroom'], ['Where', 'be', 'Sandra'], ['office']), (['Mary', 'travel', 'to', 'the', 'bathroom', 'Mary', 'move', 'to', 'the', 'office'], ['Where', 'be', 'Mary'], ['office']), (['John', 'go', 'to', 'the', 'kitchen', 'Sandra', 'go', 'to', 'the', 'garden'], ['Where', 'be', 'Sandra'], ['garden']), (['Mary', 'move', 'to', 'the', 'bedroom', 'John', 'journey', 'to', 'the', 'hallway'], ['Where', 'be', 'John'], ['hallway']), (['Sandra', 'go', 'to', 'the', 'garden', 'John', 'go', 'back', 'to', 'the', 'bathroom'], ['Where', 'be', 'Sandra'], ['garden']), (['Sandra', 'travel', 'to', 'the', 'office', 'Daniel', 'journey', 'to', 'the', 'bathroom'], ['Where', 'be', 'Sandra'], ['office']), (['Daniel', 'go', 'back', 'to', 'the', 'office', 'Mary', 'travel', 'to', 'the', 'bathroom'], ['Where', 'be', 'Mary'], ['bathroom']), (['Sandra', 'go', 'to', 'the', 'bathroom', 'Mary', 'go', 'to', 'the', 'hallway'], ['Where', 'be', 'Mary'], ['hallway']), (['Daniel', 'go', 'to', 'the', 'kitchen', 'Mary', 'go', 'back', 'to', 'the', 'bedroom'], ['Where', 'be', 'Mary'], ['bedroom']), (['Sandra', 'travel', 'to', 'the', 'kitchen', 'Daniel', 'move', 'to', 'the', 'garden'], ['Where', 'be', 'Sandra'], ['kitchen']), (['Sandra', 'move', 'to', 'the', 'hallway', 'Mary', 'move', 'to', 'the', 'kitchen'], ['Where', 'be', 'Daniel'], ['garden']), (['Mary', 'go', 'back', 'to', 'the', 'hallway', 'Mary', 'move', 'to', 'the', 'office'], ['Where', 'be', 'Mary'], ['office']), (['Daniel', 'go', 'to', 'the', 'bedroom', 'Daniel', 'move', 'to', 'the', 'kitchen'], ['Where', 'be', 'Daniel'], ['kitchen']), (['Mary', 'go', 'back', 'to', 'the', 'kitchen', 'Sandra', 'travel', 'to', 'the', 'bathroom'], ['Where', 'be', 'Mary'], ['kitchen']), (['Mary', 'move', 'to', 'the', 'garden', 'John', 'journey', 'to', 'the', 'office'], ['Where', 'be', 'Mary'], ['garden']), (['Sandra', 'travel', 'to', 'the', 'bedroom', 'Sandra', 'journey', 'to', 'the', 'bathroom'], ['Where', 'be', 'Sandra'], ['bathroom']), (['John', 'move', 'to', 'the', 'garden', 'Daniel', 'go', 'back', 'to', 'the', 'hallway'], ['Where', 'be', 'John'], ['garden']), (['Mary', 'go', 'to', 'the', 'office', 'Daniel', 'go', 'back', 'to', 'the', 'bedroom'], ['Where', 'be', 'Mary'], ['office']), (['John', 'go', 'back', 'to', 'the', 'garden', 'Daniel', 'move', 'to', 'the', 'office'], ['Where', 'be', 'John'], ['garden']), (['Sandra', 'go', 'to', 'the', 'hallway', 'John', 'go', 'back', 'to', 'the', 'bathroom'], ['Where', 'be', 'John'], ['bathroom']), (['Mary', 'move', 'to', 'the', 'kitchen', 'Mary', 'travel', 'to', 'the', 'garden'], ['Where', 'be', 'Mary'], ['garden']), (['Sandra', 'go', 'back', 'to', 'the', 'bathroom', 'John', 'go', 'back', 'to', 'the', 'office'], ['Where', 'be', 'Mary'], ['garden']), (['Daniel', 'go', 'to', 'the', 'bathroom', 'Sandra', 'go', 'to', 'the', 'office'], ['Where', 'be', 'John'], ['office']), (['Daniel', 'travel', 'to', 'the', 'garden', 'Mary', 'go', 'back', 'to', 'the', 'kitchen'], ['Where', 'be', 'Mary'], ['kitchen']), (['Mary', 'go', 'to', 'the', 'office', 'Mary', 'travel', 'to', 'the', 'garden'], ['Where', 'be', 'Daniel'], ['garden']), (['Daniel', 'journey', 'to', 'the', 'hallway', 'John', 'go', 'back', 'to', 'the', 'bedroom'], ['Where', 'be', 'Mary'], ['garden']), (['Daniel', 'move', 'to', 'the', 'bedroom', 'Sandra', 'travel', 'to', 'the', 'kitchen'], ['Where', 'be', 'John'], ['bedroom']), (['John', 'go', 'to', 'the', 'garden', 'John', 'move', 'to', 'the', 'hallway'], ['Where', 'be', 'Daniel'], ['bedroom']), (['John', 'journey', 'to', 'the', 'bedroom', 'Mary', 'go', 'to', 'the', 'office'], ['Where', 'be', 'Mary'], ['office']), (['John', 'move', 'to', 'the', 'office', 'Mary', 'go', 'to', 'the', 'hallway'], ['Where', 'be', 'Mary'], ['hallway']), (['Sandra', 'travel', 'to', 'the', 'office', 'John', 'travel', 'to', 'the', 'bedroom'], ['Where', 'be', 'Sandra'], ['office']), (['Daniel', 'travel', 'to', 'the', 'kitchen', 'Mary', 'go', 'to', 'the', 'kitchen'], ['Where', 'be', 'Daniel'], ['kitchen']), (['John', 'travel', 'to', 'the', 'kitchen', 'Sandra', 'journey', 'to', 'the', 'bedroom'], ['Where', 'be', 'John'], ['kitchen']), (['Daniel', 'move', 'to', 'the', 'kitchen', 'Sandra', 'go', 'to', 'the', 'kitchen'], ['Where', 'be', 'Daniel'], ['kitchen']), (['John', 'go', 'back', 'to', 'the', 'bedroom', 'Daniel', 'go', 'to', 'the', 'bathroom'], ['Where', 'be', 'John'], ['bedroom']), (['Sandra', 'move', 'to', 'the', 'garden', 'Daniel', 'go', 'back', 'to', 'the', 'office'], ['Where', 'be', 'Sandra'], ['garden']), (['Mary', 'go', 'to', 'the', 'kitchen', 'Daniel', 'go', 'to', 'the', 'hallway'], ['Where', 'be', 'Daniel'], ['hallway']), (['Daniel', 'go', 'back', 'to', 'the', 'bathroom', 'Sandra', 'move', 'to', 'the', 'office'], ['Where', 'be', 'Sandra'], ['office']), (['Mary', 'journey', 'to', 'the', 'hallway', 'John', 'go', 'back', 'to', 'the', 'bathroom'], ['Where', 'be', 'Mary'], ['hallway']), (['John', 'go', 'back', 'to', 'the', 'bedroom', 'Daniel', 'travel', 'to', 'the', 'bedroom'], ['Where', 'be', 'John'], ['bedroom']), (['Mary', 'go', 'to', 'the', 'garden', 'Daniel', 'move', 'to', 'the', 'kitchen'], ['Where', 'be', 'Daniel'], ['kitchen']), (['Daniel', 'go', 'to', 'the', 'hallway', 'Mary', 'journey', 'to', 'the', 'kitchen'], ['Where', 'be', 'Mary'], ['kitchen']), (['Daniel', 'travel', 'to', 'the', 'kitchen', 'Mary', 'go', 'back', 'to', 'the', 'hallway'], ['Where', 'be', 'Mary'], ['hallway']), (['John', 'go', 'back', 'to', 'the', 'garden', 'John', 'travel', 'to', 'the', 'hallway'], ['Where', 'be', 'John'], ['hallway']), (['John', 'journey', 'to', 'the', 'office', 'John', 'journey', 'to', 'the', 'kitchen'], ['Where', 'be', 'John'], ['kitchen']), (['Sandra', 'journey', 'to', 'the', 'hallway', 'Sandra', 'go', 'to', 'the', 'bedroom'], ['Where', 'be', 'John'], ['kitchen']), (['Sandra', 'journey', 'to', 'the', 'hallway', 'Daniel', 'go', 'back', 'to', 'the', 'kitchen'], ['Where', 'be', 'John'], ['kitchen']), (['Daniel', 'move', 'to', 'the', 'bathroom', 'Mary', 'go', 'back', 'to', 'the', 'bathroom'], ['Where', 'be', 'Sandra'], ['hallway']), (['John', 'travel', 'to', 'the', 'bathroom', 'Daniel', 'go', 'to', 'the', 'hallway'], ['Where', 'be', 'John'], ['bathroom']), (['John', 'move', 'to', 'the', 'kitchen', 'Mary', 'journey', 'to', 'the', 'kitchen'], ['Where', 'be', 'John'], ['kitchen']), (['Daniel', 'travel', 'to', 'the', 'bathroom', 'John', 'travel', 'to', 'the', 'bathroom'], ['Where', 'be', 'John'], ['bathroom']), (['Daniel', 'go', 'to', 'the', 'garden', 'Sandra', 'travel', 'to', 'the', 'hallway'], ['Where', 'be', 'Sandra'], ['hallway']), (['Mary', 'travel', 'to', 'the', 'hallway', 'John', 'journey', 'to', 'the', 'bedroom'], ['Where', 'be', 'Mary'], ['hallway']), (['John', 'go', 'to', 'the', 'bedroom', 'Daniel', 'go', 'to', 'the', 'bedroom'], ['Where', 'be', 'Daniel'], ['bedroom']), (['John', 'travel', 'to', 'the', 'office', 'John', 'go', 'back', 'to', 'the', 'bedroom'], ['Where', 'be', 'John'], ['bedroom']), (['Mary', 'go', 'to', 'the', 'bedroom', 'John', 'go', 'to', 'the', 'garden'], ['Where', 'be', 'Daniel'], ['bedroom']), (['Daniel', 'go', 'back', 'to', 'the', 'garden', 'Daniel', 'go', 'to', 'the', 'office'], ['Where', 'be', 'Daniel'], ['office']), (['John', 'move', 'to', 'the', 'hallway', 'John', 'move', 'to', 'the', 'office'], ['Where', 'be', 'John'], ['office']), (['Daniel', 'move', 'to', 'the', 'garden', 'Sandra', 'move', 'to', 'the', 'hallway'], ['Where', 'be', 'Sandra'], ['hallway']), (['John', 'go', 'to', 'the', 'hallway', 'John', 'go', 'to', 'the', 'office'], ['Where', 'be', 'Daniel'], ['garden']), (['John', 'go', 'to', 'the', 'kitchen', 'John', 'go', 'back', 'to', 'the', 'hallway'], ['Where', 'be', 'John'], ['hallway']), (['Sandra', 'journey', 'to', 'the', 'office', 'Mary', 'journey', 'to', 'the', 'bedroom'], ['Where', 'be', 'Mary'], ['bedroom']), (['Sandra', 'travel', 'to', 'the', 'hallway', 'Mary', 'go', 'back', 'to', 'the', 'bathroom'], ['Where', 'be', 'Mary'], ['bathroom']), (['Mary', 'journey', 'to', 'the', 'bedroom', 'Sandra', 'move', 'to', 'the', 'kitchen'], ['Where', 'be', 'Mary'], ['bedroom']), (['Mary', 'journey', 'to', 'the', 'garden', 'Sandra', 'move', 'to', 'the', 'garden'], ['Where', 'be', 'Sandra'], ['garden']), (['John', 'move', 'to', 'the', 'office', 'Sandra', 'move', 'to', 'the', 'bedroom'], ['Where', 'be', 'John'], ['office']), (['Daniel', 'move', 'to', 'the', 'bedroom', 'Sandra', 'move', 'to', 'the', 'bathroom'], ['Where', 'be', 'Sandra'], ['bathroom']), (['Daniel', 'travel', 'to', 'the', 'office', 'John', 'go', 'to', 'the', 'garden'], ['Where', 'be', 'Sandra'], ['bathroom']), (['John', 'move', 'to', 'the', 'hallway', 'Sandra', 'go', 'to', 'the', 'hallway'], ['Where', 'be', 'Sandra'], ['hallway']), (['John', 'go', 'back', 'to', 'the', 'garden', 'Daniel', 'journey', 'to', 'the', 'office'], ['Where', 'be', 'John'], ['garden']), (['Daniel', 'move', 'to', 'the', 'bedroom', 'Mary', 'journey', 'to', 'the', 'bathroom'], ['Where', 'be', 'Mary'], ['bathroom']), (['John', 'go', 'back', 'to', 'the', 'kitchen', 'Daniel', 'go', 'back', 'to', 'the', 'office'], ['Where', 'be', 'Daniel'], ['office']), (['Sandra', 'move', 'to', 'the', 'kitchen', 'Daniel', 'go', 'to', 'the', 'kitchen'], ['Where', 'be', 'Daniel'], ['kitchen']), (['Mary', 'travel', 'to', 'the', 'bedroom', 'Daniel', 'move', 'to', 'the', 'hallway'], ['Where', 'be', 'Mary'], ['bedroom']), (['Daniel', 'journey', 'to', 'the', 'garden', 'Daniel', 'journey', 'to', 'the', 'hallway'], ['Where', 'be', 'Daniel'], ['hallway']), (['Sandra', 'journey', 'to', 'the', 'hallway', 'John', 'go', 'to', 'the', 'garden'], ['Where', 'be', 'Daniel'], ['hallway']), (['John', 'move', 'to', 'the', 'hallway', 'Daniel', 'journey', 'to', 'the', 'bathroom'], ['Where', 'be', 'Daniel'], ['bathroom']), (['Daniel', 'move', 'to', 'the', 'hallway', 'John', 'travel', 'to', 'the', 'kitchen'], ['Where', 'be', 'John'], ['kitchen']), (['Sandra', 'go', 'to', 'the', 'bathroom', 'Daniel', 'go', 'to', 'the', 'bedroom'], ['Where', 'be', 'Sandra'], ['bathroom']), (['Mary', 'go', 'to', 'the', 'garden', 'Sandra', 'move', 'to', 'the', 'hallway'], ['Where', 'be', 'Sandra'], ['hallway']), (['Daniel', 'journey', 'to', 'the', 'bathroom', 'Mary', 'journey', 'to', 'the', 'kitchen'], ['Where', 'be', 'Sandra'], ['hallway']), (['Sandra', 'go', 'to', 'the', 'bathroom', 'John', 'go', 'to', 'the', 'kitchen'], ['Where', 'be', 'Sandra'], ['bathroom']), (['Sandra', 'go', 'back', 'to', 'the', 'kitchen', 'Sandra', 'go', 'to', 'the', 'office'], ['Where', 'be', 'Sandra'], ['office']), (['Mary', 'go', 'to', 'the', 'hallway', 'Daniel', 'travel', 'to', 'the', 'bathroom'], ['Where', 'be', 'Mary'], ['hallway']), (['Mary', 'journey', 'to', 'the', 'bathroom', 'Daniel', 'journey', 'to', 'the', 'hallway'], ['Where', 'be', 'Daniel'], ['hallway']), (['Daniel', 'go', 'back', 'to', 'the', 'garden', 'Daniel', 'travel', 'to', 'the', 'office'], ['Where', 'be', 'Daniel'], ['office']), (['Mary', 'go', 'to', 'the', 'office', 'Mary', 'go', 'back', 'to', 'the', 'bathroom'], ['Where', 'be', 'Mary'], ['bathroom']), (['Mary', 'go', 'to', 'the', 'hallway', 'Daniel', 'go', 'to', 'the', 'bedroom'], ['Where', 'be', 'Mary'], ['hallway']), (['John', 'travel', 'to', 'the', 'kitchen', 'Daniel', 'go', 'to', 'the', 'kitchen'], ['Where', 'be', 'Daniel'], ['kitchen']), (['John', 'go', 'back', 'to', 'the', 'hallway', 'John', 'move', 'to', 'the', 'office'], ['Where', 'be', 'John'], ['office']), (['Mary', 'move', 'to', 'the', 'bedroom', 'John', 'travel', 'to', 'the', 'bedroom'], ['Where', 'be', 'Mary'], ['bedroom']), (['John', 'go', 'back', 'to', 'the', 'bathroom', 'Sandra', 'move', 'to', 'the', 'kitchen'], ['Where', 'be', 'Mary'], ['bedroom']), (['John', 'journey', 'to', 'the', 'garden', 'Sandra', 'go', 'to', 'the', 'office'], ['Where', 'be', 'John'], ['garden']), (['Mary', 'travel', 'to', 'the', 'garden', 'Daniel', 'go', 'to', 'the', 'office'], ['Where', 'be', 'Daniel'], ['office']), (['Daniel', 'travel', 'to', 'the', 'kitchen', 'Sandra', 'journey', 'to', 'the', 'kitchen'], ['Where', 'be', 'Daniel'], ['kitchen']), (['Mary', 'go', 'back', 'to', 'the', 'hallway', 'Daniel', 'go', 'to', 'the', 'bedroom'], ['Where', 'be', 'Daniel'], ['bedroom']), (['Mary', 'move', 'to', 'the', 'bathroom', 'Sandra', 'journey', 'to', 'the', 'bathroom'], ['Where', 'be', 'Mary'], ['bathroom']), (['John', 'journey', 'to', 'the', 'garden', 'Sandra', 'go', 'to', 'the', 'garden'], ['Where', 'be', 'Sandra'], ['garden']), (['Mary', 'go', 'back', 'to', 'the', 'hallway', 'John', 'go', 'to', 'the', 'garden'], ['Where', 'be', 'Mary'], ['hallway']), (['Sandra', 'travel', 'to', 'the', 'bedroom', 'Mary', 'travel', 'to', 'the', 'bedroom'], ['Where', 'be', 'Mary'], ['bedroom']), (['Sandra', 'move', 'to', 'the', 'kitchen', 'Daniel', 'go', 'back', 'to', 'the', 'bedroom'], ['Where', 'be', 'Daniel'], ['bedroom']), (['Mary', 'go', 'back', 'to', 'the', 'garden', 'Daniel', 'go', 'to', 'the', 'office'], ['Where', 'be', 'Mary'], ['garden']), (['Daniel', 'move', 'to', 'the', 'garden', 'Sandra', 'travel', 'to', 'the', 'hallway'], ['Where', 'be', 'Daniel'], ['garden']), (['Sandra', 'go', 'back', 'to', 'the', 'office', 'Daniel', 'move', 'to', 'the', 'hallway'], ['Where', 'be', 'Sandra'], ['office']), (['Daniel', 'travel', 'to', 'the', 'garden', 'Mary', 'move', 'to', 'the', 'bathroom'], ['Where', 'be', 'Daniel'], ['garden']), (['Sandra', 'go', 'back', 'to', 'the', 'kitchen', 'Sandra', 'move', 'to', 'the', 'garden'], ['Where', 'be', 'Sandra'], ['garden']), (['Sandra', 'go', 'to', 'the', 'kitchen', 'Daniel', 'go', 'to', 'the', 'bathroom'], ['Where', 'be', 'Sandra'], ['kitchen']), (['John', 'journey', 'to', 'the', 'bathroom', 'John', 'go', 'back', 'to', 'the', 'garden'], ['Where', 'be', 'John'], ['garden']), (['Sandra', 'go', 'back', 'to', 'the', 'bedroom', 'Mary', 'go', 'back', 'to', 'the', 'hallway'], ['Where', 'be', 'Mary'], ['hallway']), (['Mary', 'move', 'to', 'the', 'bathroom', 'Mary', 'go', 'to', 'the', 'hallway'], ['Where', 'be', 'Mary'], ['hallway']), (['Daniel', 'travel', 'to', 'the', 'bathroom', 'Sandra', 'go', 'back', 'to', 'the', 'office'], ['Where', 'be', 'Daniel'], ['bathroom']), (['Mary', 'move', 'to', 'the', 'kitchen', 'John', 'journey', 'to', 'the', 'bathroom'], ['Where', 'be', 'Sandra'], ['office']), (['Mary', 'move', 'to', 'the', 'bathroom', 'Sandra', 'go', 'back', 'to', 'the', 'kitchen'], ['Where', 'be', 'Mary'], ['bathroom']), (['John', 'go', 'to', 'the', 'kitchen', 'John', 'go', 'to', 'the', 'hallway'], ['Where', 'be', 'John'], ['hallway']), (['Sandra', 'move', 'to', 'the', 'garden', 'Sandra', 'go', 'back', 'to', 'the', 'kitchen'], ['Where', 'be', 'Sandra'], ['kitchen']), (['John', 'move', 'to', 'the', 'bedroom', 'Sandra', 'go', 'back', 'to', 'the', 'bathroom'], ['Where', 'be', 'Sandra'], ['bathroom']), (['Sandra', 'go', 'to', 'the', 'hallway', 'Daniel', 'journey', 'to', 'the', 'office'], ['Where', 'be', 'Sandra'], ['hallway']), (['Daniel', 'travel', 'to', 'the', 'bedroom', 'Daniel', 'travel', 'to', 'the', 'garden'], ['Where', 'be', 'Daniel'], ['garden']), (['Sandra', 'journey', 'to', 'the', 'bathroom', 'Daniel', 'move', 'to', 'the', 'garden'], ['Where', 'be', 'Daniel'], ['garden']), (['Mary', 'go', 'back', 'to', 'the', 'garden', 'Daniel', 'go', 'back', 'to', 'the', 'kitchen'], ['Where', 'be', 'Daniel'], ['kitchen']), (['Mary', 'go', 'back', 'to', 'the', 'bedroom', 'Mary', 'go', 'back', 'to', 'the', 'bathroom'], ['Where', 'be', 'Daniel'], ['kitchen']), (['John', 'journey', 'to', 'the', 'hallway', 'John', 'go', 'back', 'to', 'the', 'bedroom'], ['Where', 'be', 'John'], ['bedroom']), (['Daniel', 'journey', 'to', 'the', 'bathroom', 'John', 'go', 'back', 'to', 'the', 'office'], ['Where', 'be', 'John'], ['office']), (['John', 'go', 'to', 'the', 'kitchen', 'John', 'journey', 'to', 'the', 'office'], ['Where', 'be', 'John'], ['office']), (['Daniel', 'travel', 'to', 'the', 'bedroom', 'John', 'journey', 'to', 'the', 'kitchen'], ['Where', 'be', 'John'], ['kitchen']), (['John', 'journey', 'to', 'the', 'office', 'Mary', 'go', 'back', 'to', 'the', 'bathroom'], ['Where', 'be', 'Mary'], ['bathroom']), (['John', 'journey', 'to', 'the', 'garden', 'Sandra', 'go', 'to', 'the', 'bathroom'], ['Where', 'be', 'John'], ['garden']), (['Sandra', 'journey', 'to', 'the', 'office', 'John', 'go', 'back', 'to', 'the', 'bathroom'], ['Where', 'be', 'Sandra'], ['office']), (['Mary', 'journey', 'to', 'the', 'bedroom', 'Mary', 'journey', 'to', 'the', 'garden'], ['Where', 'be', 'Mary'], ['garden']), (['Daniel', 'go', 'back', 'to', 'the', 'garden', 'Mary', 'go', 'back', 'to', 'the', 'hallway'], ['Where', 'be', 'Daniel'], ['garden']), (['Daniel', 'go', 'to', 'the', 'hallway', 'John', 'travel', 'to', 'the', 'bedroom'], ['Where', 'be', 'Mary'], ['hallway']), (['Mary', 'go', 'to', 'the', 'garden', 'Mary', 'go', 'to', 'the', 'kitchen'], ['Where', 'be', 'Mary'], ['kitchen']), (['John', 'move', 'to', 'the', 'kitchen', 'John', 'go', 'back', 'to', 'the', 'garden'], ['Where', 'be', 'John'], ['garden']), (['John', 'journey', 'to', 'the', 'bedroom', 'Mary', 'move', 'to', 'the', 'garden'], ['Where', 'be', 'John'], ['bedroom']), (['Mary', 'journey', 'to', 'the', 'bathroom', 'Mary', 'travel', 'to', 'the', 'garden'], ['Where', 'be', 'John'], ['bedroom']), (['Mary', 'go', 'back', 'to', 'the', 'bedroom', 'Sandra', 'go', 'back', 'to', 'the', 'office'], ['Where', 'be', 'Mary'], ['bedroom']), (['Sandra', 'travel', 'to', 'the', 'bathroom', 'Sandra', 'travel', 'to', 'the', 'kitchen'], ['Where', 'be', 'Sandra'], ['kitchen']), (['Sandra', 'move', 'to', 'the', 'hallway', 'Mary', 'go', 'to', 'the', 'bathroom'], ['Where', 'be', 'Sandra'], ['hallway']), (['Mary', 'travel', 'to', 'the', 'kitchen', 'Sandra', 'move', 'to', 'the', 'office'], ['Where', 'be', 'Sandra'], ['office']), (['Mary', 'go', 'back', 'to', 'the', 'bedroom', 'Mary', 'journey', 'to', 'the', 'kitchen'], ['Where', 'be', 'Mary'], ['kitchen']), (['John', 'travel', 'to', 'the', 'bedroom', 'Daniel', 'go', 'to', 'the', 'bedroom'], ['Where', 'be', 'Mary'], ['kitchen']), (['Sandra', 'journey', 'to', 'the', 'garden', 'Sandra', 'travel', 'to', 'the', 'office'], ['Where', 'be', 'Sandra'], ['office']), (['Mary', 'travel', 'to', 'the', 'office', 'Mary', 'journey', 'to', 'the', 'kitchen'], ['Where', 'be', 'Sandra'], ['office']), (['Daniel', 'journey', 'to', 'the', 'kitchen', 'John', 'journey', 'to', 'the', 'office'], ['Where', 'be', 'John'], ['office']), (['Daniel', 'travel', 'to', 'the', 'bedroom', 'Sandra', 'journey', 'to', 'the', 'bathroom'], ['Where', 'be', 'Daniel'], ['bedroom']), (['Mary', 'travel', 'to', 'the', 'bedroom', 'John', 'travel', 'to', 'the', 'kitchen'], ['Where', 'be', 'John'], ['kitchen']), (['Mary', 'go', 'back', 'to', 'the', 'garden', 'Sandra', 'go', 'back', 'to', 'the', 'bedroom'], ['Where', 'be', 'Sandra'], ['bedroom']), (['Sandra', 'journey', 'to', 'the', 'bathroom', 'Daniel', 'move', 'to', 'the', 'bathroom'], ['Where', 'be', 'Sandra'], ['bathroom']), (['Sandra', 'journey', 'to', 'the', 'hallway', 'Mary', 'move', 'to', 'the', 'bedroom'], ['Where', 'be', 'Mary'], ['bedroom']), (['Mary', 'go', 'back', 'to', 'the', 'office', 'Sandra', 'move', 'to', 'the', 'bedroom'], ['Where', 'be', 'Mary'], ['office']), (['Sandra', 'move', 'to', 'the', 'kitchen', 'Daniel', 'move', 'to', 'the', 'bedroom'], ['Where', 'be', 'Daniel'], ['bedroom']), (['Sandra', 'go', 'to', 'the', 'hallway', 'Mary', 'journey', 'to', 'the', 'bathroom'], ['Where', 'be', 'Sandra'], ['hallway']), (['John', 'go', 'back', 'to', 'the', 'bathroom', 'John', 'travel', 'to', 'the', 'hallway'], ['Where', 'be', 'Daniel'], ['bedroom']), (['Sandra', 'move', 'to', 'the', 'office', 'John', 'go', 'to', 'the', 'kitchen'], ['Where', 'be', 'John'], ['kitchen']), (['John', 'travel', 'to', 'the', 'garden', 'Mary', 'move', 'to', 'the', 'office'], ['Where', 'be', 'Mary'], ['office']), (['John', 'go', 'to', 'the', 'bedroom', 'John', 'go', 'back', 'to', 'the', 'kitchen'], ['Where', 'be', 'John'], ['kitchen']), (['Daniel', 'go', 'to', 'the', 'garden', 'John', 'go', 'to', 'the', 'office'], ['Where', 'be', 'Daniel'], ['garden']), (['Mary', 'go', 'back', 'to', 'the', 'bathroom', 'Sandra', 'journey', 'to', 'the', 'garden'], ['Where', 'be', 'Daniel'], ['garden']), (['Mary', 'go', 'back', 'to', 'the', 'bedroom', 'Daniel', 'travel', 'to', 'the', 'office'], ['Where', 'be', 'Mary'], ['bedroom']), (['Daniel', 'go', 'back', 'to', 'the', 'garden', 'John', 'journey', 'to', 'the', 'office'], ['Where', 'be', 'John'], ['office']), (['Daniel', 'move', 'to', 'the', 'kitchen', 'Mary', 'journey', 'to', 'the', 'garden'], ['Where', 'be', 'Daniel'], ['kitchen']), (['Sandra', 'go', 'back', 'to', 'the', 'bedroom', 'John', 'go', 'to', 'the', 'garden'], ['Where', 'be', 'John'], ['garden']), (['John', 'journey', 'to', 'the', 'bathroom', 'Sandra', 'journey', 'to', 'the', 'office'], ['Where', 'be', 'Mary'], ['garden']), (['John', 'move', 'to', 'the', 'garden', 'Daniel', 'go', 'back', 'to', 'the', 'office'], ['Where', 'be', 'John'], ['garden']), (['Sandra', 'travel', 'to', 'the', 'office', 'Mary', 'go', 'back', 'to', 'the', 'garden'], ['Where', 'be', 'John'], ['garden']), (['Daniel', 'go', 'back', 'to', 'the', 'hallway', 'Sandra', 'travel', 'to', 'the', 'kitchen'], ['Where', 'be', 'Mary'], ['garden']), (['Sandra', 'journey', 'to', 'the', 'bathroom', 'Sandra', 'go', 'to', 'the', 'kitchen'], ['Where', 'be', 'Sandra'], ['kitchen']), (['Sandra', 'go', 'to', 'the', 'bathroom', 'Mary', 'move', 'to', 'the', 'bathroom'], ['Where', 'be', 'Sandra'], ['bathroom']), (['Sandra', 'go', 'to', 'the', 'bathroom', 'John', 'journey', 'to', 'the', 'hallway'], ['Where', 'be', 'John'], ['hallway']), (['Daniel', 'go', 'to', 'the', 'office', 'John', 'go', 'to', 'the', 'kitchen'], ['Where', 'be', 'John'], ['kitchen']), (['Daniel', 'travel', 'to', 'the', 'kitchen', 'Mary', 'journey', 'to', 'the', 'bedroom'], ['Where', 'be', 'Daniel'], ['kitchen']), (['Daniel', 'go', 'back', 'to', 'the', 'office', 'Mary', 'travel', 'to', 'the', 'garden'], ['Where', 'be', 'John'], ['kitchen']), (['John', 'journey', 'to', 'the', 'hallway', 'John', 'travel', 'to', 'the', 'office'], ['Where', 'be', 'Mary'], ['garden']), (['Sandra', 'go', 'to', 'the', 'kitchen', 'John', 'journey', 'to', 'the', 'kitchen'], ['Where', 'be', 'Sandra'], ['kitchen']), (['Sandra', 'go', 'back', 'to', 'the', 'garden', 'Mary', 'travel', 'to', 'the', 'hallway'], ['Where', 'be', 'John'], ['kitchen']), (['Sandra', 'go', 'back', 'to', 'the', 'bathroom', 'Daniel', 'journey', 'to', 'the', 'garden'], ['Where', 'be', 'Daniel'], ['garden']), (['John', 'move', 'to', 'the', 'hallway', 'Mary', 'move', 'to', 'the', 'bathroom'], ['Where', 'be', 'Sandra'], ['bathroom']), (['John', 'go', 'back', 'to', 'the', 'office', 'Mary', 'go', 'to', 'the', 'kitchen'], ['Where', 'be', 'Mary'], ['kitchen']), (['Sandra', 'move', 'to', 'the', 'bedroom', 'John', 'travel', 'to', 'the', 'office'], ['Where', 'be', 'John'], ['office']), (['Daniel', 'travel', 'to', 'the', 'hallway', 'Mary', 'go', 'to', 'the', 'hallway'], ['Where', 'be', 'Daniel'], ['hallway']), (['Mary', 'travel', 'to', 'the', 'office', 'Sandra', 'move', 'to', 'the', 'kitchen'], ['Where', 'be', 'Mary'], ['office']), (['John', 'go', 'back', 'to', 'the', 'hallway', 'Daniel', 'move', 'to', 'the', 'garden'], ['Where', 'be', 'Sandra'], ['kitchen']), (['Daniel', 'move', 'to', 'the', 'office', 'Daniel', 'travel', 'to', 'the', 'bedroom'], ['Where', 'be', 'Daniel'], ['bedroom']), (['Mary', 'go', 'to', 'the', 'kitchen', 'John', 'travel', 'to', 'the', 'hallway'], ['Where', 'be', 'John'], ['hallway']), (['Sandra', 'go', 'back', 'to', 'the', 'bedroom', 'John', 'travel', 'to', 'the', 'kitchen'], ['Where', 'be', 'Mary'], ['kitchen']), (['Mary', 'go', 'back', 'to', 'the', 'garden', 'Mary', 'travel', 'to', 'the', 'office'], ['Where', 'be', 'John'], ['kitchen']), (['John', 'journey', 'to', 'the', 'office', 'Sandra', 'go', 'to', 'the', 'office'], ['Where', 'be', 'Mary'], ['office']), (['Sandra', 'journey', 'to', 'the', 'kitchen', 'John', 'travel', 'to', 'the', 'hallway'], ['Where', 'be', 'Mary'], ['office']), (['Daniel', 'go', 'back', 'to', 'the', 'office', 'Sandra', 'go', 'to', 'the', 'garden'], ['Where', 'be', 'Daniel'], ['office']), (['John', 'journey', 'to', 'the', 'bedroom', 'Mary', 'go', 'back', 'to', 'the', 'bathroom'], ['Where', 'be', 'Daniel'], ['office']), (['Daniel', 'go', 'back', 'to', 'the', 'kitchen', 'Mary', 'travel', 'to', 'the', 'bedroom'], ['Where', 'be', 'Mary'], ['bedroom']), (['John', 'go', 'back', 'to', 'the', 'office', 'Sandra', 'go', 'to', 'the', 'bedroom'], ['Where', 'be', 'Daniel'], ['kitchen']), (['Daniel', 'go', 'to', 'the', 'bedroom', 'John', 'go', 'back', 'to', 'the', 'garden'], ['Where', 'be', 'John'], ['garden']), (['Sandra', 'travel', 'to', 'the', 'hallway', 'Sandra', 'go', 'to', 'the', 'bedroom'], ['Where', 'be', 'Sandra'], ['bedroom']), (['Daniel', 'move', 'to', 'the', 'office', 'Mary', 'go', 'to', 'the', 'hallway'], ['Where', 'be', 'Sandra'], ['bedroom']), (['Mary', 'journey', 'to', 'the', 'kitchen', 'John', 'go', 'back', 'to', 'the', 'bedroom'], ['Where', 'be', 'Daniel'], ['office']), (['Daniel', 'travel', 'to', 'the', 'kitchen', 'Sandra', 'travel', 'to', 'the', 'kitchen'], ['Where', 'be', 'John'], ['bedroom']), (['Sandra', 'travel', 'to', 'the', 'hallway', 'Daniel', 'go', 'to', 'the', 'garden'], ['Where', 'be', 'Daniel'], ['garden']), (['Mary', 'move', 'to', 'the', 'bathroom', 'John', 'go', 'to', 'the', 'hallway'], ['Where', 'be', 'Mary'], ['bathroom']), (['Daniel', 'go', 'back', 'to', 'the', 'hallway', 'Sandra', 'move', 'to', 'the', 'garden'], ['Where', 'be', 'Daniel'], ['hallway']), (['John', 'move', 'to', 'the', 'office', 'Sandra', 'journey', 'to', 'the', 'bathroom'], ['Where', 'be', 'Daniel'], ['hallway']), (['Mary', 'move', 'to', 'the', 'hallway', 'Daniel', 'travel', 'to', 'the', 'office'], ['Where', 'be', 'Daniel'], ['office']), (['John', 'go', 'back', 'to', 'the', 'garden', 'John', 'move', 'to', 'the', 'bedroom'], ['Where', 'be', 'Sandra'], ['bathroom']), (['Sandra', 'travel', 'to', 'the', 'office', 'Sandra', 'go', 'to', 'the', 'bathroom'], ['Where', 'be', 'Sandra'], ['bathroom']), (['Mary', 'go', 'to', 'the', 'bedroom', 'Daniel', 'move', 'to', 'the', 'hallway'], ['Where', 'be', 'Sandra'], ['bathroom']), (['John', 'go', 'to', 'the', 'garden', 'John', 'travel', 'to', 'the', 'office'], ['Where', 'be', 'Sandra'], ['bathroom']), (['Daniel', 'journey', 'to', 'the', 'bedroom', 'Daniel', 'travel', 'to', 'the', 'hallway'], ['Where', 'be', 'John'], ['office']), (['John', 'go', 'to', 'the', 'bedroom', 'John', 'travel', 'to', 'the', 'office'], ['Where', 'be', 'Daniel'], ['hallway']), (['Mary', 'go', 'to', 'the', 'bedroom', 'John', 'journey', 'to', 'the', 'bathroom'], ['Where', 'be', 'John'], ['bathroom']), (['Sandra', 'journey', 'to', 'the', 'hallway', 'John', 'journey', 'to', 'the', 'garden'], ['Where', 'be', 'Mary'], ['bedroom']), (['John', 'journey', 'to', 'the', 'bathroom', 'Sandra', 'journey', 'to', 'the', 'garden'], ['Where', 'be', 'John'], ['bathroom']), (['Sandra', 'go', 'back', 'to', 'the', 'bedroom', 'Daniel', 'travel', 'to', 'the', 'bathroom'], ['Where', 'be', 'John'], ['bathroom']), (['John', 'go', 'to', 'the', 'office', 'Mary', 'move', 'to', 'the', 'office'], ['Where', 'be', 'Sandra'], ['bedroom']), (['Daniel', 'journey', 'to', 'the', 'kitchen', 'Daniel', 'journey', 'to', 'the', 'bedroom'], ['Where', 'be', 'Daniel'], ['bedroom']), (['Sandra', 'move', 'to', 'the', 'garden', 'Sandra', 'go', 'back', 'to', 'the', 'kitchen'], ['Where', 'be', 'Sandra'], ['kitchen']), (['Daniel', 'travel', 'to', 'the', 'office', 'Sandra', 'go', 'back', 'to', 'the', 'hallway'], ['Where', 'be', 'Sandra'], ['hallway']), (['Daniel', 'journey', 'to', 'the', 'hallway', 'Daniel', 'go', 'to', 'the', 'bathroom'], ['Where', 'be', 'Sandra'], ['hallway']), (['John', 'travel', 'to', 'the', 'garden', 'Daniel', 'move', 'to', 'the', 'hallway'], ['Where', 'be', 'Daniel'], ['hallway']), (['Mary', 'move', 'to', 'the', 'garden', 'John', 'journey', 'to', 'the', 'bathroom'], ['Where', 'be', 'John'], ['bathroom']), (['Sandra', 'move', 'to', 'the', 'office', 'John', 'move', 'to', 'the', 'kitchen'], ['Where', 'be', 'Mary'], ['garden']), (['Sandra', 'go', 'to', 'the', 'hallway', 'Mary', 'travel', 'to', 'the', 'bedroom'], ['Where', 'be', 'John'], ['kitchen']), (['Mary', 'move', 'to', 'the', 'office', 'John', 'move', 'to', 'the', 'garden'], ['Where', 'be', 'Sandra'], ['hallway']), (['John', 'journey', 'to', 'the', 'office', 'Sandra', 'go', 'to', 'the', 'office'], ['Where', 'be', 'John'], ['office']), (['Mary', 'move', 'to', 'the', 'garden', 'Daniel', 'journey', 'to', 'the', 'bathroom'], ['Where', 'be', 'Daniel'], ['bathroom']), (['John', 'travel', 'to', 'the', 'kitchen', 'John', 'go', 'back', 'to', 'the', 'bedroom'], ['Where', 'be', 'John'], ['bedroom']), (['John', 'move', 'to', 'the', 'office', 'Daniel', 'go', 'back', 'to', 'the', 'garden'], ['Where', 'be', 'Daniel'], ['garden']), (['John', 'go', 'back', 'to', 'the', 'hallway', 'Mary', 'go', 'to', 'the', 'office'], ['Where', 'be', 'John'], ['hallway']), (['Sandra', 'travel', 'to', 'the', 'bedroom', 'John', 'travel', 'to', 'the', 'garden'], ['Where', 'be', 'Daniel'], ['garden']), (['John', 'move', 'to', 'the', 'bedroom', 'Mary', 'move', 'to', 'the', 'hallway'], ['Where', 'be', 'Mary'], ['hallway']), (['Sandra', 'move', 'to', 'the', 'bedroom', 'Sandra', 'travel', 'to', 'the', 'kitchen'], ['Where', 'be', 'Sandra'], ['kitchen']), (['Daniel', 'journey', 'to', 'the', 'bathroom', 'Sandra', 'move', 'to', 'the', 'bathroom'], ['Where', 'be', 'Daniel'], ['bathroom']), (['Daniel', 'go', 'back', 'to', 'the', 'garden', 'John', 'move', 'to', 'the', 'kitchen'], ['Where', 'be', 'John'], ['kitchen']), (['Daniel', 'journey', 'to', 'the', 'kitchen', 'Daniel', 'journey', 'to', 'the', 'garden'], ['Where', 'be', 'Daniel'], ['garden']), (['Mary', 'go', 'to', 'the', 'kitchen', 'John', 'go', 'back', 'to', 'the', 'bedroom'], ['Where', 'be', 'Mary'], ['kitchen']), (['Mary', 'go', 'back', 'to', 'the', 'bathroom', 'Mary', 'move', 'to', 'the', 'hallway'], ['Where', 'be', 'John'], ['bedroom']), (['John', 'go', 'to', 'the', 'kitchen', 'Daniel', 'travel', 'to', 'the', 'bedroom'], ['Where', 'be', 'Daniel'], ['bedroom']), (['Mary', 'travel', 'to', 'the', 'office', 'Sandra', 'move', 'to', 'the', 'bedroom'], ['Where', 'be', 'John'], ['kitchen']), (['John', 'move', 'to', 'the', 'bedroom', 'Sandra', 'journey', 'to', 'the', 'kitchen'], ['Where', 'be', 'Sandra'], ['kitchen']), (['Daniel', 'move', 'to', 'the', 'hallway', 'Daniel', 'travel', 'to', 'the', 'office'], ['Where', 'be', 'Daniel'], ['office']), (['Daniel', 'go', 'to', 'the', 'bedroom', 'Daniel', 'journey', 'to', 'the', 'office'], ['Where', 'be', 'Daniel'], ['office']), (['Sandra', 'go', 'back', 'to', 'the', 'bathroom', 'Sandra', 'journey', 'to', 'the', 'kitchen'], ['Where', 'be', 'Daniel'], ['office']), (['Daniel', 'move', 'to', 'the', 'bedroom', 'Daniel', 'journey', 'to', 'the', 'hallway'], ['Where', 'be', 'Sandra'], ['kitchen']), (['Sandra', 'travel', 'to', 'the', 'garden', 'Sandra', 'go', 'back', 'to', 'the', 'bathroom'], ['Where', 'be', 'Daniel'], ['hallway']), (['Sandra', 'go', 'to', 'the', 'garden', 'Sandra', 'journey', 'to', 'the', 'bedroom'], ['Where', 'be', 'Sandra'], ['bedroom']), (['Mary', 'travel', 'to', 'the', 'bathroom', 'John', 'journey', 'to', 'the', 'bedroom'], ['Where', 'be', 'Sandra'], ['bedroom']), (['Mary', 'go', 'back', 'to', 'the', 'kitchen', 'John', 'go', 'to', 'the', 'kitchen'], ['Where', 'be', 'John'], ['kitchen']), (['Daniel', 'travel', 'to', 'the', 'kitchen', 'Sandra', 'travel', 'to', 'the', 'bathroom'], ['Where', 'be', 'Sandra'], ['bathroom']), (['Sandra', 'go', 'back', 'to', 'the', 'garden', 'John', 'go', 'back', 'to', 'the', 'garden'], ['Where', 'be', 'Daniel'], ['kitchen']), (['Sandra', 'go', 'back', 'to', 'the', 'bathroom', 'Mary', 'move', 'to', 'the', 'garden'], ['Where', 'be', 'Mary'], ['garden']), (['Mary', 'go', 'back', 'to', 'the', 'hallway', 'Sandra', 'go', 'to', 'the', 'office'], ['Where', 'be', 'Sandra'], ['office']), (['John', 'go', 'back', 'to', 'the', 'hallway', 'John', 'travel', 'to', 'the', 'office'], ['Where', 'be', 'Sandra'], ['office']), (['Sandra', 'journey', 'to', 'the', 'hallway', 'Daniel', 'move', 'to', 'the', 'office'], ['Where', 'be', 'John'], ['office']), (['Mary', 'go', 'to', 'the', 'office', 'Sandra', 'go', 'to', 'the', 'office'], ['Where', 'be', 'John'], ['office']), (['Mary', 'go', 'back', 'to', 'the', 'office', 'John', 'go', 'back', 'to', 'the', 'bathroom'], ['Where', 'be', 'Mary'], ['office']), (['John', 'go', 'to', 'the', 'hallway', 'Mary', 'journey', 'to', 'the', 'hallway'], ['Where', 'be', 'Mary'], ['hallway']), (['Sandra', 'travel', 'to', 'the', 'hallway', 'Mary', 'travel', 'to', 'the', 'office'], ['Where', 'be', 'John'], ['hallway']), (['Mary', 'go', 'back', 'to', 'the', 'hallway', 'Sandra', 'travel', 'to', 'the', 'office'], ['Where', 'be', 'Sandra'], ['office']), (['John', 'go', 'to', 'the', 'kitchen', 'Sandra', 'go', 'to', 'the', 'hallway'], ['Where', 'be', 'Mary'], ['hallway']), (['Sandra', 'move', 'to', 'the', 'hallway', 'John', 'move', 'to', 'the', 'hallway'], ['Where', 'be', 'John'], ['hallway']), (['John', 'journey', 'to', 'the', 'bathroom', 'Daniel', 'go', 'back', 'to', 'the', 'bedroom'], ['Where', 'be', 'John'], ['bathroom']), (['Mary', 'travel', 'to', 'the', 'bedroom', 'Mary', 'journey', 'to', 'the', 'garden'], ['Where', 'be', 'Daniel'], ['bedroom']), (['John', 'travel', 'to', 'the', 'bedroom', 'Sandra', 'journey', 'to', 'the', 'garden'], ['Where', 'be', 'Daniel'], ['bedroom']), (['John', 'journey', 'to', 'the', 'kitchen', 'Sandra', 'go', 'to', 'the', 'kitchen'], ['Where', 'be', 'John'], ['kitchen']), (['Daniel', 'go', 'to', 'the', 'kitchen', 'Mary', 'travel', 'to', 'the', 'hallway'], ['Where', 'be', 'Daniel'], ['kitchen']), (['Daniel', 'go', 'back', 'to', 'the', 'garden', 'Mary', 'go', 'back', 'to', 'the', 'bathroom'], ['Where', 'be', 'Mary'], ['bathroom']), (['Sandra', 'move', 'to', 'the', 'hallway', 'John', 'move', 'to', 'the', 'garden'], ['Where', 'be', 'Daniel'], ['garden']), (['Daniel', 'move', 'to', 'the', 'kitchen', 'Mary', 'travel', 'to', 'the', 'office'], ['Where', 'be', 'Daniel'], ['kitchen']), (['Daniel', 'travel', 'to', 'the', 'hallway', 'Sandra', 'travel', 'to', 'the', 'bathroom'], ['Where', 'be', 'Sandra'], ['bathroom']), (['Sandra', 'move', 'to', 'the', 'kitchen', 'Sandra', 'go', 'back', 'to', 'the', 'garden'], ['Where', 'be', 'Sandra'], ['garden']), (['Sandra', 'journey', 'to', 'the', 'office', 'Mary', 'move', 'to', 'the', 'office'], ['Where', 'be', 'Mary'], ['office']), (['Sandra', 'journey', 'to', 'the', 'bathroom', 'Daniel', 'move', 'to', 'the', 'office'], ['Where', 'be', 'Sandra'], ['bathroom']), (['Daniel', 'go', 'back', 'to', 'the', 'kitchen', 'Mary', 'move', 'to', 'the', 'hallway'], ['Where', 'be', 'Mary'], ['hallway']), (['John', 'go', 'to', 'the', 'office', 'Sandra', 'go', 'to', 'the', 'office'], ['Where', 'be', 'John'], ['office']), (['Sandra', 'go', 'to', 'the', 'garden', 'Mary', 'travel', 'to', 'the', 'bathroom'], ['Where', 'be', 'Sandra'], ['garden']), (['Sandra', 'move', 'to', 'the', 'bathroom', 'Mary', 'travel', 'to', 'the', 'hallway'], ['Where', 'be', 'Mary'], ['hallway']), (['Mary', 'go', 'back', 'to', 'the', 'kitchen', 'Daniel', 'travel', 'to', 'the', 'bedroom'], ['Where', 'be', 'Mary'], ['kitchen']), (['Mary', 'journey', 'to', 'the', 'bedroom', 'Mary', 'journey', 'to', 'the', 'office'], ['Where', 'be', 'Daniel'], ['bedroom']), (['Mary', 'go', 'back', 'to', 'the', 'bedroom', 'Daniel', 'go', 'to', 'the', 'garden'], ['Where', 'be', 'Mary'], ['bedroom']), (['Mary', 'journey', 'to', 'the', 'garden', 'Sandra', 'go', 'back', 'to', 'the', 'office'], ['Where', 'be', 'Sandra'], ['office']), (['Sandra', 'go', 'to', 'the', 'bathroom', 'John', 'travel', 'to', 'the', 'bathroom'], ['Where', 'be', 'Sandra'], ['bathroom']), (['Sandra', 'move', 'to', 'the', 'bedroom', 'Sandra', 'travel', 'to', 'the', 'hallway'], ['Where', 'be', 'Sandra'], ['hallway']), (['Mary', 'move', 'to', 'the', 'bathroom', 'John', 'go', 'to', 'the', 'kitchen'], ['Where', 'be', 'Mary'], ['bathroom']), (['Daniel', 'move', 'to', 'the', 'bathroom', 'Daniel', 'go', 'to', 'the', 'office'], ['Where', 'be', 'John'], ['kitchen']), (['Mary', 'move', 'to', 'the', 'office', 'Daniel', 'go', 'to', 'the', 'kitchen'], ['Where', 'be', 'Mary'], ['office']), (['Sandra', 'go', 'to', 'the', 'bathroom', 'Daniel', 'move', 'to', 'the', 'office'], ['Where', 'be', 'Daniel'], ['office']), (['Sandra', 'go', 'to', 'the', 'office', 'Sandra', 'go', 'to', 'the', 'hallway'], ['Where', 'be', 'Daniel'], ['office']), (['Mary', 'go', 'to', 'the', 'garden', 'Daniel', 'move', 'to', 'the', 'kitchen'], ['Where', 'be', 'Sandra'], ['hallway']), (['Mary', 'go', 'back', 'to', 'the', 'kitchen', 'John', 'journey', 'to', 'the', 'hallway'], ['Where', 'be', 'Mary'], ['kitchen']), (['John', 'go', 'back', 'to', 'the', 'bathroom', 'Mary', 'travel', 'to', 'the', 'bathroom'], ['Where', 'be', 'John'], ['bathroom']), (['Mary', 'go', 'to', 'the', 'garden', 'Sandra', 'move', 'to', 'the', 'garden'], ['Where', 'be', 'John'], ['bathroom']), (['John', 'go', 'to', 'the', 'kitchen', 'Daniel', 'move', 'to', 'the', 'bathroom'], ['Where', 'be', 'John'], ['kitchen']), (['Daniel', 'go', 'back', 'to', 'the', 'hallway', 'Mary', 'go', 'to', 'the', 'kitchen'], ['Where', 'be', 'Mary'], ['kitchen']), (['Daniel', 'go', 'to', 'the', 'garden', 'Daniel', 'travel', 'to', 'the', 'hallway'], ['Where', 'be', 'Daniel'], ['hallway']), (['Mary', 'go', 'back', 'to', 'the', 'bedroom', 'Mary', 'travel', 'to', 'the', 'bathroom'], ['Where', 'be', 'Mary'], ['bathroom']), (['John', 'travel', 'to', 'the', 'office', 'Mary', 'travel', 'to', 'the', 'bedroom'], ['Where', 'be', 'Mary'], ['bedroom']), (['John', 'journey', 'to', 'the', 'kitchen', 'John', 'move', 'to', 'the', 'hallway'], ['Where', 'be', 'Mary'], ['bedroom']), (['Daniel', 'move', 'to', 'the', 'hallway', 'Mary', 'go', 'back', 'to', 'the', 'garden'], ['Where', 'be', 'Mary'], ['garden']), (['Daniel', 'go', 'back', 'to', 'the', 'office', 'Daniel', 'travel', 'to', 'the', 'kitchen'], ['Where', 'be', 'Daniel'], ['kitchen']), (['Daniel', 'move', 'to', 'the', 'garden', 'Mary', 'go', 'back', 'to', 'the', 'bathroom'], ['Where', 'be', 'Daniel'], ['garden']), (['Daniel', 'travel', 'to', 'the', 'kitchen', 'Sandra', 'go', 'to', 'the', 'kitchen'], ['Where', 'be', 'Sandra'], ['kitchen']), (['Daniel', 'journey', 'to', 'the', 'garden', 'Mary', 'journey', 'to', 'the', 'kitchen'], ['Where', 'be', 'Mary'], ['kitchen']), (['Mary', 'move', 'to', 'the', 'hallway', 'John', 'go', 'back', 'to', 'the', 'bedroom'], ['Where', 'be', 'Mary'], ['hallway']), (['John', 'move', 'to', 'the', 'office', 'John', 'travel', 'to', 'the', 'bathroom'], ['Where', 'be', 'Mary'], ['hallway']), (['Mary', 'go', 'back', 'to', 'the', 'hallway', 'Sandra', 'journey', 'to', 'the', 'garden'], ['Where', 'be', 'Sandra'], ['garden']), (['Sandra', 'travel', 'to', 'the', 'bathroom', 'John', 'travel', 'to', 'the', 'hallway'], ['Where', 'be', 'Sandra'], ['bathroom']), (['John', 'travel', 'to', 'the', 'garden', 'Mary', 'journey', 'to', 'the', 'bedroom'], ['Where', 'be', 'Mary'], ['bedroom']), (['Sandra', 'journey', 'to', 'the', 'office', 'Daniel', 'journey', 'to', 'the', 'hallway'], ['Where', 'be', 'John'], ['garden']), (['Mary', 'journey', 'to', 'the', 'hallway', 'Mary', 'move', 'to', 'the', 'bedroom'], ['Where', 'be', 'Mary'], ['bedroom']), (['Sandra', 'journey', 'to', 'the', 'kitchen', 'Sandra', 'journey', 'to', 'the', 'garden'], ['Where', 'be', 'Sandra'], ['garden']), (['Daniel', 'travel', 'to', 'the', 'kitchen', 'Mary', 'move', 'to', 'the', 'bedroom'], ['Where', 'be', 'Sandra'], ['garden']), (['Sandra', 'move', 'to', 'the', 'bedroom', 'John', 'travel', 'to', 'the', 'garden'], ['Where', 'be', 'Sandra'], ['bedroom']), (['Sandra', 'go', 'back', 'to', 'the', 'kitchen', 'John', 'journey', 'to', 'the', 'bedroom'], ['Where', 'be', 'Sandra'], ['kitchen']), (['Daniel', 'go', 'back', 'to', 'the', 'bathroom', 'Sandra', 'journey', 'to', 'the', 'bedroom'], ['Where', 'be', 'Daniel'], ['bathroom']), (['Mary', 'go', 'back', 'to', 'the', 'hallway', 'Daniel', 'go', 'back', 'to', 'the', 'bedroom'], ['Where', 'be', 'Mary'], ['hallway']), (['Sandra', 'move', 'to', 'the', 'bathroom', 'Sandra', 'journey', 'to', 'the', 'hallway'], ['Where', 'be', 'Sandra'], ['hallway']), (['Mary', 'go', 'back', 'to', 'the', 'bedroom', 'Mary', 'go', 'back', 'to', 'the', 'garden'], ['Where', 'be', 'Mary'], ['garden']), (['Sandra', 'go', 'back', 'to', 'the', 'bathroom', 'John', 'go', 'to', 'the', 'office'], ['Where', 'be', 'John'], ['office']), (['Daniel', 'travel', 'to', 'the', 'garden', 'Sandra', 'travel', 'to', 'the', 'hallway'], ['Where', 'be', 'John'], ['office']), (['John', 'go', 'back', 'to', 'the', 'hallway', 'Sandra', 'journey', 'to', 'the', 'kitchen'], ['Where', 'be', 'John'], ['hallway']), (['Daniel', 'journey', 'to', 'the', 'office', 'John', 'go', 'to', 'the', 'kitchen'], ['Where', 'be', 'John'], ['kitchen']), (['Daniel', 'journey', 'to', 'the', 'garden', 'John', 'travel', 'to', 'the', 'bedroom'], ['Where', 'be', 'John'], ['bedroom']), (['Daniel', 'journey', 'to', 'the', 'office', 'Daniel', 'go', 'to', 'the', 'bedroom'], ['Where', 'be', 'Daniel'], ['bedroom']), (['Sandra', 'travel', 'to', 'the', 'hallway', 'Sandra', 'journey', 'to', 'the', 'bedroom'], ['Where', 'be', 'Daniel'], ['bedroom']), (['John', 'move', 'to', 'the', 'kitchen', 'Daniel', 'travel', 'to', 'the', 'garden'], ['Where', 'be', 'John'], ['kitchen']), (['Daniel', 'go', 'to', 'the', 'kitchen', 'Daniel', 'travel', 'to', 'the', 'bathroom'], ['Where', 'be', 'Daniel'], ['bathroom']), (['John', 'move', 'to', 'the', 'bathroom', 'Mary', 'journey', 'to', 'the', 'bathroom'], ['Where', 'be', 'John'], ['bathroom']), (['Mary', 'go', 'to', 'the', 'kitchen', 'Daniel', 'journey', 'to', 'the', 'garden'], ['Where', 'be', 'Mary'], ['kitchen']), (['Daniel', 'go', 'to', 'the', 'kitchen', 'John', 'go', 'to', 'the', 'hallway'], ['Where', 'be', 'Daniel'], ['kitchen']), (['Sandra', 'go', 'back', 'to', 'the', 'kitchen', 'Sandra', 'travel', 'to', 'the', 'bathroom'], ['Where', 'be', 'Sandra'], ['bathroom']), (['John', 'travel', 'to', 'the', 'garden', 'Daniel', 'move', 'to', 'the', 'hallway'], ['Where', 'be', 'Daniel'], ['hallway']), (['John', 'go', 'to', 'the', 'kitchen', 'Daniel', 'journey', 'to', 'the', 'garden'], ['Where', 'be', 'Sandra'], ['bathroom']), (['Daniel', 'journey', 'to', 'the', 'hallway', 'Sandra', 'journey', 'to', 'the', 'garden'], ['Where', 'be', 'Daniel'], ['hallway']), (['John', 'go', 'back', 'to', 'the', 'hallway', 'Mary', 'travel', 'to', 'the', 'office'], ['Where', 'be', 'John'], ['hallway']), (['Daniel', 'move', 'to', 'the', 'bedroom', 'John', 'go', 'back', 'to', 'the', 'garden'], ['Where', 'be', 'Daniel'], ['bedroom']), (['John', 'travel', 'to', 'the', 'bathroom', 'John', 'travel', 'to', 'the', 'garden'], ['Where', 'be', 'John'], ['garden']), (['John', 'go', 'to', 'the', 'kitchen', 'Daniel', 'journey', 'to', 'the', 'garden'], ['Where', 'be', 'Daniel'], ['garden']), (['John', 'go', 'back', 'to', 'the', 'garden', 'Sandra', 'go', 'back', 'to', 'the', 'kitchen'], ['Where', 'be', 'John'], ['garden']), (['Daniel', 'journey', 'to', 'the', 'hallway', 'Daniel', 'move', 'to', 'the', 'bathroom'], ['Where', 'be', 'Daniel'], ['bathroom']), (['Mary', 'travel', 'to', 'the', 'hallway', 'Mary', 'move', 'to', 'the', 'garden'], ['Where', 'be', 'Mary'], ['garden']), (['Sandra', 'go', 'to', 'the', 'kitchen', 'Sandra', 'move', 'to', 'the', 'bathroom'], ['Where', 'be', 'Sandra'], ['bathroom']), (['Daniel', 'go', 'back', 'to', 'the', 'bedroom', 'John', 'go', 'back', 'to', 'the', 'office'], ['Where', 'be', 'Mary'], ['garden']), (['Mary', 'go', 'back', 'to', 'the', 'office', 'Mary', 'go', 'to', 'the', 'bathroom'], ['Where', 'be', 'Mary'], ['bathroom']), (['Daniel', 'go', 'back', 'to', 'the', 'kitchen', 'Mary', 'move', 'to', 'the', 'kitchen'], ['Where', 'be', 'Daniel'], ['kitchen']), (['Daniel', 'go', 'to', 'the', 'office', 'John', 'journey', 'to', 'the', 'garden'], ['Where', 'be', 'Daniel'], ['office']), (['John', 'travel', 'to', 'the', 'bathroom', 'Daniel', 'move', 'to', 'the', 'bedroom'], ['Where', 'be', 'John'], ['bathroom']), (['Mary', 'travel', 'to', 'the', 'kitchen', 'John', 'journey', 'to', 'the', 'kitchen'], ['Where', 'be', 'John'], ['kitchen']), (['John', 'travel', 'to', 'the', 'office', 'Sandra', 'move', 'to', 'the', 'office'], ['Where', 'be', 'Sandra'], ['office']), (['John', 'move', 'to', 'the', 'garden', 'Mary', 'journey', 'to', 'the', 'bedroom'], ['Where', 'be', 'Sandra'], ['office']), (['Sandra', 'journey', 'to', 'the', 'hallway', 'Daniel', 'travel', 'to', 'the', 'hallway'], ['Where', 'be', 'Sandra'], ['hallway']), (['John', 'travel', 'to', 'the', 'hallway', 'Sandra', 'go', 'to', 'the', 'bedroom'], ['Where', 'be', 'John'], ['hallway']), (['John', 'travel', 'to', 'the', 'office', 'Sandra', 'go', 'to', 'the', 'kitchen'], ['Where', 'be', 'Sandra'], ['kitchen']), (['Mary', 'move', 'to', 'the', 'office', 'Daniel', 'move', 'to', 'the', 'office'], ['Where', 'be', 'Sandra'], ['kitchen']), (['Daniel', 'go', 'back', 'to', 'the', 'bathroom', 'Daniel', 'travel', 'to', 'the', 'office'], ['Where', 'be', 'Daniel'], ['office']), (['Mary', 'go', 'to', 'the', 'bathroom', 'John', 'travel', 'to', 'the', 'hallway'], ['Where', 'be', 'Mary'], ['bathroom']), (['John', 'move', 'to', 'the', 'kitchen', 'Mary', 'go', 'back', 'to', 'the', 'hallway'], ['Where', 'be', 'John'], ['kitchen']), (['Daniel', 'go', 'back', 'to', 'the', 'bedroom', 'Mary', 'journey', 'to', 'the', 'garden'], ['Where', 'be', 'John'], ['kitchen']), (['Mary', 'go', 'back', 'to', 'the', 'office', 'Daniel', 'go', 'back', 'to', 'the', 'bathroom'], ['Where', 'be', 'Daniel'], ['bathroom']), (['Sandra', 'move', 'to', 'the', 'hallway', 'John', 'go', 'back', 'to', 'the', 'bedroom'], ['Where', 'be', 'Mary'], ['office']), (['Daniel', 'journey', 'to', 'the', 'bedroom', 'John', 'go', 'to', 'the', 'kitchen'], ['Where', 'be', 'Daniel'], ['bedroom']), (['Mary', 'move', 'to', 'the', 'office', 'Sandra', 'travel', 'to', 'the', 'bathroom'], ['Where', 'be', 'Sandra'], ['bathroom']), (['Mary', 'go', 'to', 'the', 'kitchen', 'Sandra', 'journey', 'to', 'the', 'bedroom'], ['Where', 'be', 'Mary'], ['kitchen']), (['Sandra', 'journey', 'to', 'the', 'office', 'Daniel', 'go', 'back', 'to', 'the', 'bathroom'], ['Where', 'be', 'Daniel'], ['bathroom']), (['Mary', 'go', 'back', 'to', 'the', 'office', 'John', 'go', 'back', 'to', 'the', 'office'], ['Where', 'be', 'Sandra'], ['office']), (['Mary', 'move', 'to', 'the', 'garden', 'John', 'go', 'to', 'the', 'bedroom'], ['Where', 'be', 'John'], ['bedroom']), (['Daniel', 'journey', 'to', 'the', 'kitchen', 'Sandra', 'go', 'to', 'the', 'bathroom'], ['Where', 'be', 'Mary'], ['garden']), (['Daniel', 'journey', 'to', 'the', 'bathroom', 'Daniel', 'move', 'to', 'the', 'garden'], ['Where', 'be', 'Sandra'], ['bathroom']), (['Daniel', 'go', 'to', 'the', 'kitchen', 'Mary', 'journey', 'to', 'the', 'bathroom'], ['Where', 'be', 'Daniel'], ['kitchen']), (['Sandra', 'travel', 'to', 'the', 'garden', 'Sandra', 'go', 'to', 'the', 'hallway'], ['Where', 'be', 'Mary'], ['bathroom']), (['Sandra', 'travel', 'to', 'the', 'office', 'Sandra', 'travel', 'to', 'the', 'bathroom'], ['Where', 'be', 'Sandra'], ['bathroom']), (['Mary', 'go', 'back', 'to', 'the', 'hallway', 'Mary', 'travel', 'to', 'the', 'bathroom'], ['Where', 'be', 'Mary'], ['bathroom']), (['Daniel', 'go', 'to', 'the', 'bedroom', 'Mary', 'go', 'to', 'the', 'office'], ['Where', 'be', 'Mary'], ['office']), (['Mary', 'travel', 'to', 'the', 'hallway', 'John', 'move', 'to', 'the', 'garden'], ['Where', 'be', 'Mary'], ['hallway']), (['Sandra', 'journey', 'to', 'the', 'office', 'Sandra', 'move', 'to', 'the', 'bathroom'], ['Where', 'be', 'John'], ['garden']), (['Sandra', 'journey', 'to', 'the', 'garden', 'Mary', 'travel', 'to', 'the', 'hallway'], ['Where', 'be', 'Mary'], ['hallway']), (['John', 'travel', 'to', 'the', 'bathroom', 'Sandra', 'go', 'back', 'to', 'the', 'kitchen'], ['Where', 'be', 'Mary'], ['hallway']), (['Daniel', 'travel', 'to', 'the', 'bathroom', 'Daniel', 'travel', 'to', 'the', 'kitchen'], ['Where', 'be', 'John'], ['bathroom']), (['John', 'go', 'back', 'to', 'the', 'hallway', 'John', 'travel', 'to', 'the', 'bathroom'], ['Where', 'be', 'John'], ['bathroom']), (['Mary', 'journey', 'to', 'the', 'bathroom', 'Mary', 'travel', 'to', 'the', 'bedroom'], ['Where', 'be', 'Mary'], ['bedroom']), (['John', 'go', 'to', 'the', 'office', 'Daniel', 'journey', 'to', 'the', 'kitchen'], ['Where', 'be', 'Daniel'], ['kitchen']), (['John', 'travel', 'to', 'the', 'bedroom', 'John', 'move', 'to', 'the', 'garden'], ['Where', 'be', 'Daniel'], ['kitchen']), (['Daniel', 'journey', 'to', 'the', 'bathroom', 'John', 'journey', 'to', 'the', 'bedroom'], ['Where', 'be', 'John'], ['bedroom']), (['Sandra', 'journey', 'to', 'the', 'kitchen', 'Mary', 'move', 'to', 'the', 'garden'], ['Where', 'be', 'John'], ['bedroom']), (['Sandra', 'journey', 'to', 'the', 'bathroom', 'Sandra', 'go', 'back', 'to', 'the', 'bedroom'], ['Where', 'be', 'Sandra'], ['bedroom']), (['Daniel', 'go', 'back', 'to', 'the', 'bedroom', 'Sandra', 'travel', 'to', 'the', 'bedroom'], ['Where', 'be', 'Sandra'], ['bedroom']), (['Sandra', 'go', 'to', 'the', 'office', 'Mary', 'go', 'to', 'the', 'office'], ['Where', 'be', 'Mary'], ['office']), (['John', 'journey', 'to', 'the', 'garden', 'Mary', 'journey', 'to', 'the', 'garden'], ['Where', 'be', 'Mary'], ['garden']), (['Daniel', 'travel', 'to', 'the', 'bathroom', 'John', 'move', 'to', 'the', 'kitchen'], ['Where', 'be', 'John'], ['kitchen']), (['Sandra', 'go', 'back', 'to', 'the', 'kitchen', 'Daniel', 'journey', 'to', 'the', 'hallway'], ['Where', 'be', 'Mary'], ['garden']), (['Daniel', 'move', 'to', 'the', 'bathroom', 'John', 'move', 'to', 'the', 'office'], ['Where', 'be', 'Daniel'], ['bathroom']), (['Mary', 'go', 'back', 'to', 'the', 'office', 'John', 'go', 'back', 'to', 'the', 'hallway'], ['Where', 'be', 'Mary'], ['office']), (['Mary', 'move', 'to', 'the', 'hallway', 'Mary', 'journey', 'to', 'the', 'kitchen'], ['Where', 'be', 'Mary'], ['kitchen']), (['Daniel', 'go', 'to', 'the', 'office', 'Daniel', 'move', 'to', 'the', 'bedroom'], ['Where', 'be', 'Daniel'], ['bedroom']), (['Sandra', 'journey', 'to', 'the', 'hallway', 'Daniel', 'travel', 'to', 'the', 'garden'], ['Where', 'be', 'Daniel'], ['garden']), (['Mary', 'travel', 'to', 'the', 'hallway', 'Sandra', 'go', 'to', 'the', 'garden'], ['Where', 'be', 'Sandra'], ['garden']), (['Daniel', 'travel', 'to', 'the', 'bedroom', 'Mary', 'go', 'to', 'the', 'bedroom'], ['Where', 'be', 'Daniel'], ['bedroom']), (['Daniel', 'move', 'to', 'the', 'hallway', 'John', 'travel', 'to', 'the', 'bathroom'], ['Where', 'be', 'Sandra'], ['garden']), (['Daniel', 'journey', 'to', 'the', 'bathroom', 'John', 'journey', 'to', 'the', 'office'], ['Where', 'be', 'Daniel'], ['bathroom']), (['Mary', 'go', 'back', 'to', 'the', 'garden', 'John', 'go', 'to', 'the', 'kitchen'], ['Where', 'be', 'John'], ['kitchen']), (['Daniel', 'travel', 'to', 'the', 'kitchen', 'Daniel', 'journey', 'to', 'the', 'garden'], ['Where', 'be', 'Daniel'], ['garden']), (['John', 'journey', 'to', 'the', 'office', 'John', 'travel', 'to', 'the', 'garden'], ['Where', 'be', 'Daniel'], ['garden']), (['Daniel', 'move', 'to', 'the', 'office', 'John', 'go', 'to', 'the', 'hallway'], ['Where', 'be', 'John'], ['hallway']), (['John', 'move', 'to', 'the', 'office', 'Daniel', 'journey', 'to', 'the', 'kitchen'], ['Where', 'be', 'John'], ['office']), (['Daniel', 'go', 'to', 'the', 'garden', 'John', 'go', 'back', 'to', 'the', 'bathroom'], ['Where', 'be', 'Daniel'], ['garden']), (['Mary', 'go', 'to', 'the', 'bathroom', 'John', 'go', 'to', 'the', 'kitchen'], ['Where', 'be', 'John'], ['kitchen']), (['Daniel', 'move', 'to', 'the', 'office', 'Daniel', 'move', 'to', 'the', 'bathroom'], ['Where', 'be', 'Daniel'], ['bathroom']), (['Sandra', 'travel', 'to', 'the', 'bathroom', 'Mary', 'travel', 'to', 'the', 'kitchen'], ['Where', 'be', 'John'], ['kitchen']), (['Mary', 'go', 'to', 'the', 'garden', 'Sandra', 'move', 'to', 'the', 'bedroom'], ['Where', 'be', 'Mary'], ['garden']), (['Sandra', 'journey', 'to', 'the', 'kitchen', 'Daniel', 'travel', 'to', 'the', 'garden'], ['Where', 'be', 'Sandra'], ['kitchen']), (['Daniel', 'move', 'to', 'the', 'garden', 'John', 'go', 'to', 'the', 'kitchen'], ['Where', 'be', 'Daniel'], ['garden']), (['Mary', 'go', 'to', 'the', 'office', 'Sandra', 'travel', 'to', 'the', 'bedroom'], ['Where', 'be', 'Mary'], ['office']), (['Mary', 'go', 'to', 'the', 'bathroom', 'John', 'journey', 'to', 'the', 'bathroom'], ['Where', 'be', 'John'], ['bathroom']), (['Mary', 'go', 'back', 'to', 'the', 'office', 'John', 'go', 'back', 'to', 'the', 'kitchen'], ['Where', 'be', 'Mary'], ['office']), (['John', 'move', 'to', 'the', 'office', 'Mary', 'journey', 'to', 'the', 'bathroom'], ['Where', 'be', 'John'], ['office']), (['Mary', 'travel', 'to', 'the', 'kitchen', 'Mary', 'move', 'to', 'the', 'bedroom'], ['Where', 'be', 'Mary'], ['bedroom']), (['Mary', 'go', 'to', 'the', 'hallway', 'Sandra', 'go', 'back', 'to', 'the', 'bathroom'], ['Where', 'be', 'Sandra'], ['bathroom']), (['John', 'go', 'to', 'the', 'bedroom', 'Daniel', 'travel', 'to', 'the', 'garden'], ['Where', 'be', 'John'], ['bedroom']), (['Daniel', 'go', 'to', 'the', 'hallway', 'Sandra', 'go', 'to', 'the', 'office'], ['Where', 'be', 'Sandra'], ['office']), (['Sandra', 'journey', 'to', 'the', 'bedroom', 'John', 'travel', 'to', 'the', 'bathroom'], ['Where', 'be', 'Sandra'], ['bedroom']), (['John', 'journey', 'to', 'the', 'kitchen', 'John', 'journey', 'to', 'the', 'garden'], ['Where', 'be', 'John'], ['garden']), (['Mary', 'go', 'back', 'to', 'the', 'bathroom', 'Mary', 'move', 'to', 'the', 'garden'], ['Where', 'be', 'Mary'], ['garden']), (['Daniel', 'travel', 'to', 'the', 'bedroom', 'John', 'move', 'to', 'the', 'kitchen'], ['Where', 'be', 'Mary'], ['garden']), (['John', 'journey', 'to', 'the', 'hallway', 'Mary', 'go', 'back', 'to', 'the', 'bathroom'], ['Where', 'be', 'Mary'], ['bathroom']), (['John', 'journey', 'to', 'the', 'bathroom', 'Sandra', 'move', 'to', 'the', 'kitchen'], ['Where', 'be', 'Mary'], ['bathroom']), (['Mary', 'journey', 'to', 'the', 'office', 'Daniel', 'journey', 'to', 'the', 'bedroom'], ['Where', 'be', 'Daniel'], ['bedroom']), (['Mary', 'go', 'to', 'the', 'bedroom', 'Sandra', 'go', 'to', 'the', 'bedroom'], ['Where', 'be', 'Mary'], ['bedroom']), (['John', 'go', 'back', 'to', 'the', 'hallway', 'Daniel', 'go', 'back', 'to', 'the', 'bathroom'], ['Where', 'be', 'Daniel'], ['bathroom']), (['Mary', 'travel', 'to', 'the', 'garden', 'Daniel', 'move', 'to', 'the', 'hallway'], ['Where', 'be', 'John'], ['hallway']), (['Sandra', 'travel', 'to', 'the', 'office', 'Daniel', 'move', 'to', 'the', 'bathroom'], ['Where', 'be', 'Sandra'], ['office']), (['Mary', 'move', 'to', 'the', 'kitchen', 'Sandra', 'move', 'to', 'the', 'kitchen'], ['Where', 'be', 'Mary'], ['kitchen']), (['Mary', 'go', 'to', 'the', 'garden', 'John', 'move', 'to', 'the', 'bedroom'], ['Where', 'be', 'Sandra'], ['kitchen']), (['Mary', 'journey', 'to', 'the', 'office', 'Mary', 'go', 'to', 'the', 'bathroom'], ['Where', 'be', 'John'], ['bedroom']), (['Sandra', 'travel', 'to', 'the', 'garden', 'Daniel', 'go', 'back', 'to', 'the', 'hallway'], ['Where', 'be', 'Sandra'], ['garden']), (['Daniel', 'go', 'to', 'the', 'bedroom', 'Sandra', 'journey', 'to', 'the', 'hallway'], ['Where', 'be', 'Sandra'], ['hallway']), (['John', 'go', 'to', 'the', 'kitchen', 'John', 'go', 'to', 'the', 'hallway'], ['Where', 'be', 'John'], ['hallway']), (['John', 'travel', 'to', 'the', 'bathroom', 'Sandra', 'travel', 'to', 'the', 'kitchen'], ['Where', 'be', 'John'], ['bathroom']), (['John', 'journey', 'to', 'the', 'garden', 'Sandra', 'go', 'back', 'to', 'the', 'bedroom'], ['Where', 'be', 'John'], ['garden']), (['Mary', 'move', 'to', 'the', 'hallway', 'Mary', 'go', 'to', 'the', 'bedroom'], ['Where', 'be', 'Sandra'], ['bedroom']), (['Mary', 'go', 'back', 'to', 'the', 'garden', 'Sandra', 'travel', 'to', 'the', 'hallway'], ['Where', 'be', 'Mary'], ['garden']), (['Daniel', 'go', 'back', 'to', 'the', 'bathroom', 'Mary', 'journey', 'to', 'the', 'office'], ['Where', 'be', 'Daniel'], ['bathroom']), (['Sandra', 'go', 'back', 'to', 'the', 'garden', 'Daniel', 'move', 'to', 'the', 'garden'], ['Where', 'be', 'Daniel'], ['garden']), (['Daniel', 'journey', 'to', 'the', 'hallway', 'John', 'move', 'to', 'the', 'garden'], ['Where', 'be', 'Mary'], ['office']), (['Sandra', 'go', 'back', 'to', 'the', 'hallway', 'Mary', 'go', 'back', 'to', 'the', 'bedroom'], ['Where', 'be', 'Sandra'], ['hallway']), (['John', 'journey', 'to', 'the', 'office', 'John', 'go', 'to', 'the', 'bathroom'], ['Where', 'be', 'John'], ['bathroom']), (['Sandra', 'move', 'to', 'the', 'bathroom', 'Daniel', 'journey', 'to', 'the', 'garden'], ['Where', 'be', 'Daniel'], ['garden']), (['Mary', 'journey', 'to', 'the', 'bathroom', 'Sandra', 'move', 'to', 'the', 'hallway'], ['Where', 'be', 'Sandra'], ['hallway']), (['Daniel', 'move', 'to', 'the', 'office', 'Daniel', 'go', 'to', 'the', 'garden'], ['Where', 'be', 'Daniel'], ['garden']), (['John', 'travel', 'to', 'the', 'bathroom', 'Mary', 'move', 'to', 'the', 'bedroom'], ['Where', 'be', 'Daniel'], ['garden']), (['Sandra', 'go', 'back', 'to', 'the', 'bathroom', 'Sandra', 'go', 'to', 'the', 'garden'], ['Where', 'be', 'Mary'], ['bedroom']), (['John', 'journey', 'to', 'the', 'hallway', 'Daniel', 'journey', 'to', 'the', 'hallway'], ['Where', 'be', 'John'], ['hallway']), (['Daniel', 'go', 'to', 'the', 'office', 'Sandra', 'move', 'to', 'the', 'bedroom'], ['Where', 'be', 'Sandra'], ['bedroom']), (['John', 'go', 'to', 'the', 'bedroom', 'Daniel', 'go', 'back', 'to', 'the', 'kitchen'], ['Where', 'be', 'Sandra'], ['bedroom']), (['John', 'journey', 'to', 'the', 'kitchen', 'Mary', 'go', 'to', 'the', 'hallway'], ['Where', 'be', 'John'], ['kitchen']), (['Sandra', 'go', 'back', 'to', 'the', 'bathroom', 'Mary', 'go', 'to', 'the', 'office'], ['Where', 'be', 'Daniel'], ['kitchen']), (['Daniel', 'journey', 'to', 'the', 'office', 'Mary', 'go', 'back', 'to', 'the', 'garden'], ['Where', 'be', 'Daniel'], ['office']), (['Daniel', 'go', 'back', 'to', 'the', 'garden', 'John', 'move', 'to', 'the', 'hallway'], ['Where', 'be', 'Daniel'], ['garden']), (['John', 'travel', 'to', 'the', 'bathroom', 'Mary', 'move', 'to', 'the', 'kitchen'], ['Where', 'be', 'Daniel'], ['garden']), (['Daniel', 'travel', 'to', 'the', 'bathroom', 'Sandra', 'journey', 'to', 'the', 'bedroom'], ['Where', 'be', 'Sandra'], ['bedroom']), (['Daniel', 'journey', 'to', 'the', 'garden', 'Sandra', 'travel', 'to', 'the', 'office'], ['Where', 'be', 'Sandra'], ['office']), (['Daniel', 'go', 'back', 'to', 'the', 'bathroom', 'John', 'move', 'to', 'the', 'bathroom'], ['Where', 'be', 'John'], ['bathroom']), (['Mary', 'journey', 'to', 'the', 'bathroom', 'Sandra', 'go', 'to', 'the', 'kitchen'], ['Where', 'be', 'Daniel'], ['bathroom']), (['Mary', 'go', 'back', 'to', 'the', 'kitchen', 'Daniel', 'travel', 'to', 'the', 'office'], ['Where', 'be', 'John'], ['bathroom']), (['Sandra', 'go', 'back', 'to', 'the', 'office', 'Mary', 'go', 'back', 'to', 'the', 'garden'], ['Where', 'be', 'Sandra'], ['office']), (['Mary', 'move', 'to', 'the', 'bedroom', 'Daniel', 'move', 'to', 'the', 'hallway'], ['Where', 'be', 'Daniel'], ['hallway']), (['Sandra', 'go', 'to', 'the', 'hallway', 'Sandra', 'journey', 'to', 'the', 'kitchen'], ['Where', 'be', 'Sandra'], ['kitchen']), (['Sandra', 'travel', 'to', 'the', 'garden', 'Mary', 'journey', 'to', 'the', 'garden'], ['Where', 'be', 'Mary'], ['garden']), (['Daniel', 'go', 'back', 'to', 'the', 'bathroom', 'Daniel', 'go', 'to', 'the', 'garden'], ['Where', 'be', 'Sandra'], ['garden']), (['John', 'go', 'back', 'to', 'the', 'garden', 'John', 'travel', 'to', 'the', 'bedroom'], ['Where', 'be', 'Mary'], ['garden']), (['Mary', 'go', 'to', 'the', 'kitchen', 'Sandra', 'move', 'to', 'the', 'hallway'], ['Where', 'be', 'Daniel'], ['garden']), (['John', 'go', 'back', 'to', 'the', 'garden', 'Sandra', 'go', 'back', 'to', 'the', 'bedroom'], ['Where', 'be', 'John'], ['garden']), (['Sandra', 'go', 'to', 'the', 'bathroom', 'John', 'go', 'back', 'to', 'the', 'kitchen'], ['Where', 'be', 'John'], ['kitchen']), (['Mary', 'go', 'back', 'to', 'the', 'hallway', 'Daniel', 'travel', 'to', 'the', 'kitchen'], ['Where', 'be', 'Daniel'], ['kitchen']), (['Sandra', 'go', 'back', 'to', 'the', 'bedroom', 'Sandra', 'go', 'to', 'the', 'office'], ['Where', 'be', 'Sandra'], ['office']), (['Sandra', 'go', 'to', 'the', 'kitchen', 'Daniel', 'travel', 'to', 'the', 'hallway'], ['Where', 'be', 'Sandra'], ['kitchen']), (['Sandra', 'journey', 'to', 'the', 'office', 'John', 'move', 'to', 'the', 'bathroom'], ['Where', 'be', 'John'], ['bathroom']), (['Daniel', 'move', 'to', 'the', 'hallway', 'John', 'move', 'to', 'the', 'hallway'], ['Where', 'be', 'John'], ['hallway']), (['John', 'travel', 'to', 'the', 'kitchen', 'John', 'go', 'to', 'the', 'bedroom'], ['Where', 'be', 'John'], ['bedroom']), (['Daniel', 'journey', 'to', 'the', 'kitchen', 'John', 'journey', 'to', 'the', 'kitchen'], ['Where', 'be', 'John'], ['kitchen']), (['John', 'travel', 'to', 'the', 'bathroom', 'John', 'travel', 'to', 'the', 'kitchen'], ['Where', 'be', 'John'], ['kitchen']), (['Mary', 'move', 'to', 'the', 'hallway', 'John', 'travel', 'to', 'the', 'hallway'], ['Where', 'be', 'John'], ['hallway']), (['Daniel', 'travel', 'to', 'the', 'bedroom', 'Daniel', 'go', 'to', 'the', 'garden'], ['Where', 'be', 'Mary'], ['hallway']), (['John', 'go', 'back', 'to', 'the', 'bathroom', 'Sandra', 'move', 'to', 'the', 'hallway'], ['Where', 'be', 'Sandra'], ['hallway']), (['Daniel', 'move', 'to', 'the', 'hallway', 'Mary', 'go', 'to', 'the', 'office'], ['Where', 'be', 'Daniel'], ['hallway']), (['Mary', 'journey', 'to', 'the', 'garden', 'John', 'go', 'to', 'the', 'hallway'], ['Where', 'be', 'Mary'], ['garden']), (['John', 'journey', 'to', 'the', 'bathroom', 'Daniel', 'go', 'back', 'to', 'the', 'kitchen'], ['Where', 'be', 'Daniel'], ['kitchen']), (['John', 'journey', 'to', 'the', 'office', 'Sandra', 'travel', 'to', 'the', 'bedroom'], ['Where', 'be', 'Daniel'], ['kitchen']), (['Daniel', 'move', 'to', 'the', 'bathroom', 'Daniel', 'go', 'to', 'the', 'hallway'], ['Where', 'be', 'John'], ['office']), (['Mary', 'go', 'back', 'to', 'the', 'office', 'Mary', 'go', 'to', 'the', 'bathroom'], ['Where', 'be', 'Mary'], ['bathroom']), (['Mary', 'journey', 'to', 'the', 'kitchen', 'Mary', 'move', 'to', 'the', 'bedroom'], ['Where', 'be', 'Mary'], ['bedroom']), (['Mary', 'journey', 'to', 'the', 'bathroom', 'Mary', 'move', 'to', 'the', 'hallway'], ['Where', 'be', 'Mary'], ['hallway']), (['Daniel', 'move', 'to', 'the', 'bathroom', 'Sandra', 'go', 'back', 'to', 'the', 'bathroom'], ['Where', 'be', 'Mary'], ['hallway']), (['Sandra', 'go', 'to', 'the', 'kitchen', 'Mary', 'travel', 'to', 'the', 'kitchen'], ['Where', 'be', 'Sandra'], ['kitchen']), (['Daniel', 'journey', 'to', 'the', 'kitchen', 'Sandra', 'go', 'to', 'the', 'garden'], ['Where', 'be', 'Sandra'], ['garden']), (['Daniel', 'go', 'to', 'the', 'bedroom', 'Sandra', 'go', 'to', 'the', 'bathroom'], ['Where', 'be', 'Daniel'], ['bedroom']), (['Mary', 'travel', 'to', 'the', 'garden', 'John', 'journey', 'to', 'the', 'bathroom'], ['Where', 'be', 'Mary'], ['garden']), (['Mary', 'journey', 'to', 'the', 'kitchen', 'John', 'travel', 'to', 'the', 'kitchen'], ['Where', 'be', 'John'], ['kitchen']), (['Mary', 'move', 'to', 'the', 'bedroom', 'Mary', 'travel', 'to', 'the', 'garden'], ['Where', 'be', 'John'], ['kitchen']), (['John', 'go', 'back', 'to', 'the', 'bedroom', 'Daniel', 'go', 'back', 'to', 'the', 'bedroom'], ['Where', 'be', 'Mary'], ['garden']), (['John', 'go', 'back', 'to', 'the', 'kitchen', 'Mary', 'go', 'to', 'the', 'bedroom'], ['Where', 'be', 'John'], ['kitchen']), (['Mary', 'go', 'back', 'to', 'the', 'bedroom', 'Daniel', 'travel', 'to', 'the', 'office'], ['Where', 'be', 'Mary'], ['bedroom']), (['Mary', 'journey', 'to', 'the', 'hallway', 'Sandra', 'go', 'back', 'to', 'the', 'garden'], ['Where', 'be', 'Daniel'], ['office']), (['Mary', 'move', 'to', 'the', 'garden', 'Daniel', 'move', 'to', 'the', 'kitchen'], ['Where', 'be', 'Daniel'], ['kitchen']), (['John', 'go', 'to', 'the', 'office', 'Sandra', 'journey', 'to', 'the', 'office'], ['Where', 'be', 'Sandra'], ['office']), (['John', 'travel', 'to', 'the', 'hallway', 'Sandra', 'travel', 'to', 'the', 'bathroom'], ['Where', 'be', 'Daniel'], ['kitchen']), (['Sandra', 'journey', 'to', 'the', 'bathroom', 'John', 'go', 'to', 'the', 'hallway'], ['Where', 'be', 'John'], ['hallway']), (['Mary', 'travel', 'to', 'the', 'garden', 'Mary', 'go', 'back', 'to', 'the', 'kitchen'], ['Where', 'be', 'Mary'], ['kitchen']), (['Daniel', 'travel', 'to', 'the', 'bathroom', 'John', 'move', 'to', 'the', 'garden'], ['Where', 'be', 'Mary'], ['kitchen']), (['Daniel', 'move', 'to', 'the', 'kitchen', 'Sandra', 'journey', 'to', 'the', 'hallway'], ['Where', 'be', 'Daniel'], ['kitchen']), (['Daniel', 'move', 'to', 'the', 'bedroom', 'John', 'go', 'back', 'to', 'the', 'office'], ['Where', 'be', 'Daniel'], ['bedroom']), (['John', 'go', 'back', 'to', 'the', 'kitchen', 'John', 'move', 'to', 'the', 'office'], ['Where', 'be', 'John'], ['office']), (['John', 'journey', 'to', 'the', 'garden', 'Sandra', 'journey', 'to', 'the', 'bedroom'], ['Where', 'be', 'John'], ['garden']), (['Mary', 'go', 'back', 'to', 'the', 'garden', 'John', 'journey', 'to', 'the', 'bedroom'], ['Where', 'be', 'John'], ['bedroom']), (['John', 'go', 'to', 'the', 'hallway', 'Sandra', 'go', 'back', 'to', 'the', 'hallway'], ['Where', 'be', 'Sandra'], ['hallway']), (['John', 'journey', 'to', 'the', 'bathroom', 'Mary', 'go', 'to', 'the', 'hallway'], ['Where', 'be', 'John'], ['bathroom']), (['John', 'go', 'back', 'to', 'the', 'bedroom', 'John', 'move', 'to', 'the', 'kitchen'], ['Where', 'be', 'John'], ['kitchen']), (['John', 'journey', 'to', 'the', 'garden', 'Mary', 'go', 'back', 'to', 'the', 'hallway'], ['Where', 'be', 'John'], ['garden']), (['Daniel', 'go', 'back', 'to', 'the', 'bedroom', 'John', 'go', 'to', 'the', 'bedroom'], ['Where', 'be', 'John'], ['bedroom']), (['Sandra', 'travel', 'to', 'the', 'garden', 'Daniel', 'go', 'back', 'to', 'the', 'office'], ['Where', 'be', 'John'], ['bedroom']), (['Mary', 'go', 'back', 'to', 'the', 'bedroom', 'Daniel', 'journey', 'to', 'the', 'kitchen'], ['Where', 'be', 'Daniel'], ['kitchen']), (['Mary', 'go', 'to', 'the', 'garden', 'Daniel', 'journey', 'to', 'the', 'bathroom'], ['Where', 'be', 'Mary'], ['garden']), (['John', 'go', 'to', 'the', 'office', 'Mary', 'move', 'to', 'the', 'hallway'], ['Where', 'be', 'Daniel'], ['bathroom']), (['John', 'go', 'to', 'the', 'bathroom', 'Daniel', 'move', 'to', 'the', 'kitchen'], ['Where', 'be', 'John'], ['bathroom']), (['John', 'go', 'to', 'the', 'kitchen', 'Daniel', 'go', 'to', 'the', 'bedroom'], ['Where', 'be', 'Mary'], ['hallway']), (['Mary', 'go', 'to', 'the', 'kitchen', 'Sandra', 'journey', 'to', 'the', 'garden'], ['Where', 'be', 'Sandra'], ['garden']), (['Daniel', 'go', 'back', 'to', 'the', 'kitchen', 'Daniel', 'move', 'to', 'the', 'garden'], ['Where', 'be', 'Daniel'], ['garden']), (['Sandra', 'journey', 'to', 'the', 'bedroom', 'Mary', 'move', 'to', 'the', 'bathroom'], ['Where', 'be', 'Sandra'], ['bedroom']), (['John', 'go', 'back', 'to', 'the', 'office', 'Daniel', 'go', 'back', 'to', 'the', 'bathroom'], ['Where', 'be', 'Daniel'], ['bathroom']), (['Daniel', 'travel', 'to', 'the', 'bedroom', 'Sandra', 'go', 'to', 'the', 'bathroom'], ['Where', 'be', 'Mary'], ['bathroom']), (['Daniel', 'go', 'back', 'to', 'the', 'hallway', 'Sandra', 'travel', 'to', 'the', 'kitchen'], ['Where', 'be', 'Sandra'], ['kitchen']), (['Sandra', 'move', 'to', 'the', 'bedroom', 'Mary', 'journey', 'to', 'the', 'bedroom'], ['Where', 'be', 'Mary'], ['bedroom']), (['Mary', 'move', 'to', 'the', 'bathroom', 'Daniel', 'travel', 'to', 'the', 'bedroom'], ['Where', 'be', 'Sandra'], ['bedroom']), (['Mary', 'move', 'to', 'the', 'bedroom', 'Sandra', 'go', 'to', 'the', 'kitchen'], ['Where', 'be', 'Mary'], ['bedroom']), (['Sandra', 'go', 'to', 'the', 'garden', 'Daniel', 'move', 'to', 'the', 'kitchen'], ['Where', 'be', 'Sandra'], ['garden']), (['Sandra', 'go', 'back', 'to', 'the', 'bedroom', 'Sandra', 'go', 'to', 'the', 'hallway'], ['Where', 'be', 'Sandra'], ['hallway']), (['John', 'journey', 'to', 'the', 'bedroom', 'Daniel', 'move', 'to', 'the', 'office'], ['Where', 'be', 'Daniel'], ['office']), (['John', 'go', 'to', 'the', 'hallway', 'John', 'journey', 'to', 'the', 'kitchen'], ['Where', 'be', 'John'], ['kitchen']), (['Mary', 'go', 'to', 'the', 'office', 'Daniel', 'go', 'back', 'to', 'the', 'bedroom'], ['Where', 'be', 'Mary'], ['office']), (['Daniel', 'move', 'to', 'the', 'hallway', 'John', 'go', 'to', 'the', 'bedroom'], ['Where', 'be', 'Daniel'], ['hallway']), (['Sandra', 'move', 'to', 'the', 'kitchen', 'Daniel', 'move', 'to', 'the', 'office'], ['Where', 'be', 'Daniel'], ['office']), (['Mary', 'journey', 'to', 'the', 'office', 'Daniel', 'go', 'to', 'the', 'bedroom'], ['Where', 'be', 'Mary'], ['office']), (['Daniel', 'journey', 'to', 'the', 'bathroom', 'Sandra', 'go', 'to', 'the', 'bedroom'], ['Where', 'be', 'Daniel'], ['bathroom']), (['Mary', 'journey', 'to', 'the', 'hallway', 'Daniel', 'travel', 'to', 'the', 'kitchen'], ['Where', 'be', 'Daniel'], ['kitchen']), (['Sandra', 'journey', 'to', 'the', 'bathroom', 'Sandra', 'move', 'to', 'the', 'bedroom'], ['Where', 'be', 'Mary'], ['hallway']), (['John', 'move', 'to', 'the', 'garden', 'Daniel', 'travel', 'to', 'the', 'bathroom'], ['Where', 'be', 'Sandra'], ['bedroom']), (['John', 'journey', 'to', 'the', 'garden', 'John', 'travel', 'to', 'the', 'office'], ['Where', 'be', 'John'], ['office']), (['Mary', 'travel', 'to', 'the', 'hallway', 'John', 'journey', 'to', 'the', 'bedroom'], ['Where', 'be', 'John'], ['bedroom']), (['Daniel', 'move', 'to', 'the', 'garden', 'Mary', 'journey', 'to', 'the', 'bedroom'], ['Where', 'be', 'John'], ['bedroom']), (['Daniel', 'go', 'to', 'the', 'office', 'Daniel', 'journey', 'to', 'the', 'kitchen'], ['Where', 'be', 'Daniel'], ['kitchen']), (['John', 'travel', 'to', 'the', 'hallway', 'Daniel', 'go', 'back', 'to', 'the', 'garden'], ['Where', 'be', 'Mary'], ['bedroom']), (['Daniel', 'journey', 'to', 'the', 'garden', 'John', 'move', 'to', 'the', 'garden'], ['Where', 'be', 'Daniel'], ['garden']), (['Daniel', 'travel', 'to', 'the', 'bathroom', 'Sandra', 'go', 'back', 'to', 'the', 'garden'], ['Where', 'be', 'Daniel'], ['bathroom']), (['Daniel', 'go', 'back', 'to', 'the', 'office', 'Mary', 'journey', 'to', 'the', 'bedroom'], ['Where', 'be', 'Sandra'], ['garden']), (['Daniel', 'go', 'to', 'the', 'kitchen', 'John', 'journey', 'to', 'the', 'kitchen'], ['Where', 'be', 'Sandra'], ['garden']), (['Sandra', 'journey', 'to', 'the', 'kitchen', 'Sandra', 'go', 'back', 'to', 'the', 'office'], ['Where', 'be', 'Sandra'], ['office']), (['Sandra', 'move', 'to', 'the', 'bathroom', 'John', 'journey', 'to', 'the', 'office'], ['Where', 'be', 'Sandra'], ['bathroom']), (['Sandra', 'go', 'back', 'to', 'the', 'hallway', 'John', 'move', 'to', 'the', 'bedroom'], ['Where', 'be', 'John'], ['bedroom']), (['Daniel', 'move', 'to', 'the', 'garden', 'Daniel', 'go', 'back', 'to', 'the', 'kitchen'], ['Where', 'be', 'Daniel'], ['kitchen']), (['Mary', 'go', 'back', 'to', 'the', 'bedroom', 'John', 'go', 'back', 'to', 'the', 'office'], ['Where', 'be', 'John'], ['office']), (['Mary', 'travel', 'to', 'the', 'office', 'Sandra', 'go', 'back', 'to', 'the', 'bedroom'], ['Where', 'be', 'John'], ['office']), (['Sandra', 'journey', 'to', 'the', 'bathroom', 'Mary', 'travel', 'to', 'the', 'hallway'], ['Where', 'be', 'Mary'], ['hallway']), (['Sandra', 'move', 'to', 'the', 'kitchen', 'Mary', 'journey', 'to', 'the', 'garden'], ['Where', 'be', 'Mary'], ['garden']), (['John', 'travel', 'to', 'the', 'office', 'John', 'go', 'to', 'the', 'hallway'], ['Where', 'be', 'John'], ['hallway']), (['Daniel', 'travel', 'to', 'the', 'bedroom', 'John', 'go', 'back', 'to', 'the', 'office'], ['Where', 'be', 'Mary'], ['garden']), (['Sandra', 'go', 'back', 'to', 'the', 'bedroom', 'John', 'go', 'to', 'the', 'bedroom'], ['Where', 'be', 'Sandra'], ['bedroom']), (['Mary', 'go', 'to', 'the', 'hallway', 'Daniel', 'go', 'to', 'the', 'bathroom'], ['Where', 'be', 'Daniel'], ['bathroom']), (['Mary', 'go', 'to', 'the', 'bedroom', 'Mary', 'go', 'to', 'the', 'kitchen'], ['Where', 'be', 'Mary'], ['kitchen']), (['Daniel', 'move', 'to', 'the', 'garden', 'Daniel', 'go', 'to', 'the', 'office'], ['Where', 'be', 'Daniel'], ['office']), (['John', 'go', 'to', 'the', 'kitchen', 'Sandra', 'travel', 'to', 'the', 'garden'], ['Where', 'be', 'John'], ['kitchen']), (['Mary', 'journey', 'to', 'the', 'hallway', 'Sandra', 'go', 'back', 'to', 'the', 'hallway'], ['Where', 'be', 'Sandra'], ['hallway']), (['Mary', 'go', 'back', 'to', 'the', 'hallway', 'Sandra', 'journey', 'to', 'the', 'bedroom'], ['Where', 'be', 'Sandra'], ['bedroom']), (['Sandra', 'travel', 'to', 'the', 'kitchen', 'John', 'go', 'back', 'to', 'the', 'hallway'], ['Where', 'be', 'Sandra'], ['kitchen']), (['Daniel', 'go', 'back', 'to', 'the', 'office', 'Mary', 'move', 'to', 'the', 'kitchen'], ['Where', 'be', 'Sandra'], ['kitchen']), (['Daniel', 'go', 'back', 'to', 'the', 'bathroom', 'Daniel', 'travel', 'to', 'the', 'office'], ['Where', 'be', 'Daniel'], ['office']), (['Daniel', 'go', 'to', 'the', 'hallway', 'Daniel', 'go', 'to', 'the', 'bathroom'], ['Where', 'be', 'Daniel'], ['bathroom']), (['Daniel', 'go', 'to', 'the', 'office', 'Mary', 'go', 'back', 'to', 'the', 'office'], ['Where', 'be', 'Mary'], ['office']), (['Sandra', 'travel', 'to', 'the', 'bedroom', 'John', 'journey', 'to', 'the', 'bedroom'], ['Where', 'be', 'John'], ['bedroom']), (['Mary', 'move', 'to', 'the', 'bedroom', 'Daniel', 'travel', 'to', 'the', 'kitchen'], ['Where', 'be', 'Mary'], ['bedroom']), (['Sandra', 'journey', 'to', 'the', 'garden', 'Sandra', 'journey', 'to', 'the', 'office'], ['Where', 'be', 'Sandra'], ['office']), (['Sandra', 'journey', 'to', 'the', 'garden', 'Sandra', 'travel', 'to', 'the', 'hallway'], ['Where', 'be', 'Daniel'], ['kitchen']), (['John', 'travel', 'to', 'the', 'bedroom', 'Mary', 'move', 'to', 'the', 'bedroom'], ['Where', 'be', 'John'], ['bedroom']), (['John', 'go', 'back', 'to', 'the', 'bathroom', 'Sandra', 'move', 'to', 'the', 'bathroom'], ['Where', 'be', 'Sandra'], ['bathroom']), (['John', 'journey', 'to', 'the', 'office', 'Daniel', 'journey', 'to', 'the', 'office'], ['Where', 'be', 'Sandra'], ['bathroom']), (['John', 'go', 'back', 'to', 'the', 'garden', 'John', 'journey', 'to', 'the', 'bedroom'], ['Where', 'be', 'John'], ['bedroom']), (['John', 'go', 'to', 'the', 'bathroom', 'Mary', 'move', 'to', 'the', 'office'], ['Where', 'be', 'John'], ['bathroom']), (['John', 'go', 'to', 'the', 'bathroom', 'John', 'move', 'to', 'the', 'office'], ['Where', 'be', 'John'], ['office']), (['John', 'go', 'to', 'the', 'hallway', 'Sandra', 'journey', 'to', 'the', 'hallway'], ['Where', 'be', 'John'], ['hallway']), (['John', 'journey', 'to', 'the', 'bathroom', 'Daniel', 'go', 'to', 'the', 'bathroom'], ['Where', 'be', 'John'], ['bathroom']), (['Sandra', 'move', 'to', 'the', 'garden', 'John', 'move', 'to', 'the', 'office'], ['Where', 'be', 'John'], ['office']), (['Sandra', 'move', 'to', 'the', 'hallway', 'Daniel', 'go', 'to', 'the', 'kitchen'], ['Where', 'be', 'Daniel'], ['kitchen']), (['Mary', 'travel', 'to', 'the', 'garden', 'Daniel', 'move', 'to', 'the', 'bathroom'], ['Where', 'be', 'Mary'], ['garden']), (['John', 'go', 'to', 'the', 'hallway', 'Sandra', 'go', 'back', 'to', 'the', 'kitchen'], ['Where', 'be', 'John'], ['hallway']), (['Daniel', 'go', 'back', 'to', 'the', 'garden', 'John', 'travel', 'to', 'the', 'garden'], ['Where', 'be', 'John'], ['garden']), (['Mary', 'go', 'to', 'the', 'bathroom', 'Sandra', 'go', 'back', 'to', 'the', 'hallway'], ['Where', 'be', 'Mary'], ['bathroom']), (['Daniel', 'travel', 'to', 'the', 'office', 'Daniel', 'travel', 'to', 'the', 'bathroom'], ['Where', 'be', 'Daniel'], ['bathroom']), (['John', 'move', 'to', 'the', 'hallway', 'Mary', 'travel', 'to', 'the', 'hallway'], ['Where', 'be', 'John'], ['hallway']), (['Sandra', 'go', 'to', 'the', 'bedroom', 'Sandra', 'go', 'back', 'to', 'the', 'hallway'], ['Where', 'be', 'Mary'], ['hallway']), (['John', 'go', 'back', 'to', 'the', 'office', 'Daniel', 'travel', 'to', 'the', 'kitchen'], ['Where', 'be', 'John'], ['office']), (['John', 'travel', 'to', 'the', 'hallway', 'Mary', 'journey', 'to', 'the', 'kitchen'], ['Where', 'be', 'John'], ['hallway']), (['John', 'travel', 'to', 'the', 'office', 'John', 'travel', 'to', 'the', 'kitchen'], ['Where', 'be', 'John'], ['kitchen']), (['Mary', 'move', 'to', 'the', 'bedroom', 'Sandra', 'go', 'back', 'to', 'the', 'garden'], ['Where', 'be', 'Sandra'], ['garden']), (['Daniel', 'go', 'to', 'the', 'bedroom', 'Mary', 'journey', 'to', 'the', 'hallway'], ['Where', 'be', 'Mary'], ['hallway']), (['Mary', 'go', 'back', 'to', 'the', 'bathroom', 'Daniel', 'journey', 'to', 'the', 'office'], ['Where', 'be', 'Sandra'], ['garden']), (['Daniel', 'go', 'back', 'to', 'the', 'bedroom', 'Mary', 'go', 'back', 'to', 'the', 'office'], ['Where', 'be', 'Mary'], ['office']), (['John', 'journey', 'to', 'the', 'garden', 'John', 'move', 'to', 'the', 'office'], ['Where', 'be', 'John'], ['office']), (['John', 'travel', 'to', 'the', 'bathroom', 'Sandra', 'move', 'to', 'the', 'hallway'], ['Where', 'be', 'Sandra'], ['hallway']), (['Daniel', 'travel', 'to', 'the', 'kitchen', 'Daniel', 'travel', 'to', 'the', 'hallway'], ['Where', 'be', 'Daniel'], ['hallway']), (['John', 'move', 'to', 'the', 'hallway', 'Mary', 'go', 'to', 'the', 'hallway'], ['Where', 'be', 'Daniel'], ['hallway']), (['Daniel', 'journey', 'to', 'the', 'office', 'Daniel', 'journey', 'to', 'the', 'kitchen'], ['Where', 'be', 'Daniel'], ['kitchen']), (['Mary', 'move', 'to', 'the', 'office', 'Mary', 'go', 'to', 'the', 'bedroom'], ['Where', 'be', 'Daniel'], ['kitchen']), (['Daniel', 'journey', 'to', 'the', 'hallway', 'Sandra', 'travel', 'to', 'the', 'kitchen'], ['Where', 'be', 'Sandra'], ['kitchen']), (['John', 'journey', 'to', 'the', 'hallway', 'Sandra', 'travel', 'to', 'the', 'office'], ['Where', 'be', 'Sandra'], ['office']), (['Sandra', 'go', 'to', 'the', 'hallway', 'Daniel', 'journey', 'to', 'the', 'office'], ['Where', 'be', 'Sandra'], ['hallway']), (['Daniel', 'go', 'back', 'to', 'the', 'bedroom', 'Sandra', 'move', 'to', 'the', 'bedroom'], ['Where', 'be', 'Sandra'], ['bedroom']), (['John', 'move', 'to', 'the', 'office', 'Daniel', 'travel', 'to', 'the', 'kitchen'], ['Where', 'be', 'Daniel'], ['kitchen']), (['Sandra', 'travel', 'to', 'the', 'bedroom', 'Mary', 'go', 'to', 'the', 'hallway'], ['Where', 'be', 'Mary'], ['hallway']), (['Sandra', 'go', 'to', 'the', 'office', 'Sandra', 'journey', 'to', 'the', 'kitchen'], ['Where', 'be', 'Mary'], ['hallway']), (['Sandra', 'travel', 'to', 'the', 'bathroom', 'Daniel', 'journey', 'to', 'the', 'office'], ['Where', 'be', 'Daniel'], ['office']), (['John', 'go', 'back', 'to', 'the', 'hallway', 'Daniel', 'journey', 'to', 'the', 'bedroom'], ['Where', 'be', 'Daniel'], ['bedroom']), (['Sandra', 'move', 'to', 'the', 'garden', 'Mary', 'go', 'back', 'to', 'the', 'bathroom'], ['Where', 'be', 'Mary'], ['bathroom']), (['Daniel', 'journey', 'to', 'the', 'bathroom', 'Daniel', 'travel', 'to', 'the', 'hallway'], ['Where', 'be', 'Daniel'], ['hallway']), (['Sandra', 'go', 'back', 'to', 'the', 'bedroom', 'Sandra', 'travel', 'to', 'the', 'bathroom'], ['Where', 'be', 'Sandra'], ['bathroom']), (['John', 'go', 'to', 'the', 'bathroom', 'Sandra', 'go', 'to', 'the', 'garden'], ['Where', 'be', 'John'], ['bathroom']), (['Mary', 'journey', 'to', 'the', 'hallway', 'Mary', 'travel', 'to', 'the', 'garden'], ['Where', 'be', 'Mary'], ['garden']), (['Mary', 'go', 'back', 'to', 'the', 'bedroom', 'John', 'go', 'back', 'to', 'the', 'bedroom'], ['Where', 'be', 'Mary'], ['bedroom']), (['John', 'move', 'to', 'the', 'bedroom', 'Mary', 'go', 'back', 'to', 'the', 'bedroom'], ['Where', 'be', 'Mary'], ['bedroom']), (['Daniel', 'move', 'to', 'the', 'bathroom', 'Daniel', 'move', 'to', 'the', 'office'], ['Where', 'be', 'John'], ['bedroom']), (['Sandra', 'journey', 'to', 'the', 'bedroom', 'Mary', 'move', 'to', 'the', 'garden'], ['Where', 'be', 'Daniel'], ['office']), (['John', 'go', 'back', 'to', 'the', 'garden', 'Sandra', 'go', 'to', 'the', 'bathroom'], ['Where', 'be', 'Sandra'], ['bathroom']), (['John', 'travel', 'to', 'the', 'bedroom', 'Sandra', 'travel', 'to', 'the', 'kitchen'], ['Where', 'be', 'Mary'], ['garden']), (['Daniel', 'move', 'to', 'the', 'garden', 'Sandra', 'move', 'to', 'the', 'bedroom'], ['Where', 'be', 'Daniel'], ['garden']), (['Daniel', 'journey', 'to', 'the', 'hallway', 'Sandra', 'go', 'to', 'the', 'office'], ['Where', 'be', 'Sandra'], ['office']), (['Daniel', 'move', 'to', 'the', 'bedroom', 'John', 'go', 'back', 'to', 'the', 'bathroom'], ['Where', 'be', 'Daniel'], ['bedroom']), (['Sandra', 'travel', 'to', 'the', 'kitchen', 'Sandra', 'go', 'back', 'to', 'the', 'bedroom'], ['Where', 'be', 'Sandra'], ['bedroom']), (['John', 'journey', 'to', 'the', 'garden', 'Daniel', 'go', 'back', 'to', 'the', 'garden'], ['Where', 'be', 'Sandra'], ['bedroom']), (['Daniel', 'go', 'back', 'to', 'the', 'office', 'Mary', 'go', 'back', 'to', 'the', 'hallway'], ['Where', 'be', 'Mary'], ['hallway']), (['Sandra', 'journey', 'to', 'the', 'bathroom', 'Sandra', 'travel', 'to', 'the', 'hallway'], ['Where', 'be', 'Mary'], ['hallway']), (['Mary', 'go', 'back', 'to', 'the', 'office', 'Daniel', 'go', 'to', 'the', 'bathroom'], ['Where', 'be', 'Daniel'], ['bathroom']), (['Mary', 'move', 'to', 'the', 'bathroom', 'John', 'go', 'to', 'the', 'bedroom'], ['Where', 'be', 'Mary'], ['bathroom']), (['Daniel', 'go', 'back', 'to', 'the', 'bedroom', 'Sandra', 'travel', 'to', 'the', 'office'], ['Where', 'be', 'Mary'], ['bathroom']), (['John', 'go', 'to', 'the', 'office', 'Mary', 'journey', 'to', 'the', 'garden'], ['Where', 'be', 'Mary'], ['garden']), (['John', 'go', 'to', 'the', 'garden', 'John', 'journey', 'to', 'the', 'hallway'], ['Where', 'be', 'John'], ['hallway']), (['Sandra', 'go', 'to', 'the', 'hallway', 'John', 'go', 'to', 'the', 'bedroom'], ['Where', 'be', 'Mary'], ['garden']), (['Sandra', 'move', 'to', 'the', 'bedroom', 'Mary', 'travel', 'to', 'the', 'hallway'], ['Where', 'be', 'John'], ['bedroom']), (['John', 'travel', 'to', 'the', 'garden', 'Daniel', 'go', 'back', 'to', 'the', 'bedroom'], ['Where', 'be', 'Sandra'], ['bedroom']), (['Sandra', 'travel', 'to', 'the', 'bathroom', 'Mary', 'travel', 'to', 'the', 'office'], ['Where', 'be', 'Mary'], ['office']), (['Sandra', 'travel', 'to', 'the', 'hallway', 'Mary', 'move', 'to', 'the', 'bathroom'], ['Where', 'be', 'Sandra'], ['hallway']), (['John', 'go', 'to', 'the', 'office', 'Sandra', 'journey', 'to', 'the', 'office'], ['Where', 'be', 'Sandra'], ['office']), (['John', 'go', 'back', 'to', 'the', 'bathroom', 'John', 'travel', 'to', 'the', 'kitchen'], ['Where', 'be', 'John'], ['kitchen']), (['John', 'move', 'to', 'the', 'office', 'Daniel', 'go', 'back', 'to', 'the', 'kitchen'], ['Where', 'be', 'Sandra'], ['office']), (['Mary', 'go', 'back', 'to', 'the', 'bedroom', 'Mary', 'move', 'to', 'the', 'bathroom'], ['Where', 'be', 'Mary'], ['bathroom']), (['Sandra', 'travel', 'to', 'the', 'bedroom', 'Sandra', 'go', 'to', 'the', 'office'], ['Where', 'be', 'Sandra'], ['office']), (['Daniel', 'go', 'to', 'the', 'garden', 'Daniel', 'journey', 'to', 'the', 'bathroom'], ['Where', 'be', 'Daniel'], ['bathroom']), (['Sandra', 'move', 'to', 'the', 'hallway', 'John', 'journey', 'to', 'the', 'kitchen'], ['Where', 'be', 'Daniel'], ['bathroom']), (['Sandra', 'go', 'to', 'the', 'office', 'John', 'move', 'to', 'the', 'bathroom'], ['Where', 'be', 'Daniel'], ['bathroom']), (['Daniel', 'go', 'to', 'the', 'kitchen', 'Sandra', 'go', 'to', 'the', 'kitchen'], ['Where', 'be', 'Sandra'], ['kitchen']), (['John', 'move', 'to', 'the', 'bedroom', 'Mary', 'go', 'to', 'the', 'hallway'], ['Where', 'be', 'Mary'], ['hallway']), (['Mary', 'travel', 'to', 'the', 'kitchen', 'Sandra', 'journey', 'to', 'the', 'hallway'], ['Where', 'be', 'Sandra'], ['hallway']), (['Sandra', 'travel', 'to', 'the', 'bedroom', 'Daniel', 'journey', 'to', 'the', 'garden'], ['Where', 'be', 'Mary'], ['kitchen']), (['Sandra', 'journey', 'to', 'the', 'office', 'Sandra', 'journey', 'to', 'the', 'kitchen'], ['Where', 'be', 'Daniel'], ['garden']), (['Daniel', 'travel', 'to', 'the', 'kitchen', 'Daniel', 'go', 'to', 'the', 'hallway'], ['Where', 'be', 'Daniel'], ['hallway']), (['Mary', 'travel', 'to', 'the', 'hallway', 'John', 'go', 'to', 'the', 'hallway'], ['Where', 'be', 'Mary'], ['hallway']), (['Sandra', 'move', 'to', 'the', 'garden', 'Mary', 'go', 'to', 'the', 'kitchen'], ['Where', 'be', 'John'], ['hallway']), (['John', 'move', 'to', 'the', 'garden', 'John', 'go', 'back', 'to', 'the', 'bathroom'], ['Where', 'be', 'John'], ['bathroom']), (['Mary', 'go', 'to', 'the', 'hallway', 'Daniel', 'move', 'to', 'the', 'kitchen'], ['Where', 'be', 'Mary'], ['hallway']), (['John', 'go', 'back', 'to', 'the', 'hallway', 'Daniel', 'journey', 'to', 'the', 'bedroom'], ['Where', 'be', 'John'], ['hallway']), (['Sandra', 'go', 'back', 'to', 'the', 'bedroom', 'Sandra', 'move', 'to', 'the', 'bathroom'], ['Where', 'be', 'Daniel'], ['bedroom']), (['John', 'go', 'to', 'the', 'office', 'John', 'travel', 'to', 'the', 'garden'], ['Where', 'be', 'John'], ['garden']), (['John', 'go', 'to', 'the', 'bedroom', 'Mary', 'go', 'back', 'to', 'the', 'kitchen'], ['Where', 'be', 'Sandra'], ['bathroom']), (['Mary', 'go', 'back', 'to', 'the', 'garden', 'Mary', 'journey', 'to', 'the', 'bedroom'], ['Where', 'be', 'Mary'], ['bedroom']), (['Daniel', 'journey', 'to', 'the', 'kitchen', 'Daniel', 'go', 'back', 'to', 'the', 'bedroom'], ['Where', 'be', 'Daniel'], ['bedroom']), (['Sandra', 'travel', 'to', 'the', 'bathroom', 'Sandra', 'move', 'to', 'the', 'kitchen'], ['Where', 'be', 'Sandra'], ['kitchen']), (['Sandra', 'journey', 'to', 'the', 'bedroom', 'Mary', 'go', 'to', 'the', 'kitchen'], ['Where', 'be', 'Sandra'], ['bedroom']), (['Daniel', 'move', 'to', 'the', 'bathroom', 'Sandra', 'move', 'to', 'the', 'office'], ['Where', 'be', 'Daniel'], ['bathroom']), (['Sandra', 'travel', 'to', 'the', 'hallway', 'John', 'go', 'to', 'the', 'kitchen'], ['Where', 'be', 'Mary'], ['kitchen']), (['John', 'go', 'to', 'the', 'hallway', 'Daniel', 'move', 'to', 'the', 'garden'], ['Where', 'be', 'Daniel'], ['garden']), (['John', 'go', 'back', 'to', 'the', 'bedroom', 'Mary', 'journey', 'to', 'the', 'garden'], ['Where', 'be', 'John'], ['bedroom']), (['Sandra', 'go', 'back', 'to', 'the', 'kitchen', 'Daniel', 'go', 'to', 'the', 'hallway'], ['Where', 'be', 'Sandra'], ['kitchen']), (['John', 'go', 'back', 'to', 'the', 'bathroom', 'Daniel', 'go', 'back', 'to', 'the', 'kitchen'], ['Where', 'be', 'John'], ['bathroom']), (['Daniel', 'go', 'to', 'the', 'bedroom', 'John', 'travel', 'to', 'the', 'hallway'], ['Where', 'be', 'Daniel'], ['bedroom']), (['Daniel', 'travel', 'to', 'the', 'bathroom', 'Sandra', 'move', 'to', 'the', 'kitchen'], ['Where', 'be', 'Sandra'], ['kitchen']), (['Mary', 'move', 'to', 'the', 'bedroom', 'Mary', 'journey', 'to', 'the', 'garden'], ['Where', 'be', 'Daniel'], ['bathroom']), (['Mary', 'move', 'to', 'the', 'hallway', 'Sandra', 'go', 'back', 'to', 'the', 'hallway'], ['Where', 'be', 'Sandra'], ['hallway']), (['Mary', 'go', 'to', 'the', 'kitchen', 'John', 'go', 'to', 'the', 'garden'], ['Where', 'be', 'Mary'], ['kitchen']), (['John', 'move', 'to', 'the', 'office', 'Daniel', 'go', 'back', 'to', 'the', 'bedroom'], ['Where', 'be', 'John'], ['office']), (['Sandra', 'move', 'to', 'the', 'office', 'John', 'go', 'back', 'to', 'the', 'garden'], ['Where', 'be', 'John'], ['garden']), (['Daniel', 'travel', 'to', 'the', 'office', 'Sandra', 'journey', 'to', 'the', 'bathroom'], ['Where', 'be', 'Sandra'], ['bathroom']), (['John', 'move', 'to', 'the', 'kitchen', 'John', 'move', 'to', 'the', 'bathroom'], ['Where', 'be', 'Sandra'], ['bathroom']), (['Sandra', 'journey', 'to', 'the', 'hallway', 'Daniel', 'go', 'to', 'the', 'bathroom'], ['Where', 'be', 'Daniel'], ['bathroom']), (['Sandra', 'go', 'to', 'the', 'bathroom', 'Sandra', 'journey', 'to', 'the', 'hallway'], ['Where', 'be', 'Sandra'], ['hallway']), (['John', 'travel', 'to', 'the', 'kitchen', 'John', 'go', 'to', 'the', 'bathroom'], ['Where', 'be', 'John'], ['bathroom']), (['Sandra', 'travel', 'to', 'the', 'bedroom', 'Sandra', 'journey', 'to', 'the', 'garden'], ['Where', 'be', 'John'], ['bathroom']), (['John', 'journey', 'to', 'the', 'bedroom', 'John', 'journey', 'to', 'the', 'bathroom'], ['Where', 'be', 'John'], ['bathroom']), (['Mary', 'travel', 'to', 'the', 'kitchen', 'Mary', 'journey', 'to', 'the', 'garden'], ['Where', 'be', 'John'], ['bathroom']), (['John', 'journey', 'to', 'the', 'office', 'Daniel', 'journey', 'to', 'the', 'bathroom'], ['Where', 'be', 'Daniel'], ['bathroom']), (['Mary', 'move', 'to', 'the', 'bedroom', 'Sandra', 'travel', 'to', 'the', 'garden'], ['Where', 'be', 'Mary'], ['bedroom']), (['Sandra', 'journey', 'to', 'the', 'kitchen', 'Sandra', 'move', 'to', 'the', 'garden'], ['Where', 'be', 'Sandra'], ['garden']), (['Sandra', 'travel', 'to', 'the', 'kitchen', 'Daniel', 'go', 'to', 'the', 'garden'], ['Where', 'be', 'Daniel'], ['garden']), (['John', 'go', 'to', 'the', 'hallway', 'Mary', 'travel', 'to', 'the', 'hallway'], ['Where', 'be', 'John'], ['hallway']), (['Daniel', 'go', 'back', 'to', 'the', 'hallway', 'Daniel', 'move', 'to', 'the', 'bathroom'], ['Where', 'be', 'Mary'], ['hallway']), (['Daniel', 'go', 'to', 'the', 'bedroom', 'Mary', 'go', 'to', 'the', 'kitchen'], ['Where', 'be', 'Mary'], ['kitchen']), (['Mary', 'travel', 'to', 'the', 'bedroom', 'John', 'journey', 'to', 'the', 'bathroom'], ['Where', 'be', 'Mary'], ['bedroom']), (['Sandra', 'move', 'to', 'the', 'garden', 'Sandra', 'go', 'to', 'the', 'office'], ['Where', 'be', 'Mary'], ['bedroom']), (['Daniel', 'go', 'back', 'to', 'the', 'hallway', 'Sandra', 'move', 'to', 'the', 'kitchen'], ['Where', 'be', 'Sandra'], ['kitchen']), (['Mary', 'travel', 'to', 'the', 'bathroom', 'Sandra', 'journey', 'to', 'the', 'bedroom'], ['Where', 'be', 'Sandra'], ['bedroom']), (['Daniel', 'go', 'to', 'the', 'kitchen', 'Daniel', 'go', 'back', 'to', 'the', 'garden'], ['Where', 'be', 'Daniel'], ['garden']), (['Daniel', 'go', 'back', 'to', 'the', 'office', 'John', 'travel', 'to', 'the', 'kitchen'], ['Where', 'be', 'Daniel'], ['office']), (['Sandra', 'move', 'to', 'the', 'bedroom', 'John', 'go', 'to', 'the', 'office'], ['Where', 'be', 'Daniel'], ['office']), (['Mary', 'journey', 'to', 'the', 'office', 'Sandra', 'move', 'to', 'the', 'kitchen'], ['Where', 'be', 'Mary'], ['office']), (['Sandra', 'move', 'to', 'the', 'office', 'John', 'travel', 'to', 'the', 'garden'], ['Where', 'be', 'John'], ['garden']), (['Sandra', 'journey', 'to', 'the', 'hallway', 'Mary', 'travel', 'to', 'the', 'bathroom'], ['Where', 'be', 'Mary'], ['bathroom']), (['John', 'move', 'to', 'the', 'office', 'Mary', 'move', 'to', 'the', 'bedroom'], ['Where', 'be', 'Mary'], ['bedroom']), (['Mary', 'journey', 'to', 'the', 'kitchen', 'Mary', 'go', 'back', 'to', 'the', 'bathroom'], ['Where', 'be', 'John'], ['office']), (['John', 'move', 'to', 'the', 'bathroom', 'Mary', 'go', 'back', 'to', 'the', 'kitchen'], ['Where', 'be', 'Mary'], ['kitchen']), (['Sandra', 'journey', 'to', 'the', 'bedroom', 'Daniel', 'go', 'back', 'to', 'the', 'kitchen'], ['Where', 'be', 'John'], ['bathroom']), (['Sandra', 'move', 'to', 'the', 'hallway', 'John', 'go', 'back', 'to', 'the', 'hallway'], ['Where', 'be', 'Sandra'], ['hallway']), (['Daniel', 'move', 'to', 'the', 'garden', 'Daniel', 'go', 'to', 'the', 'bathroom'], ['Where', 'be', 'Sandra'], ['hallway']), (['Daniel', 'move', 'to', 'the', 'hallway', 'Sandra', 'go', 'to', 'the', 'kitchen'], ['Where', 'be', 'Sandra'], ['kitchen']), (['Daniel', 'journey', 'to', 'the', 'kitchen', 'Daniel', 'go', 'to', 'the', 'garden'], ['Where', 'be', 'Daniel'], ['garden']), (['Daniel', 'move', 'to', 'the', 'bathroom', 'Mary', 'go', 'to', 'the', 'office'], ['Where', 'be', 'Daniel'], ['bathroom']), (['Sandra', 'travel', 'to', 'the', 'office', 'Sandra', 'go', 'to', 'the', 'garden'], ['Where', 'be', 'Sandra'], ['garden']), (['Mary', 'go', 'back', 'to', 'the', 'garden', 'Daniel', 'go', 'to', 'the', 'kitchen'], ['Where', 'be', 'Mary'], ['garden']), (['Sandra', 'move', 'to', 'the', 'bathroom', 'Sandra', 'travel', 'to', 'the', 'garden'], ['Where', 'be', 'Daniel'], ['kitchen']), (['Mary', 'go', 'to', 'the', 'bedroom', 'Mary', 'go', 'to', 'the', 'garden'], ['Where', 'be', 'Sandra'], ['garden']), (['Sandra', 'move', 'to', 'the', 'hallway', 'Mary', 'move', 'to', 'the', 'bathroom'], ['Where', 'be', 'Mary'], ['bathroom']), (['Daniel', 'journey', 'to', 'the', 'kitchen', 'John', 'go', 'back', 'to', 'the', 'kitchen'], ['Where', 'be', 'John'], ['kitchen']), (['Mary', 'go', 'to', 'the', 'hallway', 'John', 'move', 'to', 'the', 'office'], ['Where', 'be', 'John'], ['office']), (['Daniel', 'travel', 'to', 'the', 'hallway', 'Mary', 'go', 'to', 'the', 'garden'], ['Where', 'be', 'John'], ['office']), (['Mary', 'go', 'back', 'to', 'the', 'office', 'Mary', 'go', 'to', 'the', 'garden'], ['Where', 'be', 'Mary'], ['garden']), (['Sandra', 'move', 'to', 'the', 'bathroom', 'Daniel', 'move', 'to', 'the', 'office'], ['Where', 'be', 'Mary'], ['garden']), (['John', 'go', 'to', 'the', 'kitchen', 'John', 'move', 'to', 'the', 'garden'], ['Where', 'be', 'John'], ['garden']), (['Daniel', 'go', 'back', 'to', 'the', 'bedroom', 'Sandra', 'move', 'to', 'the', 'office'], ['Where', 'be', 'Sandra'], ['office']), (['Sandra', 'journey', 'to', 'the', 'garden', 'John', 'move', 'to', 'the', 'bathroom'], ['Where', 'be', 'Sandra'], ['garden']), (['Daniel', 'travel', 'to', 'the', 'bathroom', 'John', 'travel', 'to', 'the', 'garden'], ['Where', 'be', 'John'], ['garden']), (['Mary', 'go', 'back', 'to', 'the', 'bathroom', 'Sandra', 'travel', 'to', 'the', 'hallway'], ['Where', 'be', 'John'], ['garden']), (['Sandra', 'go', 'to', 'the', 'garden', 'Mary', 'travel', 'to', 'the', 'garden'], ['Where', 'be', 'Sandra'], ['garden']), (['Sandra', 'travel', 'to', 'the', 'kitchen', 'Daniel', 'go', 'back', 'to', 'the', 'bedroom'], ['Where', 'be', 'Mary'], ['garden']), (['Daniel', 'go', 'to', 'the', 'kitchen', 'Sandra', 'travel', 'to', 'the', 'garden'], ['Where', 'be', 'Sandra'], ['garden']), (['Mary', 'go', 'back', 'to', 'the', 'bedroom', 'Mary', 'travel', 'to', 'the', 'kitchen'], ['Where', 'be', 'Daniel'], ['kitchen']), (['John', 'travel', 'to', 'the', 'bathroom', 'Mary', 'travel', 'to', 'the', 'hallway'], ['Where', 'be', 'Sandra'], ['garden']), (['Daniel', 'travel', 'to', 'the', 'bathroom', 'Sandra', 'move', 'to', 'the', 'hallway'], ['Where', 'be', 'Sandra'], ['hallway']), (['Sandra', 'go', 'to', 'the', 'office', 'Mary', 'journey', 'to', 'the', 'kitchen'], ['Where', 'be', 'Mary'], ['kitchen']), (['Daniel', 'go', 'to', 'the', 'kitchen', 'Mary', 'go', 'back', 'to', 'the', 'garden'], ['Where', 'be', 'Mary'], ['garden']), (['Daniel', 'move', 'to', 'the', 'bedroom', 'Sandra', 'travel', 'to', 'the', 'garden'], ['Where', 'be', 'Daniel'], ['bedroom']), (['Daniel', 'go', 'back', 'to', 'the', 'hallway', 'John', 'move', 'to', 'the', 'bedroom'], ['Where', 'be', 'Sandra'], ['garden']), (['Mary', 'travel', 'to', 'the', 'bedroom', 'Daniel', 'travel', 'to', 'the', 'office'], ['Where', 'be', 'Mary'], ['bedroom']), (['Daniel', 'journey', 'to', 'the', 'hallway', 'Mary', 'travel', 'to', 'the', 'hallway'], ['Where', 'be', 'Mary'], ['hallway']), (['Sandra', 'travel', 'to', 'the', 'kitchen', 'Mary', 'travel', 'to', 'the', 'kitchen'], ['Where', 'be', 'Daniel'], ['hallway']), (['John', 'journey', 'to', 'the', 'garden', 'Daniel', 'go', 'to', 'the', 'bathroom'], ['Where', 'be', 'Sandra'], ['kitchen']), (['Daniel', 'move', 'to', 'the', 'garden', 'John', 'go', 'to', 'the', 'kitchen'], ['Where', 'be', 'Daniel'], ['garden']), (['Sandra', 'go', 'back', 'to', 'the', 'office', 'Sandra', 'move', 'to', 'the', 'bathroom'], ['Where', 'be', 'Sandra'], ['bathroom']), (['Mary', 'travel', 'to', 'the', 'office', 'Mary', 'move', 'to', 'the', 'hallway'], ['Where', 'be', 'Sandra'], ['bathroom']), (['Mary', 'go', 'to', 'the', 'bedroom', 'Mary', 'journey', 'to', 'the', 'office'], ['Where', 'be', 'Mary'], ['office']), (['Mary', 'journey', 'to', 'the', 'bathroom', 'Sandra', 'travel', 'to', 'the', 'garden'], ['Where', 'be', 'Sandra'], ['garden']), (['Mary', 'go', 'to', 'the', 'kitchen', 'John', 'travel', 'to', 'the', 'hallway'], ['Where', 'be', 'Mary'], ['kitchen']), (['Sandra', 'go', 'to', 'the', 'kitchen', 'Daniel', 'go', 'back', 'to', 'the', 'bathroom'], ['Where', 'be', 'Sandra'], ['kitchen']), (['Daniel', 'journey', 'to', 'the', 'hallway', 'Mary', 'journey', 'to', 'the', 'kitchen'], ['Where', 'be', 'Mary'], ['kitchen']), (['Sandra', 'travel', 'to', 'the', 'bedroom', 'Sandra', 'go', 'to', 'the', 'office'], ['Where', 'be', 'Sandra'], ['office']), (['Mary', 'move', 'to', 'the', 'office', 'Sandra', 'go', 'back', 'to', 'the', 'hallway'], ['Where', 'be', 'Mary'], ['office']), (['John', 'travel', 'to', 'the', 'bedroom', 'Daniel', 'journey', 'to', 'the', 'office'], ['Where', 'be', 'Mary'], ['office']), (['John', 'travel', 'to', 'the', 'hallway', 'Mary', 'travel', 'to', 'the', 'bathroom'], ['Where', 'be', 'John'], ['hallway']), (['Sandra', 'go', 'to', 'the', 'bedroom', 'Daniel', 'move', 'to', 'the', 'office'], ['Where', 'be', 'Daniel'], ['office']), (['Daniel', 'travel', 'to', 'the', 'hallway', 'Daniel', 'journey', 'to', 'the', 'bathroom'], ['Where', 'be', 'Sandra'], ['bedroom']), (['Daniel', 'go', 'to', 'the', 'hallway', 'Mary', 'journey', 'to', 'the', 'office'], ['Where', 'be', 'Daniel'], ['hallway']), (['Mary', 'travel', 'to', 'the', 'bathroom', 'Sandra', 'journey', 'to', 'the', 'garden'], ['Where', 'be', 'Mary'], ['bathroom']), (['Daniel', 'journey', 'to', 'the', 'bedroom', 'Daniel', 'move', 'to', 'the', 'kitchen'], ['Where', 'be', 'Daniel'], ['kitchen']), (['Mary', 'travel', 'to', 'the', 'kitchen', 'Mary', 'move', 'to', 'the', 'bathroom'], ['Where', 'be', 'Daniel'], ['kitchen']), (['John', 'travel', 'to', 'the', 'office', 'Daniel', 'go', 'to', 'the', 'hallway'], ['Where', 'be', 'John'], ['office']), (['John', 'go', 'back', 'to', 'the', 'garden', 'Sandra', 'travel', 'to', 'the', 'bathroom'], ['Where', 'be', 'Mary'], ['bathroom']), (['Sandra', 'journey', 'to', 'the', 'office', 'John', 'go', 'to', 'the', 'bathroom'], ['Where', 'be', 'John'], ['bathroom']), (['Sandra', 'travel', 'to', 'the', 'bathroom', 'Sandra', 'move', 'to', 'the', 'kitchen'], ['Where', 'be', 'Sandra'], ['kitchen']), (['Sandra', 'journey', 'to', 'the', 'bathroom', 'Sandra', 'journey', 'to', 'the', 'bedroom'], ['Where', 'be', 'Sandra'], ['bedroom']), (['Sandra', 'journey', 'to', 'the', 'hallway', 'Mary', 'go', 'to', 'the', 'kitchen'], ['Where', 'be', 'Sandra'], ['hallway']), (['John', 'go', 'back', 'to', 'the', 'garden', 'Mary', 'go', 'to', 'the', 'office'], ['Where', 'be', 'Mary'], ['office']), (['Daniel', 'journey', 'to', 'the', 'office', 'Mary', 'go', 'back', 'to', 'the', 'bedroom'], ['Where', 'be', 'John'], ['garden']), (['John', 'travel', 'to', 'the', 'office', 'Daniel', 'go', 'back', 'to', 'the', 'bedroom'], ['Where', 'be', 'John'], ['office']), (['Sandra', 'travel', 'to', 'the', 'hallway', 'Daniel', 'journey', 'to', 'the', 'office'], ['Where', 'be', 'Daniel'], ['office']), (['Daniel', 'travel', 'to', 'the', 'bathroom', 'Mary', 'travel', 'to', 'the', 'garden'], ['Where', 'be', 'Daniel'], ['bathroom']), (['Mary', 'go', 'to', 'the', 'bedroom', 'Sandra', 'move', 'to', 'the', 'office'], ['Where', 'be', 'Daniel'], ['bathroom']), (['Mary', 'go', 'to', 'the', 'kitchen', 'Sandra', 'go', 'to', 'the', 'kitchen'], ['Where', 'be', 'Mary'], ['kitchen']), (['John', 'go', 'back', 'to', 'the', 'hallway', 'Sandra', 'move', 'to', 'the', 'bedroom'], ['Where', 'be', 'Sandra'], ['bedroom']), (['Sandra', 'go', 'to', 'the', 'bathroom', 'Daniel', 'go', 'back', 'to', 'the', 'office'], ['Where', 'be', 'Daniel'], ['office']), (['Sandra', 'go', 'to', 'the', 'kitchen', 'Sandra', 'move', 'to', 'the', 'bedroom'], ['Where', 'be', 'Daniel'], ['office']), (['John', 'journey', 'to', 'the', 'garden', 'Mary', 'travel', 'to', 'the', 'hallway'], ['Where', 'be', 'Mary'], ['hallway']), (['Mary', 'go', 'to', 'the', 'office', 'Daniel', 'travel', 'to', 'the', 'bedroom'], ['Where', 'be', 'Sandra'], ['bedroom']), (['Mary', 'travel', 'to', 'the', 'kitchen', 'Mary', 'move', 'to', 'the', 'hallway'], ['Where', 'be', 'Mary'], ['hallway']), (['John', 'go', 'to', 'the', 'office', 'John', 'go', 'back', 'to', 'the', 'garden'], ['Where', 'be', 'John'], ['garden']), (['John', 'move', 'to', 'the', 'hallway', 'Sandra', 'travel', 'to', 'the', 'hallway'], ['Where', 'be', 'John'], ['hallway']), (['Mary', 'move', 'to', 'the', 'garden', 'Daniel', 'journey', 'to', 'the', 'hallway'], ['Where', 'be', 'Mary'], ['garden']), (['Daniel', 'go', 'to', 'the', 'bedroom', 'Mary', 'travel', 'to', 'the', 'bedroom'], ['Where', 'be', 'Sandra'], ['hallway']), (['Mary', 'journey', 'to', 'the', 'office', 'Sandra', 'travel', 'to', 'the', 'bathroom'], ['Where', 'be', 'Mary'], ['office']), (['Sandra', 'travel', 'to', 'the', 'office', 'Mary', 'go', 'back', 'to', 'the', 'hallway'], ['Where', 'be', 'Mary'], ['hallway']), (['Daniel', 'go', 'back', 'to', 'the', 'office', 'Sandra', 'go', 'to', 'the', 'bathroom'], ['Where', 'be', 'Sandra'], ['bathroom']), (['John', 'journey', 'to', 'the', 'bedroom', 'Sandra', 'go', 'back', 'to', 'the', 'office'], ['Where', 'be', 'John'], ['bedroom']), (['Daniel', 'go', 'to', 'the', 'bedroom', 'Sandra', 'travel', 'to', 'the', 'garden'], ['Where', 'be', 'Sandra'], ['garden']), (['Mary', 'journey', 'to', 'the', 'hallway', 'Sandra', 'go', 'to', 'the', 'garden'], ['Where', 'be', 'Mary'], ['hallway']), (['Sandra', 'journey', 'to', 'the', 'hallway', 'Mary', 'journey', 'to', 'the', 'bathroom'], ['Where', 'be', 'Mary'], ['bathroom']), (['John', 'go', 'to', 'the', 'bathroom', 'Mary', 'go', 'back', 'to', 'the', 'kitchen'], ['Where', 'be', 'Mary'], ['kitchen']), (['Daniel', 'go', 'back', 'to', 'the', 'bedroom', 'Sandra', 'travel', 'to', 'the', 'bathroom'], ['Where', 'be', 'Sandra'], ['bathroom']), (['Sandra', 'journey', 'to', 'the', 'bedroom', 'Sandra', 'go', 'to', 'the', 'office'], ['Where', 'be', 'Sandra'], ['office']), (['Mary', 'go', 'back', 'to', 'the', 'bedroom', 'Mary', 'travel', 'to', 'the', 'garden'], ['Where', 'be', 'Mary'], ['garden']), (['John', 'journey', 'to', 'the', 'kitchen', 'Sandra', 'go', 'back', 'to', 'the', 'office'], ['Where', 'be', 'Mary'], ['garden']), (['Mary', 'journey', 'to', 'the', 'bedroom', 'Sandra', 'travel', 'to', 'the', 'bathroom'], ['Where', 'be', 'John'], ['kitchen']), (['Daniel', 'journey', 'to', 'the', 'garden', 'Mary', 'go', 'back', 'to', 'the', 'hallway'], ['Where', 'be', 'Mary'], ['hallway']), (['John', 'move', 'to', 'the', 'bedroom', 'Mary', 'travel', 'to', 'the', 'kitchen'], ['Where', 'be', 'Daniel'], ['garden']), (['Sandra', 'go', 'back', 'to', 'the', 'garden', 'Sandra', 'go', 'to', 'the', 'hallway'], ['Where', 'be', 'Sandra'], ['hallway']), (['Mary', 'go', 'back', 'to', 'the', 'garden', 'Sandra', 'journey', 'to', 'the', 'office'], ['Where', 'be', 'Sandra'], ['office']), (['Sandra', 'travel', 'to', 'the', 'hallway', 'Sandra', 'move', 'to', 'the', 'bedroom'], ['Where', 'be', 'Mary'], ['garden']), (['Daniel', 'move', 'to', 'the', 'office', 'Mary', 'journey', 'to', 'the', 'hallway'], ['Where', 'be', 'Daniel'], ['office']), (['Mary', 'journey', 'to', 'the', 'bedroom', 'Daniel', 'go', 'back', 'to', 'the', 'kitchen'], ['Where', 'be', 'Mary'], ['bedroom']), (['Sandra', 'journey', 'to', 'the', 'garden', 'Sandra', 'journey', 'to', 'the', 'kitchen'], ['Where', 'be', 'Sandra'], ['kitchen']), (['Daniel', 'journey', 'to', 'the', 'bedroom', 'Sandra', 'move', 'to', 'the', 'garden'], ['Where', 'be', 'Sandra'], ['garden']), (['Mary', 'journey', 'to', 'the', 'office', 'Mary', 'journey', 'to', 'the', 'bathroom'], ['Where', 'be', 'Mary'], ['bathroom']), (['Daniel', 'journey', 'to', 'the', 'garden', 'Mary', 'go', 'back', 'to', 'the', 'bedroom'], ['Where', 'be', 'Daniel'], ['garden']), (['Sandra', 'go', 'back', 'to', 'the', 'kitchen', 'Sandra', 'travel', 'to', 'the', 'bedroom'], ['Where', 'be', 'Sandra'], ['bedroom']), (['Daniel', 'go', 'to', 'the', 'hallway', 'Daniel', 'move', 'to', 'the', 'bedroom'], ['Where', 'be', 'Daniel'], ['bedroom']), (['Sandra', 'move', 'to', 'the', 'office', 'Daniel', 'journey', 'to', 'the', 'hallway'], ['Where', 'be', 'Daniel'], ['hallway']), (['John', 'journey', 'to', 'the', 'bathroom', 'Sandra', 'go', 'to', 'the', 'garden'], ['Where', 'be', 'Daniel'], ['hallway']), (['John', 'move', 'to', 'the', 'garden', 'Mary', 'journey', 'to', 'the', 'garden'], ['Where', 'be', 'John'], ['garden']), (['Mary', 'go', 'to', 'the', 'office', 'Sandra', 'journey', 'to', 'the', 'hallway'], ['Where', 'be', 'John'], ['garden']), (['John', 'travel', 'to', 'the', 'garden', 'Daniel', 'journey', 'to', 'the', 'bedroom'], ['Where', 'be', 'John'], ['garden']), (['Sandra', 'go', 'back', 'to', 'the', 'garden', 'Mary', 'go', 'to', 'the', 'kitchen'], ['Where', 'be', 'John'], ['garden']), (['John', 'travel', 'to', 'the', 'kitchen', 'Sandra', 'move', 'to', 'the', 'bedroom'], ['Where', 'be', 'Sandra'], ['bedroom']), (['Daniel', 'move', 'to', 'the', 'garden', 'Daniel', 'travel', 'to', 'the', 'bedroom'], ['Where', 'be', 'Daniel'], ['bedroom']), (['Mary', 'journey', 'to', 'the', 'office', 'Sandra', 'move', 'to', 'the', 'bathroom'], ['Where', 'be', 'Daniel'], ['bedroom']), (['John', 'travel', 'to', 'the', 'bathroom', 'Sandra', 'go', 'to', 'the', 'kitchen'], ['Where', 'be', 'Sandra'], ['kitchen']), (['Daniel', 'go', 'to', 'the', 'garden', 'Mary', 'move', 'to', 'the', 'bedroom'], ['Where', 'be', 'Mary'], ['bedroom']), (['Sandra', 'move', 'to', 'the', 'bathroom', 'John', 'move', 'to', 'the', 'hallway'], ['Where', 'be', 'Sandra'], ['bathroom']), (['John', 'go', 'back', 'to', 'the', 'kitchen', 'Daniel', 'journey', 'to', 'the', 'hallway'], ['Where', 'be', 'John'], ['kitchen']), (['Daniel', 'go', 'back', 'to', 'the', 'office', 'Sandra', 'go', 'back', 'to', 'the', 'hallway'], ['Where', 'be', 'John'], ['kitchen']), (['Sandra', 'move', 'to', 'the', 'office', 'Mary', 'go', 'back', 'to', 'the', 'bathroom'], ['Where', 'be', 'Sandra'], ['office']), (['Mary', 'travel', 'to', 'the', 'office', 'Sandra', 'move', 'to', 'the', 'kitchen'], ['Where', 'be', 'Mary'], ['office']), (['Sandra', 'move', 'to', 'the', 'bedroom', 'Mary', 'go', 'back', 'to', 'the', 'garden'], ['Where', 'be', 'Mary'], ['garden']), (['John', 'go', 'to', 'the', 'hallway', 'Daniel', 'go', 'back', 'to', 'the', 'bathroom'], ['Where', 'be', 'Daniel'], ['bathroom']), (['John', 'travel', 'to', 'the', 'garden', 'John', 'go', 'back', 'to', 'the', 'bathroom'], ['Where', 'be', 'John'], ['bathroom']), (['Mary', 'travel', 'to', 'the', 'garden', 'Daniel', 'go', 'to', 'the', 'garden'], ['Where', 'be', 'Daniel'], ['garden']), (['Mary', 'journey', 'to', 'the', 'kitchen', 'Mary', 'go', 'back', 'to', 'the', 'hallway'], ['Where', 'be', 'Mary'], ['hallway']), (['Daniel', 'travel', 'to', 'the', 'office', 'Daniel', 'move', 'to', 'the', 'garden'], ['Where', 'be', 'Mary'], ['hallway']), (['Sandra', 'go', 'back', 'to', 'the', 'kitchen', 'John', 'travel', 'to', 'the', 'bathroom'], ['Where', 'be', 'Mary'], ['hallway']), (['Daniel', 'go', 'to', 'the', 'kitchen', 'Mary', 'move', 'to', 'the', 'office'], ['Where', 'be', 'Sandra'], ['kitchen']), (['Mary', 'go', 'to', 'the', 'office', 'Sandra', 'travel', 'to', 'the', 'bathroom'], ['Where', 'be', 'Mary'], ['office']), (['Sandra', 'go', 'to', 'the', 'hallway', 'Daniel', 'journey', 'to', 'the', 'kitchen'], ['Where', 'be', 'Sandra'], ['hallway']), (['Sandra', 'travel', 'to', 'the', 'office', 'John', 'journey', 'to', 'the', 'bedroom'], ['Where', 'be', 'Sandra'], ['office']), (['Daniel', 'move', 'to', 'the', 'hallway', 'Sandra', 'go', 'to', 'the', 'hallway'], ['Where', 'be', 'Daniel'], ['hallway']), (['John', 'journey', 'to', 'the', 'garden', 'Sandra', 'go', 'back', 'to', 'the', 'garden'], ['Where', 'be', 'Daniel'], ['hallway']), (['Sandra', 'journey', 'to', 'the', 'garden', 'Daniel', 'travel', 'to', 'the', 'bathroom'], ['Where', 'be', 'Sandra'], ['garden']), (['Sandra', 'go', 'to', 'the', 'bedroom', 'Sandra', 'travel', 'to', 'the', 'hallway'], ['Where', 'be', 'Sandra'], ['hallway']), (['Sandra', 'travel', 'to', 'the', 'office', 'Sandra', 'go', 'back', 'to', 'the', 'garden'], ['Where', 'be', 'Sandra'], ['garden']), (['John', 'journey', 'to', 'the', 'hallway', 'John', 'move', 'to', 'the', 'bedroom'], ['Where', 'be', 'John'], ['bedroom']), (['Sandra', 'move', 'to', 'the', 'kitchen', 'John', 'journey', 'to', 'the', 'kitchen'], ['Where', 'be', 'John'], ['kitchen']), (['Sandra', 'go', 'to', 'the', 'bedroom', 'Mary', 'move', 'to', 'the', 'bedroom'], ['Where', 'be', 'Mary'], ['bedroom']), (['John', 'go', 'to', 'the', 'office', 'Daniel', 'journey', 'to', 'the', 'garden'], ['Where', 'be', 'John'], ['office']), (['Mary', 'travel', 'to', 'the', 'bathroom', 'Daniel', 'move', 'to', 'the', 'hallway'], ['Where', 'be', 'Mary'], ['bathroom']), (['Daniel', 'travel', 'to', 'the', 'garden', 'John', 'move', 'to', 'the', 'garden'], ['Where', 'be', 'Mary'], ['bathroom']), (['Mary', 'go', 'to', 'the', 'garden', 'Mary', 'go', 'to', 'the', 'bedroom'], ['Where', 'be', 'Mary'], ['bedroom']), (['Mary', 'move', 'to', 'the', 'kitchen', 'John', 'travel', 'to', 'the', 'office'], ['Where', 'be', 'John'], ['office']), (['Daniel', 'go', 'to', 'the', 'hallway', 'Daniel', 'go', 'back', 'to', 'the', 'kitchen'], ['Where', 'be', 'Daniel'], ['kitchen']), (['Sandra', 'go', 'back', 'to', 'the', 'hallway', 'John', 'travel', 'to', 'the', 'bedroom'], ['Where', 'be', 'John'], ['bedroom']), (['Daniel', 'travel', 'to', 'the', 'garden', 'Mary', 'move', 'to', 'the', 'office'], ['Where', 'be', 'Daniel'], ['garden']), (['Mary', 'journey', 'to', 'the', 'garden', 'John', 'go', 'to', 'the', 'office'], ['Where', 'be', 'Daniel'], ['garden']), (['Daniel', 'go', 'to', 'the', 'bedroom', 'Mary', 'travel', 'to', 'the', 'bathroom'], ['Where', 'be', 'Daniel'], ['bedroom']), (['John', 'go', 'back', 'to', 'the', 'kitchen', 'John', 'travel', 'to', 'the', 'hallway'], ['Where', 'be', 'Daniel'], ['bedroom']), (['Mary', 'travel', 'to', 'the', 'hallway', 'John', 'travel', 'to', 'the', 'garden'], ['Where', 'be', 'John'], ['garden']), (['Sandra', 'go', 'to', 'the', 'office', 'Mary', 'move', 'to', 'the', 'bathroom'], ['Where', 'be', 'Mary'], ['bathroom']), (['Mary', 'journey', 'to', 'the', 'garden', 'John', 'go', 'to', 'the', 'hallway'], ['Where', 'be', 'John'], ['hallway']), (['John', 'move', 'to', 'the', 'hallway', 'Mary', 'move', 'to', 'the', 'garden'], ['Where', 'be', 'John'], ['hallway']), (['Daniel', 'travel', 'to', 'the', 'garden', 'Mary', 'go', 'to', 'the', 'bathroom'], ['Where', 'be', 'John'], ['hallway']), (['Mary', 'go', 'back', 'to', 'the', 'bedroom', 'John', 'go', 'to', 'the', 'kitchen'], ['Where', 'be', 'Mary'], ['bedroom']), (['Sandra', 'go', 'back', 'to', 'the', 'hallway', 'John', 'go', 'to', 'the', 'bathroom'], ['Where', 'be', 'Mary'], ['bedroom']), (['Mary', 'go', 'back', 'to', 'the', 'office', 'John', 'travel', 'to', 'the', 'bedroom'], ['Where', 'be', 'Sandra'], ['hallway']), (['John', 'go', 'to', 'the', 'bedroom', 'Daniel', 'journey', 'to', 'the', 'bedroom'], ['Where', 'be', 'John'], ['bedroom']), (['Daniel', 'journey', 'to', 'the', 'kitchen', 'Sandra', 'go', 'back', 'to', 'the', 'bedroom'], ['Where', 'be', 'John'], ['bedroom']), (['Mary', 'journey', 'to', 'the', 'hallway', 'Daniel', 'journey', 'to', 'the', 'hallway'], ['Where', 'be', 'Daniel'], ['hallway']), (['Daniel', 'go', 'to', 'the', 'bedroom', 'Mary', 'journey', 'to', 'the', 'garden'], ['Where', 'be', 'Mary'], ['garden']), (['John', 'go', 'to', 'the', 'office', 'John', 'move', 'to', 'the', 'hallway'], ['Where', 'be', 'John'], ['hallway']), (['John', 'go', 'back', 'to', 'the', 'hallway', 'Daniel', 'move', 'to', 'the', 'garden'], ['Where', 'be', 'John'], ['hallway']), (['Sandra', 'travel', 'to', 'the', 'bathroom', 'Mary', 'go', 'back', 'to', 'the', 'office'], ['Where', 'be', 'Daniel'], ['garden']), (['Sandra', 'travel', 'to', 'the', 'hallway', 'Sandra', 'go', 'back', 'to', 'the', 'bedroom'], ['Where', 'be', 'Daniel'], ['garden']), (['Daniel', 'move', 'to', 'the', 'bedroom', 'Daniel', 'travel', 'to', 'the', 'hallway'], ['Where', 'be', 'Daniel'], ['hallway']), (['Daniel', 'travel', 'to', 'the', 'garden', 'Daniel', 'move', 'to', 'the', 'hallway'], ['Where', 'be', 'Daniel'], ['hallway']), (['Mary', 'go', 'back', 'to', 'the', 'kitchen', 'Sandra', 'travel', 'to', 'the', 'kitchen'], ['Where', 'be', 'Sandra'], ['kitchen']), (['John', 'move', 'to', 'the', 'bathroom', 'Sandra', 'travel', 'to', 'the', 'bedroom'], ['Where', 'be', 'Sandra'], ['bedroom']), (['John', 'go', 'to', 'the', 'hallway', 'Daniel', 'go', 'to', 'the', 'hallway'], ['Where', 'be', 'John'], ['hallway']), (['John', 'go', 'to', 'the', 'kitchen', 'Sandra', 'move', 'to', 'the', 'kitchen'], ['Where', 'be', 'John'], ['kitchen']), (['Daniel', 'travel', 'to', 'the', 'kitchen', 'Daniel', 'move', 'to', 'the', 'office'], ['Where', 'be', 'Sandra'], ['kitchen']), (['Sandra', 'go', 'to', 'the', 'kitchen', 'Mary', 'move', 'to', 'the', 'kitchen'], ['Where', 'be', 'Sandra'], ['kitchen']), (['Sandra', 'move', 'to', 'the', 'hallway', 'Mary', 'go', 'to', 'the', 'office'], ['Where', 'be', 'Mary'], ['office']), (['Daniel', 'journey', 'to', 'the', 'garden', 'Sandra', 'journey', 'to', 'the', 'garden'], ['Where', 'be', 'Mary'], ['office']), (['Daniel', 'go', 'back', 'to', 'the', 'kitchen', 'Sandra', 'move', 'to', 'the', 'office'], ['Where', 'be', 'Daniel'], ['kitchen']), (['Daniel', 'move', 'to', 'the', 'bedroom', 'John', 'travel', 'to', 'the', 'bathroom'], ['Where', 'be', 'John'], ['bathroom']), (['Daniel', 'go', 'back', 'to', 'the', 'hallway', 'Mary', 'travel', 'to', 'the', 'kitchen'], ['Where', 'be', 'Daniel'], ['hallway']), (['John', 'go', 'back', 'to', 'the', 'office', 'John', 'journey', 'to', 'the', 'bathroom'], ['Where', 'be', 'Mary'], ['kitchen']), (['John', 'travel', 'to', 'the', 'kitchen', 'John', 'go', 'to', 'the', 'bedroom'], ['Where', 'be', 'John'], ['bedroom']), (['Mary', 'move', 'to', 'the', 'bathroom', 'John', 'journey', 'to', 'the', 'garden'], ['Where', 'be', 'John'], ['garden']), (['Daniel', 'journey', 'to', 'the', 'kitchen', 'Daniel', 'travel', 'to', 'the', 'bathroom'], ['Where', 'be', 'Daniel'], ['bathroom']), (['Daniel', 'travel', 'to', 'the', 'hallway', 'John', 'journey', 'to', 'the', 'hallway'], ['Where', 'be', 'John'], ['hallway']), (['John', 'journey', 'to', 'the', 'office', 'Daniel', 'go', 'to', 'the', 'kitchen'], ['Where', 'be', 'John'], ['office']), (['Daniel', 'travel', 'to', 'the', 'hallway', 'John', 'journey', 'to', 'the', 'hallway'], ['Where', 'be', 'John'], ['hallway']), (['Daniel', 'travel', 'to', 'the', 'kitchen', 'Daniel', 'go', 'back', 'to', 'the', 'hallway'], ['Where', 'be', 'Daniel'], ['hallway']), (['John', 'go', 'to', 'the', 'office', 'John', 'go', 'to', 'the', 'bathroom'], ['Where', 'be', 'John'], ['bathroom']), (['John', 'go', 'to', 'the', 'bedroom', 'John', 'go', 'back', 'to', 'the', 'office'], ['Where', 'be', 'John'], ['office']), (['Daniel', 'move', 'to', 'the', 'bathroom', 'Mary', 'journey', 'to', 'the', 'garden'], ['Where', 'be', 'Daniel'], ['bathroom']), (['Sandra', 'move', 'to', 'the', 'kitchen', 'Sandra', 'go', 'to', 'the', 'bathroom'], ['Where', 'be', 'John'], ['office']), (['Daniel', 'go', 'to', 'the', 'bedroom', 'Sandra', 'go', 'to', 'the', 'hallway'], ['Where', 'be', 'Sandra'], ['hallway']), (['John', 'go', 'back', 'to', 'the', 'bedroom', 'Mary', 'move', 'to', 'the', 'kitchen'], ['Where', 'be', 'John'], ['bedroom']), (['Mary', 'go', 'back', 'to', 'the', 'kitchen', 'John', 'go', 'back', 'to', 'the', 'office'], ['Where', 'be', 'John'], ['office']), (['Daniel', 'journey', 'to', 'the', 'bedroom', 'Mary', 'travel', 'to', 'the', 'bathroom'], ['Where', 'be', 'Daniel'], ['bedroom']), (['John', 'journey', 'to', 'the', 'kitchen', 'Sandra', 'journey', 'to', 'the', 'kitchen'], ['Where', 'be', 'Mary'], ['bathroom']), (['Daniel', 'travel', 'to', 'the', 'office', 'Daniel', 'journey', 'to', 'the', 'bathroom'], ['Where', 'be', 'Mary'], ['bathroom']), (['John', 'travel', 'to', 'the', 'office', 'Daniel', 'go', 'back', 'to', 'the', 'kitchen'], ['Where', 'be', 'Daniel'], ['kitchen']), (['Mary', 'move', 'to', 'the', 'bedroom', 'Sandra', 'move', 'to', 'the', 'garden'], ['Where', 'be', 'Sandra'], ['garden']), (['John', 'travel', 'to', 'the', 'office', 'Sandra', 'journey', 'to', 'the', 'office'], ['Where', 'be', 'John'], ['office']), (['Mary', 'journey', 'to', 'the', 'garden', 'Sandra', 'journey', 'to', 'the', 'hallway'], ['Where', 'be', 'Sandra'], ['hallway']), (['Daniel', 'go', 'back', 'to', 'the', 'kitchen', 'Sandra', 'go', 'back', 'to', 'the', 'garden'], ['Where', 'be', 'Mary'], ['garden']), (['Sandra', 'move', 'to', 'the', 'kitchen', 'John', 'go', 'back', 'to', 'the', 'bathroom'], ['Where', 'be', 'Daniel'], ['kitchen']), (['Sandra', 'go', 'to', 'the', 'garden', 'Mary', 'journey', 'to', 'the', 'office'], ['Where', 'be', 'Sandra'], ['garden']), (['John', 'go', 'to', 'the', 'hallway', 'Sandra', 'journey', 'to', 'the', 'bathroom'], ['Where', 'be', 'Mary'], ['office']), (['Daniel', 'go', 'to', 'the', 'hallway', 'Daniel', 'go', 'to', 'the', 'office'], ['Where', 'be', 'Daniel'], ['office']), (['Mary', 'move', 'to', 'the', 'garden', 'Mary', 'move', 'to', 'the', 'office'], ['Where', 'be', 'Daniel'], ['office']), (['Sandra', 'move', 'to', 'the', 'hallway', 'John', 'travel', 'to', 'the', 'office'], ['Where', 'be', 'Mary'], ['office']), (['Sandra', 'travel', 'to', 'the', 'hallway', 'Mary', 'move', 'to', 'the', 'office'], ['Where', 'be', 'Sandra'], ['hallway']), (['John', 'go', 'back', 'to', 'the', 'kitchen', 'John', 'go', 'to', 'the', 'office'], ['Where', 'be', 'Mary'], ['office']), (['Mary', 'go', 'back', 'to', 'the', 'kitchen', 'John', 'journey', 'to', 'the', 'hallway'], ['Where', 'be', 'Mary'], ['kitchen']), (['Daniel', 'move', 'to', 'the', 'office', 'John', 'journey', 'to', 'the', 'bathroom'], ['Where', 'be', 'Daniel'], ['office']), (['Daniel', 'journey', 'to', 'the', 'bedroom', 'Sandra', 'travel', 'to', 'the', 'garden'], ['Where', 'be', 'Daniel'], ['bedroom']), (['Daniel', 'go', 'to', 'the', 'bedroom', 'John', 'go', 'back', 'to', 'the', 'kitchen'], ['Where', 'be', 'Daniel'], ['bedroom']), (['John', 'move', 'to', 'the', 'bedroom', 'Mary', 'travel', 'to', 'the', 'office'], ['Where', 'be', 'Daniel'], ['bedroom']), (['Sandra', 'go', 'to', 'the', 'office', 'Sandra', 'go', 'back', 'to', 'the', 'hallway'], ['Where', 'be', 'Mary'], ['office']), (['John', 'go', 'back', 'to', 'the', 'kitchen', 'Mary', 'go', 'back', 'to', 'the', 'garden'], ['Where', 'be', 'Mary'], ['garden']), (['Mary', 'journey', 'to', 'the', 'bathroom', 'Daniel', 'travel', 'to', 'the', 'hallway'], ['Where', 'be', 'Mary'], ['bathroom']), (['John', 'go', 'to', 'the', 'bathroom', 'John', 'go', 'back', 'to', 'the', 'hallway'], ['Where', 'be', 'John'], ['hallway']), (['Sandra', 'go', 'back', 'to', 'the', 'kitchen', 'Daniel', 'go', 'back', 'to', 'the', 'office'], ['Where', 'be', 'John'], ['hallway']), (['Daniel', 'go', 'back', 'to', 'the', 'bathroom', 'Daniel', 'move', 'to', 'the', 'bedroom'], ['Where', 'be', 'John'], ['hallway']), (['Mary', 'go', 'to', 'the', 'office', 'Sandra', 'travel', 'to', 'the', 'office'], ['Where', 'be', 'Sandra'], ['office']), (['John', 'move', 'to', 'the', 'bedroom', 'Mary', 'go', 'back', 'to', 'the', 'kitchen'], ['Where', 'be', 'Mary'], ['kitchen']), (['Sandra', 'go', 'to', 'the', 'garden', 'John', 'journey', 'to', 'the', 'kitchen'], ['Where', 'be', 'John'], ['kitchen']), (['John', 'go', 'back', 'to', 'the', 'office', 'Daniel', 'move', 'to', 'the', 'garden'], ['Where', 'be', 'John'], ['office']), (['Mary', 'go', 'back', 'to', 'the', 'hallway', 'Sandra', 'move', 'to', 'the', 'bedroom'], ['Where', 'be', 'John'], ['office']), (['Daniel', 'journey', 'to', 'the', 'hallway', 'Sandra', 'travel', 'to', 'the', 'bathroom'], ['Where', 'be', 'Daniel'], ['hallway']), (['Daniel', 'move', 'to', 'the', 'kitchen', 'Sandra', 'go', 'to', 'the', 'garden'], ['Where', 'be', 'Sandra'], ['garden']), (['Daniel', 'travel', 'to', 'the', 'hallway', 'John', 'travel', 'to', 'the', 'office'], ['Where', 'be', 'John'], ['office']), (['Daniel', 'go', 'to', 'the', 'bedroom', 'Daniel', 'go', 'back', 'to', 'the', 'office'], ['Where', 'be', 'Daniel'], ['office']), (['Mary', 'go', 'to', 'the', 'bedroom', 'Mary', 'go', 'to', 'the', 'hallway'], ['Where', 'be', 'Daniel'], ['office']), (['Mary', 'travel', 'to', 'the', 'office', 'Sandra', 'go', 'to', 'the', 'garden'], ['Where', 'be', 'Sandra'], ['garden']), (['Daniel', 'journey', 'to', 'the', 'bedroom', 'John', 'journey', 'to', 'the', 'bedroom'], ['Where', 'be', 'Mary'], ['office']), (['Daniel', 'journey', 'to', 'the', 'hallway', 'Sandra', 'go', 'back', 'to', 'the', 'bathroom'], ['Where', 'be', 'Sandra'], ['bathroom']), (['John', 'go', 'to', 'the', 'bedroom', 'Sandra', 'move', 'to', 'the', 'office'], ['Where', 'be', 'John'], ['bedroom']), (['Daniel', 'go', 'to', 'the', 'bathroom', 'Mary', 'travel', 'to', 'the', 'bathroom'], ['Where', 'be', 'Mary'], ['bathroom']), (['Sandra', 'go', 'back', 'to', 'the', 'hallway', 'John', 'go', 'to', 'the', 'office'], ['Where', 'be', 'Sandra'], ['hallway']), (['John', 'move', 'to', 'the', 'kitchen', 'John', 'go', 'back', 'to', 'the', 'hallway'], ['Where', 'be', 'John'], ['hallway']), (['Daniel', 'go', 'to', 'the', 'bathroom', 'Sandra', 'go', 'to', 'the', 'hallway'], ['Where', 'be', 'Sandra'], ['hallway']), (['John', 'go', 'to', 'the', 'office', 'Sandra', 'journey', 'to', 'the', 'garden'], ['Where', 'be', 'John'], ['office']), (['Mary', 'go', 'back', 'to', 'the', 'garden', 'Mary', 'go', 'to', 'the', 'bedroom'], ['Where', 'be', 'Sandra'], ['garden']), (['Daniel', 'go', 'to', 'the', 'bedroom', 'Sandra', 'journey', 'to', 'the', 'hallway'], ['Where', 'be', 'Sandra'], ['hallway']), (['Sandra', 'go', 'back', 'to', 'the', 'kitchen', 'Daniel', 'journey', 'to', 'the', 'hallway'], ['Where', 'be', 'Mary'], ['bedroom']), (['Mary', 'move', 'to', 'the', 'bathroom', 'Sandra', 'go', 'to', 'the', 'hallway'], ['Where', 'be', 'Mary'], ['bathroom']), (['Mary', 'go', 'back', 'to', 'the', 'kitchen', 'Daniel', 'go', 'back', 'to', 'the', 'kitchen'], ['Where', 'be', 'Daniel'], ['kitchen']), (['John', 'go', 'back', 'to', 'the', 'bathroom', 'Daniel', 'journey', 'to', 'the', 'office'], ['Where', 'be', 'Daniel'], ['office']), (['Daniel', 'journey', 'to', 'the', 'bathroom', 'Daniel', 'go', 'back', 'to', 'the', 'garden'], ['Where', 'be', 'Daniel'], ['garden']), (['Sandra', 'move', 'to', 'the', 'bathroom', 'Mary', 'go', 'to', 'the', 'office'], ['Where', 'be', 'Sandra'], ['bathroom']), (['Daniel', 'go', 'to', 'the', 'office', 'Mary', 'go', 'back', 'to', 'the', 'bedroom'], ['Where', 'be', 'Mary'], ['bedroom']), (['Mary', 'journey', 'to', 'the', 'garden', 'John', 'move', 'to', 'the', 'kitchen'], ['Where', 'be', 'John'], ['kitchen']), (['Sandra', 'move', 'to', 'the', 'garden', 'Sandra', 'journey', 'to', 'the', 'hallway'], ['Where', 'be', 'Sandra'], ['hallway']), (['Sandra', 'go', 'back', 'to', 'the', 'bathroom', 'Mary', 'go', 'to', 'the', 'bathroom'], ['Where', 'be', 'Sandra'], ['bathroom']), (['Daniel', 'go', 'to', 'the', 'garden', 'John', 'move', 'to', 'the', 'bedroom'], ['Where', 'be', 'Daniel'], ['garden']), (['Mary', 'go', 'back', 'to', 'the', 'office', 'Mary', 'go', 'to', 'the', 'bathroom'], ['Where', 'be', 'Mary'], ['bathroom']), (['Mary', 'go', 'back', 'to', 'the', 'hallway', 'John', 'journey', 'to', 'the', 'hallway'], ['Where', 'be', 'Mary'], ['hallway']), (['John', 'travel', 'to', 'the', 'garden', 'Sandra', 'go', 'back', 'to', 'the', 'office'], ['Where', 'be', 'Mary'], ['hallway']), (['Daniel', 'go', 'back', 'to', 'the', 'garden', 'Mary', 'journey', 'to', 'the', 'garden'], ['Where', 'be', 'John'], ['garden']), (['Daniel', 'journey', 'to', 'the', 'bedroom', 'Mary', 'go', 'back', 'to', 'the', 'office'], ['Where', 'be', 'Daniel'], ['bedroom']), (['Mary', 'move', 'to', 'the', 'hallway', 'Mary', 'travel', 'to', 'the', 'kitchen'], ['Where', 'be', 'Mary'], ['kitchen']), (['John', 'go', 'to', 'the', 'kitchen', 'Sandra', 'move', 'to', 'the', 'bedroom'], ['Where', 'be', 'John'], ['kitchen']), (['Mary', 'travel', 'to', 'the', 'garden', 'Mary', 'go', 'back', 'to', 'the', 'office'], ['Where', 'be', 'Sandra'], ['bedroom']), (['Sandra', 'move', 'to', 'the', 'hallway', 'Mary', 'go', 'to', 'the', 'garden'], ['Where', 'be', 'Mary'], ['garden']), (['Sandra', 'journey', 'to', 'the', 'office', 'Mary', 'move', 'to', 'the', 'bedroom'], ['Where', 'be', 'Mary'], ['bedroom']), (['Sandra', 'go', 'to', 'the', 'garden', 'Daniel', 'journey', 'to', 'the', 'office'], ['Where', 'be', 'Daniel'], ['office']), (['Sandra', 'travel', 'to', 'the', 'bathroom', 'Sandra', 'travel', 'to', 'the', 'kitchen'], ['Where', 'be', 'Sandra'], ['kitchen']), (['John', 'travel', 'to', 'the', 'bedroom', 'Sandra', 'go', 'to', 'the', 'hallway'], ['Where', 'be', 'Sandra'], ['hallway']), (['John', 'go', 'back', 'to', 'the', 'office', 'Mary', 'travel', 'to', 'the', 'hallway'], ['Where', 'be', 'Mary'], ['hallway']), (['John', 'go', 'to', 'the', 'bedroom', 'Sandra', 'journey', 'to', 'the', 'bathroom'], ['Where', 'be', 'Sandra'], ['bathroom']), (['John', 'journey', 'to', 'the', 'hallway', 'Daniel', 'travel', 'to', 'the', 'office'], ['Where', 'be', 'Daniel'], ['office']), (['Mary', 'move', 'to', 'the', 'garden', 'Mary', 'move', 'to', 'the', 'bedroom'], ['Where', 'be', 'Daniel'], ['office']), (['Mary', 'go', 'back', 'to', 'the', 'hallway', 'John', 'journey', 'to', 'the', 'bathroom'], ['Where', 'be', 'John'], ['bathroom']), (['John', 'move', 'to', 'the', 'kitchen', 'John', 'go', 'to', 'the', 'office'], ['Where', 'be', 'John'], ['office']), (['Daniel', 'move', 'to', 'the', 'garden', 'Sandra', 'go', 'back', 'to', 'the', 'office'], ['Where', 'be', 'John'], ['office']), (['Sandra', 'journey', 'to', 'the', 'bathroom', 'Daniel', 'move', 'to', 'the', 'garden'], ['Where', 'be', 'Daniel'], ['garden']), (['John', 'travel', 'to', 'the', 'garden', 'Daniel', 'go', 'to', 'the', 'office'], ['Where', 'be', 'John'], ['garden']), (['Daniel', 'go', 'back', 'to', 'the', 'hallway', 'Mary', 'go', 'back', 'to', 'the', 'hallway'], ['Where', 'be', 'Daniel'], ['hallway']), (['Mary', 'go', 'back', 'to', 'the', 'kitchen', 'John', 'go', 'to', 'the', 'bedroom'], ['Where', 'be', 'John'], ['bedroom']), (['Mary', 'journey', 'to', 'the', 'garden', 'John', 'travel', 'to', 'the', 'hallway'], ['Where', 'be', 'Mary'], ['garden']), (['Sandra', 'travel', 'to', 'the', 'kitchen', 'John', 'journey', 'to', 'the', 'bedroom'], ['Where', 'be', 'Sandra'], ['kitchen']), (['Sandra', 'journey', 'to', 'the', 'office', 'John', 'journey', 'to', 'the', 'hallway'], ['Where', 'be', 'Sandra'], ['office']), (['Daniel', 'journey', 'to', 'the', 'office', 'Mary', 'move', 'to', 'the', 'office'], ['Where', 'be', 'Sandra'], ['office']), (['Sandra', 'go', 'to', 'the', 'kitchen', 'John', 'go', 'back', 'to', 'the', 'kitchen'], ['Where', 'be', 'Mary'], ['office']), (['Sandra', 'go', 'back', 'to', 'the', 'hallway', 'Mary', 'travel', 'to', 'the', 'bathroom'], ['Where', 'be', 'Sandra'], ['hallway']), (['Sandra', 'travel', 'to', 'the', 'hallway', 'John', 'journey', 'to', 'the', 'bathroom'], ['Where', 'be', 'Sandra'], ['hallway']), (['John', 'go', 'to', 'the', 'garden', 'John', 'go', 'to', 'the', 'kitchen'], ['Where', 'be', 'John'], ['kitchen']), (['Mary', 'journey', 'to', 'the', 'garden', 'John', 'journey', 'to', 'the', 'hallway'], ['Where', 'be', 'John'], ['hallway']), (['Daniel', 'travel', 'to', 'the', 'kitchen', 'Sandra', 'move', 'to', 'the', 'kitchen'], ['Where', 'be', 'John'], ['hallway']), (['Daniel', 'travel', 'to', 'the', 'office', 'Daniel', 'journey', 'to', 'the', 'garden'], ['Where', 'be', 'Daniel'], ['garden']), (['Sandra', 'go', 'to', 'the', 'bedroom', 'John', 'go', 'to', 'the', 'hallway'], ['Where', 'be', 'Sandra'], ['bedroom']), (['John', 'move', 'to', 'the', 'garden', 'Sandra', 'journey', 'to', 'the', 'office'], ['Where', 'be', 'Sandra'], ['office']), (['Mary', 'go', 'to', 'the', 'garden', 'John', 'journey', 'to', 'the', 'bathroom'], ['Where', 'be', 'Sandra'], ['office']), (['Mary', 'travel', 'to', 'the', 'bathroom', 'Mary', 'move', 'to', 'the', 'office'], ['Where', 'be', 'Mary'], ['office']), (['John', 'go', 'to', 'the', 'kitchen', 'Sandra', 'go', 'to', 'the', 'garden'], ['Where', 'be', 'Sandra'], ['garden']), (['Mary', 'move', 'to', 'the', 'bedroom', 'John', 'journey', 'to', 'the', 'hallway'], ['Where', 'be', 'John'], ['hallway']), (['Sandra', 'go', 'to', 'the', 'garden', 'John', 'go', 'back', 'to', 'the', 'bathroom'], ['Where', 'be', 'Sandra'], ['garden']), (['Sandra', 'travel', 'to', 'the', 'office', 'Daniel', 'journey', 'to', 'the', 'bathroom'], ['Where', 'be', 'Sandra'], ['office']), (['Daniel', 'go', 'back', 'to', 'the', 'office', 'Mary', 'travel', 'to', 'the', 'bathroom'], ['Where', 'be', 'Mary'], ['bathroom']), (['Sandra', 'go', 'to', 'the', 'bathroom', 'Mary', 'go', 'to', 'the', 'hallway'], ['Where', 'be', 'Mary'], ['hallway']), (['Daniel', 'go', 'to', 'the', 'kitchen', 'Mary', 'go', 'back', 'to', 'the', 'bedroom'], ['Where', 'be', 'Mary'], ['bedroom']), (['Sandra', 'travel', 'to', 'the', 'kitchen', 'Daniel', 'move', 'to', 'the', 'garden'], ['Where', 'be', 'Sandra'], ['kitchen']), (['Sandra', 'move', 'to', 'the', 'hallway', 'Mary', 'move', 'to', 'the', 'kitchen'], ['Where', 'be', 'Daniel'], ['garden']), (['Mary', 'go', 'back', 'to', 'the', 'hallway', 'Mary', 'move', 'to', 'the', 'office'], ['Where', 'be', 'Mary'], ['office']), (['Daniel', 'go', 'to', 'the', 'bedroom', 'Daniel', 'move', 'to', 'the', 'kitchen'], ['Where', 'be', 'Daniel'], ['kitchen']), (['Mary', 'go', 'back', 'to', 'the', 'kitchen', 'Sandra', 'travel', 'to', 'the', 'bathroom'], ['Where', 'be', 'Mary'], ['kitchen']), (['Mary', 'move', 'to', 'the', 'garden', 'John', 'journey', 'to', 'the', 'office'], ['Where', 'be', 'Mary'], ['garden']), (['Sandra', 'travel', 'to', 'the', 'bedroom', 'Sandra', 'journey', 'to', 'the', 'bathroom'], ['Where', 'be', 'Sandra'], ['bathroom']), (['John', 'move', 'to', 'the', 'garden', 'Daniel', 'go', 'back', 'to', 'the', 'hallway'], ['Where', 'be', 'John'], ['garden']), (['Mary', 'go', 'to', 'the', 'office', 'Daniel', 'go', 'back', 'to', 'the', 'bedroom'], ['Where', 'be', 'Mary'], ['office']), (['John', 'go', 'back', 'to', 'the', 'garden', 'Daniel', 'move', 'to', 'the', 'office'], ['Where', 'be', 'John'], ['garden']), (['Sandra', 'go', 'to', 'the', 'hallway', 'John', 'go', 'back', 'to', 'the', 'bathroom'], ['Where', 'be', 'John'], ['bathroom']), (['Mary', 'move', 'to', 'the', 'kitchen', 'Mary', 'travel', 'to', 'the', 'garden'], ['Where', 'be', 'Mary'], ['garden']), (['Sandra', 'go', 'back', 'to', 'the', 'bathroom', 'John', 'go', 'back', 'to', 'the', 'office'], ['Where', 'be', 'Mary'], ['garden']), (['Daniel', 'go', 'to', 'the', 'bathroom', 'Sandra', 'go', 'to', 'the', 'office'], ['Where', 'be', 'John'], ['office']), (['Daniel', 'travel', 'to', 'the', 'garden', 'Mary', 'go', 'back', 'to', 'the', 'kitchen'], ['Where', 'be', 'Mary'], ['kitchen']), (['Mary', 'go', 'to', 'the', 'office', 'Mary', 'travel', 'to', 'the', 'garden'], ['Where', 'be', 'Daniel'], ['garden']), (['Daniel', 'journey', 'to', 'the', 'hallway', 'John', 'go', 'back', 'to', 'the', 'bedroom'], ['Where', 'be', 'Mary'], ['garden']), (['Daniel', 'move', 'to', 'the', 'bedroom', 'Sandra', 'travel', 'to', 'the', 'kitchen'], ['Where', 'be', 'John'], ['bedroom']), (['John', 'go', 'to', 'the', 'garden', 'John', 'move', 'to', 'the', 'hallway'], ['Where', 'be', 'Daniel'], ['bedroom']), (['John', 'journey', 'to', 'the', 'bedroom', 'Mary', 'go', 'to', 'the', 'office'], ['Where', 'be', 'Mary'], ['office']), (['John', 'move', 'to', 'the', 'office', 'Mary', 'go', 'to', 'the', 'hallway'], ['Where', 'be', 'Mary'], ['hallway']), (['Sandra', 'travel', 'to', 'the', 'office', 'John', 'travel', 'to', 'the', 'bedroom'], ['Where', 'be', 'Sandra'], ['office']), (['Daniel', 'travel', 'to', 'the', 'kitchen', 'Mary', 'go', 'to', 'the', 'kitchen'], ['Where', 'be', 'Daniel'], ['kitchen']), (['John', 'travel', 'to', 'the', 'kitchen', 'Sandra', 'journey', 'to', 'the', 'bedroom'], ['Where', 'be', 'John'], ['kitchen']), (['Daniel', 'move', 'to', 'the', 'kitchen', 'Sandra', 'go', 'to', 'the', 'kitchen'], ['Where', 'be', 'Daniel'], ['kitchen']), (['John', 'go', 'back', 'to', 'the', 'bedroom', 'Daniel', 'go', 'to', 'the', 'bathroom'], ['Where', 'be', 'John'], ['bedroom']), (['Sandra', 'move', 'to', 'the', 'garden', 'Daniel', 'go', 'back', 'to', 'the', 'office'], ['Where', 'be', 'Sandra'], ['garden']), (['Mary', 'go', 'to', 'the', 'kitchen', 'Daniel', 'go', 'to', 'the', 'hallway'], ['Where', 'be', 'Daniel'], ['hallway']), (['Daniel', 'go', 'back', 'to', 'the', 'bathroom', 'Sandra', 'move', 'to', 'the', 'office'], ['Where', 'be', 'Sandra'], ['office']), (['Mary', 'journey', 'to', 'the', 'hallway', 'John', 'go', 'back', 'to', 'the', 'bathroom'], ['Where', 'be', 'Mary'], ['hallway']), (['John', 'go', 'back', 'to', 'the', 'bedroom', 'Daniel', 'travel', 'to', 'the', 'bedroom'], ['Where', 'be', 'John'], ['bedroom']), (['Mary', 'go', 'to', 'the', 'garden', 'Daniel', 'move', 'to', 'the', 'kitchen'], ['Where', 'be', 'Daniel'], ['kitchen']), (['Daniel', 'go', 'to', 'the', 'hallway', 'Mary', 'journey', 'to', 'the', 'kitchen'], ['Where', 'be', 'Mary'], ['kitchen']), (['Daniel', 'travel', 'to', 'the', 'kitchen', 'Mary', 'go', 'back', 'to', 'the', 'hallway'], ['Where', 'be', 'Mary'], ['hallway']), (['John', 'go', 'back', 'to', 'the', 'garden', 'John', 'travel', 'to', 'the', 'hallway'], ['Where', 'be', 'John'], ['hallway']), (['John', 'journey', 'to', 'the', 'office', 'John', 'journey', 'to', 'the', 'kitchen'], ['Where', 'be', 'John'], ['kitchen']), (['Sandra', 'journey', 'to', 'the', 'hallway', 'Sandra', 'go', 'to', 'the', 'bedroom'], ['Where', 'be', 'John'], ['kitchen']), (['Sandra', 'journey', 'to', 'the', 'hallway', 'Daniel', 'go', 'back', 'to', 'the', 'kitchen'], ['Where', 'be', 'John'], ['kitchen']), (['Daniel', 'move', 'to', 'the', 'bathroom', 'Mary', 'go', 'back', 'to', 'the', 'bathroom'], ['Where', 'be', 'Sandra'], ['hallway']), (['John', 'travel', 'to', 'the', 'bathroom', 'Daniel', 'go', 'to', 'the', 'hallway'], ['Where', 'be', 'John'], ['bathroom']), (['John', 'move', 'to', 'the', 'kitchen', 'Mary', 'journey', 'to', 'the', 'kitchen'], ['Where', 'be', 'John'], ['kitchen']), (['Daniel', 'travel', 'to', 'the', 'bathroom', 'John', 'travel', 'to', 'the', 'bathroom'], ['Where', 'be', 'John'], ['bathroom']), (['Daniel', 'go', 'to', 'the', 'garden', 'Sandra', 'travel', 'to', 'the', 'hallway'], ['Where', 'be', 'Sandra'], ['hallway']), (['Mary', 'travel', 'to', 'the', 'hallway', 'John', 'journey', 'to', 'the', 'bedroom'], ['Where', 'be', 'Mary'], ['hallway']), (['John', 'go', 'to', 'the', 'bedroom', 'Daniel', 'go', 'to', 'the', 'bedroom'], ['Where', 'be', 'Daniel'], ['bedroom']), (['John', 'travel', 'to', 'the', 'office', 'John', 'go', 'back', 'to', 'the', 'bedroom'], ['Where', 'be', 'John'], ['bedroom']), (['Mary', 'go', 'to', 'the', 'bedroom', 'John', 'go', 'to', 'the', 'garden'], ['Where', 'be', 'Daniel'], ['bedroom']), (['Daniel', 'go', 'back', 'to', 'the', 'garden', 'Daniel', 'go', 'to', 'the', 'office'], ['Where', 'be', 'Daniel'], ['office']), (['John', 'move', 'to', 'the', 'hallway', 'John', 'move', 'to', 'the', 'office'], ['Where', 'be', 'John'], ['office']), (['Daniel', 'move', 'to', 'the', 'garden', 'Sandra', 'move', 'to', 'the', 'hallway'], ['Where', 'be', 'Sandra'], ['hallway']), (['John', 'go', 'to', 'the', 'hallway', 'John', 'go', 'to', 'the', 'office'], ['Where', 'be', 'Daniel'], ['garden']), (['John', 'go', 'to', 'the', 'kitchen', 'John', 'go', 'back', 'to', 'the', 'hallway'], ['Where', 'be', 'John'], ['hallway']), (['Sandra', 'journey', 'to', 'the', 'office', 'Mary', 'journey', 'to', 'the', 'bedroom'], ['Where', 'be', 'Mary'], ['bedroom']), (['Sandra', 'travel', 'to', 'the', 'hallway', 'Mary', 'go', 'back', 'to', 'the', 'bathroom'], ['Where', 'be', 'Mary'], ['bathroom']), (['Mary', 'journey', 'to', 'the', 'bedroom', 'Sandra', 'move', 'to', 'the', 'kitchen'], ['Where', 'be', 'Mary'], ['bedroom']), (['Mary', 'journey', 'to', 'the', 'garden', 'Sandra', 'move', 'to', 'the', 'garden'], ['Where', 'be', 'Sandra'], ['garden']), (['John', 'move', 'to', 'the', 'office', 'Sandra', 'move', 'to', 'the', 'bedroom'], ['Where', 'be', 'John'], ['office']), (['Daniel', 'move', 'to', 'the', 'bedroom', 'Sandra', 'move', 'to', 'the', 'bathroom'], ['Where', 'be', 'Sandra'], ['bathroom']), (['Daniel', 'travel', 'to', 'the', 'office', 'John', 'go', 'to', 'the', 'garden'], ['Where', 'be', 'Sandra'], ['bathroom']), (['John', 'move', 'to', 'the', 'hallway', 'Sandra', 'go', 'to', 'the', 'hallway'], ['Where', 'be', 'Sandra'], ['hallway']), (['John', 'go', 'back', 'to', 'the', 'garden', 'Daniel', 'journey', 'to', 'the', 'office'], ['Where', 'be', 'John'], ['garden']), (['Daniel', 'move', 'to', 'the', 'bedroom', 'Mary', 'journey', 'to', 'the', 'bathroom'], ['Where', 'be', 'Mary'], ['bathroom']), (['John', 'go', 'back', 'to', 'the', 'kitchen', 'Daniel', 'go', 'back', 'to', 'the', 'office'], ['Where', 'be', 'Daniel'], ['office']), (['Sandra', 'move', 'to', 'the', 'kitchen', 'Daniel', 'go', 'to', 'the', 'kitchen'], ['Where', 'be', 'Daniel'], ['kitchen']), (['Mary', 'travel', 'to', 'the', 'bedroom', 'Daniel', 'move', 'to', 'the', 'hallway'], ['Where', 'be', 'Mary'], ['bedroom']), (['Daniel', 'journey', 'to', 'the', 'garden', 'Daniel', 'journey', 'to', 'the', 'hallway'], ['Where', 'be', 'Daniel'], ['hallway']), (['Sandra', 'journey', 'to', 'the', 'hallway', 'John', 'go', 'to', 'the', 'garden'], ['Where', 'be', 'Daniel'], ['hallway']), (['John', 'move', 'to', 'the', 'hallway', 'Daniel', 'journey', 'to', 'the', 'bathroom'], ['Where', 'be', 'Daniel'], ['bathroom']), (['Daniel', 'move', 'to', 'the', 'hallway', 'John', 'travel', 'to', 'the', 'kitchen'], ['Where', 'be', 'John'], ['kitchen']), (['Sandra', 'go', 'to', 'the', 'bathroom', 'Daniel', 'go', 'to', 'the', 'bedroom'], ['Where', 'be', 'Sandra'], ['bathroom']), (['Mary', 'go', 'to', 'the', 'garden', 'Sandra', 'move', 'to', 'the', 'hallway'], ['Where', 'be', 'Sandra'], ['hallway']), (['Daniel', 'journey', 'to', 'the', 'bathroom', 'Mary', 'journey', 'to', 'the', 'kitchen'], ['Where', 'be', 'Sandra'], ['hallway']), (['Sandra', 'go', 'to', 'the', 'bathroom', 'John', 'go', 'to', 'the', 'kitchen'], ['Where', 'be', 'Sandra'], ['bathroom']), (['Sandra', 'go', 'back', 'to', 'the', 'kitchen', 'Sandra', 'go', 'to', 'the', 'office'], ['Where', 'be', 'Sandra'], ['office']), (['Mary', 'go', 'to', 'the', 'hallway', 'Daniel', 'travel', 'to', 'the', 'bathroom'], ['Where', 'be', 'Mary'], ['hallway']), (['Mary', 'journey', 'to', 'the', 'bathroom', 'Daniel', 'journey', 'to', 'the', 'hallway'], ['Where', 'be', 'Daniel'], ['hallway']), (['Daniel', 'go', 'back', 'to', 'the', 'garden', 'Daniel', 'travel', 'to', 'the', 'office'], ['Where', 'be', 'Daniel'], ['office']), (['Mary', 'go', 'to', 'the', 'office', 'Mary', 'go', 'back', 'to', 'the', 'bathroom'], ['Where', 'be', 'Mary'], ['bathroom']), (['Mary', 'go', 'to', 'the', 'hallway', 'Daniel', 'go', 'to', 'the', 'bedroom'], ['Where', 'be', 'Mary'], ['hallway']), (['John', 'travel', 'to', 'the', 'kitchen', 'Daniel', 'go', 'to', 'the', 'kitchen'], ['Where', 'be', 'Daniel'], ['kitchen']), (['John', 'go', 'back', 'to', 'the', 'hallway', 'John', 'move', 'to', 'the', 'office'], ['Where', 'be', 'John'], ['office']), (['Mary', 'move', 'to', 'the', 'bedroom', 'John', 'travel', 'to', 'the', 'bedroom'], ['Where', 'be', 'Mary'], ['bedroom']), (['John', 'go', 'back', 'to', 'the', 'bathroom', 'Sandra', 'move', 'to', 'the', 'kitchen'], ['Where', 'be', 'Mary'], ['bedroom']), (['John', 'journey', 'to', 'the', 'garden', 'Sandra', 'go', 'to', 'the', 'office'], ['Where', 'be', 'John'], ['garden']), (['Mary', 'travel', 'to', 'the', 'garden', 'Daniel', 'go', 'to', 'the', 'office'], ['Where', 'be', 'Daniel'], ['office']), (['Daniel', 'travel', 'to', 'the', 'kitchen', 'Sandra', 'journey', 'to', 'the', 'kitchen'], ['Where', 'be', 'Daniel'], ['kitchen']), (['Mary', 'go', 'back', 'to', 'the', 'hallway', 'Daniel', 'go', 'to', 'the', 'bedroom'], ['Where', 'be', 'Daniel'], ['bedroom']), (['Mary', 'move', 'to', 'the', 'bathroom', 'Sandra', 'journey', 'to', 'the', 'bathroom'], ['Where', 'be', 'Mary'], ['bathroom']), (['John', 'journey', 'to', 'the', 'garden', 'Sandra', 'go', 'to', 'the', 'garden'], ['Where', 'be', 'Sandra'], ['garden']), (['Mary', 'go', 'back', 'to', 'the', 'hallway', 'John', 'go', 'to', 'the', 'garden'], ['Where', 'be', 'Mary'], ['hallway']), (['Sandra', 'travel', 'to', 'the', 'bedroom', 'Mary', 'travel', 'to', 'the', 'bedroom'], ['Where', 'be', 'Mary'], ['bedroom']), (['Sandra', 'move', 'to', 'the', 'kitchen', 'Daniel', 'go', 'back', 'to', 'the', 'bedroom'], ['Where', 'be', 'Daniel'], ['bedroom']), (['Mary', 'go', 'back', 'to', 'the', 'garden', 'Daniel', 'go', 'to', 'the', 'office'], ['Where', 'be', 'Mary'], ['garden']), (['Daniel', 'move', 'to', 'the', 'garden', 'Sandra', 'travel', 'to', 'the', 'hallway'], ['Where', 'be', 'Daniel'], ['garden']), (['Sandra', 'go', 'back', 'to', 'the', 'office', 'Daniel', 'move', 'to', 'the', 'hallway'], ['Where', 'be', 'Sandra'], ['office']), (['Daniel', 'travel', 'to', 'the', 'garden', 'Mary', 'move', 'to', 'the', 'bathroom'], ['Where', 'be', 'Daniel'], ['garden']), (['Sandra', 'go', 'back', 'to', 'the', 'kitchen', 'Sandra', 'move', 'to', 'the', 'garden'], ['Where', 'be', 'Sandra'], ['garden']), (['Sandra', 'go', 'to', 'the', 'kitchen', 'Daniel', 'go', 'to', 'the', 'bathroom'], ['Where', 'be', 'Sandra'], ['kitchen']), (['John', 'journey', 'to', 'the', 'bathroom', 'John', 'go', 'back', 'to', 'the', 'garden'], ['Where', 'be', 'John'], ['garden']), (['Sandra', 'go', 'back', 'to', 'the', 'bedroom', 'Mary', 'go', 'back', 'to', 'the', 'hallway'], ['Where', 'be', 'Mary'], ['hallway']), (['Mary', 'move', 'to', 'the', 'bathroom', 'Mary', 'go', 'to', 'the', 'hallway'], ['Where', 'be', 'Mary'], ['hallway']), (['Daniel', 'travel', 'to', 'the', 'bathroom', 'Sandra', 'go', 'back', 'to', 'the', 'office'], ['Where', 'be', 'Daniel'], ['bathroom']), (['Mary', 'move', 'to', 'the', 'kitchen', 'John', 'journey', 'to', 'the', 'bathroom'], ['Where', 'be', 'Sandra'], ['office']), (['Mary', 'move', 'to', 'the', 'bathroom', 'Sandra', 'go', 'back', 'to', 'the', 'kitchen'], ['Where', 'be', 'Mary'], ['bathroom']), (['John', 'go', 'to', 'the', 'kitchen', 'John', 'go', 'to', 'the', 'hallway'], ['Where', 'be', 'John'], ['hallway']), (['Sandra', 'move', 'to', 'the', 'garden', 'Sandra', 'go', 'back', 'to', 'the', 'kitchen'], ['Where', 'be', 'Sandra'], ['kitchen']), (['John', 'move', 'to', 'the', 'bedroom', 'Sandra', 'go', 'back', 'to', 'the', 'bathroom'], ['Where', 'be', 'Sandra'], ['bathroom']), (['Sandra', 'go', 'to', 'the', 'hallway', 'Daniel', 'journey', 'to', 'the', 'office'], ['Where', 'be', 'Sandra'], ['hallway']), (['Daniel', 'travel', 'to', 'the', 'bedroom', 'Daniel', 'travel', 'to', 'the', 'garden'], ['Where', 'be', 'Daniel'], ['garden']), (['Sandra', 'journey', 'to', 'the', 'bathroom', 'Daniel', 'move', 'to', 'the', 'garden'], ['Where', 'be', 'Daniel'], ['garden']), (['Mary', 'go', 'back', 'to', 'the', 'garden', 'Daniel', 'go', 'back', 'to', 'the', 'kitchen'], ['Where', 'be', 'Daniel'], ['kitchen']), (['Mary', 'go', 'back', 'to', 'the', 'bedroom', 'Mary', 'go', 'back', 'to', 'the', 'bathroom'], ['Where', 'be', 'Daniel'], ['kitchen']), (['John', 'journey', 'to', 'the', 'hallway', 'John', 'go', 'back', 'to', 'the', 'bedroom'], ['Where', 'be', 'John'], ['bedroom']), (['Daniel', 'journey', 'to', 'the', 'bathroom', 'John', 'go', 'back', 'to', 'the', 'office'], ['Where', 'be', 'John'], ['office']), (['John', 'go', 'to', 'the', 'kitchen', 'John', 'journey', 'to', 'the', 'office'], ['Where', 'be', 'John'], ['office']), (['Daniel', 'travel', 'to', 'the', 'bedroom', 'John', 'journey', 'to', 'the', 'kitchen'], ['Where', 'be', 'John'], ['kitchen']), (['John', 'journey', 'to', 'the', 'office', 'Mary', 'go', 'back', 'to', 'the', 'bathroom'], ['Where', 'be', 'Mary'], ['bathroom']), (['John', 'journey', 'to', 'the', 'garden', 'Sandra', 'go', 'to', 'the', 'bathroom'], ['Where', 'be', 'John'], ['garden']), (['Sandra', 'journey', 'to', 'the', 'office', 'John', 'go', 'back', 'to', 'the', 'bathroom'], ['Where', 'be', 'Sandra'], ['office']), (['Mary', 'journey', 'to', 'the', 'bedroom', 'Mary', 'journey', 'to', 'the', 'garden'], ['Where', 'be', 'Mary'], ['garden']), (['Daniel', 'go', 'back', 'to', 'the', 'garden', 'Mary', 'go', 'back', 'to', 'the', 'hallway'], ['Where', 'be', 'Daniel'], ['garden']), (['Daniel', 'go', 'to', 'the', 'hallway', 'John', 'travel', 'to', 'the', 'bedroom'], ['Where', 'be', 'Mary'], ['hallway']), (['Mary', 'go', 'to', 'the', 'garden', 'Mary', 'go', 'to', 'the', 'kitchen'], ['Where', 'be', 'Mary'], ['kitchen']), (['John', 'move', 'to', 'the', 'kitchen', 'John', 'go', 'back', 'to', 'the', 'garden'], ['Where', 'be', 'John'], ['garden']), (['John', 'journey', 'to', 'the', 'bedroom', 'Mary', 'move', 'to', 'the', 'garden'], ['Where', 'be', 'John'], ['bedroom']), (['Mary', 'journey', 'to', 'the', 'bathroom', 'Mary', 'travel', 'to', 'the', 'garden'], ['Where', 'be', 'John'], ['bedroom']), (['Mary', 'go', 'back', 'to', 'the', 'bedroom', 'Sandra', 'go', 'back', 'to', 'the', 'office'], ['Where', 'be', 'Mary'], ['bedroom']), (['Sandra', 'travel', 'to', 'the', 'bathroom', 'Sandra', 'travel', 'to', 'the', 'kitchen'], ['Where', 'be', 'Sandra'], ['kitchen']), (['Sandra', 'move', 'to', 'the', 'hallway', 'Mary', 'go', 'to', 'the', 'bathroom'], ['Where', 'be', 'Sandra'], ['hallway']), (['Mary', 'travel', 'to', 'the', 'kitchen', 'Sandra', 'move', 'to', 'the', 'office'], ['Where', 'be', 'Sandra'], ['office']), (['Mary', 'go', 'back', 'to', 'the', 'bedroom', 'Mary', 'journey', 'to', 'the', 'kitchen'], ['Where', 'be', 'Mary'], ['kitchen']), (['John', 'travel', 'to', 'the', 'bedroom', 'Daniel', 'go', 'to', 'the', 'bedroom'], ['Where', 'be', 'Mary'], ['kitchen']), (['Sandra', 'journey', 'to', 'the', 'garden', 'Sandra', 'travel', 'to', 'the', 'office'], ['Where', 'be', 'Sandra'], ['office']), (['Mary', 'travel', 'to', 'the', 'office', 'Mary', 'journey', 'to', 'the', 'kitchen'], ['Where', 'be', 'Sandra'], ['office']), (['Daniel', 'journey', 'to', 'the', 'kitchen', 'John', 'journey', 'to', 'the', 'office'], ['Where', 'be', 'John'], ['office']), (['Daniel', 'travel', 'to', 'the', 'bedroom', 'Sandra', 'journey', 'to', 'the', 'bathroom'], ['Where', 'be', 'Daniel'], ['bedroom']), (['Mary', 'travel', 'to', 'the', 'bedroom', 'John', 'travel', 'to', 'the', 'kitchen'], ['Where', 'be', 'John'], ['kitchen']), (['Mary', 'go', 'back', 'to', 'the', 'garden', 'Sandra', 'go', 'back', 'to', 'the', 'bedroom'], ['Where', 'be', 'Sandra'], ['bedroom']), (['Sandra', 'journey', 'to', 'the', 'bathroom', 'Daniel', 'move', 'to', 'the', 'bathroom'], ['Where', 'be', 'Sandra'], ['bathroom']), (['Sandra', 'journey', 'to', 'the', 'hallway', 'Mary', 'move', 'to', 'the', 'bedroom'], ['Where', 'be', 'Mary'], ['bedroom']), (['Mary', 'go', 'back', 'to', 'the', 'office', 'Sandra', 'move', 'to', 'the', 'bedroom'], ['Where', 'be', 'Mary'], ['office']), (['Sandra', 'move', 'to', 'the', 'kitchen', 'Daniel', 'move', 'to', 'the', 'bedroom'], ['Where', 'be', 'Daniel'], ['bedroom']), (['Sandra', 'go', 'to', 'the', 'hallway', 'Mary', 'journey', 'to', 'the', 'bathroom'], ['Where', 'be', 'Sandra'], ['hallway']), (['John', 'go', 'back', 'to', 'the', 'bathroom', 'John', 'travel', 'to', 'the', 'hallway'], ['Where', 'be', 'Daniel'], ['bedroom']), (['Sandra', 'move', 'to', 'the', 'office', 'John', 'go', 'to', 'the', 'kitchen'], ['Where', 'be', 'John'], ['kitchen']), (['John', 'travel', 'to', 'the', 'garden', 'Mary', 'move', 'to', 'the', 'office'], ['Where', 'be', 'Mary'], ['office']), (['John', 'go', 'to', 'the', 'bedroom', 'John', 'go', 'back', 'to', 'the', 'kitchen'], ['Where', 'be', 'John'], ['kitchen']), (['Daniel', 'go', 'to', 'the', 'garden', 'John', 'go', 'to', 'the', 'office'], ['Where', 'be', 'Daniel'], ['garden']), (['Mary', 'go', 'back', 'to', 'the', 'bathroom', 'Sandra', 'journey', 'to', 'the', 'garden'], ['Where', 'be', 'Daniel'], ['garden']), (['Mary', 'go', 'back', 'to', 'the', 'bedroom', 'Daniel', 'travel', 'to', 'the', 'office'], ['Where', 'be', 'Mary'], ['bedroom']), (['Daniel', 'go', 'back', 'to', 'the', 'garden', 'John', 'journey', 'to', 'the', 'office'], ['Where', 'be', 'John'], ['office']), (['Daniel', 'move', 'to', 'the', 'kitchen', 'Mary', 'journey', 'to', 'the', 'garden'], ['Where', 'be', 'Daniel'], ['kitchen']), (['Sandra', 'go', 'back', 'to', 'the', 'bedroom', 'John', 'go', 'to', 'the', 'garden'], ['Where', 'be', 'John'], ['garden']), (['John', 'journey', 'to', 'the', 'bathroom', 'Sandra', 'journey', 'to', 'the', 'office'], ['Where', 'be', 'Mary'], ['garden']), (['John', 'move', 'to', 'the', 'garden', 'Daniel', 'go', 'back', 'to', 'the', 'office'], ['Where', 'be', 'John'], ['garden']), (['Sandra', 'travel', 'to', 'the', 'office', 'Mary', 'go', 'back', 'to', 'the', 'garden'], ['Where', 'be', 'John'], ['garden']), (['Daniel', 'go', 'back', 'to', 'the', 'hallway', 'Sandra', 'travel', 'to', 'the', 'kitchen'], ['Where', 'be', 'Mary'], ['garden']), (['Sandra', 'journey', 'to', 'the', 'bathroom', 'Sandra', 'go', 'to', 'the', 'kitchen'], ['Where', 'be', 'Sandra'], ['kitchen']), (['Sandra', 'go', 'to', 'the', 'bathroom', 'Mary', 'move', 'to', 'the', 'bathroom'], ['Where', 'be', 'Sandra'], ['bathroom']), (['Sandra', 'go', 'to', 'the', 'bathroom', 'John', 'journey', 'to', 'the', 'hallway'], ['Where', 'be', 'John'], ['hallway']), (['Daniel', 'go', 'to', 'the', 'office', 'John', 'go', 'to', 'the', 'kitchen'], ['Where', 'be', 'John'], ['kitchen']), (['Daniel', 'travel', 'to', 'the', 'kitchen', 'Mary', 'journey', 'to', 'the', 'bedroom'], ['Where', 'be', 'Daniel'], ['kitchen']), (['Daniel', 'go', 'back', 'to', 'the', 'office', 'Mary', 'travel', 'to', 'the', 'garden'], ['Where', 'be', 'John'], ['kitchen']), (['John', 'journey', 'to', 'the', 'hallway', 'John', 'travel', 'to', 'the', 'office'], ['Where', 'be', 'Mary'], ['garden']), (['Sandra', 'go', 'to', 'the', 'kitchen', 'John', 'journey', 'to', 'the', 'kitchen'], ['Where', 'be', 'Sandra'], ['kitchen']), (['Sandra', 'go', 'back', 'to', 'the', 'garden', 'Mary', 'travel', 'to', 'the', 'hallway'], ['Where', 'be', 'John'], ['kitchen']), (['Sandra', 'go', 'back', 'to', 'the', 'bathroom', 'Daniel', 'journey', 'to', 'the', 'garden'], ['Where', 'be', 'Daniel'], ['garden']), (['John', 'move', 'to', 'the', 'hallway', 'Mary', 'move', 'to', 'the', 'bathroom'], ['Where', 'be', 'Sandra'], ['bathroom']), (['John', 'go', 'back', 'to', 'the', 'office', 'Mary', 'go', 'to', 'the', 'kitchen'], ['Where', 'be', 'Mary'], ['kitchen']), (['Sandra', 'move', 'to', 'the', 'bedroom', 'John', 'travel', 'to', 'the', 'office'], ['Where', 'be', 'John'], ['office']), (['Daniel', 'travel', 'to', 'the', 'hallway', 'Mary', 'go', 'to', 'the', 'hallway'], ['Where', 'be', 'Daniel'], ['hallway']), (['Mary', 'travel', 'to', 'the', 'office', 'Sandra', 'move', 'to', 'the', 'kitchen'], ['Where', 'be', 'Mary'], ['office']), (['John', 'go', 'back', 'to', 'the', 'hallway', 'Daniel', 'move', 'to', 'the', 'garden'], ['Where', 'be', 'Sandra'], ['kitchen']), (['Daniel', 'move', 'to', 'the', 'office', 'Daniel', 'travel', 'to', 'the', 'bedroom'], ['Where', 'be', 'Daniel'], ['bedroom']), (['Mary', 'go', 'to', 'the', 'kitchen', 'John', 'travel', 'to', 'the', 'hallway'], ['Where', 'be', 'John'], ['hallway']), (['Sandra', 'go', 'back', 'to', 'the', 'bedroom', 'John', 'travel', 'to', 'the', 'kitchen'], ['Where', 'be', 'Mary'], ['kitchen']), (['Mary', 'go', 'back', 'to', 'the', 'garden', 'Mary', 'travel', 'to', 'the', 'office'], ['Where', 'be', 'John'], ['kitchen']), (['John', 'journey', 'to', 'the', 'office', 'Sandra', 'go', 'to', 'the', 'office'], ['Where', 'be', 'Mary'], ['office']), (['Sandra', 'journey', 'to', 'the', 'kitchen', 'John', 'travel', 'to', 'the', 'hallway'], ['Where', 'be', 'Mary'], ['office']), (['Daniel', 'go', 'back', 'to', 'the', 'office', 'Sandra', 'go', 'to', 'the', 'garden'], ['Where', 'be', 'Daniel'], ['office']), (['John', 'journey', 'to', 'the', 'bedroom', 'Mary', 'go', 'back', 'to', 'the', 'bathroom'], ['Where', 'be', 'Daniel'], ['office']), (['Daniel', 'go', 'back', 'to', 'the', 'kitchen', 'Mary', 'travel', 'to', 'the', 'bedroom'], ['Where', 'be', 'Mary'], ['bedroom']), (['John', 'go', 'back', 'to', 'the', 'office', 'Sandra', 'go', 'to', 'the', 'bedroom'], ['Where', 'be', 'Daniel'], ['kitchen']), (['Daniel', 'go', 'to', 'the', 'bedroom', 'John', 'go', 'back', 'to', 'the', 'garden'], ['Where', 'be', 'John'], ['garden']), (['Sandra', 'travel', 'to', 'the', 'hallway', 'Sandra', 'go', 'to', 'the', 'bedroom'], ['Where', 'be', 'Sandra'], ['bedroom']), (['Daniel', 'move', 'to', 'the', 'office', 'Mary', 'go', 'to', 'the', 'hallway'], ['Where', 'be', 'Sandra'], ['bedroom']), (['Mary', 'journey', 'to', 'the', 'kitchen', 'John', 'go', 'back', 'to', 'the', 'bedroom'], ['Where', 'be', 'Daniel'], ['office']), (['Daniel', 'travel', 'to', 'the', 'kitchen', 'Sandra', 'travel', 'to', 'the', 'kitchen'], ['Where', 'be', 'John'], ['bedroom']), (['Sandra', 'travel', 'to', 'the', 'hallway', 'Daniel', 'go', 'to', 'the', 'garden'], ['Where', 'be', 'Daniel'], ['garden'])]\n"
          ],
          "name": "stdout"
        }
      ]
    },
    {
      "cell_type": "code",
      "metadata": {
        "id": "g9J-XqPrGNag"
      },
      "source": [
        "vocab = set()\r\n",
        "\r\n",
        "for grp in all_data:\r\n",
        "  s, q, a = grp\r\n",
        "  vocab = vocab.union(set(s))\r\n",
        "  vocab = vocab.union(set(a))"
      ],
      "execution_count": null,
      "outputs": []
    },
    {
      "cell_type": "code",
      "metadata": {
        "id": "4YpJeCO_EtXf",
        "colab": {
          "base_uri": "https://localhost:8080/"
        },
        "outputId": "3f323366-fc81-4f1b-cc09-b62e327d519b"
      },
      "source": [
        "vocab\r\n",
        "\r\n",
        "# {'Daniel',\r\n",
        "#  'John',\r\n",
        "#  'Mary',\r\n",
        "#  'Sandra',\r\n",
        "#  'back',\r\n",
        "#  'bathroom',\r\n",
        "#  'bedroom',\r\n",
        "#  'garden',\r\n",
        "#  'hallway',\r\n",
        "#  'journeyed',\r\n",
        "#  'kitchen',\r\n",
        "#  'moved',\r\n",
        "#  'office',\r\n",
        "#  'the',\r\n",
        "#  'to',\r\n",
        "#  'travelled',\r\n",
        "#  'went'}"
      ],
      "execution_count": null,
      "outputs": [
        {
          "output_type": "execute_result",
          "data": {
            "text/plain": [
              "{'Daniel',\n",
              " 'John',\n",
              " 'Mary',\n",
              " 'Sandra',\n",
              " 'back',\n",
              " 'bathroom',\n",
              " 'bedroom',\n",
              " 'garden',\n",
              " 'go',\n",
              " 'hallway',\n",
              " 'journey',\n",
              " 'kitchen',\n",
              " 'move',\n",
              " 'office',\n",
              " 'the',\n",
              " 'to',\n",
              " 'travel'}"
            ]
          },
          "metadata": {
            "tags": []
          },
          "execution_count": 279
        }
      ]
    },
    {
      "cell_type": "markdown",
      "metadata": {
        "id": "MBugHP93fLX1"
      },
      "source": [
        "## 6. Tokenize Text"
      ]
    },
    {
      "cell_type": "markdown",
      "metadata": {
        "id": "NWVtFz2Be2Io"
      },
      "source": [
        "### 1. Get vectors' max lengths"
      ]
    },
    {
      "cell_type": "code",
      "metadata": {
        "id": "QHNrIMiRS4lX"
      },
      "source": [
        "# need to add 1 as keras uses 0 for padding\r\n",
        "vocab_size = len(vocab) + 1\r\n",
        "D = 64"
      ],
      "execution_count": null,
      "outputs": []
    },
    {
      "cell_type": "code",
      "metadata": {
        "id": "uDbUIezrViJR"
      },
      "source": [
        "all_qn_lens = [len(q) for (s, q, a) in all_data]\r\n",
        "MAX_QN_LEN = max(all_qn_lens)\r\n"
      ],
      "execution_count": null,
      "outputs": []
    },
    {
      "cell_type": "code",
      "metadata": {
        "id": "_FtJBzfgVssE",
        "colab": {
          "base_uri": "https://localhost:8080/"
        },
        "outputId": "6c998520-1f8c-43f1-c4b7-1f70c093aba9"
      },
      "source": [
        "MAX_QN_LEN"
      ],
      "execution_count": null,
      "outputs": [
        {
          "output_type": "execute_result",
          "data": {
            "text/plain": [
              "3"
            ]
          },
          "metadata": {
            "tags": []
          },
          "execution_count": 282
        }
      ]
    },
    {
      "cell_type": "code",
      "metadata": {
        "id": "qO9nUF1yTdl7"
      },
      "source": [
        "# Get the dimension of the longest story\r\n",
        "all_story_lens = [len(s) for (s, q, a) in all_data]\r\n",
        "MAX_STORY_LEN = max(all_story_lens)"
      ],
      "execution_count": null,
      "outputs": []
    },
    {
      "cell_type": "code",
      "metadata": {
        "id": "xu_k93xAVG9x",
        "colab": {
          "base_uri": "https://localhost:8080/"
        },
        "outputId": "58364890-66b9-483f-8a13-ab3f686fcd8c"
      },
      "source": [
        "MAX_STORY_LEN"
      ],
      "execution_count": null,
      "outputs": [
        {
          "output_type": "execute_result",
          "data": {
            "text/plain": [
              "12"
            ]
          },
          "metadata": {
            "tags": []
          },
          "execution_count": 284
        }
      ]
    },
    {
      "cell_type": "code",
      "metadata": {
        "id": "bAe7MSVniq1E",
        "colab": {
          "base_uri": "https://localhost:8080/"
        },
        "outputId": "e64e20fa-78fe-4832-ef6f-124895d31b6c"
      },
      "source": [
        "tokenizer = Tokenizer(filters=[])\r\n",
        "tokenizer.fit_on_texts(vocab)\r\n",
        "tokenizer.word_index"
      ],
      "execution_count": null,
      "outputs": [
        {
          "output_type": "execute_result",
          "data": {
            "text/plain": [
              "{'back': 9,\n",
              " 'bathroom': 14,\n",
              " 'bedroom': 10,\n",
              " 'daniel': 12,\n",
              " 'garden': 2,\n",
              " 'go': 4,\n",
              " 'hallway': 17,\n",
              " 'john': 8,\n",
              " 'journey': 5,\n",
              " 'kitchen': 13,\n",
              " 'mary': 16,\n",
              " 'move': 11,\n",
              " 'office': 15,\n",
              " 'sandra': 6,\n",
              " 'the': 3,\n",
              " 'to': 1,\n",
              " 'travel': 7}"
            ]
          },
          "metadata": {
            "tags": []
          },
          "execution_count": 285
        }
      ]
    },
    {
      "cell_type": "code",
      "metadata": {
        "id": "RaL3q7bEjItv"
      },
      "source": [
        "def vectorize_stories(data, word_index=tokenizer.word_index, max_story_len=MAX_STORY_LEN, max_question_len=MAX_QN_LEN):\r\n",
        "  # Stories\r\n",
        "  X = []\r\n",
        "\r\n",
        "  # Questions\r\n",
        "  Xq = []\r\n",
        "\r\n",
        "  # Y Correct answer\r\n",
        "  Y = []\r\n",
        "\r\n",
        "  for (story, qn, ans) in data:\r\n",
        "    # for each story\r\n",
        "    x = [word_index[word.lower()] for word in story]\r\n",
        "    xq = [word_index[word.lower()] for word in story]\r\n",
        "\r\n",
        "    y = np.zeros(len(word_index) + 1)\r\n",
        "    answer = ans[0] # ans is a 1d array. e.g. [\"garden\"]\r\n",
        "    y[word_index[answer]] = 1 \r\n",
        "\r\n",
        "    X.append(x)\r\n",
        "    Xq.append(xq)\r\n",
        "    Y.append(y)\r\n",
        "\r\n",
        "  return (pad_sequences(X, maxlen=MAX_STORY_LEN), pad_sequences(Xq, maxlen=MAX_QN_LEN), np.array(Y))"
      ],
      "execution_count": null,
      "outputs": []
    },
    {
      "cell_type": "code",
      "metadata": {
        "id": "7ahrHiEml3Yl"
      },
      "source": [
        "inputs_train, queries_train, answers_train = vectorize_stories(train_data_list)\r\n",
        "inputs_test, queries_test, answers_test = vectorize_stories(test_data_list)"
      ],
      "execution_count": null,
      "outputs": []
    },
    {
      "cell_type": "code",
      "metadata": {
        "id": "Oxip3xDlnf4c",
        "colab": {
          "base_uri": "https://localhost:8080/"
        },
        "outputId": "71de8d61-6af4-4cfb-8034-d2747b0ce621"
      },
      "source": [
        "inputs_train"
      ],
      "execution_count": null,
      "outputs": [
        {
          "output_type": "execute_result",
          "data": {
            "text/plain": [
              "array([[ 0,  0, 16, ...,  1,  3, 17],\n",
              "       [17, 12,  4, ...,  1,  3,  2],\n",
              "       [ 3,  2,  8, ...,  1,  3, 14],\n",
              "       ...,\n",
              "       [17, 16,  5, ...,  1,  3, 10],\n",
              "       [ 3, 10, 12, ...,  1,  3, 13],\n",
              "       [ 3, 13,  6, ...,  1,  3,  2]], dtype=int32)"
            ]
          },
          "metadata": {
            "tags": []
          },
          "execution_count": 288
        }
      ]
    },
    {
      "cell_type": "code",
      "metadata": {
        "id": "X0y47XhbnlY7",
        "colab": {
          "base_uri": "https://localhost:8080/"
        },
        "outputId": "9decf761-a1dd-4bb7-b6bd-cda489c3244d"
      },
      "source": [
        "answers_train"
      ],
      "execution_count": null,
      "outputs": [
        {
          "output_type": "execute_result",
          "data": {
            "text/plain": [
              "array([[0., 0., 0., ..., 0., 0., 0.],\n",
              "       [0., 0., 0., ..., 0., 0., 1.],\n",
              "       [0., 0., 0., ..., 0., 0., 1.],\n",
              "       ...,\n",
              "       [0., 0., 0., ..., 1., 0., 0.],\n",
              "       [0., 0., 0., ..., 0., 0., 0.],\n",
              "       [0., 0., 1., ..., 0., 0., 0.]])"
            ]
          },
          "metadata": {
            "tags": []
          },
          "execution_count": 289
        }
      ]
    },
    {
      "cell_type": "code",
      "metadata": {
        "id": "czl0f0Ba-rYj",
        "colab": {
          "base_uri": "https://localhost:8080/"
        },
        "outputId": "f9c1381b-dd0d-4f2d-9b49-934b436c5688"
      },
      "source": [
        "print(inputs_train.shape, queries_train.shape, answers_train.shape)\r\n",
        "# (1000, 12) (1000, 3) (1000, 18)"
      ],
      "execution_count": null,
      "outputs": [
        {
          "output_type": "stream",
          "text": [
            "(1000, 12) (1000, 3) (1000, 18)\n"
          ],
          "name": "stdout"
        }
      ]
    },
    {
      "cell_type": "markdown",
      "metadata": {
        "id": "Nfb43ssHgvpb"
      },
      "source": [
        "# Build the RNN model"
      ]
    },
    {
      "cell_type": "markdown",
      "metadata": {
        "id": "sHBulUlsWj2r"
      },
      "source": [
        "## Theory\r\n",
        "\r\n",
        "Recall that:\r\n",
        "1.   The story vector is multiplied against its embedding matrix (M)\r\n",
        "2.   The question vector is multiplied against its embedding matrix (Q)\r\n",
        "3.   The product (after softmax) represents the most probable sentence. The product matrix will of dimension max_story_len x max_qn_ln\r\n",
        "4.   To get a **continous representation**:  \r\n",
        "     a.    We start again by encoding the sentences of the story as vectors (C). C is of dimension max_story_len x max_qn_ln  \r\n",
        "     a.    Since C's dimension is compatible with the product matrix, the product matrix is *added* to C. \r\n",
        "     b.    Afterwards, the result is *concatenated* with the embedded question matrix. The axis concatenated is the embedding dimension. This way, the features learn are accumulated \r\n",
        "5.   This final embedded matrix is then fed to the LSTM layer.\r\n",
        "5.   For the next recursion, the steps repeat iself based on the continued representation"
      ]
    },
    {
      "cell_type": "markdown",
      "metadata": {
        "id": "fch7X4wijsTu"
      },
      "source": [
        "## Build the attention layer"
      ]
    },
    {
      "cell_type": "markdown",
      "metadata": {
        "id": "ZQcAfeO2h_OT"
      },
      "source": [
        "#### 2 input layers\r\n",
        "\r\n"
      ]
    },
    {
      "cell_type": "code",
      "metadata": {
        "id": "liirSZ65a0Iy",
        "colab": {
          "base_uri": "https://localhost:8080/"
        },
        "outputId": "bbea84be-ef65-4108-ed32-ab9c207121e2"
      },
      "source": [
        "# This model will have 2 input layers, being the story input and the question input\r\n",
        "story_sequence = Input((MAX_STORY_LEN, ))\r\n",
        "q_input = Input((MAX_QN_LEN, ))\r\n",
        "\r\n",
        "print(story_sequence.shape)\r\n",
        "# (None, 12)\r\n",
        "print(q_input.shape)\r\n",
        "# (None, 3)"
      ],
      "execution_count": null,
      "outputs": [
        {
          "output_type": "stream",
          "text": [
            "(None, 12)\n",
            "(None, 3)\n"
          ],
          "name": "stdout"
        }
      ]
    },
    {
      "cell_type": "markdown",
      "metadata": {
        "id": "9HDfDtWFiM3F"
      },
      "source": [
        "#### Embedded matrix M"
      ]
    },
    {
      "cell_type": "code",
      "metadata": {
        "id": "Meavgqt0MLmI",
        "colab": {
          "base_uri": "https://localhost:8080/"
        },
        "outputId": "97bacff1-09ae-499d-82b6-4662157aa58a"
      },
      "source": [
        "m = Embedding(input_dim=vocab_size, output_dim=D)(story_sequence)\r\n",
        "m = Dropout(0.3)(m)\r\n",
        "\r\n",
        "print(m.shape)\r\n",
        "# (None, 12, 64)"
      ],
      "execution_count": null,
      "outputs": [
        {
          "output_type": "stream",
          "text": [
            "(None, 12, 64)\n"
          ],
          "name": "stdout"
        }
      ]
    },
    {
      "cell_type": "markdown",
      "metadata": {
        "id": "pfHZzuuZiR5h"
      },
      "source": [
        "#### Embedded matrix C"
      ]
    },
    {
      "cell_type": "code",
      "metadata": {
        "id": "PvZ2cKFrML8S",
        "colab": {
          "base_uri": "https://localhost:8080/"
        },
        "outputId": "e6e956f8-7eab-4775-c0dc-35b2abb5ce9c"
      },
      "source": [
        "c = Embedding(input_dim=vocab_size, output_dim=MAX_QN_LEN)(story_sequence)\r\n",
        "c = Dropout(0.3)(c)\r\n",
        "\r\n",
        "print(c.shape)\r\n",
        "# (None, 12, 3)"
      ],
      "execution_count": null,
      "outputs": [
        {
          "output_type": "stream",
          "text": [
            "(None, 12, 3)\n"
          ],
          "name": "stdout"
        }
      ]
    },
    {
      "cell_type": "markdown",
      "metadata": {
        "id": "OO-6-4qIio4v"
      },
      "source": [
        "#### Embedded matrix Q"
      ]
    },
    {
      "cell_type": "code",
      "metadata": {
        "id": "7RD2ShC1MMj4",
        "colab": {
          "base_uri": "https://localhost:8080/"
        },
        "outputId": "f3c9d1c6-9500-41d7-d55f-8f6f56c28922"
      },
      "source": [
        "# Embedded matrix q\r\n",
        "\r\n",
        "q = Embedding(input_dim=vocab_size, output_dim=D, input_length=MAX_QN_LEN)(q_input)\r\n",
        "q = Dropout(0.3)(q)\r\n",
        "\r\n",
        "print(q.shape)\r\n",
        "# (None, 3, 64)"
      ],
      "execution_count": null,
      "outputs": [
        {
          "output_type": "stream",
          "text": [
            "(None, 3, 64)\n"
          ],
          "name": "stdout"
        }
      ]
    },
    {
      "cell_type": "markdown",
      "metadata": {
        "id": "7Xe8npOviyXb"
      },
      "source": [
        "#### Continuous representation"
      ]
    },
    {
      "cell_type": "code",
      "metadata": {
        "id": "Zr0zCPi7NnKn",
        "colab": {
          "base_uri": "https://localhost:8080/"
        },
        "outputId": "8c053107-b12f-4f24-a861-1f3cd872d3e8"
      },
      "source": [
        "# Take the inner product between query and each story vector (m), followed by softmax operation, to find the best match\r\n",
        "x = dot([m, q], axes=(2, 2))\r\n",
        "x = Activation('softmax')(x)\r\n",
        "print(x.shape)\r\n",
        "# (None, 12, 3)"
      ],
      "execution_count": null,
      "outputs": [
        {
          "output_type": "stream",
          "text": [
            "(None, 12, 3)\n"
          ],
          "name": "stdout"
        }
      ]
    },
    {
      "cell_type": "code",
      "metadata": {
        "id": "sTLuYkMOi3lQ",
        "colab": {
          "base_uri": "https://localhost:8080/"
        },
        "outputId": "21a92c91-8f62-401c-a5cc-9fbee22586bf"
      },
      "source": [
        "# Add product matrix with C embedded story matrix\r\n",
        "x = add([x, c])\r\n",
        "print(x.shape)\r\n",
        "# (None, 12, 3)"
      ],
      "execution_count": null,
      "outputs": [
        {
          "output_type": "stream",
          "text": [
            "(None, 12, 3)\n"
          ],
          "name": "stdout"
        }
      ]
    },
    {
      "cell_type": "code",
      "metadata": {
        "id": "v890qdp1i5x3",
        "colab": {
          "base_uri": "https://localhost:8080/"
        },
        "outputId": "7e00d2e7-c7c2-42d6-9511-80baabf23202"
      },
      "source": [
        "# Permutation pattern does not include the samples dimension. Indexing starts at 1. \r\n",
        "# For instance, (2, 1) permutes the first and second dimensions of the input.\r\n",
        "# Right now, the continued_match dimension is (samples, story_maxlen, query_maxlen)\r\n",
        "# Need to change to (samples, query_maxlen, story_maxlen), since you are going to concactenate with the question_encoded later\r\n",
        "\r\n",
        "x = Permute((2, 1))(x)\r\n",
        "print(x.shape)\r\n",
        "# (None, 3, 12)"
      ],
      "execution_count": null,
      "outputs": [
        {
          "output_type": "stream",
          "text": [
            "(None, 3, 12)\n"
          ],
          "name": "stdout"
        }
      ]
    },
    {
      "cell_type": "code",
      "metadata": {
        "id": "1r815dXqjcN_",
        "colab": {
          "base_uri": "https://localhost:8080/"
        },
        "outputId": "276f7170-2be6-44d0-ad40-6955e7430baa"
      },
      "source": [
        "# \"concactenate\" means append to specified axis (defaults to largest axis), as distinct from \"add\", which does mathematical addition between matrices\r\n",
        "# \"concactenate\" results in a change in the dimension, \"add\" does not\r\n",
        "\r\n",
        "x = concatenate([x, q])\r\n",
        "print(x.shape)\r\n",
        "# (None, 3, 76)"
      ],
      "execution_count": null,
      "outputs": [
        {
          "output_type": "stream",
          "text": [
            "(None, 3, 76)\n"
          ],
          "name": "stdout"
        }
      ]
    },
    {
      "cell_type": "markdown",
      "metadata": {
        "id": "-_VjySBbh3lw"
      },
      "source": [
        "## 3. Build the LSTM layer"
      ]
    },
    {
      "cell_type": "code",
      "metadata": {
        "id": "XF1stPylP7rD",
        "colab": {
          "base_uri": "https://localhost:8080/"
        },
        "outputId": "2a1a6597-6aaa-4534-826b-43230c6c63f6"
      },
      "source": [
        "x = LSTM(32)(x)\r\n",
        "print(x.shape)\r\n",
        "\r\n",
        "x = Dropout(0.3)(x)\r\n",
        "x = Dense(vocab_size, activation=\"softmax\")(x)\r\n",
        "\r\n",
        "print(x.shape)\r\n",
        "# (None, 18)"
      ],
      "execution_count": null,
      "outputs": [
        {
          "output_type": "stream",
          "text": [
            "(None, 32)\n",
            "(None, 18)\n"
          ],
          "name": "stdout"
        }
      ]
    },
    {
      "cell_type": "code",
      "metadata": {
        "id": "X-xdhILjP_CI"
      },
      "source": [
        "model = Model([story_sequence, q_input], x)"
      ],
      "execution_count": null,
      "outputs": []
    },
    {
      "cell_type": "markdown",
      "metadata": {
        "id": "KchiGCC1k3pn"
      },
      "source": [
        "## 4. Compile the model"
      ]
    },
    {
      "cell_type": "code",
      "metadata": {
        "id": "ip3o3UMjP_PU"
      },
      "source": [
        "model.compile(optimizer=\"rmsprop\", loss=\"categorical_crossentropy\", metrics=[\"accuracy\"])"
      ],
      "execution_count": null,
      "outputs": []
    },
    {
      "cell_type": "code",
      "metadata": {
        "id": "OUNmdi_UQRv_",
        "colab": {
          "base_uri": "https://localhost:8080/"
        },
        "outputId": "634466e1-8215-4fc3-b090-c3e2d5993b97"
      },
      "source": [
        "model.summary()"
      ],
      "execution_count": null,
      "outputs": [
        {
          "output_type": "stream",
          "text": [
            "Model: \"model_3\"\n",
            "__________________________________________________________________________________________________\n",
            "Layer (type)                    Output Shape         Param #     Connected to                     \n",
            "==================================================================================================\n",
            "input_7 (InputLayer)            [(None, 12)]         0                                            \n",
            "__________________________________________________________________________________________________\n",
            "input_8 (InputLayer)            [(None, 3)]          0                                            \n",
            "__________________________________________________________________________________________________\n",
            "embedding_9 (Embedding)         (None, 12, 64)       1152        input_7[0][0]                    \n",
            "__________________________________________________________________________________________________\n",
            "embedding_11 (Embedding)        (None, 3, 64)        1152        input_8[0][0]                    \n",
            "__________________________________________________________________________________________________\n",
            "dropout_12 (Dropout)            (None, 12, 64)       0           embedding_9[0][0]                \n",
            "__________________________________________________________________________________________________\n",
            "dropout_14 (Dropout)            (None, 3, 64)        0           embedding_11[0][0]               \n",
            "__________________________________________________________________________________________________\n",
            "dot_3 (Dot)                     (None, 12, 3)        0           dropout_12[0][0]                 \n",
            "                                                                 dropout_14[0][0]                 \n",
            "__________________________________________________________________________________________________\n",
            "embedding_10 (Embedding)        (None, 12, 3)        54          input_7[0][0]                    \n",
            "__________________________________________________________________________________________________\n",
            "activation_3 (Activation)       (None, 12, 3)        0           dot_3[0][0]                      \n",
            "__________________________________________________________________________________________________\n",
            "dropout_13 (Dropout)            (None, 12, 3)        0           embedding_10[0][0]               \n",
            "__________________________________________________________________________________________________\n",
            "add_3 (Add)                     (None, 12, 3)        0           activation_3[0][0]               \n",
            "                                                                 dropout_13[0][0]                 \n",
            "__________________________________________________________________________________________________\n",
            "permute_3 (Permute)             (None, 3, 12)        0           add_3[0][0]                      \n",
            "__________________________________________________________________________________________________\n",
            "concatenate_3 (Concatenate)     (None, 3, 76)        0           permute_3[0][0]                  \n",
            "                                                                 dropout_14[0][0]                 \n",
            "__________________________________________________________________________________________________\n",
            "lstm_3 (LSTM)                   (None, 32)           13952       concatenate_3[0][0]              \n",
            "__________________________________________________________________________________________________\n",
            "dropout_15 (Dropout)            (None, 32)           0           lstm_3[0][0]                     \n",
            "__________________________________________________________________________________________________\n",
            "dense_3 (Dense)                 (None, 18)           594         dropout_15[0][0]                 \n",
            "==================================================================================================\n",
            "Total params: 16,904\n",
            "Trainable params: 16,904\n",
            "Non-trainable params: 0\n",
            "__________________________________________________________________________________________________\n"
          ],
          "name": "stdout"
        }
      ]
    },
    {
      "cell_type": "markdown",
      "metadata": {
        "id": "6RX8tfi_k8yo"
      },
      "source": [
        "## 5. Train the model"
      ]
    },
    {
      "cell_type": "code",
      "metadata": {
        "id": "HWr7Lan78620",
        "colab": {
          "base_uri": "https://localhost:8080/"
        },
        "outputId": "ad25da57-518e-468d-943a-bb50f66cf912"
      },
      "source": [
        "r = model.fit([inputs_train, queries_train], answers_train, batch_size=32, epochs=600, validation_data=([inputs_test, queries_test], answers_train) )"
      ],
      "execution_count": null,
      "outputs": [
        {
          "output_type": "stream",
          "text": [
            "Epoch 1/600\n",
            "32/32 [==============================] - 2s 21ms/step - loss: 2.7077 - accuracy: 0.1188 - val_loss: 2.1415 - val_accuracy: 0.1730\n",
            "Epoch 2/600\n",
            "32/32 [==============================] - 0s 9ms/step - loss: 2.0567 - accuracy: 0.1926 - val_loss: 1.8240 - val_accuracy: 0.4890\n",
            "Epoch 3/600\n",
            "32/32 [==============================] - 0s 9ms/step - loss: 1.8903 - accuracy: 0.2240 - val_loss: 1.7289 - val_accuracy: 0.4280\n",
            "Epoch 4/600\n",
            "32/32 [==============================] - 0s 9ms/step - loss: 1.7696 - accuracy: 0.2875 - val_loss: 1.6467 - val_accuracy: 0.5650\n",
            "Epoch 5/600\n",
            "32/32 [==============================] - 0s 9ms/step - loss: 1.7045 - accuracy: 0.3526 - val_loss: 1.5679 - val_accuracy: 0.5650\n",
            "Epoch 6/600\n",
            "32/32 [==============================] - 0s 9ms/step - loss: 1.5992 - accuracy: 0.4364 - val_loss: 1.4997 - val_accuracy: 0.5650\n",
            "Epoch 7/600\n",
            "32/32 [==============================] - 0s 9ms/step - loss: 1.5493 - accuracy: 0.5026 - val_loss: 1.4529 - val_accuracy: 0.5650\n",
            "Epoch 8/600\n",
            "32/32 [==============================] - 0s 9ms/step - loss: 1.5113 - accuracy: 0.5294 - val_loss: 1.4254 - val_accuracy: 0.5650\n",
            "Epoch 9/600\n",
            "32/32 [==============================] - 0s 9ms/step - loss: 1.4768 - accuracy: 0.5387 - val_loss: 1.4094 - val_accuracy: 0.5650\n",
            "Epoch 10/600\n",
            "32/32 [==============================] - 0s 9ms/step - loss: 1.4678 - accuracy: 0.5463 - val_loss: 1.4000 - val_accuracy: 0.5650\n",
            "Epoch 11/600\n",
            "32/32 [==============================] - 0s 9ms/step - loss: 1.4342 - accuracy: 0.5692 - val_loss: 1.3962 - val_accuracy: 0.5650\n",
            "Epoch 12/600\n",
            "32/32 [==============================] - 0s 9ms/step - loss: 1.4120 - accuracy: 0.5811 - val_loss: 1.3901 - val_accuracy: 0.5650\n",
            "Epoch 13/600\n",
            "32/32 [==============================] - 0s 9ms/step - loss: 1.4214 - accuracy: 0.5689 - val_loss: 1.3835 - val_accuracy: 0.5650\n",
            "Epoch 14/600\n",
            "32/32 [==============================] - 0s 9ms/step - loss: 1.4353 - accuracy: 0.5679 - val_loss: 1.3810 - val_accuracy: 0.5650\n",
            "Epoch 15/600\n",
            "32/32 [==============================] - 0s 10ms/step - loss: 1.3983 - accuracy: 0.5770 - val_loss: 1.3768 - val_accuracy: 0.5650\n",
            "Epoch 16/600\n",
            "32/32 [==============================] - 0s 9ms/step - loss: 1.4298 - accuracy: 0.5601 - val_loss: 1.3760 - val_accuracy: 0.5650\n",
            "Epoch 17/600\n",
            "32/32 [==============================] - 0s 10ms/step - loss: 1.3866 - accuracy: 0.5846 - val_loss: 1.3709 - val_accuracy: 0.5650\n",
            "Epoch 18/600\n",
            "32/32 [==============================] - 0s 9ms/step - loss: 1.3723 - accuracy: 0.5823 - val_loss: 1.3696 - val_accuracy: 0.5650\n",
            "Epoch 19/600\n",
            "32/32 [==============================] - 0s 9ms/step - loss: 1.3961 - accuracy: 0.5772 - val_loss: 1.3662 - val_accuracy: 0.5650\n",
            "Epoch 20/600\n",
            "32/32 [==============================] - 0s 9ms/step - loss: 1.4007 - accuracy: 0.5555 - val_loss: 1.3621 - val_accuracy: 0.5650\n",
            "Epoch 21/600\n",
            "32/32 [==============================] - 0s 9ms/step - loss: 1.3911 - accuracy: 0.5759 - val_loss: 1.3618 - val_accuracy: 0.5650\n",
            "Epoch 22/600\n",
            "32/32 [==============================] - 0s 9ms/step - loss: 1.3844 - accuracy: 0.5776 - val_loss: 1.3576 - val_accuracy: 0.5650\n",
            "Epoch 23/600\n",
            "32/32 [==============================] - 0s 9ms/step - loss: 1.4540 - accuracy: 0.5472 - val_loss: 1.3556 - val_accuracy: 0.5650\n",
            "Epoch 24/600\n",
            "32/32 [==============================] - 0s 9ms/step - loss: 1.3743 - accuracy: 0.5681 - val_loss: 1.3487 - val_accuracy: 0.5650\n",
            "Epoch 25/600\n",
            "32/32 [==============================] - 0s 9ms/step - loss: 1.4197 - accuracy: 0.5534 - val_loss: 1.3477 - val_accuracy: 0.5650\n",
            "Epoch 26/600\n",
            "32/32 [==============================] - 0s 9ms/step - loss: 1.3794 - accuracy: 0.5640 - val_loss: 1.3477 - val_accuracy: 0.5650\n",
            "Epoch 27/600\n",
            "32/32 [==============================] - 0s 9ms/step - loss: 1.4136 - accuracy: 0.5516 - val_loss: 1.3383 - val_accuracy: 0.5650\n",
            "Epoch 28/600\n",
            "32/32 [==============================] - 0s 9ms/step - loss: 1.3810 - accuracy: 0.5512 - val_loss: 1.3363 - val_accuracy: 0.5650\n",
            "Epoch 29/600\n",
            "32/32 [==============================] - 0s 9ms/step - loss: 1.3696 - accuracy: 0.5766 - val_loss: 1.3354 - val_accuracy: 0.5650\n",
            "Epoch 30/600\n",
            "32/32 [==============================] - 0s 9ms/step - loss: 1.3727 - accuracy: 0.5664 - val_loss: 1.3288 - val_accuracy: 0.5670\n",
            "Epoch 31/600\n",
            "32/32 [==============================] - 0s 9ms/step - loss: 1.3929 - accuracy: 0.5471 - val_loss: 1.3229 - val_accuracy: 0.5680\n",
            "Epoch 32/600\n",
            "32/32 [==============================] - 0s 9ms/step - loss: 1.3888 - accuracy: 0.5634 - val_loss: 1.3212 - val_accuracy: 0.5700\n",
            "Epoch 33/600\n",
            "32/32 [==============================] - 1s 17ms/step - loss: 1.3322 - accuracy: 0.5750 - val_loss: 1.3145 - val_accuracy: 0.5670\n",
            "Epoch 34/600\n",
            "32/32 [==============================] - 0s 9ms/step - loss: 1.3851 - accuracy: 0.5545 - val_loss: 1.3116 - val_accuracy: 0.5720\n",
            "Epoch 35/600\n",
            "32/32 [==============================] - 0s 9ms/step - loss: 1.3422 - accuracy: 0.5805 - val_loss: 1.3074 - val_accuracy: 0.5700\n",
            "Epoch 36/600\n",
            "32/32 [==============================] - 0s 9ms/step - loss: 1.4267 - accuracy: 0.5347 - val_loss: 1.3031 - val_accuracy: 0.5700\n",
            "Epoch 37/600\n",
            "32/32 [==============================] - 0s 9ms/step - loss: 1.3619 - accuracy: 0.5599 - val_loss: 1.3085 - val_accuracy: 0.5640\n",
            "Epoch 38/600\n",
            "32/32 [==============================] - 0s 9ms/step - loss: 1.3476 - accuracy: 0.5638 - val_loss: 1.2977 - val_accuracy: 0.5730\n",
            "Epoch 39/600\n",
            "32/32 [==============================] - 0s 9ms/step - loss: 1.3433 - accuracy: 0.5554 - val_loss: 1.2983 - val_accuracy: 0.5660\n",
            "Epoch 40/600\n",
            "32/32 [==============================] - 0s 9ms/step - loss: 1.3275 - accuracy: 0.5612 - val_loss: 1.2945 - val_accuracy: 0.5650\n",
            "Epoch 41/600\n",
            "32/32 [==============================] - 0s 9ms/step - loss: 1.3344 - accuracy: 0.5594 - val_loss: 1.2864 - val_accuracy: 0.5730\n",
            "Epoch 42/600\n",
            "32/32 [==============================] - 0s 9ms/step - loss: 1.3178 - accuracy: 0.5686 - val_loss: 1.2811 - val_accuracy: 0.5720\n",
            "Epoch 43/600\n",
            "32/32 [==============================] - 0s 9ms/step - loss: 1.3470 - accuracy: 0.5652 - val_loss: 1.2781 - val_accuracy: 0.5720\n",
            "Epoch 44/600\n",
            "32/32 [==============================] - 0s 9ms/step - loss: 1.3203 - accuracy: 0.5758 - val_loss: 1.2729 - val_accuracy: 0.5720\n",
            "Epoch 45/600\n",
            "32/32 [==============================] - 0s 9ms/step - loss: 1.3242 - accuracy: 0.5636 - val_loss: 1.2678 - val_accuracy: 0.5740\n",
            "Epoch 46/600\n",
            "32/32 [==============================] - 0s 9ms/step - loss: 1.3356 - accuracy: 0.5466 - val_loss: 1.2844 - val_accuracy: 0.5670\n",
            "Epoch 47/600\n",
            "32/32 [==============================] - 0s 9ms/step - loss: 1.3533 - accuracy: 0.5494 - val_loss: 1.2638 - val_accuracy: 0.5680\n",
            "Epoch 48/600\n",
            "32/32 [==============================] - 0s 9ms/step - loss: 1.3064 - accuracy: 0.5632 - val_loss: 1.2538 - val_accuracy: 0.5690\n",
            "Epoch 49/600\n",
            "32/32 [==============================] - 0s 9ms/step - loss: 1.3122 - accuracy: 0.5656 - val_loss: 1.2544 - val_accuracy: 0.5690\n",
            "Epoch 50/600\n",
            "32/32 [==============================] - 0s 9ms/step - loss: 1.2464 - accuracy: 0.5966 - val_loss: 1.2515 - val_accuracy: 0.5710\n",
            "Epoch 51/600\n",
            "32/32 [==============================] - 0s 9ms/step - loss: 1.3036 - accuracy: 0.5782 - val_loss: 1.2425 - val_accuracy: 0.5690\n",
            "Epoch 52/600\n",
            "32/32 [==============================] - 0s 9ms/step - loss: 1.2881 - accuracy: 0.5736 - val_loss: 1.2360 - val_accuracy: 0.5760\n",
            "Epoch 53/600\n",
            "32/32 [==============================] - 0s 9ms/step - loss: 1.3236 - accuracy: 0.5520 - val_loss: 1.2316 - val_accuracy: 0.5750\n",
            "Epoch 54/600\n",
            "32/32 [==============================] - 0s 9ms/step - loss: 1.2886 - accuracy: 0.5590 - val_loss: 1.2315 - val_accuracy: 0.5730\n",
            "Epoch 55/600\n",
            "32/32 [==============================] - 0s 9ms/step - loss: 1.2701 - accuracy: 0.5551 - val_loss: 1.2337 - val_accuracy: 0.5760\n",
            "Epoch 56/600\n",
            "32/32 [==============================] - 0s 9ms/step - loss: 1.3000 - accuracy: 0.5625 - val_loss: 1.2256 - val_accuracy: 0.5750\n",
            "Epoch 57/600\n",
            "32/32 [==============================] - 0s 9ms/step - loss: 1.2422 - accuracy: 0.5772 - val_loss: 1.2209 - val_accuracy: 0.5790\n",
            "Epoch 58/600\n",
            "32/32 [==============================] - 0s 9ms/step - loss: 1.2740 - accuracy: 0.5725 - val_loss: 1.2240 - val_accuracy: 0.5780\n",
            "Epoch 59/600\n",
            "32/32 [==============================] - 0s 8ms/step - loss: 1.2930 - accuracy: 0.5570 - val_loss: 1.2193 - val_accuracy: 0.5770\n",
            "Epoch 60/600\n",
            "32/32 [==============================] - 0s 9ms/step - loss: 1.3059 - accuracy: 0.5433 - val_loss: 1.2175 - val_accuracy: 0.5760\n",
            "Epoch 61/600\n",
            "32/32 [==============================] - 0s 9ms/step - loss: 1.2691 - accuracy: 0.5787 - val_loss: 1.2144 - val_accuracy: 0.5790\n",
            "Epoch 62/600\n",
            "32/32 [==============================] - 0s 9ms/step - loss: 1.2603 - accuracy: 0.5627 - val_loss: 1.2125 - val_accuracy: 0.5760\n",
            "Epoch 63/600\n",
            "32/32 [==============================] - 0s 9ms/step - loss: 1.2479 - accuracy: 0.5816 - val_loss: 1.2083 - val_accuracy: 0.5760\n",
            "Epoch 64/600\n",
            "32/32 [==============================] - 0s 9ms/step - loss: 1.2571 - accuracy: 0.5756 - val_loss: 1.2348 - val_accuracy: 0.5750\n",
            "Epoch 65/600\n",
            "32/32 [==============================] - 0s 9ms/step - loss: 1.2706 - accuracy: 0.5568 - val_loss: 1.2091 - val_accuracy: 0.5770\n",
            "Epoch 66/600\n",
            "32/32 [==============================] - 0s 9ms/step - loss: 1.3041 - accuracy: 0.5508 - val_loss: 1.2005 - val_accuracy: 0.5770\n",
            "Epoch 67/600\n",
            "32/32 [==============================] - 0s 9ms/step - loss: 1.2238 - accuracy: 0.5626 - val_loss: 1.1996 - val_accuracy: 0.5790\n",
            "Epoch 68/600\n",
            "32/32 [==============================] - 0s 9ms/step - loss: 1.2435 - accuracy: 0.5856 - val_loss: 1.2026 - val_accuracy: 0.5830\n",
            "Epoch 69/600\n",
            "32/32 [==============================] - 0s 9ms/step - loss: 1.3107 - accuracy: 0.5406 - val_loss: 1.1975 - val_accuracy: 0.5840\n",
            "Epoch 70/600\n",
            "32/32 [==============================] - 0s 9ms/step - loss: 1.2887 - accuracy: 0.5576 - val_loss: 1.1955 - val_accuracy: 0.5780\n",
            "Epoch 71/600\n",
            "32/32 [==============================] - 0s 9ms/step - loss: 1.2223 - accuracy: 0.6110 - val_loss: 1.1889 - val_accuracy: 0.5790\n",
            "Epoch 72/600\n",
            "32/32 [==============================] - 0s 9ms/step - loss: 1.2884 - accuracy: 0.5490 - val_loss: 1.1868 - val_accuracy: 0.5810\n",
            "Epoch 73/600\n",
            "32/32 [==============================] - 0s 9ms/step - loss: 1.2329 - accuracy: 0.5897 - val_loss: 1.1861 - val_accuracy: 0.5840\n",
            "Epoch 74/600\n",
            "32/32 [==============================] - 0s 9ms/step - loss: 1.2308 - accuracy: 0.5784 - val_loss: 1.1839 - val_accuracy: 0.5800\n",
            "Epoch 75/600\n",
            "32/32 [==============================] - 0s 9ms/step - loss: 1.1959 - accuracy: 0.6037 - val_loss: 1.1805 - val_accuracy: 0.5830\n",
            "Epoch 76/600\n",
            "32/32 [==============================] - 0s 9ms/step - loss: 1.2617 - accuracy: 0.5591 - val_loss: 1.1862 - val_accuracy: 0.5810\n",
            "Epoch 77/600\n",
            "32/32 [==============================] - 0s 9ms/step - loss: 1.2854 - accuracy: 0.5614 - val_loss: 1.1827 - val_accuracy: 0.5820\n",
            "Epoch 78/600\n",
            "32/32 [==============================] - 0s 9ms/step - loss: 1.2338 - accuracy: 0.5802 - val_loss: 1.1743 - val_accuracy: 0.5900\n",
            "Epoch 79/600\n",
            "32/32 [==============================] - 0s 9ms/step - loss: 1.2355 - accuracy: 0.5822 - val_loss: 1.1735 - val_accuracy: 0.5840\n",
            "Epoch 80/600\n",
            "32/32 [==============================] - 0s 9ms/step - loss: 1.2584 - accuracy: 0.5562 - val_loss: 1.1682 - val_accuracy: 0.5890\n",
            "Epoch 81/600\n",
            "32/32 [==============================] - 0s 9ms/step - loss: 1.2190 - accuracy: 0.5798 - val_loss: 1.1712 - val_accuracy: 0.5850\n",
            "Epoch 82/600\n",
            "32/32 [==============================] - 0s 10ms/step - loss: 1.2310 - accuracy: 0.5796 - val_loss: 1.1661 - val_accuracy: 0.5900\n",
            "Epoch 83/600\n",
            "32/32 [==============================] - 0s 10ms/step - loss: 1.2221 - accuracy: 0.5720 - val_loss: 1.1625 - val_accuracy: 0.5830\n",
            "Epoch 84/600\n",
            "32/32 [==============================] - 0s 9ms/step - loss: 1.2311 - accuracy: 0.5569 - val_loss: 1.1668 - val_accuracy: 0.5820\n",
            "Epoch 85/600\n",
            "32/32 [==============================] - 0s 10ms/step - loss: 1.2405 - accuracy: 0.5627 - val_loss: 1.1627 - val_accuracy: 0.5870\n",
            "Epoch 86/600\n",
            "32/32 [==============================] - 0s 9ms/step - loss: 1.2066 - accuracy: 0.5765 - val_loss: 1.1644 - val_accuracy: 0.5890\n",
            "Epoch 87/600\n",
            "32/32 [==============================] - 0s 9ms/step - loss: 1.2383 - accuracy: 0.5745 - val_loss: 1.1491 - val_accuracy: 0.5920\n",
            "Epoch 88/600\n",
            "32/32 [==============================] - 0s 9ms/step - loss: 1.1936 - accuracy: 0.5875 - val_loss: 1.1489 - val_accuracy: 0.5930\n",
            "Epoch 89/600\n",
            "32/32 [==============================] - 0s 9ms/step - loss: 1.2462 - accuracy: 0.5728 - val_loss: 1.1481 - val_accuracy: 0.5870\n",
            "Epoch 90/600\n",
            "32/32 [==============================] - 0s 9ms/step - loss: 1.2087 - accuracy: 0.5685 - val_loss: 1.1446 - val_accuracy: 0.5890\n",
            "Epoch 91/600\n",
            "32/32 [==============================] - 0s 10ms/step - loss: 1.2096 - accuracy: 0.5731 - val_loss: 1.1471 - val_accuracy: 0.5950\n",
            "Epoch 92/600\n",
            "32/32 [==============================] - 1s 17ms/step - loss: 1.1989 - accuracy: 0.5740 - val_loss: 1.1366 - val_accuracy: 0.5870\n",
            "Epoch 93/600\n",
            "32/32 [==============================] - 0s 9ms/step - loss: 1.1749 - accuracy: 0.6030 - val_loss: 1.1367 - val_accuracy: 0.5870\n",
            "Epoch 94/600\n",
            "32/32 [==============================] - 0s 10ms/step - loss: 1.2053 - accuracy: 0.5652 - val_loss: 1.1310 - val_accuracy: 0.5920\n",
            "Epoch 95/600\n",
            "32/32 [==============================] - 0s 9ms/step - loss: 1.1820 - accuracy: 0.5668 - val_loss: 1.1328 - val_accuracy: 0.5870\n",
            "Epoch 96/600\n",
            "32/32 [==============================] - 0s 9ms/step - loss: 1.1651 - accuracy: 0.5946 - val_loss: 1.1271 - val_accuracy: 0.5930\n",
            "Epoch 97/600\n",
            "32/32 [==============================] - 0s 9ms/step - loss: 1.1864 - accuracy: 0.5711 - val_loss: 1.1264 - val_accuracy: 0.5880\n",
            "Epoch 98/600\n",
            "32/32 [==============================] - 0s 9ms/step - loss: 1.1521 - accuracy: 0.5993 - val_loss: 1.1249 - val_accuracy: 0.5910\n",
            "Epoch 99/600\n",
            "32/32 [==============================] - 0s 9ms/step - loss: 1.1936 - accuracy: 0.5653 - val_loss: 1.1241 - val_accuracy: 0.5940\n",
            "Epoch 100/600\n",
            "32/32 [==============================] - 0s 10ms/step - loss: 1.1658 - accuracy: 0.5862 - val_loss: 1.1162 - val_accuracy: 0.5930\n",
            "Epoch 101/600\n",
            "32/32 [==============================] - 0s 10ms/step - loss: 1.1983 - accuracy: 0.5784 - val_loss: 1.1155 - val_accuracy: 0.5930\n",
            "Epoch 102/600\n",
            "32/32 [==============================] - 0s 9ms/step - loss: 1.1794 - accuracy: 0.5724 - val_loss: 1.1149 - val_accuracy: 0.5940\n",
            "Epoch 103/600\n",
            "32/32 [==============================] - 0s 10ms/step - loss: 1.1769 - accuracy: 0.5750 - val_loss: 1.1130 - val_accuracy: 0.5920\n",
            "Epoch 104/600\n",
            "32/32 [==============================] - 0s 9ms/step - loss: 1.2416 - accuracy: 0.5681 - val_loss: 1.1093 - val_accuracy: 0.5910\n",
            "Epoch 105/600\n",
            "32/32 [==============================] - 0s 9ms/step - loss: 1.2056 - accuracy: 0.5751 - val_loss: 1.1104 - val_accuracy: 0.5910\n",
            "Epoch 106/600\n",
            "32/32 [==============================] - 0s 9ms/step - loss: 1.2018 - accuracy: 0.5788 - val_loss: 1.1154 - val_accuracy: 0.5950\n",
            "Epoch 107/600\n",
            "32/32 [==============================] - 0s 10ms/step - loss: 1.1901 - accuracy: 0.5860 - val_loss: 1.1043 - val_accuracy: 0.5950\n",
            "Epoch 108/600\n",
            "32/32 [==============================] - 0s 9ms/step - loss: 1.2102 - accuracy: 0.5659 - val_loss: 1.1096 - val_accuracy: 0.5970\n",
            "Epoch 109/600\n",
            "32/32 [==============================] - 0s 9ms/step - loss: 1.1420 - accuracy: 0.5877 - val_loss: 1.1021 - val_accuracy: 0.5950\n",
            "Epoch 110/600\n",
            "32/32 [==============================] - 0s 10ms/step - loss: 1.1785 - accuracy: 0.5767 - val_loss: 1.0999 - val_accuracy: 0.5920\n",
            "Epoch 111/600\n",
            "32/32 [==============================] - 0s 9ms/step - loss: 1.1429 - accuracy: 0.5901 - val_loss: 1.0948 - val_accuracy: 0.5920\n",
            "Epoch 112/600\n",
            "32/32 [==============================] - 0s 9ms/step - loss: 1.1780 - accuracy: 0.5560 - val_loss: 1.0942 - val_accuracy: 0.5970\n",
            "Epoch 113/600\n",
            "32/32 [==============================] - 0s 10ms/step - loss: 1.1994 - accuracy: 0.5696 - val_loss: 1.0891 - val_accuracy: 0.5930\n",
            "Epoch 114/600\n",
            "32/32 [==============================] - 0s 9ms/step - loss: 1.1496 - accuracy: 0.5788 - val_loss: 1.0888 - val_accuracy: 0.6010\n",
            "Epoch 115/600\n",
            "32/32 [==============================] - 0s 9ms/step - loss: 1.1829 - accuracy: 0.5918 - val_loss: 1.0833 - val_accuracy: 0.5960\n",
            "Epoch 116/600\n",
            "32/32 [==============================] - 0s 9ms/step - loss: 1.1726 - accuracy: 0.5622 - val_loss: 1.0870 - val_accuracy: 0.6030\n",
            "Epoch 117/600\n",
            "32/32 [==============================] - 0s 9ms/step - loss: 1.1691 - accuracy: 0.5878 - val_loss: 1.0850 - val_accuracy: 0.5960\n",
            "Epoch 118/600\n",
            "32/32 [==============================] - 0s 9ms/step - loss: 1.2469 - accuracy: 0.5315 - val_loss: 1.0870 - val_accuracy: 0.5950\n",
            "Epoch 119/600\n",
            "32/32 [==============================] - 0s 9ms/step - loss: 1.1420 - accuracy: 0.6134 - val_loss: 1.0815 - val_accuracy: 0.5930\n",
            "Epoch 120/600\n",
            "32/32 [==============================] - 0s 9ms/step - loss: 1.1956 - accuracy: 0.5782 - val_loss: 1.0804 - val_accuracy: 0.5990\n",
            "Epoch 121/600\n",
            "32/32 [==============================] - 0s 9ms/step - loss: 1.1924 - accuracy: 0.5590 - val_loss: 1.0814 - val_accuracy: 0.5980\n",
            "Epoch 122/600\n",
            "32/32 [==============================] - 0s 9ms/step - loss: 1.1509 - accuracy: 0.5770 - val_loss: 1.0763 - val_accuracy: 0.6030\n",
            "Epoch 123/600\n",
            "32/32 [==============================] - 0s 9ms/step - loss: 1.1759 - accuracy: 0.5818 - val_loss: 1.0770 - val_accuracy: 0.6030\n",
            "Epoch 124/600\n",
            "32/32 [==============================] - 0s 10ms/step - loss: 1.1829 - accuracy: 0.5798 - val_loss: 1.0698 - val_accuracy: 0.6050\n",
            "Epoch 125/600\n",
            "32/32 [==============================] - 0s 9ms/step - loss: 1.1796 - accuracy: 0.5731 - val_loss: 1.0729 - val_accuracy: 0.5980\n",
            "Epoch 126/600\n",
            "32/32 [==============================] - 0s 9ms/step - loss: 1.1444 - accuracy: 0.5677 - val_loss: 1.0663 - val_accuracy: 0.5970\n",
            "Epoch 127/600\n",
            "32/32 [==============================] - 0s 9ms/step - loss: 1.1763 - accuracy: 0.5803 - val_loss: 1.0708 - val_accuracy: 0.6000\n",
            "Epoch 128/600\n",
            "32/32 [==============================] - 0s 9ms/step - loss: 1.1887 - accuracy: 0.5581 - val_loss: 1.0656 - val_accuracy: 0.6020\n",
            "Epoch 129/600\n",
            "32/32 [==============================] - 0s 9ms/step - loss: 1.1718 - accuracy: 0.5846 - val_loss: 1.0700 - val_accuracy: 0.6000\n",
            "Epoch 130/600\n",
            "32/32 [==============================] - 0s 9ms/step - loss: 1.1795 - accuracy: 0.5434 - val_loss: 1.0627 - val_accuracy: 0.6040\n",
            "Epoch 131/600\n",
            "32/32 [==============================] - 0s 9ms/step - loss: 1.1536 - accuracy: 0.5692 - val_loss: 1.0651 - val_accuracy: 0.6020\n",
            "Epoch 132/600\n",
            "32/32 [==============================] - 0s 9ms/step - loss: 1.1355 - accuracy: 0.5763 - val_loss: 1.0601 - val_accuracy: 0.6060\n",
            "Epoch 133/600\n",
            "32/32 [==============================] - 0s 9ms/step - loss: 1.1411 - accuracy: 0.5875 - val_loss: 1.0626 - val_accuracy: 0.6140\n",
            "Epoch 134/600\n",
            "32/32 [==============================] - 0s 10ms/step - loss: 1.2092 - accuracy: 0.5376 - val_loss: 1.0579 - val_accuracy: 0.6040\n",
            "Epoch 135/600\n",
            "32/32 [==============================] - 0s 9ms/step - loss: 1.1356 - accuracy: 0.5886 - val_loss: 1.0512 - val_accuracy: 0.6130\n",
            "Epoch 136/600\n",
            "32/32 [==============================] - 0s 9ms/step - loss: 1.1486 - accuracy: 0.5831 - val_loss: 1.0505 - val_accuracy: 0.6070\n",
            "Epoch 137/600\n",
            "32/32 [==============================] - 0s 9ms/step - loss: 1.1035 - accuracy: 0.6352 - val_loss: 1.0504 - val_accuracy: 0.6100\n",
            "Epoch 138/600\n",
            "32/32 [==============================] - 0s 9ms/step - loss: 1.1318 - accuracy: 0.5733 - val_loss: 1.0503 - val_accuracy: 0.6060\n",
            "Epoch 139/600\n",
            "32/32 [==============================] - 0s 9ms/step - loss: 1.1771 - accuracy: 0.5833 - val_loss: 1.0456 - val_accuracy: 0.6090\n",
            "Epoch 140/600\n",
            "32/32 [==============================] - 0s 9ms/step - loss: 1.1405 - accuracy: 0.5900 - val_loss: 1.0482 - val_accuracy: 0.6060\n",
            "Epoch 141/600\n",
            "32/32 [==============================] - 0s 9ms/step - loss: 1.1192 - accuracy: 0.5865 - val_loss: 1.0451 - val_accuracy: 0.6030\n",
            "Epoch 142/600\n",
            "32/32 [==============================] - 0s 9ms/step - loss: 1.1653 - accuracy: 0.5837 - val_loss: 1.0429 - val_accuracy: 0.6020\n",
            "Epoch 143/600\n",
            "32/32 [==============================] - 0s 9ms/step - loss: 1.1292 - accuracy: 0.5857 - val_loss: 1.0381 - val_accuracy: 0.6010\n",
            "Epoch 144/600\n",
            "32/32 [==============================] - 0s 9ms/step - loss: 1.1320 - accuracy: 0.5876 - val_loss: 1.0381 - val_accuracy: 0.6020\n",
            "Epoch 145/600\n",
            "32/32 [==============================] - 0s 10ms/step - loss: 1.1609 - accuracy: 0.5685 - val_loss: 1.0396 - val_accuracy: 0.6080\n",
            "Epoch 146/600\n",
            "32/32 [==============================] - 0s 9ms/step - loss: 1.1780 - accuracy: 0.5793 - val_loss: 1.0324 - val_accuracy: 0.6080\n",
            "Epoch 147/600\n",
            "32/32 [==============================] - 0s 9ms/step - loss: 1.1186 - accuracy: 0.5920 - val_loss: 1.0305 - val_accuracy: 0.6080\n",
            "Epoch 148/600\n",
            "32/32 [==============================] - 0s 10ms/step - loss: 1.1254 - accuracy: 0.5976 - val_loss: 1.0392 - val_accuracy: 0.6040\n",
            "Epoch 149/600\n",
            "32/32 [==============================] - 0s 9ms/step - loss: 1.1423 - accuracy: 0.5819 - val_loss: 1.0309 - val_accuracy: 0.6120\n",
            "Epoch 150/600\n",
            "32/32 [==============================] - 0s 9ms/step - loss: 1.1400 - accuracy: 0.5761 - val_loss: 1.0264 - val_accuracy: 0.6110\n",
            "Epoch 151/600\n",
            "32/32 [==============================] - 0s 10ms/step - loss: 1.1570 - accuracy: 0.5690 - val_loss: 1.0288 - val_accuracy: 0.6080\n",
            "Epoch 152/600\n",
            "32/32 [==============================] - 0s 9ms/step - loss: 1.1370 - accuracy: 0.5804 - val_loss: 1.0253 - val_accuracy: 0.6110\n",
            "Epoch 153/600\n",
            "32/32 [==============================] - 0s 9ms/step - loss: 1.1154 - accuracy: 0.5916 - val_loss: 1.0227 - val_accuracy: 0.6160\n",
            "Epoch 154/600\n",
            "32/32 [==============================] - 0s 9ms/step - loss: 1.1234 - accuracy: 0.5988 - val_loss: 1.0192 - val_accuracy: 0.6180\n",
            "Epoch 155/600\n",
            "32/32 [==============================] - 0s 10ms/step - loss: 1.1271 - accuracy: 0.5907 - val_loss: 1.0357 - val_accuracy: 0.6090\n",
            "Epoch 156/600\n",
            "32/32 [==============================] - 0s 9ms/step - loss: 1.1540 - accuracy: 0.5685 - val_loss: 1.0202 - val_accuracy: 0.6140\n",
            "Epoch 157/600\n",
            "32/32 [==============================] - 0s 9ms/step - loss: 1.1062 - accuracy: 0.5784 - val_loss: 1.0172 - val_accuracy: 0.6080\n",
            "Epoch 158/600\n",
            "32/32 [==============================] - 0s 9ms/step - loss: 1.1189 - accuracy: 0.5715 - val_loss: 1.0150 - val_accuracy: 0.6130\n",
            "Epoch 159/600\n",
            "32/32 [==============================] - 0s 9ms/step - loss: 1.1516 - accuracy: 0.5734 - val_loss: 1.0141 - val_accuracy: 0.6140\n",
            "Epoch 160/600\n",
            "32/32 [==============================] - 0s 9ms/step - loss: 1.1147 - accuracy: 0.5870 - val_loss: 1.0110 - val_accuracy: 0.6120\n",
            "Epoch 161/600\n",
            "32/32 [==============================] - 0s 9ms/step - loss: 1.0569 - accuracy: 0.6251 - val_loss: 1.0112 - val_accuracy: 0.6160\n",
            "Epoch 162/600\n",
            "32/32 [==============================] - 0s 10ms/step - loss: 1.1914 - accuracy: 0.5607 - val_loss: 1.0060 - val_accuracy: 0.6140\n",
            "Epoch 163/600\n",
            "32/32 [==============================] - 0s 10ms/step - loss: 1.1265 - accuracy: 0.5773 - val_loss: 1.0080 - val_accuracy: 0.6250\n",
            "Epoch 164/600\n",
            "32/32 [==============================] - 0s 9ms/step - loss: 1.1393 - accuracy: 0.5856 - val_loss: 1.0045 - val_accuracy: 0.6220\n",
            "Epoch 165/600\n",
            "32/32 [==============================] - 0s 9ms/step - loss: 1.1227 - accuracy: 0.5798 - val_loss: 1.0008 - val_accuracy: 0.6140\n",
            "Epoch 166/600\n",
            "32/32 [==============================] - 0s 9ms/step - loss: 1.0808 - accuracy: 0.6135 - val_loss: 0.9993 - val_accuracy: 0.6190\n",
            "Epoch 167/600\n",
            "32/32 [==============================] - 0s 9ms/step - loss: 1.1065 - accuracy: 0.5961 - val_loss: 0.9956 - val_accuracy: 0.6170\n",
            "Epoch 168/600\n",
            "32/32 [==============================] - 0s 9ms/step - loss: 1.0689 - accuracy: 0.6014 - val_loss: 0.9978 - val_accuracy: 0.6210\n",
            "Epoch 169/600\n",
            "32/32 [==============================] - 0s 9ms/step - loss: 1.0554 - accuracy: 0.6173 - val_loss: 0.9972 - val_accuracy: 0.6190\n",
            "Epoch 170/600\n",
            "32/32 [==============================] - 0s 9ms/step - loss: 1.1148 - accuracy: 0.5896 - val_loss: 0.9970 - val_accuracy: 0.6170\n",
            "Epoch 171/600\n",
            "32/32 [==============================] - 0s 10ms/step - loss: 1.1717 - accuracy: 0.5620 - val_loss: 0.9924 - val_accuracy: 0.6220\n",
            "Epoch 172/600\n",
            "32/32 [==============================] - 0s 10ms/step - loss: 1.0767 - accuracy: 0.6058 - val_loss: 0.9913 - val_accuracy: 0.6260\n",
            "Epoch 173/600\n",
            "32/32 [==============================] - 0s 9ms/step - loss: 1.0789 - accuracy: 0.5647 - val_loss: 0.9886 - val_accuracy: 0.6290\n",
            "Epoch 174/600\n",
            "32/32 [==============================] - 0s 9ms/step - loss: 1.1278 - accuracy: 0.6067 - val_loss: 0.9826 - val_accuracy: 0.6260\n",
            "Epoch 175/600\n",
            "32/32 [==============================] - 0s 9ms/step - loss: 1.0860 - accuracy: 0.5902 - val_loss: 0.9820 - val_accuracy: 0.6240\n",
            "Epoch 176/600\n",
            "32/32 [==============================] - 0s 9ms/step - loss: 1.0588 - accuracy: 0.6118 - val_loss: 0.9787 - val_accuracy: 0.6260\n",
            "Epoch 177/600\n",
            "32/32 [==============================] - 0s 9ms/step - loss: 1.0899 - accuracy: 0.5861 - val_loss: 0.9850 - val_accuracy: 0.6260\n",
            "Epoch 178/600\n",
            "32/32 [==============================] - 0s 10ms/step - loss: 1.1197 - accuracy: 0.5692 - val_loss: 0.9811 - val_accuracy: 0.6340\n",
            "Epoch 179/600\n",
            "32/32 [==============================] - 0s 9ms/step - loss: 1.0636 - accuracy: 0.6302 - val_loss: 0.9749 - val_accuracy: 0.6290\n",
            "Epoch 180/600\n",
            "32/32 [==============================] - 1s 17ms/step - loss: 1.1084 - accuracy: 0.6080 - val_loss: 0.9771 - val_accuracy: 0.6270\n",
            "Epoch 181/600\n",
            "32/32 [==============================] - 0s 10ms/step - loss: 1.0539 - accuracy: 0.6049 - val_loss: 0.9747 - val_accuracy: 0.6290\n",
            "Epoch 182/600\n",
            "32/32 [==============================] - 0s 9ms/step - loss: 1.1244 - accuracy: 0.5912 - val_loss: 0.9724 - val_accuracy: 0.6350\n",
            "Epoch 183/600\n",
            "32/32 [==============================] - 0s 9ms/step - loss: 1.1122 - accuracy: 0.5814 - val_loss: 0.9737 - val_accuracy: 0.6370\n",
            "Epoch 184/600\n",
            "32/32 [==============================] - 0s 9ms/step - loss: 1.1222 - accuracy: 0.5684 - val_loss: 0.9694 - val_accuracy: 0.6310\n",
            "Epoch 185/600\n",
            "32/32 [==============================] - 0s 9ms/step - loss: 1.1111 - accuracy: 0.5824 - val_loss: 0.9653 - val_accuracy: 0.6310\n",
            "Epoch 186/600\n",
            "32/32 [==============================] - 0s 9ms/step - loss: 1.1117 - accuracy: 0.5839 - val_loss: 0.9656 - val_accuracy: 0.6290\n",
            "Epoch 187/600\n",
            "32/32 [==============================] - 0s 9ms/step - loss: 1.0718 - accuracy: 0.5950 - val_loss: 0.9641 - val_accuracy: 0.6300\n",
            "Epoch 188/600\n",
            "32/32 [==============================] - 0s 9ms/step - loss: 1.1297 - accuracy: 0.5748 - val_loss: 0.9638 - val_accuracy: 0.6350\n",
            "Epoch 189/600\n",
            "32/32 [==============================] - 0s 9ms/step - loss: 1.0301 - accuracy: 0.6351 - val_loss: 0.9621 - val_accuracy: 0.6420\n",
            "Epoch 190/600\n",
            "32/32 [==============================] - 0s 9ms/step - loss: 1.1015 - accuracy: 0.6039 - val_loss: 0.9596 - val_accuracy: 0.6440\n",
            "Epoch 191/600\n",
            "32/32 [==============================] - 0s 9ms/step - loss: 1.0791 - accuracy: 0.5960 - val_loss: 0.9568 - val_accuracy: 0.6380\n",
            "Epoch 192/600\n",
            "32/32 [==============================] - 0s 9ms/step - loss: 1.0412 - accuracy: 0.6218 - val_loss: 0.9703 - val_accuracy: 0.6320\n",
            "Epoch 193/600\n",
            "32/32 [==============================] - 0s 9ms/step - loss: 1.0829 - accuracy: 0.6177 - val_loss: 0.9565 - val_accuracy: 0.6380\n",
            "Epoch 194/600\n",
            "32/32 [==============================] - 0s 9ms/step - loss: 1.1117 - accuracy: 0.5769 - val_loss: 0.9502 - val_accuracy: 0.6330\n",
            "Epoch 195/600\n",
            "32/32 [==============================] - 0s 9ms/step - loss: 1.1175 - accuracy: 0.5880 - val_loss: 0.9486 - val_accuracy: 0.6420\n",
            "Epoch 196/600\n",
            "32/32 [==============================] - 0s 9ms/step - loss: 1.0282 - accuracy: 0.6236 - val_loss: 0.9440 - val_accuracy: 0.6360\n",
            "Epoch 197/600\n",
            "32/32 [==============================] - 0s 9ms/step - loss: 1.0740 - accuracy: 0.6046 - val_loss: 0.9436 - val_accuracy: 0.6340\n",
            "Epoch 198/600\n",
            "32/32 [==============================] - 0s 9ms/step - loss: 1.1230 - accuracy: 0.5756 - val_loss: 0.9449 - val_accuracy: 0.6420\n",
            "Epoch 199/600\n",
            "32/32 [==============================] - 0s 9ms/step - loss: 1.0805 - accuracy: 0.6068 - val_loss: 0.9411 - val_accuracy: 0.6330\n",
            "Epoch 200/600\n",
            "32/32 [==============================] - 0s 9ms/step - loss: 1.0996 - accuracy: 0.5863 - val_loss: 0.9388 - val_accuracy: 0.6380\n",
            "Epoch 201/600\n",
            "32/32 [==============================] - 0s 9ms/step - loss: 1.0801 - accuracy: 0.6153 - val_loss: 0.9376 - val_accuracy: 0.6400\n",
            "Epoch 202/600\n",
            "32/32 [==============================] - 0s 9ms/step - loss: 1.0843 - accuracy: 0.5859 - val_loss: 0.9346 - val_accuracy: 0.6380\n",
            "Epoch 203/600\n",
            "32/32 [==============================] - 0s 9ms/step - loss: 1.1138 - accuracy: 0.5861 - val_loss: 0.9325 - val_accuracy: 0.6480\n",
            "Epoch 204/600\n",
            "32/32 [==============================] - 0s 10ms/step - loss: 1.0957 - accuracy: 0.5989 - val_loss: 0.9324 - val_accuracy: 0.6480\n",
            "Epoch 205/600\n",
            "32/32 [==============================] - 0s 10ms/step - loss: 1.1102 - accuracy: 0.5866 - val_loss: 0.9313 - val_accuracy: 0.6450\n",
            "Epoch 206/600\n",
            "32/32 [==============================] - 0s 9ms/step - loss: 1.0363 - accuracy: 0.6009 - val_loss: 0.9289 - val_accuracy: 0.6520\n",
            "Epoch 207/600\n",
            "32/32 [==============================] - 0s 10ms/step - loss: 1.0443 - accuracy: 0.6282 - val_loss: 0.9243 - val_accuracy: 0.6520\n",
            "Epoch 208/600\n",
            "32/32 [==============================] - 0s 9ms/step - loss: 1.0849 - accuracy: 0.5978 - val_loss: 0.9251 - val_accuracy: 0.6540\n",
            "Epoch 209/600\n",
            "32/32 [==============================] - 0s 9ms/step - loss: 1.0945 - accuracy: 0.5987 - val_loss: 0.9223 - val_accuracy: 0.6520\n",
            "Epoch 210/600\n",
            "32/32 [==============================] - 0s 9ms/step - loss: 1.0173 - accuracy: 0.6269 - val_loss: 0.9216 - val_accuracy: 0.6570\n",
            "Epoch 211/600\n",
            "32/32 [==============================] - 0s 10ms/step - loss: 1.1125 - accuracy: 0.5595 - val_loss: 0.9188 - val_accuracy: 0.6550\n",
            "Epoch 212/600\n",
            "32/32 [==============================] - 0s 9ms/step - loss: 1.0320 - accuracy: 0.6177 - val_loss: 0.9174 - val_accuracy: 0.6560\n",
            "Epoch 213/600\n",
            "32/32 [==============================] - 0s 9ms/step - loss: 1.0583 - accuracy: 0.6079 - val_loss: 0.9158 - val_accuracy: 0.6600\n",
            "Epoch 214/600\n",
            "32/32 [==============================] - 0s 9ms/step - loss: 1.0782 - accuracy: 0.5879 - val_loss: 0.9140 - val_accuracy: 0.6550\n",
            "Epoch 215/600\n",
            "32/32 [==============================] - 0s 10ms/step - loss: 1.0320 - accuracy: 0.6190 - val_loss: 0.9192 - val_accuracy: 0.6550\n",
            "Epoch 216/600\n",
            "32/32 [==============================] - 0s 9ms/step - loss: 0.9925 - accuracy: 0.6547 - val_loss: 0.9103 - val_accuracy: 0.6580\n",
            "Epoch 217/600\n",
            "32/32 [==============================] - 0s 9ms/step - loss: 1.0794 - accuracy: 0.5966 - val_loss: 0.9073 - val_accuracy: 0.6610\n",
            "Epoch 218/600\n",
            "32/32 [==============================] - 0s 10ms/step - loss: 1.0464 - accuracy: 0.5883 - val_loss: 0.9072 - val_accuracy: 0.6550\n",
            "Epoch 219/600\n",
            "32/32 [==============================] - 0s 9ms/step - loss: 1.0259 - accuracy: 0.6132 - val_loss: 0.9042 - val_accuracy: 0.6570\n",
            "Epoch 220/600\n",
            "32/32 [==============================] - 0s 9ms/step - loss: 1.0466 - accuracy: 0.5965 - val_loss: 0.9023 - val_accuracy: 0.6610\n",
            "Epoch 221/600\n",
            "32/32 [==============================] - 0s 10ms/step - loss: 1.0290 - accuracy: 0.6067 - val_loss: 0.9021 - val_accuracy: 0.6630\n",
            "Epoch 222/600\n",
            "32/32 [==============================] - 0s 9ms/step - loss: 1.0457 - accuracy: 0.6284 - val_loss: 0.9025 - val_accuracy: 0.6600\n",
            "Epoch 223/600\n",
            "32/32 [==============================] - 0s 9ms/step - loss: 1.0382 - accuracy: 0.6029 - val_loss: 0.9042 - val_accuracy: 0.6600\n",
            "Epoch 224/600\n",
            "32/32 [==============================] - 0s 9ms/step - loss: 1.0444 - accuracy: 0.6160 - val_loss: 0.8989 - val_accuracy: 0.6630\n",
            "Epoch 225/600\n",
            "32/32 [==============================] - 0s 9ms/step - loss: 1.0648 - accuracy: 0.5957 - val_loss: 0.8962 - val_accuracy: 0.6670\n",
            "Epoch 226/600\n",
            "32/32 [==============================] - 0s 9ms/step - loss: 1.0379 - accuracy: 0.5872 - val_loss: 0.8922 - val_accuracy: 0.6640\n",
            "Epoch 227/600\n",
            "32/32 [==============================] - 0s 9ms/step - loss: 0.9811 - accuracy: 0.6419 - val_loss: 0.8924 - val_accuracy: 0.6740\n",
            "Epoch 228/600\n",
            "32/32 [==============================] - 0s 9ms/step - loss: 1.0444 - accuracy: 0.6162 - val_loss: 0.8885 - val_accuracy: 0.6680\n",
            "Epoch 229/600\n",
            "32/32 [==============================] - 0s 9ms/step - loss: 1.0410 - accuracy: 0.6083 - val_loss: 0.8890 - val_accuracy: 0.6610\n",
            "Epoch 230/600\n",
            "32/32 [==============================] - 0s 9ms/step - loss: 1.0557 - accuracy: 0.6068 - val_loss: 0.8848 - val_accuracy: 0.6600\n",
            "Epoch 231/600\n",
            "32/32 [==============================] - 0s 9ms/step - loss: 1.0168 - accuracy: 0.6300 - val_loss: 0.8832 - val_accuracy: 0.6620\n",
            "Epoch 232/600\n",
            "32/32 [==============================] - 0s 9ms/step - loss: 0.9966 - accuracy: 0.6019 - val_loss: 0.8810 - val_accuracy: 0.6710\n",
            "Epoch 233/600\n",
            "32/32 [==============================] - 0s 9ms/step - loss: 1.0349 - accuracy: 0.6155 - val_loss: 0.8814 - val_accuracy: 0.6620\n",
            "Epoch 234/600\n",
            "32/32 [==============================] - 0s 9ms/step - loss: 1.0256 - accuracy: 0.5987 - val_loss: 0.8823 - val_accuracy: 0.6670\n",
            "Epoch 235/600\n",
            "32/32 [==============================] - 0s 9ms/step - loss: 1.0181 - accuracy: 0.6254 - val_loss: 0.8769 - val_accuracy: 0.6610\n",
            "Epoch 236/600\n",
            "32/32 [==============================] - 0s 9ms/step - loss: 1.0243 - accuracy: 0.6363 - val_loss: 0.8743 - val_accuracy: 0.6680\n",
            "Epoch 237/600\n",
            "32/32 [==============================] - 0s 9ms/step - loss: 1.0245 - accuracy: 0.6600 - val_loss: 0.8697 - val_accuracy: 0.6730\n",
            "Epoch 238/600\n",
            "32/32 [==============================] - 0s 10ms/step - loss: 1.0297 - accuracy: 0.6033 - val_loss: 0.8683 - val_accuracy: 0.6710\n",
            "Epoch 239/600\n",
            "32/32 [==============================] - 0s 9ms/step - loss: 1.0274 - accuracy: 0.5938 - val_loss: 0.8681 - val_accuracy: 0.6720\n",
            "Epoch 240/600\n",
            "32/32 [==============================] - 0s 9ms/step - loss: 1.0487 - accuracy: 0.6200 - val_loss: 0.8680 - val_accuracy: 0.6720\n",
            "Epoch 241/600\n",
            "32/32 [==============================] - 0s 9ms/step - loss: 1.0108 - accuracy: 0.6230 - val_loss: 0.8603 - val_accuracy: 0.6720\n",
            "Epoch 242/600\n",
            "32/32 [==============================] - 0s 9ms/step - loss: 0.9422 - accuracy: 0.6476 - val_loss: 0.8676 - val_accuracy: 0.6750\n",
            "Epoch 243/600\n",
            "32/32 [==============================] - 0s 9ms/step - loss: 1.0000 - accuracy: 0.6268 - val_loss: 0.8600 - val_accuracy: 0.6690\n",
            "Epoch 244/600\n",
            "32/32 [==============================] - 0s 9ms/step - loss: 1.0061 - accuracy: 0.6080 - val_loss: 0.8655 - val_accuracy: 0.6760\n",
            "Epoch 245/600\n",
            "32/32 [==============================] - 0s 9ms/step - loss: 0.9857 - accuracy: 0.6332 - val_loss: 0.8610 - val_accuracy: 0.6740\n",
            "Epoch 246/600\n",
            "32/32 [==============================] - 0s 10ms/step - loss: 0.9616 - accuracy: 0.6494 - val_loss: 0.8547 - val_accuracy: 0.6760\n",
            "Epoch 247/600\n",
            "32/32 [==============================] - 0s 10ms/step - loss: 1.0302 - accuracy: 0.5941 - val_loss: 0.8542 - val_accuracy: 0.6760\n",
            "Epoch 248/600\n",
            "32/32 [==============================] - 0s 10ms/step - loss: 0.9644 - accuracy: 0.6209 - val_loss: 0.8496 - val_accuracy: 0.6700\n",
            "Epoch 249/600\n",
            "32/32 [==============================] - 0s 9ms/step - loss: 1.0172 - accuracy: 0.5968 - val_loss: 0.8507 - val_accuracy: 0.6800\n",
            "Epoch 250/600\n",
            "32/32 [==============================] - 0s 9ms/step - loss: 0.9757 - accuracy: 0.6311 - val_loss: 0.8492 - val_accuracy: 0.6720\n",
            "Epoch 251/600\n",
            "32/32 [==============================] - 1s 16ms/step - loss: 1.0118 - accuracy: 0.6307 - val_loss: 0.8452 - val_accuracy: 0.6790\n",
            "Epoch 252/600\n",
            "32/32 [==============================] - 0s 9ms/step - loss: 0.9804 - accuracy: 0.6393 - val_loss: 0.8421 - val_accuracy: 0.6820\n",
            "Epoch 253/600\n",
            "32/32 [==============================] - 0s 9ms/step - loss: 1.0196 - accuracy: 0.6223 - val_loss: 0.8400 - val_accuracy: 0.6790\n",
            "Epoch 254/600\n",
            "32/32 [==============================] - 0s 10ms/step - loss: 0.9925 - accuracy: 0.6283 - val_loss: 0.8394 - val_accuracy: 0.6740\n",
            "Epoch 255/600\n",
            "32/32 [==============================] - 0s 9ms/step - loss: 1.0245 - accuracy: 0.6148 - val_loss: 0.8372 - val_accuracy: 0.6790\n",
            "Epoch 256/600\n",
            "32/32 [==============================] - 0s 9ms/step - loss: 0.9784 - accuracy: 0.6053 - val_loss: 0.8330 - val_accuracy: 0.6810\n",
            "Epoch 257/600\n",
            "32/32 [==============================] - 0s 9ms/step - loss: 0.9999 - accuracy: 0.6155 - val_loss: 0.8322 - val_accuracy: 0.6820\n",
            "Epoch 258/600\n",
            "32/32 [==============================] - 0s 9ms/step - loss: 0.9501 - accuracy: 0.6580 - val_loss: 0.8317 - val_accuracy: 0.6910\n",
            "Epoch 259/600\n",
            "32/32 [==============================] - 0s 9ms/step - loss: 0.9957 - accuracy: 0.6148 - val_loss: 0.8275 - val_accuracy: 0.6870\n",
            "Epoch 260/600\n",
            "32/32 [==============================] - 0s 9ms/step - loss: 1.0046 - accuracy: 0.6215 - val_loss: 0.8259 - val_accuracy: 0.6910\n",
            "Epoch 261/600\n",
            "32/32 [==============================] - 0s 9ms/step - loss: 0.9857 - accuracy: 0.6294 - val_loss: 0.8274 - val_accuracy: 0.6770\n",
            "Epoch 262/600\n",
            "32/32 [==============================] - 0s 9ms/step - loss: 1.0131 - accuracy: 0.6067 - val_loss: 0.8255 - val_accuracy: 0.6870\n",
            "Epoch 263/600\n",
            "32/32 [==============================] - 0s 9ms/step - loss: 0.9805 - accuracy: 0.6349 - val_loss: 0.8257 - val_accuracy: 0.6800\n",
            "Epoch 264/600\n",
            "32/32 [==============================] - 0s 9ms/step - loss: 0.9871 - accuracy: 0.6265 - val_loss: 0.8214 - val_accuracy: 0.6850\n",
            "Epoch 265/600\n",
            "32/32 [==============================] - 0s 9ms/step - loss: 1.0388 - accuracy: 0.5943 - val_loss: 0.8231 - val_accuracy: 0.6830\n",
            "Epoch 266/600\n",
            "32/32 [==============================] - 0s 9ms/step - loss: 0.9766 - accuracy: 0.6396 - val_loss: 0.8174 - val_accuracy: 0.6910\n",
            "Epoch 267/600\n",
            "32/32 [==============================] - 0s 9ms/step - loss: 0.9609 - accuracy: 0.6356 - val_loss: 0.8204 - val_accuracy: 0.6950\n",
            "Epoch 268/600\n",
            "32/32 [==============================] - 0s 9ms/step - loss: 0.9685 - accuracy: 0.6387 - val_loss: 0.8155 - val_accuracy: 0.6930\n",
            "Epoch 269/600\n",
            "32/32 [==============================] - 0s 9ms/step - loss: 0.9913 - accuracy: 0.6321 - val_loss: 0.8114 - val_accuracy: 0.6960\n",
            "Epoch 270/600\n",
            "32/32 [==============================] - 0s 9ms/step - loss: 0.9508 - accuracy: 0.6398 - val_loss: 0.8109 - val_accuracy: 0.6930\n",
            "Epoch 271/600\n",
            "32/32 [==============================] - 0s 10ms/step - loss: 0.9760 - accuracy: 0.6350 - val_loss: 0.8054 - val_accuracy: 0.7000\n",
            "Epoch 272/600\n",
            "32/32 [==============================] - 0s 9ms/step - loss: 0.9376 - accuracy: 0.6563 - val_loss: 0.8013 - val_accuracy: 0.6970\n",
            "Epoch 273/600\n",
            "32/32 [==============================] - 0s 9ms/step - loss: 0.9534 - accuracy: 0.6259 - val_loss: 0.8027 - val_accuracy: 0.7010\n",
            "Epoch 274/600\n",
            "32/32 [==============================] - 0s 9ms/step - loss: 0.9416 - accuracy: 0.6521 - val_loss: 0.8003 - val_accuracy: 0.7010\n",
            "Epoch 275/600\n",
            "32/32 [==============================] - 0s 9ms/step - loss: 0.9688 - accuracy: 0.6372 - val_loss: 0.7988 - val_accuracy: 0.7040\n",
            "Epoch 276/600\n",
            "32/32 [==============================] - 0s 9ms/step - loss: 1.0013 - accuracy: 0.6036 - val_loss: 0.7980 - val_accuracy: 0.6990\n",
            "Epoch 277/600\n",
            "32/32 [==============================] - 0s 9ms/step - loss: 0.9616 - accuracy: 0.6201 - val_loss: 0.7946 - val_accuracy: 0.7030\n",
            "Epoch 278/600\n",
            "32/32 [==============================] - 0s 10ms/step - loss: 0.9638 - accuracy: 0.6303 - val_loss: 0.7922 - val_accuracy: 0.7030\n",
            "Epoch 279/600\n",
            "32/32 [==============================] - 0s 9ms/step - loss: 1.0061 - accuracy: 0.5850 - val_loss: 0.7910 - val_accuracy: 0.7030\n",
            "Epoch 280/600\n",
            "32/32 [==============================] - 0s 9ms/step - loss: 0.9448 - accuracy: 0.6543 - val_loss: 0.7870 - val_accuracy: 0.6990\n",
            "Epoch 281/600\n",
            "32/32 [==============================] - 0s 10ms/step - loss: 1.0013 - accuracy: 0.6236 - val_loss: 0.7836 - val_accuracy: 0.7090\n",
            "Epoch 282/600\n",
            "32/32 [==============================] - 0s 9ms/step - loss: 0.9767 - accuracy: 0.5954 - val_loss: 0.7896 - val_accuracy: 0.7080\n",
            "Epoch 283/600\n",
            "32/32 [==============================] - 0s 9ms/step - loss: 0.9463 - accuracy: 0.6504 - val_loss: 0.7810 - val_accuracy: 0.7100\n",
            "Epoch 284/600\n",
            "32/32 [==============================] - 0s 9ms/step - loss: 0.9839 - accuracy: 0.6139 - val_loss: 0.7805 - val_accuracy: 0.7130\n",
            "Epoch 285/600\n",
            "32/32 [==============================] - 0s 9ms/step - loss: 0.8896 - accuracy: 0.6830 - val_loss: 0.7791 - val_accuracy: 0.7090\n",
            "Epoch 286/600\n",
            "32/32 [==============================] - 0s 9ms/step - loss: 0.9508 - accuracy: 0.6154 - val_loss: 0.7762 - val_accuracy: 0.7060\n",
            "Epoch 287/600\n",
            "32/32 [==============================] - 0s 10ms/step - loss: 0.9884 - accuracy: 0.6139 - val_loss: 0.7751 - val_accuracy: 0.7110\n",
            "Epoch 288/600\n",
            "32/32 [==============================] - 0s 9ms/step - loss: 0.9407 - accuracy: 0.6616 - val_loss: 0.7751 - val_accuracy: 0.7000\n",
            "Epoch 289/600\n",
            "32/32 [==============================] - 0s 9ms/step - loss: 0.9038 - accuracy: 0.6597 - val_loss: 0.7714 - val_accuracy: 0.7160\n",
            "Epoch 290/600\n",
            "32/32 [==============================] - 0s 10ms/step - loss: 0.9513 - accuracy: 0.6463 - val_loss: 0.7699 - val_accuracy: 0.7040\n",
            "Epoch 291/600\n",
            "32/32 [==============================] - 0s 9ms/step - loss: 0.9886 - accuracy: 0.6207 - val_loss: 0.7654 - val_accuracy: 0.7140\n",
            "Epoch 292/600\n",
            "32/32 [==============================] - 0s 9ms/step - loss: 0.9648 - accuracy: 0.6190 - val_loss: 0.7633 - val_accuracy: 0.7190\n",
            "Epoch 293/600\n",
            "32/32 [==============================] - 0s 9ms/step - loss: 0.9737 - accuracy: 0.6104 - val_loss: 0.7618 - val_accuracy: 0.7150\n",
            "Epoch 294/600\n",
            "32/32 [==============================] - 0s 9ms/step - loss: 0.9121 - accuracy: 0.6612 - val_loss: 0.7624 - val_accuracy: 0.7230\n",
            "Epoch 295/600\n",
            "32/32 [==============================] - 0s 9ms/step - loss: 0.9019 - accuracy: 0.6464 - val_loss: 0.7577 - val_accuracy: 0.7200\n",
            "Epoch 296/600\n",
            "32/32 [==============================] - 0s 10ms/step - loss: 0.9446 - accuracy: 0.6417 - val_loss: 0.7572 - val_accuracy: 0.7180\n",
            "Epoch 297/600\n",
            "32/32 [==============================] - 0s 9ms/step - loss: 0.9819 - accuracy: 0.6062 - val_loss: 0.7538 - val_accuracy: 0.7100\n",
            "Epoch 298/600\n",
            "32/32 [==============================] - 0s 9ms/step - loss: 0.9737 - accuracy: 0.6388 - val_loss: 0.7533 - val_accuracy: 0.7230\n",
            "Epoch 299/600\n",
            "32/32 [==============================] - 0s 9ms/step - loss: 0.9940 - accuracy: 0.6115 - val_loss: 0.7539 - val_accuracy: 0.7260\n",
            "Epoch 300/600\n",
            "32/32 [==============================] - 0s 9ms/step - loss: 0.9437 - accuracy: 0.6406 - val_loss: 0.7510 - val_accuracy: 0.7140\n",
            "Epoch 301/600\n",
            "32/32 [==============================] - 0s 10ms/step - loss: 0.9117 - accuracy: 0.6706 - val_loss: 0.7454 - val_accuracy: 0.7290\n",
            "Epoch 302/600\n",
            "32/32 [==============================] - 0s 10ms/step - loss: 0.9348 - accuracy: 0.6447 - val_loss: 0.7434 - val_accuracy: 0.7110\n",
            "Epoch 303/600\n",
            "32/32 [==============================] - 0s 9ms/step - loss: 0.9596 - accuracy: 0.6256 - val_loss: 0.7432 - val_accuracy: 0.7150\n",
            "Epoch 304/600\n",
            "32/32 [==============================] - 0s 9ms/step - loss: 0.9489 - accuracy: 0.6495 - val_loss: 0.7382 - val_accuracy: 0.7220\n",
            "Epoch 305/600\n",
            "32/32 [==============================] - 0s 9ms/step - loss: 0.8976 - accuracy: 0.6501 - val_loss: 0.7369 - val_accuracy: 0.7250\n",
            "Epoch 306/600\n",
            "32/32 [==============================] - 0s 9ms/step - loss: 0.8777 - accuracy: 0.6687 - val_loss: 0.7419 - val_accuracy: 0.7330\n",
            "Epoch 307/600\n",
            "32/32 [==============================] - 0s 9ms/step - loss: 0.9099 - accuracy: 0.6656 - val_loss: 0.7324 - val_accuracy: 0.7280\n",
            "Epoch 308/600\n",
            "32/32 [==============================] - 0s 10ms/step - loss: 0.8941 - accuracy: 0.6556 - val_loss: 0.7295 - val_accuracy: 0.7280\n",
            "Epoch 309/600\n",
            "32/32 [==============================] - 0s 10ms/step - loss: 0.8817 - accuracy: 0.6820 - val_loss: 0.7276 - val_accuracy: 0.7330\n",
            "Epoch 310/600\n",
            "32/32 [==============================] - 1s 17ms/step - loss: 0.9758 - accuracy: 0.6250 - val_loss: 0.7282 - val_accuracy: 0.7280\n",
            "Epoch 311/600\n",
            "32/32 [==============================] - 0s 9ms/step - loss: 0.8692 - accuracy: 0.6806 - val_loss: 0.7272 - val_accuracy: 0.7330\n",
            "Epoch 312/600\n",
            "32/32 [==============================] - 0s 9ms/step - loss: 0.9695 - accuracy: 0.6362 - val_loss: 0.7260 - val_accuracy: 0.7250\n",
            "Epoch 313/600\n",
            "32/32 [==============================] - 0s 9ms/step - loss: 0.8977 - accuracy: 0.6654 - val_loss: 0.7260 - val_accuracy: 0.7290\n",
            "Epoch 314/600\n",
            "32/32 [==============================] - 0s 10ms/step - loss: 0.9636 - accuracy: 0.6473 - val_loss: 0.7199 - val_accuracy: 0.7300\n",
            "Epoch 315/600\n",
            "32/32 [==============================] - 0s 9ms/step - loss: 0.9312 - accuracy: 0.6557 - val_loss: 0.7194 - val_accuracy: 0.7280\n",
            "Epoch 316/600\n",
            "32/32 [==============================] - 0s 9ms/step - loss: 0.8829 - accuracy: 0.6592 - val_loss: 0.7166 - val_accuracy: 0.7180\n",
            "Epoch 317/600\n",
            "32/32 [==============================] - 0s 9ms/step - loss: 0.9746 - accuracy: 0.6501 - val_loss: 0.7158 - val_accuracy: 0.7230\n",
            "Epoch 318/600\n",
            "32/32 [==============================] - 0s 10ms/step - loss: 0.8864 - accuracy: 0.6562 - val_loss: 0.7123 - val_accuracy: 0.7290\n",
            "Epoch 319/600\n",
            "32/32 [==============================] - 0s 10ms/step - loss: 0.8490 - accuracy: 0.6945 - val_loss: 0.7091 - val_accuracy: 0.7340\n",
            "Epoch 320/600\n",
            "32/32 [==============================] - 0s 9ms/step - loss: 0.9209 - accuracy: 0.6559 - val_loss: 0.7066 - val_accuracy: 0.7310\n",
            "Epoch 321/600\n",
            "32/32 [==============================] - 0s 10ms/step - loss: 0.9050 - accuracy: 0.6816 - val_loss: 0.7057 - val_accuracy: 0.7320\n",
            "Epoch 322/600\n",
            "32/32 [==============================] - 0s 10ms/step - loss: 0.9184 - accuracy: 0.6579 - val_loss: 0.7014 - val_accuracy: 0.7400\n",
            "Epoch 323/600\n",
            "32/32 [==============================] - 0s 9ms/step - loss: 0.8558 - accuracy: 0.6764 - val_loss: 0.6998 - val_accuracy: 0.7420\n",
            "Epoch 324/600\n",
            "32/32 [==============================] - 0s 9ms/step - loss: 0.8859 - accuracy: 0.6636 - val_loss: 0.6967 - val_accuracy: 0.7430\n",
            "Epoch 325/600\n",
            "32/32 [==============================] - 0s 9ms/step - loss: 0.8740 - accuracy: 0.6511 - val_loss: 0.6966 - val_accuracy: 0.7440\n",
            "Epoch 326/600\n",
            "32/32 [==============================] - 0s 9ms/step - loss: 0.9527 - accuracy: 0.6573 - val_loss: 0.6964 - val_accuracy: 0.7370\n",
            "Epoch 327/600\n",
            "32/32 [==============================] - 0s 10ms/step - loss: 0.8353 - accuracy: 0.6686 - val_loss: 0.6960 - val_accuracy: 0.7400\n",
            "Epoch 328/600\n",
            "32/32 [==============================] - 0s 9ms/step - loss: 0.8941 - accuracy: 0.6527 - val_loss: 0.6904 - val_accuracy: 0.7460\n",
            "Epoch 329/600\n",
            "32/32 [==============================] - 0s 9ms/step - loss: 0.8996 - accuracy: 0.6487 - val_loss: 0.6882 - val_accuracy: 0.7490\n",
            "Epoch 330/600\n",
            "32/32 [==============================] - 0s 9ms/step - loss: 0.9108 - accuracy: 0.6636 - val_loss: 0.6900 - val_accuracy: 0.7520\n",
            "Epoch 331/600\n",
            "32/32 [==============================] - 0s 9ms/step - loss: 0.8811 - accuracy: 0.6855 - val_loss: 0.6841 - val_accuracy: 0.7450\n",
            "Epoch 332/600\n",
            "32/32 [==============================] - 0s 9ms/step - loss: 0.8824 - accuracy: 0.6544 - val_loss: 0.6802 - val_accuracy: 0.7420\n",
            "Epoch 333/600\n",
            "32/32 [==============================] - 0s 9ms/step - loss: 0.8870 - accuracy: 0.6755 - val_loss: 0.6800 - val_accuracy: 0.7470\n",
            "Epoch 334/600\n",
            "32/32 [==============================] - 0s 9ms/step - loss: 0.8814 - accuracy: 0.6541 - val_loss: 0.6766 - val_accuracy: 0.7540\n",
            "Epoch 335/600\n",
            "32/32 [==============================] - 0s 9ms/step - loss: 0.9161 - accuracy: 0.6490 - val_loss: 0.6731 - val_accuracy: 0.7480\n",
            "Epoch 336/600\n",
            "32/32 [==============================] - 0s 9ms/step - loss: 0.9245 - accuracy: 0.6612 - val_loss: 0.6764 - val_accuracy: 0.7490\n",
            "Epoch 337/600\n",
            "32/32 [==============================] - 0s 9ms/step - loss: 0.8495 - accuracy: 0.6891 - val_loss: 0.6771 - val_accuracy: 0.7440\n",
            "Epoch 338/600\n",
            "32/32 [==============================] - 0s 9ms/step - loss: 0.8480 - accuracy: 0.6822 - val_loss: 0.6671 - val_accuracy: 0.7490\n",
            "Epoch 339/600\n",
            "32/32 [==============================] - 0s 9ms/step - loss: 0.8838 - accuracy: 0.6564 - val_loss: 0.6665 - val_accuracy: 0.7590\n",
            "Epoch 340/600\n",
            "32/32 [==============================] - 0s 10ms/step - loss: 0.8634 - accuracy: 0.6844 - val_loss: 0.6637 - val_accuracy: 0.7530\n",
            "Epoch 341/600\n",
            "32/32 [==============================] - 0s 9ms/step - loss: 0.9003 - accuracy: 0.6562 - val_loss: 0.6621 - val_accuracy: 0.7590\n",
            "Epoch 342/600\n",
            "32/32 [==============================] - 0s 9ms/step - loss: 0.8524 - accuracy: 0.6765 - val_loss: 0.6617 - val_accuracy: 0.7580\n",
            "Epoch 343/600\n",
            "32/32 [==============================] - 0s 9ms/step - loss: 0.8880 - accuracy: 0.6547 - val_loss: 0.6589 - val_accuracy: 0.7530\n",
            "Epoch 344/600\n",
            "32/32 [==============================] - 0s 9ms/step - loss: 0.8511 - accuracy: 0.6803 - val_loss: 0.6579 - val_accuracy: 0.7570\n",
            "Epoch 345/600\n",
            "32/32 [==============================] - 0s 9ms/step - loss: 0.9138 - accuracy: 0.6383 - val_loss: 0.6542 - val_accuracy: 0.7590\n",
            "Epoch 346/600\n",
            "32/32 [==============================] - 0s 9ms/step - loss: 0.8604 - accuracy: 0.6795 - val_loss: 0.6517 - val_accuracy: 0.7620\n",
            "Epoch 347/600\n",
            "32/32 [==============================] - 0s 9ms/step - loss: 0.8575 - accuracy: 0.6744 - val_loss: 0.6514 - val_accuracy: 0.7550\n",
            "Epoch 348/600\n",
            "32/32 [==============================] - 0s 9ms/step - loss: 0.8348 - accuracy: 0.6832 - val_loss: 0.6488 - val_accuracy: 0.7600\n",
            "Epoch 349/600\n",
            "32/32 [==============================] - 0s 9ms/step - loss: 0.8765 - accuracy: 0.6631 - val_loss: 0.6488 - val_accuracy: 0.7600\n",
            "Epoch 350/600\n",
            "32/32 [==============================] - 0s 9ms/step - loss: 0.8454 - accuracy: 0.6701 - val_loss: 0.6467 - val_accuracy: 0.7560\n",
            "Epoch 351/600\n",
            "32/32 [==============================] - 0s 9ms/step - loss: 0.8849 - accuracy: 0.6276 - val_loss: 0.6437 - val_accuracy: 0.7550\n",
            "Epoch 352/600\n",
            "32/32 [==============================] - 0s 10ms/step - loss: 0.8735 - accuracy: 0.6633 - val_loss: 0.6437 - val_accuracy: 0.7460\n",
            "Epoch 353/600\n",
            "32/32 [==============================] - 0s 9ms/step - loss: 0.9158 - accuracy: 0.6525 - val_loss: 0.6398 - val_accuracy: 0.7500\n",
            "Epoch 354/600\n",
            "32/32 [==============================] - 0s 10ms/step - loss: 0.8321 - accuracy: 0.6707 - val_loss: 0.6390 - val_accuracy: 0.7660\n",
            "Epoch 355/600\n",
            "32/32 [==============================] - 0s 9ms/step - loss: 0.8878 - accuracy: 0.6673 - val_loss: 0.6362 - val_accuracy: 0.7570\n",
            "Epoch 356/600\n",
            "32/32 [==============================] - 0s 9ms/step - loss: 0.8970 - accuracy: 0.6638 - val_loss: 0.6384 - val_accuracy: 0.7610\n",
            "Epoch 357/600\n",
            "32/32 [==============================] - 0s 10ms/step - loss: 0.9033 - accuracy: 0.6350 - val_loss: 0.6345 - val_accuracy: 0.7610\n",
            "Epoch 358/600\n",
            "32/32 [==============================] - 0s 9ms/step - loss: 0.9287 - accuracy: 0.6481 - val_loss: 0.6328 - val_accuracy: 0.7620\n",
            "Epoch 359/600\n",
            "32/32 [==============================] - 0s 9ms/step - loss: 0.8524 - accuracy: 0.6663 - val_loss: 0.6287 - val_accuracy: 0.7590\n",
            "Epoch 360/600\n",
            "32/32 [==============================] - 0s 9ms/step - loss: 0.7982 - accuracy: 0.6773 - val_loss: 0.6349 - val_accuracy: 0.7690\n",
            "Epoch 361/600\n",
            "32/32 [==============================] - 0s 9ms/step - loss: 0.8528 - accuracy: 0.6567 - val_loss: 0.6278 - val_accuracy: 0.7660\n",
            "Epoch 362/600\n",
            "32/32 [==============================] - 0s 9ms/step - loss: 0.8587 - accuracy: 0.6771 - val_loss: 0.6250 - val_accuracy: 0.7650\n",
            "Epoch 363/600\n",
            "32/32 [==============================] - 0s 9ms/step - loss: 0.8442 - accuracy: 0.6984 - val_loss: 0.6200 - val_accuracy: 0.7690\n",
            "Epoch 364/600\n",
            "32/32 [==============================] - 0s 9ms/step - loss: 0.8320 - accuracy: 0.6975 - val_loss: 0.6171 - val_accuracy: 0.7710\n",
            "Epoch 365/600\n",
            "32/32 [==============================] - 0s 10ms/step - loss: 0.8780 - accuracy: 0.6693 - val_loss: 0.6220 - val_accuracy: 0.7630\n",
            "Epoch 366/600\n",
            "32/32 [==============================] - 0s 9ms/step - loss: 0.8905 - accuracy: 0.6615 - val_loss: 0.6146 - val_accuracy: 0.7780\n",
            "Epoch 367/600\n",
            "32/32 [==============================] - 0s 9ms/step - loss: 0.8447 - accuracy: 0.6773 - val_loss: 0.6112 - val_accuracy: 0.7680\n",
            "Epoch 368/600\n",
            "32/32 [==============================] - 0s 10ms/step - loss: 0.8483 - accuracy: 0.6891 - val_loss: 0.6100 - val_accuracy: 0.7720\n",
            "Epoch 369/600\n",
            "32/32 [==============================] - 0s 9ms/step - loss: 0.8407 - accuracy: 0.6787 - val_loss: 0.6096 - val_accuracy: 0.7710\n",
            "Epoch 370/600\n",
            "32/32 [==============================] - 0s 9ms/step - loss: 0.8134 - accuracy: 0.7046 - val_loss: 0.6088 - val_accuracy: 0.7740\n",
            "Epoch 371/600\n",
            "32/32 [==============================] - 0s 9ms/step - loss: 0.7864 - accuracy: 0.7040 - val_loss: 0.6083 - val_accuracy: 0.7750\n",
            "Epoch 372/600\n",
            "32/32 [==============================] - 0s 9ms/step - loss: 0.8638 - accuracy: 0.6710 - val_loss: 0.6071 - val_accuracy: 0.7730\n",
            "Epoch 373/600\n",
            "32/32 [==============================] - 0s 9ms/step - loss: 0.8557 - accuracy: 0.6742 - val_loss: 0.6013 - val_accuracy: 0.7800\n",
            "Epoch 374/600\n",
            "32/32 [==============================] - 0s 10ms/step - loss: 0.7913 - accuracy: 0.6943 - val_loss: 0.6028 - val_accuracy: 0.7750\n",
            "Epoch 375/600\n",
            "32/32 [==============================] - 0s 9ms/step - loss: 0.8332 - accuracy: 0.6864 - val_loss: 0.5982 - val_accuracy: 0.7800\n",
            "Epoch 376/600\n",
            "32/32 [==============================] - 0s 9ms/step - loss: 0.8214 - accuracy: 0.6662 - val_loss: 0.5972 - val_accuracy: 0.7810\n",
            "Epoch 377/600\n",
            "32/32 [==============================] - 0s 10ms/step - loss: 0.8801 - accuracy: 0.6600 - val_loss: 0.5954 - val_accuracy: 0.7820\n",
            "Epoch 378/600\n",
            "32/32 [==============================] - 0s 9ms/step - loss: 0.8003 - accuracy: 0.6896 - val_loss: 0.5966 - val_accuracy: 0.7800\n",
            "Epoch 379/600\n",
            "32/32 [==============================] - 0s 9ms/step - loss: 0.8295 - accuracy: 0.6705 - val_loss: 0.5878 - val_accuracy: 0.7810\n",
            "Epoch 380/600\n",
            "32/32 [==============================] - 0s 9ms/step - loss: 0.7958 - accuracy: 0.6938 - val_loss: 0.5901 - val_accuracy: 0.7780\n",
            "Epoch 381/600\n",
            "32/32 [==============================] - 0s 9ms/step - loss: 0.7647 - accuracy: 0.7271 - val_loss: 0.5866 - val_accuracy: 0.7670\n",
            "Epoch 382/600\n",
            "32/32 [==============================] - 0s 9ms/step - loss: 0.7986 - accuracy: 0.7016 - val_loss: 0.5804 - val_accuracy: 0.7880\n",
            "Epoch 383/600\n",
            "32/32 [==============================] - 0s 9ms/step - loss: 0.7763 - accuracy: 0.7004 - val_loss: 0.5826 - val_accuracy: 0.7820\n",
            "Epoch 384/600\n",
            "32/32 [==============================] - 0s 9ms/step - loss: 0.8336 - accuracy: 0.6827 - val_loss: 0.5749 - val_accuracy: 0.7860\n",
            "Epoch 385/600\n",
            "32/32 [==============================] - 0s 10ms/step - loss: 0.8599 - accuracy: 0.6647 - val_loss: 0.5787 - val_accuracy: 0.7930\n",
            "Epoch 386/600\n",
            "32/32 [==============================] - 0s 10ms/step - loss: 0.7486 - accuracy: 0.7238 - val_loss: 0.5720 - val_accuracy: 0.7920\n",
            "Epoch 387/600\n",
            "32/32 [==============================] - 0s 9ms/step - loss: 0.7585 - accuracy: 0.7099 - val_loss: 0.5744 - val_accuracy: 0.7930\n",
            "Epoch 388/600\n",
            "32/32 [==============================] - 0s 9ms/step - loss: 0.8057 - accuracy: 0.6768 - val_loss: 0.5730 - val_accuracy: 0.7920\n",
            "Epoch 389/600\n",
            "32/32 [==============================] - 0s 9ms/step - loss: 0.8329 - accuracy: 0.6601 - val_loss: 0.5700 - val_accuracy: 0.7930\n",
            "Epoch 390/600\n",
            "32/32 [==============================] - 0s 9ms/step - loss: 0.8104 - accuracy: 0.6527 - val_loss: 0.5670 - val_accuracy: 0.7930\n",
            "Epoch 391/600\n",
            "32/32 [==============================] - 0s 10ms/step - loss: 0.8274 - accuracy: 0.6772 - val_loss: 0.5689 - val_accuracy: 0.7920\n",
            "Epoch 392/600\n",
            "32/32 [==============================] - 0s 9ms/step - loss: 0.7762 - accuracy: 0.6978 - val_loss: 0.5686 - val_accuracy: 0.7950\n",
            "Epoch 393/600\n",
            "32/32 [==============================] - 0s 10ms/step - loss: 0.8504 - accuracy: 0.6666 - val_loss: 0.5632 - val_accuracy: 0.8000\n",
            "Epoch 394/600\n",
            "32/32 [==============================] - 0s 9ms/step - loss: 0.8048 - accuracy: 0.7141 - val_loss: 0.5690 - val_accuracy: 0.8010\n",
            "Epoch 395/600\n",
            "32/32 [==============================] - 0s 9ms/step - loss: 0.7482 - accuracy: 0.7405 - val_loss: 0.5668 - val_accuracy: 0.8010\n",
            "Epoch 396/600\n",
            "32/32 [==============================] - 0s 9ms/step - loss: 0.8065 - accuracy: 0.7003 - val_loss: 0.5616 - val_accuracy: 0.7990\n",
            "Epoch 397/600\n",
            "32/32 [==============================] - 0s 10ms/step - loss: 0.8141 - accuracy: 0.6818 - val_loss: 0.5578 - val_accuracy: 0.7980\n",
            "Epoch 398/600\n",
            "32/32 [==============================] - 1s 17ms/step - loss: 0.8281 - accuracy: 0.6681 - val_loss: 0.5585 - val_accuracy: 0.7880\n",
            "Epoch 399/600\n",
            "32/32 [==============================] - 0s 9ms/step - loss: 0.7993 - accuracy: 0.6836 - val_loss: 0.5542 - val_accuracy: 0.7930\n",
            "Epoch 400/600\n",
            "32/32 [==============================] - 0s 10ms/step - loss: 0.7920 - accuracy: 0.6752 - val_loss: 0.5527 - val_accuracy: 0.7900\n",
            "Epoch 401/600\n",
            "32/32 [==============================] - 0s 9ms/step - loss: 0.7972 - accuracy: 0.6895 - val_loss: 0.5517 - val_accuracy: 0.8000\n",
            "Epoch 402/600\n",
            "32/32 [==============================] - 0s 9ms/step - loss: 0.7609 - accuracy: 0.6935 - val_loss: 0.5460 - val_accuracy: 0.7980\n",
            "Epoch 403/600\n",
            "32/32 [==============================] - 0s 10ms/step - loss: 0.7560 - accuracy: 0.7249 - val_loss: 0.5461 - val_accuracy: 0.8010\n",
            "Epoch 404/600\n",
            "32/32 [==============================] - 0s 10ms/step - loss: 0.7901 - accuracy: 0.7088 - val_loss: 0.5421 - val_accuracy: 0.8070\n",
            "Epoch 405/600\n",
            "32/32 [==============================] - 0s 9ms/step - loss: 0.7871 - accuracy: 0.6804 - val_loss: 0.5395 - val_accuracy: 0.8080\n",
            "Epoch 406/600\n",
            "32/32 [==============================] - 0s 10ms/step - loss: 0.7706 - accuracy: 0.7061 - val_loss: 0.5427 - val_accuracy: 0.8080\n",
            "Epoch 407/600\n",
            "32/32 [==============================] - 0s 9ms/step - loss: 0.8219 - accuracy: 0.6804 - val_loss: 0.5371 - val_accuracy: 0.8030\n",
            "Epoch 408/600\n",
            "32/32 [==============================] - 0s 10ms/step - loss: 0.7523 - accuracy: 0.7205 - val_loss: 0.5354 - val_accuracy: 0.8110\n",
            "Epoch 409/600\n",
            "32/32 [==============================] - 0s 9ms/step - loss: 0.8036 - accuracy: 0.6835 - val_loss: 0.5395 - val_accuracy: 0.7990\n",
            "Epoch 410/600\n",
            "32/32 [==============================] - 0s 9ms/step - loss: 0.7527 - accuracy: 0.6962 - val_loss: 0.5342 - val_accuracy: 0.8140\n",
            "Epoch 411/600\n",
            "32/32 [==============================] - 0s 9ms/step - loss: 0.7808 - accuracy: 0.6957 - val_loss: 0.5331 - val_accuracy: 0.8150\n",
            "Epoch 412/600\n",
            "32/32 [==============================] - 0s 10ms/step - loss: 0.7704 - accuracy: 0.7009 - val_loss: 0.5275 - val_accuracy: 0.8080\n",
            "Epoch 413/600\n",
            "32/32 [==============================] - 0s 10ms/step - loss: 0.7557 - accuracy: 0.7091 - val_loss: 0.5352 - val_accuracy: 0.7870\n",
            "Epoch 414/600\n",
            "32/32 [==============================] - 0s 10ms/step - loss: 0.8343 - accuracy: 0.6658 - val_loss: 0.5237 - val_accuracy: 0.8020\n",
            "Epoch 415/600\n",
            "32/32 [==============================] - 0s 10ms/step - loss: 0.8250 - accuracy: 0.6698 - val_loss: 0.5187 - val_accuracy: 0.8120\n",
            "Epoch 416/600\n",
            "32/32 [==============================] - 0s 9ms/step - loss: 0.7461 - accuracy: 0.7072 - val_loss: 0.5240 - val_accuracy: 0.8140\n",
            "Epoch 417/600\n",
            "32/32 [==============================] - 0s 9ms/step - loss: 0.7535 - accuracy: 0.7114 - val_loss: 0.5180 - val_accuracy: 0.8130\n",
            "Epoch 418/600\n",
            "32/32 [==============================] - 0s 9ms/step - loss: 0.7573 - accuracy: 0.7148 - val_loss: 0.5213 - val_accuracy: 0.8160\n",
            "Epoch 419/600\n",
            "32/32 [==============================] - 0s 10ms/step - loss: 0.7591 - accuracy: 0.7139 - val_loss: 0.5160 - val_accuracy: 0.8200\n",
            "Epoch 420/600\n",
            "32/32 [==============================] - 0s 10ms/step - loss: 0.7346 - accuracy: 0.7044 - val_loss: 0.5125 - val_accuracy: 0.8190\n",
            "Epoch 421/600\n",
            "32/32 [==============================] - 0s 10ms/step - loss: 0.7543 - accuracy: 0.7007 - val_loss: 0.5108 - val_accuracy: 0.8200\n",
            "Epoch 422/600\n",
            "32/32 [==============================] - 0s 9ms/step - loss: 0.7444 - accuracy: 0.7227 - val_loss: 0.5089 - val_accuracy: 0.8240\n",
            "Epoch 423/600\n",
            "32/32 [==============================] - 0s 9ms/step - loss: 0.7260 - accuracy: 0.7340 - val_loss: 0.5091 - val_accuracy: 0.8220\n",
            "Epoch 424/600\n",
            "32/32 [==============================] - 0s 9ms/step - loss: 0.7368 - accuracy: 0.6980 - val_loss: 0.5094 - val_accuracy: 0.8240\n",
            "Epoch 425/600\n",
            "32/32 [==============================] - 0s 10ms/step - loss: 0.7043 - accuracy: 0.7102 - val_loss: 0.5057 - val_accuracy: 0.8230\n",
            "Epoch 426/600\n",
            "32/32 [==============================] - 0s 9ms/step - loss: 0.7526 - accuracy: 0.6905 - val_loss: 0.4982 - val_accuracy: 0.8250\n",
            "Epoch 427/600\n",
            "32/32 [==============================] - 0s 9ms/step - loss: 0.7250 - accuracy: 0.7093 - val_loss: 0.5028 - val_accuracy: 0.8240\n",
            "Epoch 428/600\n",
            "32/32 [==============================] - 0s 9ms/step - loss: 0.7476 - accuracy: 0.7061 - val_loss: 0.5020 - val_accuracy: 0.8200\n",
            "Epoch 429/600\n",
            "32/32 [==============================] - 0s 9ms/step - loss: 0.7520 - accuracy: 0.7231 - val_loss: 0.4947 - val_accuracy: 0.8310\n",
            "Epoch 430/600\n",
            "32/32 [==============================] - 0s 9ms/step - loss: 0.7689 - accuracy: 0.7291 - val_loss: 0.4940 - val_accuracy: 0.8260\n",
            "Epoch 431/600\n",
            "32/32 [==============================] - 0s 9ms/step - loss: 0.6952 - accuracy: 0.7440 - val_loss: 0.4933 - val_accuracy: 0.8260\n",
            "Epoch 432/600\n",
            "32/32 [==============================] - 0s 10ms/step - loss: 0.7445 - accuracy: 0.7284 - val_loss: 0.4923 - val_accuracy: 0.8270\n",
            "Epoch 433/600\n",
            "32/32 [==============================] - 0s 9ms/step - loss: 0.7088 - accuracy: 0.7348 - val_loss: 0.4970 - val_accuracy: 0.8230\n",
            "Epoch 434/600\n",
            "32/32 [==============================] - 0s 9ms/step - loss: 0.7107 - accuracy: 0.7434 - val_loss: 0.4900 - val_accuracy: 0.8290\n",
            "Epoch 435/600\n",
            "32/32 [==============================] - 0s 9ms/step - loss: 0.7955 - accuracy: 0.6829 - val_loss: 0.4864 - val_accuracy: 0.8300\n",
            "Epoch 436/600\n",
            "32/32 [==============================] - 0s 10ms/step - loss: 0.7340 - accuracy: 0.7194 - val_loss: 0.4857 - val_accuracy: 0.8360\n",
            "Epoch 437/600\n",
            "32/32 [==============================] - 0s 9ms/step - loss: 0.7117 - accuracy: 0.7251 - val_loss: 0.4868 - val_accuracy: 0.8300\n",
            "Epoch 438/600\n",
            "32/32 [==============================] - 0s 9ms/step - loss: 0.7499 - accuracy: 0.7235 - val_loss: 0.4866 - val_accuracy: 0.8340\n",
            "Epoch 439/600\n",
            "32/32 [==============================] - 0s 10ms/step - loss: 0.7307 - accuracy: 0.7256 - val_loss: 0.4814 - val_accuracy: 0.8380\n",
            "Epoch 440/600\n",
            "32/32 [==============================] - 0s 10ms/step - loss: 0.7700 - accuracy: 0.7138 - val_loss: 0.4788 - val_accuracy: 0.8420\n",
            "Epoch 441/600\n",
            "32/32 [==============================] - 0s 9ms/step - loss: 0.7495 - accuracy: 0.7044 - val_loss: 0.4742 - val_accuracy: 0.8330\n",
            "Epoch 442/600\n",
            "32/32 [==============================] - 0s 10ms/step - loss: 0.7100 - accuracy: 0.7149 - val_loss: 0.4800 - val_accuracy: 0.8410\n",
            "Epoch 443/600\n",
            "32/32 [==============================] - 0s 9ms/step - loss: 0.7521 - accuracy: 0.7010 - val_loss: 0.4742 - val_accuracy: 0.8350\n",
            "Epoch 444/600\n",
            "32/32 [==============================] - 0s 9ms/step - loss: 0.7003 - accuracy: 0.7008 - val_loss: 0.4740 - val_accuracy: 0.8300\n",
            "Epoch 445/600\n",
            "32/32 [==============================] - 0s 10ms/step - loss: 0.7402 - accuracy: 0.7124 - val_loss: 0.4692 - val_accuracy: 0.8450\n",
            "Epoch 446/600\n",
            "32/32 [==============================] - 0s 9ms/step - loss: 0.7631 - accuracy: 0.6902 - val_loss: 0.4684 - val_accuracy: 0.8280\n",
            "Epoch 447/600\n",
            "32/32 [==============================] - 0s 10ms/step - loss: 0.6421 - accuracy: 0.7679 - val_loss: 0.4674 - val_accuracy: 0.8360\n",
            "Epoch 448/600\n",
            "32/32 [==============================] - 0s 9ms/step - loss: 0.6849 - accuracy: 0.7337 - val_loss: 0.4639 - val_accuracy: 0.8420\n",
            "Epoch 449/600\n",
            "32/32 [==============================] - 0s 11ms/step - loss: 0.6743 - accuracy: 0.7372 - val_loss: 0.4637 - val_accuracy: 0.8410\n",
            "Epoch 450/600\n",
            "32/32 [==============================] - 0s 10ms/step - loss: 0.7066 - accuracy: 0.7259 - val_loss: 0.4602 - val_accuracy: 0.8420\n",
            "Epoch 451/600\n",
            "32/32 [==============================] - 0s 9ms/step - loss: 0.6739 - accuracy: 0.7366 - val_loss: 0.4555 - val_accuracy: 0.8400\n",
            "Epoch 452/600\n",
            "32/32 [==============================] - 0s 9ms/step - loss: 0.7344 - accuracy: 0.7207 - val_loss: 0.4618 - val_accuracy: 0.8480\n",
            "Epoch 453/600\n",
            "32/32 [==============================] - 0s 9ms/step - loss: 0.7072 - accuracy: 0.7122 - val_loss: 0.4545 - val_accuracy: 0.8390\n",
            "Epoch 454/600\n",
            "32/32 [==============================] - 0s 9ms/step - loss: 0.7151 - accuracy: 0.7250 - val_loss: 0.4575 - val_accuracy: 0.8470\n",
            "Epoch 455/600\n",
            "32/32 [==============================] - 0s 9ms/step - loss: 0.6828 - accuracy: 0.7487 - val_loss: 0.4513 - val_accuracy: 0.8490\n",
            "Epoch 456/600\n",
            "32/32 [==============================] - 0s 9ms/step - loss: 0.7614 - accuracy: 0.7127 - val_loss: 0.4532 - val_accuracy: 0.8510\n",
            "Epoch 457/600\n",
            "32/32 [==============================] - 0s 9ms/step - loss: 0.7769 - accuracy: 0.7205 - val_loss: 0.4519 - val_accuracy: 0.8480\n",
            "Epoch 458/600\n",
            "32/32 [==============================] - 0s 10ms/step - loss: 0.7061 - accuracy: 0.7167 - val_loss: 0.4477 - val_accuracy: 0.8520\n",
            "Epoch 459/600\n",
            "32/32 [==============================] - 0s 10ms/step - loss: 0.6928 - accuracy: 0.7483 - val_loss: 0.4441 - val_accuracy: 0.8610\n",
            "Epoch 460/600\n",
            "32/32 [==============================] - 0s 9ms/step - loss: 0.7172 - accuracy: 0.7259 - val_loss: 0.4443 - val_accuracy: 0.8660\n",
            "Epoch 461/600\n",
            "32/32 [==============================] - 0s 10ms/step - loss: 0.7093 - accuracy: 0.7229 - val_loss: 0.4452 - val_accuracy: 0.8620\n",
            "Epoch 462/600\n",
            "32/32 [==============================] - 0s 9ms/step - loss: 0.7159 - accuracy: 0.7237 - val_loss: 0.4441 - val_accuracy: 0.8560\n",
            "Epoch 463/600\n",
            "32/32 [==============================] - 0s 9ms/step - loss: 0.7369 - accuracy: 0.7059 - val_loss: 0.4395 - val_accuracy: 0.8530\n",
            "Epoch 464/600\n",
            "32/32 [==============================] - 0s 9ms/step - loss: 0.6842 - accuracy: 0.7354 - val_loss: 0.4368 - val_accuracy: 0.8590\n",
            "Epoch 465/600\n",
            "32/32 [==============================] - 0s 9ms/step - loss: 0.7517 - accuracy: 0.6917 - val_loss: 0.4407 - val_accuracy: 0.8600\n",
            "Epoch 466/600\n",
            "32/32 [==============================] - 0s 10ms/step - loss: 0.6778 - accuracy: 0.7216 - val_loss: 0.4388 - val_accuracy: 0.8440\n",
            "Epoch 467/600\n",
            "32/32 [==============================] - 0s 10ms/step - loss: 0.6753 - accuracy: 0.7462 - val_loss: 0.4350 - val_accuracy: 0.8490\n",
            "Epoch 468/600\n",
            "32/32 [==============================] - 1s 17ms/step - loss: 0.7335 - accuracy: 0.7156 - val_loss: 0.4312 - val_accuracy: 0.8540\n",
            "Epoch 469/600\n",
            "32/32 [==============================] - 0s 10ms/step - loss: 0.7257 - accuracy: 0.7230 - val_loss: 0.4290 - val_accuracy: 0.8480\n",
            "Epoch 470/600\n",
            "32/32 [==============================] - 0s 10ms/step - loss: 0.6843 - accuracy: 0.7264 - val_loss: 0.4302 - val_accuracy: 0.8650\n",
            "Epoch 471/600\n",
            "32/32 [==============================] - 0s 10ms/step - loss: 0.7171 - accuracy: 0.7164 - val_loss: 0.4290 - val_accuracy: 0.8580\n",
            "Epoch 472/600\n",
            "32/32 [==============================] - 0s 9ms/step - loss: 0.6838 - accuracy: 0.7254 - val_loss: 0.4267 - val_accuracy: 0.8630\n",
            "Epoch 473/600\n",
            "32/32 [==============================] - 0s 9ms/step - loss: 0.6510 - accuracy: 0.7450 - val_loss: 0.4206 - val_accuracy: 0.8580\n",
            "Epoch 474/600\n",
            "32/32 [==============================] - 0s 10ms/step - loss: 0.6845 - accuracy: 0.7343 - val_loss: 0.4168 - val_accuracy: 0.8640\n",
            "Epoch 475/600\n",
            "32/32 [==============================] - 0s 10ms/step - loss: 0.6711 - accuracy: 0.7271 - val_loss: 0.4179 - val_accuracy: 0.8640\n",
            "Epoch 476/600\n",
            "32/32 [==============================] - 0s 9ms/step - loss: 0.6738 - accuracy: 0.7598 - val_loss: 0.4164 - val_accuracy: 0.8690\n",
            "Epoch 477/600\n",
            "32/32 [==============================] - 0s 10ms/step - loss: 0.6917 - accuracy: 0.7402 - val_loss: 0.4180 - val_accuracy: 0.8530\n",
            "Epoch 478/600\n",
            "32/32 [==============================] - 0s 10ms/step - loss: 0.6701 - accuracy: 0.7306 - val_loss: 0.4168 - val_accuracy: 0.8670\n",
            "Epoch 479/600\n",
            "32/32 [==============================] - 0s 10ms/step - loss: 0.6846 - accuracy: 0.7294 - val_loss: 0.4132 - val_accuracy: 0.8660\n",
            "Epoch 480/600\n",
            "32/32 [==============================] - 0s 9ms/step - loss: 0.6941 - accuracy: 0.7347 - val_loss: 0.4110 - val_accuracy: 0.8700\n",
            "Epoch 481/600\n",
            "32/32 [==============================] - 0s 10ms/step - loss: 0.6733 - accuracy: 0.7412 - val_loss: 0.4123 - val_accuracy: 0.8710\n",
            "Epoch 482/600\n",
            "32/32 [==============================] - 0s 9ms/step - loss: 0.7243 - accuracy: 0.7062 - val_loss: 0.4121 - val_accuracy: 0.8640\n",
            "Epoch 483/600\n",
            "32/32 [==============================] - 0s 10ms/step - loss: 0.6344 - accuracy: 0.7544 - val_loss: 0.4086 - val_accuracy: 0.8730\n",
            "Epoch 484/600\n",
            "32/32 [==============================] - 0s 9ms/step - loss: 0.7282 - accuracy: 0.7366 - val_loss: 0.4118 - val_accuracy: 0.8650\n",
            "Epoch 485/600\n",
            "32/32 [==============================] - 0s 10ms/step - loss: 0.6598 - accuracy: 0.7543 - val_loss: 0.4079 - val_accuracy: 0.8670\n",
            "Epoch 486/600\n",
            "32/32 [==============================] - 0s 9ms/step - loss: 0.6904 - accuracy: 0.7228 - val_loss: 0.4068 - val_accuracy: 0.8650\n",
            "Epoch 487/600\n",
            "32/32 [==============================] - 0s 10ms/step - loss: 0.6928 - accuracy: 0.7153 - val_loss: 0.4019 - val_accuracy: 0.8680\n",
            "Epoch 488/600\n",
            "32/32 [==============================] - 0s 10ms/step - loss: 0.6268 - accuracy: 0.7708 - val_loss: 0.3987 - val_accuracy: 0.8700\n",
            "Epoch 489/600\n",
            "32/32 [==============================] - 0s 10ms/step - loss: 0.6485 - accuracy: 0.7389 - val_loss: 0.3945 - val_accuracy: 0.8750\n",
            "Epoch 490/600\n",
            "32/32 [==============================] - 0s 10ms/step - loss: 0.6623 - accuracy: 0.7490 - val_loss: 0.3981 - val_accuracy: 0.8790\n",
            "Epoch 491/600\n",
            "32/32 [==============================] - 0s 10ms/step - loss: 0.6974 - accuracy: 0.7187 - val_loss: 0.3969 - val_accuracy: 0.8700\n",
            "Epoch 492/600\n",
            "32/32 [==============================] - 0s 9ms/step - loss: 0.6963 - accuracy: 0.7304 - val_loss: 0.3917 - val_accuracy: 0.8770\n",
            "Epoch 493/600\n",
            "32/32 [==============================] - 0s 10ms/step - loss: 0.6707 - accuracy: 0.7450 - val_loss: 0.3906 - val_accuracy: 0.8750\n",
            "Epoch 494/600\n",
            "32/32 [==============================] - 0s 9ms/step - loss: 0.6979 - accuracy: 0.7244 - val_loss: 0.3915 - val_accuracy: 0.8690\n",
            "Epoch 495/600\n",
            "32/32 [==============================] - 0s 10ms/step - loss: 0.7123 - accuracy: 0.7389 - val_loss: 0.3930 - val_accuracy: 0.8730\n",
            "Epoch 496/600\n",
            "32/32 [==============================] - 0s 10ms/step - loss: 0.6100 - accuracy: 0.7765 - val_loss: 0.3890 - val_accuracy: 0.8730\n",
            "Epoch 497/600\n",
            "32/32 [==============================] - 0s 10ms/step - loss: 0.6108 - accuracy: 0.7768 - val_loss: 0.3884 - val_accuracy: 0.8750\n",
            "Epoch 498/600\n",
            "32/32 [==============================] - 0s 10ms/step - loss: 0.6796 - accuracy: 0.7387 - val_loss: 0.3850 - val_accuracy: 0.8800\n",
            "Epoch 499/600\n",
            "32/32 [==============================] - 0s 10ms/step - loss: 0.6260 - accuracy: 0.7603 - val_loss: 0.3863 - val_accuracy: 0.8750\n",
            "Epoch 500/600\n",
            "32/32 [==============================] - 0s 10ms/step - loss: 0.6225 - accuracy: 0.7580 - val_loss: 0.3855 - val_accuracy: 0.8720\n",
            "Epoch 501/600\n",
            "32/32 [==============================] - 0s 9ms/step - loss: 0.5946 - accuracy: 0.7768 - val_loss: 0.3786 - val_accuracy: 0.8780\n",
            "Epoch 502/600\n",
            "32/32 [==============================] - 0s 10ms/step - loss: 0.7243 - accuracy: 0.7132 - val_loss: 0.3820 - val_accuracy: 0.8800\n",
            "Epoch 503/600\n",
            "32/32 [==============================] - 0s 10ms/step - loss: 0.6660 - accuracy: 0.7399 - val_loss: 0.3835 - val_accuracy: 0.8800\n",
            "Epoch 504/600\n",
            "32/32 [==============================] - 0s 9ms/step - loss: 0.6737 - accuracy: 0.7475 - val_loss: 0.3746 - val_accuracy: 0.8790\n",
            "Epoch 505/600\n",
            "32/32 [==============================] - 0s 9ms/step - loss: 0.6846 - accuracy: 0.7398 - val_loss: 0.3724 - val_accuracy: 0.8800\n",
            "Epoch 506/600\n",
            "32/32 [==============================] - 0s 10ms/step - loss: 0.6657 - accuracy: 0.7629 - val_loss: 0.3757 - val_accuracy: 0.8810\n",
            "Epoch 507/600\n",
            "32/32 [==============================] - 0s 10ms/step - loss: 0.6410 - accuracy: 0.7664 - val_loss: 0.3740 - val_accuracy: 0.8870\n",
            "Epoch 508/600\n",
            "32/32 [==============================] - 0s 10ms/step - loss: 0.6686 - accuracy: 0.7360 - val_loss: 0.3681 - val_accuracy: 0.8850\n",
            "Epoch 509/600\n",
            "32/32 [==============================] - 0s 10ms/step - loss: 0.6380 - accuracy: 0.7537 - val_loss: 0.3709 - val_accuracy: 0.8920\n",
            "Epoch 510/600\n",
            "32/32 [==============================] - 0s 9ms/step - loss: 0.6102 - accuracy: 0.7838 - val_loss: 0.3703 - val_accuracy: 0.8800\n",
            "Epoch 511/600\n",
            "32/32 [==============================] - 0s 10ms/step - loss: 0.6468 - accuracy: 0.7420 - val_loss: 0.3641 - val_accuracy: 0.8860\n",
            "Epoch 512/600\n",
            "32/32 [==============================] - 0s 10ms/step - loss: 0.6723 - accuracy: 0.7358 - val_loss: 0.3660 - val_accuracy: 0.8870\n",
            "Epoch 513/600\n",
            "32/32 [==============================] - 0s 10ms/step - loss: 0.6269 - accuracy: 0.7363 - val_loss: 0.3648 - val_accuracy: 0.8940\n",
            "Epoch 514/600\n",
            "32/32 [==============================] - 0s 10ms/step - loss: 0.6256 - accuracy: 0.7691 - val_loss: 0.3623 - val_accuracy: 0.8930\n",
            "Epoch 515/600\n",
            "32/32 [==============================] - 0s 10ms/step - loss: 0.6437 - accuracy: 0.7417 - val_loss: 0.3581 - val_accuracy: 0.8960\n",
            "Epoch 516/600\n",
            "32/32 [==============================] - 0s 9ms/step - loss: 0.6440 - accuracy: 0.7537 - val_loss: 0.3566 - val_accuracy: 0.8960\n",
            "Epoch 517/600\n",
            "32/32 [==============================] - 0s 9ms/step - loss: 0.6358 - accuracy: 0.7472 - val_loss: 0.3534 - val_accuracy: 0.8970\n",
            "Epoch 518/600\n",
            "32/32 [==============================] - 0s 9ms/step - loss: 0.6307 - accuracy: 0.7579 - val_loss: 0.3549 - val_accuracy: 0.8990\n",
            "Epoch 519/600\n",
            "32/32 [==============================] - 0s 10ms/step - loss: 0.6616 - accuracy: 0.7559 - val_loss: 0.3540 - val_accuracy: 0.8980\n",
            "Epoch 520/600\n",
            "32/32 [==============================] - 0s 9ms/step - loss: 0.6248 - accuracy: 0.7600 - val_loss: 0.3518 - val_accuracy: 0.8950\n",
            "Epoch 521/600\n",
            "32/32 [==============================] - 0s 9ms/step - loss: 0.6275 - accuracy: 0.7616 - val_loss: 0.3470 - val_accuracy: 0.8940\n",
            "Epoch 522/600\n",
            "32/32 [==============================] - 0s 10ms/step - loss: 0.6424 - accuracy: 0.7617 - val_loss: 0.3496 - val_accuracy: 0.9030\n",
            "Epoch 523/600\n",
            "32/32 [==============================] - 0s 9ms/step - loss: 0.6585 - accuracy: 0.7436 - val_loss: 0.3483 - val_accuracy: 0.9060\n",
            "Epoch 524/600\n",
            "32/32 [==============================] - 0s 10ms/step - loss: 0.5462 - accuracy: 0.7809 - val_loss: 0.3454 - val_accuracy: 0.8960\n",
            "Epoch 525/600\n",
            "32/32 [==============================] - 0s 10ms/step - loss: 0.6304 - accuracy: 0.7569 - val_loss: 0.3439 - val_accuracy: 0.9120\n",
            "Epoch 526/600\n",
            "32/32 [==============================] - 0s 10ms/step - loss: 0.5888 - accuracy: 0.7706 - val_loss: 0.3424 - val_accuracy: 0.9090\n",
            "Epoch 527/600\n",
            "32/32 [==============================] - 1s 17ms/step - loss: 0.5896 - accuracy: 0.7567 - val_loss: 0.3451 - val_accuracy: 0.8980\n",
            "Epoch 528/600\n",
            "32/32 [==============================] - 0s 10ms/step - loss: 0.6196 - accuracy: 0.7696 - val_loss: 0.3380 - val_accuracy: 0.9040\n",
            "Epoch 529/600\n",
            "32/32 [==============================] - 0s 10ms/step - loss: 0.6237 - accuracy: 0.7588 - val_loss: 0.3385 - val_accuracy: 0.9100\n",
            "Epoch 530/600\n",
            "32/32 [==============================] - 0s 9ms/step - loss: 0.5797 - accuracy: 0.7735 - val_loss: 0.3381 - val_accuracy: 0.9130\n",
            "Epoch 531/600\n",
            "32/32 [==============================] - 0s 9ms/step - loss: 0.6110 - accuracy: 0.7647 - val_loss: 0.3339 - val_accuracy: 0.9100\n",
            "Epoch 532/600\n",
            "32/32 [==============================] - 0s 9ms/step - loss: 0.6615 - accuracy: 0.7420 - val_loss: 0.3326 - val_accuracy: 0.9110\n",
            "Epoch 533/600\n",
            "32/32 [==============================] - 0s 9ms/step - loss: 0.6547 - accuracy: 0.7528 - val_loss: 0.3310 - val_accuracy: 0.9030\n",
            "Epoch 534/600\n",
            "32/32 [==============================] - 0s 10ms/step - loss: 0.6180 - accuracy: 0.7611 - val_loss: 0.3277 - val_accuracy: 0.9210\n",
            "Epoch 535/600\n",
            "32/32 [==============================] - 0s 10ms/step - loss: 0.6128 - accuracy: 0.7716 - val_loss: 0.3266 - val_accuracy: 0.9150\n",
            "Epoch 536/600\n",
            "32/32 [==============================] - 0s 9ms/step - loss: 0.6809 - accuracy: 0.7484 - val_loss: 0.3243 - val_accuracy: 0.9210\n",
            "Epoch 537/600\n",
            "32/32 [==============================] - 0s 10ms/step - loss: 0.6140 - accuracy: 0.7573 - val_loss: 0.3321 - val_accuracy: 0.9050\n",
            "Epoch 538/600\n",
            "32/32 [==============================] - 0s 10ms/step - loss: 0.6222 - accuracy: 0.7727 - val_loss: 0.3265 - val_accuracy: 0.9110\n",
            "Epoch 539/600\n",
            "32/32 [==============================] - 0s 10ms/step - loss: 0.6048 - accuracy: 0.7600 - val_loss: 0.3225 - val_accuracy: 0.9170\n",
            "Epoch 540/600\n",
            "32/32 [==============================] - 0s 10ms/step - loss: 0.5773 - accuracy: 0.7765 - val_loss: 0.3190 - val_accuracy: 0.9190\n",
            "Epoch 541/600\n",
            "32/32 [==============================] - 0s 9ms/step - loss: 0.5815 - accuracy: 0.7845 - val_loss: 0.3198 - val_accuracy: 0.9220\n",
            "Epoch 542/600\n",
            "32/32 [==============================] - 0s 9ms/step - loss: 0.6166 - accuracy: 0.7678 - val_loss: 0.3189 - val_accuracy: 0.9210\n",
            "Epoch 543/600\n",
            "32/32 [==============================] - 0s 9ms/step - loss: 0.5795 - accuracy: 0.7814 - val_loss: 0.3210 - val_accuracy: 0.9160\n",
            "Epoch 544/600\n",
            "32/32 [==============================] - 0s 10ms/step - loss: 0.6353 - accuracy: 0.7554 - val_loss: 0.3216 - val_accuracy: 0.9170\n",
            "Epoch 545/600\n",
            "32/32 [==============================] - 0s 10ms/step - loss: 0.5943 - accuracy: 0.7831 - val_loss: 0.3205 - val_accuracy: 0.9100\n",
            "Epoch 546/600\n",
            "32/32 [==============================] - 0s 9ms/step - loss: 0.6366 - accuracy: 0.7584 - val_loss: 0.3157 - val_accuracy: 0.9150\n",
            "Epoch 547/600\n",
            "32/32 [==============================] - 0s 10ms/step - loss: 0.5868 - accuracy: 0.7770 - val_loss: 0.3160 - val_accuracy: 0.9120\n",
            "Epoch 548/600\n",
            "32/32 [==============================] - 0s 9ms/step - loss: 0.5952 - accuracy: 0.7731 - val_loss: 0.3117 - val_accuracy: 0.9250\n",
            "Epoch 549/600\n",
            "32/32 [==============================] - 0s 9ms/step - loss: 0.5523 - accuracy: 0.7896 - val_loss: 0.3126 - val_accuracy: 0.9270\n",
            "Epoch 550/600\n",
            "32/32 [==============================] - 0s 10ms/step - loss: 0.5510 - accuracy: 0.8081 - val_loss: 0.3107 - val_accuracy: 0.9280\n",
            "Epoch 551/600\n",
            "32/32 [==============================] - 0s 10ms/step - loss: 0.5936 - accuracy: 0.7622 - val_loss: 0.3060 - val_accuracy: 0.9290\n",
            "Epoch 552/600\n",
            "32/32 [==============================] - 0s 10ms/step - loss: 0.5958 - accuracy: 0.7645 - val_loss: 0.3076 - val_accuracy: 0.9190\n",
            "Epoch 553/600\n",
            "32/32 [==============================] - 0s 10ms/step - loss: 0.6272 - accuracy: 0.7464 - val_loss: 0.3024 - val_accuracy: 0.9220\n",
            "Epoch 554/600\n",
            "32/32 [==============================] - 0s 10ms/step - loss: 0.5511 - accuracy: 0.7742 - val_loss: 0.3009 - val_accuracy: 0.9160\n",
            "Epoch 555/600\n",
            "32/32 [==============================] - 0s 10ms/step - loss: 0.5367 - accuracy: 0.7874 - val_loss: 0.3008 - val_accuracy: 0.9250\n",
            "Epoch 556/600\n",
            "32/32 [==============================] - 0s 10ms/step - loss: 0.5806 - accuracy: 0.7678 - val_loss: 0.3004 - val_accuracy: 0.9230\n",
            "Epoch 557/600\n",
            "32/32 [==============================] - 0s 10ms/step - loss: 0.6207 - accuracy: 0.7688 - val_loss: 0.3008 - val_accuracy: 0.9270\n",
            "Epoch 558/600\n",
            "32/32 [==============================] - 0s 10ms/step - loss: 0.5570 - accuracy: 0.7952 - val_loss: 0.2962 - val_accuracy: 0.9190\n",
            "Epoch 559/600\n",
            "32/32 [==============================] - 0s 10ms/step - loss: 0.5719 - accuracy: 0.7793 - val_loss: 0.2965 - val_accuracy: 0.9300\n",
            "Epoch 560/600\n",
            "32/32 [==============================] - 0s 10ms/step - loss: 0.5932 - accuracy: 0.7655 - val_loss: 0.2933 - val_accuracy: 0.9310\n",
            "Epoch 561/600\n",
            "32/32 [==============================] - 0s 9ms/step - loss: 0.5986 - accuracy: 0.7574 - val_loss: 0.2938 - val_accuracy: 0.9290\n",
            "Epoch 562/600\n",
            "32/32 [==============================] - 0s 10ms/step - loss: 0.5886 - accuracy: 0.7798 - val_loss: 0.2899 - val_accuracy: 0.9290\n",
            "Epoch 563/600\n",
            "32/32 [==============================] - 0s 9ms/step - loss: 0.5785 - accuracy: 0.7735 - val_loss: 0.2908 - val_accuracy: 0.9330\n",
            "Epoch 564/600\n",
            "32/32 [==============================] - 0s 10ms/step - loss: 0.5682 - accuracy: 0.7890 - val_loss: 0.2956 - val_accuracy: 0.9230\n",
            "Epoch 565/600\n",
            "32/32 [==============================] - 0s 9ms/step - loss: 0.5739 - accuracy: 0.7548 - val_loss: 0.2892 - val_accuracy: 0.9320\n",
            "Epoch 566/600\n",
            "32/32 [==============================] - 0s 10ms/step - loss: 0.6140 - accuracy: 0.7532 - val_loss: 0.2880 - val_accuracy: 0.9300\n",
            "Epoch 567/600\n",
            "32/32 [==============================] - 0s 10ms/step - loss: 0.5996 - accuracy: 0.7684 - val_loss: 0.2862 - val_accuracy: 0.9370\n",
            "Epoch 568/600\n",
            "32/32 [==============================] - 0s 10ms/step - loss: 0.5998 - accuracy: 0.7394 - val_loss: 0.2868 - val_accuracy: 0.9330\n",
            "Epoch 569/600\n",
            "32/32 [==============================] - 0s 10ms/step - loss: 0.5790 - accuracy: 0.7744 - val_loss: 0.2811 - val_accuracy: 0.9300\n",
            "Epoch 570/600\n",
            "32/32 [==============================] - 0s 10ms/step - loss: 0.5669 - accuracy: 0.7946 - val_loss: 0.2943 - val_accuracy: 0.9320\n",
            "Epoch 571/600\n",
            "32/32 [==============================] - 0s 9ms/step - loss: 0.5275 - accuracy: 0.7925 - val_loss: 0.2795 - val_accuracy: 0.9360\n",
            "Epoch 572/600\n",
            "32/32 [==============================] - 0s 10ms/step - loss: 0.5920 - accuracy: 0.7578 - val_loss: 0.2809 - val_accuracy: 0.9340\n",
            "Epoch 573/600\n",
            "32/32 [==============================] - 0s 10ms/step - loss: 0.5408 - accuracy: 0.7782 - val_loss: 0.2785 - val_accuracy: 0.9350\n",
            "Epoch 574/600\n",
            "32/32 [==============================] - 0s 10ms/step - loss: 0.5869 - accuracy: 0.7984 - val_loss: 0.2786 - val_accuracy: 0.9360\n",
            "Epoch 575/600\n",
            "32/32 [==============================] - 0s 10ms/step - loss: 0.5446 - accuracy: 0.8164 - val_loss: 0.2809 - val_accuracy: 0.9310\n",
            "Epoch 576/600\n",
            "32/32 [==============================] - 0s 10ms/step - loss: 0.5561 - accuracy: 0.7987 - val_loss: 0.2811 - val_accuracy: 0.9330\n",
            "Epoch 577/600\n",
            "32/32 [==============================] - 0s 9ms/step - loss: 0.5998 - accuracy: 0.7729 - val_loss: 0.2796 - val_accuracy: 0.9300\n",
            "Epoch 578/600\n",
            "32/32 [==============================] - 0s 10ms/step - loss: 0.5350 - accuracy: 0.7889 - val_loss: 0.2757 - val_accuracy: 0.9410\n",
            "Epoch 579/600\n",
            "32/32 [==============================] - 0s 10ms/step - loss: 0.5979 - accuracy: 0.7792 - val_loss: 0.2745 - val_accuracy: 0.9430\n",
            "Epoch 580/600\n",
            "32/32 [==============================] - 0s 10ms/step - loss: 0.5068 - accuracy: 0.7994 - val_loss: 0.2739 - val_accuracy: 0.9470\n",
            "Epoch 581/600\n",
            "32/32 [==============================] - 0s 10ms/step - loss: 0.6046 - accuracy: 0.7740 - val_loss: 0.2700 - val_accuracy: 0.9460\n",
            "Epoch 582/600\n",
            "32/32 [==============================] - 0s 10ms/step - loss: 0.5399 - accuracy: 0.7922 - val_loss: 0.2715 - val_accuracy: 0.9440\n",
            "Epoch 583/600\n",
            "32/32 [==============================] - 0s 10ms/step - loss: 0.5386 - accuracy: 0.7875 - val_loss: 0.2682 - val_accuracy: 0.9470\n",
            "Epoch 584/600\n",
            "32/32 [==============================] - 0s 10ms/step - loss: 0.5132 - accuracy: 0.7903 - val_loss: 0.2685 - val_accuracy: 0.9450\n",
            "Epoch 585/600\n",
            "32/32 [==============================] - 0s 9ms/step - loss: 0.6061 - accuracy: 0.7602 - val_loss: 0.2654 - val_accuracy: 0.9400\n",
            "Epoch 586/600\n",
            "32/32 [==============================] - 0s 10ms/step - loss: 0.5631 - accuracy: 0.7798 - val_loss: 0.2649 - val_accuracy: 0.9500\n",
            "Epoch 587/600\n",
            "32/32 [==============================] - 0s 9ms/step - loss: 0.5554 - accuracy: 0.7838 - val_loss: 0.2647 - val_accuracy: 0.9480\n",
            "Epoch 588/600\n",
            "32/32 [==============================] - 0s 10ms/step - loss: 0.6156 - accuracy: 0.7538 - val_loss: 0.2612 - val_accuracy: 0.9440\n",
            "Epoch 589/600\n",
            "32/32 [==============================] - 0s 10ms/step - loss: 0.5421 - accuracy: 0.8139 - val_loss: 0.2591 - val_accuracy: 0.9460\n",
            "Epoch 590/600\n",
            "32/32 [==============================] - 0s 9ms/step - loss: 0.5439 - accuracy: 0.8125 - val_loss: 0.2594 - val_accuracy: 0.9420\n",
            "Epoch 591/600\n",
            "32/32 [==============================] - 0s 9ms/step - loss: 0.5301 - accuracy: 0.7966 - val_loss: 0.2570 - val_accuracy: 0.9450\n",
            "Epoch 592/600\n",
            "32/32 [==============================] - 0s 10ms/step - loss: 0.5690 - accuracy: 0.7737 - val_loss: 0.2582 - val_accuracy: 0.9420\n",
            "Epoch 593/600\n",
            "32/32 [==============================] - 0s 10ms/step - loss: 0.5738 - accuracy: 0.7997 - val_loss: 0.2562 - val_accuracy: 0.9390\n",
            "Epoch 594/600\n",
            "32/32 [==============================] - 0s 10ms/step - loss: 0.5745 - accuracy: 0.7772 - val_loss: 0.2581 - val_accuracy: 0.9440\n",
            "Epoch 595/600\n",
            "32/32 [==============================] - 0s 10ms/step - loss: 0.5159 - accuracy: 0.7992 - val_loss: 0.2616 - val_accuracy: 0.9300\n",
            "Epoch 596/600\n",
            "32/32 [==============================] - 0s 10ms/step - loss: 0.5245 - accuracy: 0.7862 - val_loss: 0.2556 - val_accuracy: 0.9440\n",
            "Epoch 597/600\n",
            "32/32 [==============================] - 0s 10ms/step - loss: 0.5355 - accuracy: 0.7853 - val_loss: 0.2519 - val_accuracy: 0.9470\n",
            "Epoch 598/600\n",
            "32/32 [==============================] - 0s 10ms/step - loss: 0.5531 - accuracy: 0.7990 - val_loss: 0.2555 - val_accuracy: 0.9560\n",
            "Epoch 599/600\n",
            "32/32 [==============================] - 0s 10ms/step - loss: 0.5668 - accuracy: 0.7807 - val_loss: 0.2504 - val_accuracy: 0.9470\n",
            "Epoch 600/600\n",
            "32/32 [==============================] - 0s 9ms/step - loss: 0.5822 - accuracy: 0.7783 - val_loss: 0.2598 - val_accuracy: 0.9450\n"
          ],
          "name": "stdout"
        }
      ]
    },
    {
      "cell_type": "markdown",
      "metadata": {
        "id": "Dn7W27hWlAJ3"
      },
      "source": [
        "## 6. Evaluate the model"
      ]
    },
    {
      "cell_type": "code",
      "metadata": {
        "id": "wyGS85pNka97",
        "colab": {
          "base_uri": "https://localhost:8080/",
          "height": 283
        },
        "outputId": "c4a9d8f8-c488-4db2-d148-0448bddac9ed"
      },
      "source": [
        "# Plot accuracy per iteration\r\n",
        "\r\n",
        "plt.plot(r.history['loss'], label='loss')\r\n",
        "plt.plot(r.history['val_loss'], label='val_loss')\r\n",
        "plt.legend()\r\n"
      ],
      "execution_count": null,
      "outputs": [
        {
          "output_type": "execute_result",
          "data": {
            "text/plain": [
              "<matplotlib.legend.Legend at 0x7f8eb13f5630>"
            ]
          },
          "metadata": {
            "tags": []
          },
          "execution_count": 304
        },
        {
          "output_type": "display_data",
          "data": {
            "image/png": "[encoded data removed]",
            "text/plain": [
              "<Figure size 432x288 with 1 Axes>"
            ]
          },
          "metadata": {
            "tags": [],
            "needs_background": "light"
          }
        }
      ]
    },
    {
      "cell_type": "code",
      "metadata": {
        "id": "KNh9vNkImDpo",
        "colab": {
          "base_uri": "https://localhost:8080/",
          "height": 283
        },
        "outputId": "17726376-c235-4248-f728-027507ea51b5"
      },
      "source": [
        "# Plot accuracy per iteration\r\n",
        "\r\n",
        "plt.plot(r.history['accuracy'], label='acc')\r\n",
        "plt.plot(r.history['val_accuracy'], label='val_acc')\r\n",
        "plt.legend()\r\n"
      ],
      "execution_count": null,
      "outputs": [
        {
          "output_type": "execute_result",
          "data": {
            "text/plain": [
              "<matplotlib.legend.Legend at 0x7f8e486f8860>"
            ]
          },
          "metadata": {
            "tags": []
          },
          "execution_count": 305
        },
        {
          "output_type": "display_data",
          "data": {
            "image/png": "[encoded data removed]",
            "text/plain": [
              "<Figure size 432x288 with 1 Axes>"
            ]
          },
          "metadata": {
            "tags": [],
            "needs_background": "light"
          }
        }
      ]
    },
    {
      "cell_type": "code",
      "metadata": {
        "id": "bEDj3ooymg0Z",
        "colab": {
          "base_uri": "https://localhost:8080/"
        },
        "outputId": "c4b33f82-a973-41a8-c37e-970d34a329ac"
      },
      "source": [
        "score, accuracy = model.evaluate([inputs_test, queries_test], answers_train, batch_size=32)\r\n",
        "print(score, accuracy)\r\n",
        "# 0.8433627486228943 0.6840000152587891"
      ],
      "execution_count": null,
      "outputs": [
        {
          "output_type": "stream",
          "text": [
            "32/32 [==============================] - 0s 3ms/step - loss: 0.2598 - accuracy: 0.9450\n",
            "0.2597712576389313 0.9449999928474426\n"
          ],
          "name": "stdout"
        }
      ]
    },
    {
      "cell_type": "markdown",
      "metadata": {
        "id": "7wUdb78blGqh"
      },
      "source": [
        "## 7. Save the model"
      ]
    },
    {
      "cell_type": "code",
      "metadata": {
        "id": "G9vGll_hnanj",
        "colab": {
          "base_uri": "https://localhost:8080/"
        },
        "outputId": "e8930990-239b-43f7-b62a-706b43720148"
      },
      "source": [
        "model.save(\"my_model.h5\")\r\n",
        "!ls"
      ],
      "execution_count": null,
      "outputs": [
        {
          "output_type": "stream",
          "text": [
            "my_model.h5\t\t\t     qa1_single-supporting-fact_train.txt\n",
            "qa1_single-supporting-fact_test.txt  sample_data\n"
          ],
          "name": "stdout"
        }
      ]
    },
    {
      "cell_type": "code",
      "metadata": {
        "id": "8wVzUhKwbDB6"
      },
      "source": [
        "# files.download(\"babi.h5\")"
      ],
      "execution_count": null,
      "outputs": []
    },
    {
      "cell_type": "markdown",
      "metadata": {
        "id": "qMSZ73l3lMnB"
      },
      "source": [
        "## 8. Make predictions"
      ]
    },
    {
      "cell_type": "code",
      "metadata": {
        "id": "bcEVheRuacM8"
      },
      "source": [
        "ans_dict = {}\r\n",
        "for word, index in tokenizer.word_index.items():\r\n",
        "  ans_dict[index] = word"
      ],
      "execution_count": null,
      "outputs": []
    },
    {
      "cell_type": "code",
      "metadata": {
        "colab": {
          "base_uri": "https://localhost:8080/"
        },
        "id": "LfveOt2Zdedh",
        "outputId": "5f380b3f-7e00-4c82-bb34-365b962412ae"
      },
      "source": [
        "ans_dict"
      ],
      "execution_count": null,
      "outputs": [
        {
          "output_type": "execute_result",
          "data": {
            "text/plain": [
              "{1: 'to',\n",
              " 2: 'garden',\n",
              " 3: 'the',\n",
              " 4: 'go',\n",
              " 5: 'journey',\n",
              " 6: 'sandra',\n",
              " 7: 'travel',\n",
              " 8: 'john',\n",
              " 9: 'back',\n",
              " 10: 'bedroom',\n",
              " 11: 'move',\n",
              " 12: 'daniel',\n",
              " 13: 'kitchen',\n",
              " 14: 'bathroom',\n",
              " 15: 'office',\n",
              " 16: 'mary',\n",
              " 17: 'hallway'}"
            ]
          },
          "metadata": {
            "tags": []
          },
          "execution_count": 321
        }
      ]
    },
    {
      "cell_type": "code",
      "metadata": {
        "id": "GEVe5Dodaf6p"
      },
      "source": [
        "def predict_ans(inputs_test: np.ndarray, queries_test: np.ndarray, row_index=0):\r\n",
        "  y_preds = model.predict([inputs_test, queries_test] )\r\n",
        "  y_pred = y_preds[row_index]\r\n",
        "  max_index = np.argmax(y_pred)\r\n",
        "\r\n",
        "  print(original_test_data_list[row_index])\r\n",
        "  print(\"answer\", ans_dict[max_index])\r\n",
        "\r\n",
        "  return ans_dict[max_index]"
      ],
      "execution_count": null,
      "outputs": []
    },
    {
      "cell_type": "code",
      "metadata": {
        "colab": {
          "base_uri": "https://localhost:8080/"
        },
        "id": "KXyUgohZah1b",
        "outputId": "e3d8c7a6-6501-48a0-a7fa-0f7fa5e021e6"
      },
      "source": [
        "for i in range(10):\r\n",
        "  predict_ans(inputs_test, queries_test, row_index=i)\r\n",
        "  print()"
      ],
      "execution_count": null,
      "outputs": [
        {
          "output_type": "stream",
          "text": [
            "(['Mary', 'move', 'to', 'the', 'bathroom', 'John', 'go', 'to', 'the', 'hallway'], ['Where', 'be', 'Mary'], ['bathroom'])\n",
            "answer bathroom\n",
            "\n",
            "(['Daniel', 'go', 'back', 'to', 'the', 'hallway', 'Sandra', 'move', 'to', 'the', 'garden'], ['Where', 'be', 'Daniel'], ['hallway'])\n",
            "answer hallway\n",
            "\n",
            "(['John', 'move', 'to', 'the', 'office', 'Sandra', 'journey', 'to', 'the', 'bathroom'], ['Where', 'be', 'Daniel'], ['hallway'])\n",
            "answer hallway\n",
            "\n",
            "(['Mary', 'move', 'to', 'the', 'hallway', 'Daniel', 'travel', 'to', 'the', 'office'], ['Where', 'be', 'Daniel'], ['office'])\n",
            "answer office\n",
            "\n",
            "(['John', 'go', 'back', 'to', 'the', 'garden', 'John', 'move', 'to', 'the', 'bedroom'], ['Where', 'be', 'Sandra'], ['bathroom'])\n",
            "answer bathroom\n",
            "\n",
            "(['Sandra', 'travel', 'to', 'the', 'office', 'Sandra', 'go', 'to', 'the', 'bathroom'], ['Where', 'be', 'Sandra'], ['bathroom'])\n",
            "answer bathroom\n",
            "\n",
            "(['Mary', 'go', 'to', 'the', 'bedroom', 'Daniel', 'move', 'to', 'the', 'hallway'], ['Where', 'be', 'Sandra'], ['bathroom'])\n",
            "answer bathroom\n",
            "\n",
            "(['John', 'go', 'to', 'the', 'garden', 'John', 'travel', 'to', 'the', 'office'], ['Where', 'be', 'Sandra'], ['bathroom'])\n",
            "answer bathroom\n",
            "\n",
            "(['Daniel', 'journey', 'to', 'the', 'bedroom', 'Daniel', 'travel', 'to', 'the', 'hallway'], ['Where', 'be', 'John'], ['office'])\n",
            "answer office\n",
            "\n",
            "(['John', 'go', 'to', 'the', 'bedroom', 'John', 'travel', 'to', 'the', 'office'], ['Where', 'be', 'Daniel'], ['hallway'])\n",
            "answer hallway\n",
            "\n"
          ],
          "name": "stdout"
        }
      ]
    }
  ]
}