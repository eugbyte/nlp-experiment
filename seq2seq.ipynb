{
  "nbformat": 4,
  "nbformat_minor": 0,
  "metadata": {
    "colab": {
      "name": "seq2seq.ipynb",
      "provenance": [],
      "collapsed_sections": [],
      "authorship_tag": "ABX9TyM+unBk2OMTjD3trh7Rcmli",
      "include_colab_link": true
    },
    "kernelspec": {
      "name": "python3",
      "display_name": "Python 3"
    },
    "accelerator": "GPU"
  },
  "cells": [
    {
      "cell_type": "markdown",
      "metadata": {
        "id": "view-in-github",
        "colab_type": "text"
      },
      "source": [
        "<a href=\"https://colab.research.google.com/github/eugbyte/nlp-experiment/blob/main/seq2seq.ipynb\" target=\"_parent\"><img src=\"https://colab.research.google.com/assets/colab-badge.svg\" alt=\"Open In Colab\"/></a>"
      ]
    },
    {
      "cell_type": "code",
      "metadata": {
        "id": "j6p3F0HGaNPt"
      },
      "source": [
        "import numpy as np\r\n",
        "import re\r\n",
        "from tensorflow.keras.preprocessing.text import Tokenizer\r\n",
        "from tensorflow.keras.preprocessing.sequence import pad_sequences\r\n",
        "from tensorflow.keras.models import Sequential, Model\r\n",
        "from tensorflow.keras.layers import Input, Activation, Dense, Permute, Dropout, add, dot, concatenate, LSTM, Embedding, GRU, Bidirectional\r\n",
        "import matplotlib.pyplot as plt\r\n",
        "import pandas as pds\r\n",
        "from sklearn.model_selection import train_test_split\r\n",
        "from spacy.lang.en import English\r\n",
        "import spacy\r\n",
        "import json\r\n",
        "import nltk\r\n",
        "from nltk import tokenize\r\n",
        "from nltk.stem import WordNetLemmatizer\r\n",
        "from google.colab import files\r\n",
        "import os\r\n",
        "from keras.optimizers import Adam, SGD"
      ],
      "execution_count": 62,
      "outputs": []
    },
    {
      "cell_type": "markdown",
      "metadata": {
        "id": "G4R3YM3da6Ji"
      },
      "source": [
        "# Import files from Google Drive"
      ]
    },
    {
      "cell_type": "code",
      "metadata": {
        "colab": {
          "base_uri": "https://localhost:8080/"
        },
        "id": "OfWQZG5raRkO",
        "outputId": "a7885cf2-784f-4731-f154-d2df764b69b1"
      },
      "source": [
        "from google.colab import drive\r\n",
        "drive.mount('/content/gdrive')"
      ],
      "execution_count": 63,
      "outputs": [
        {
          "output_type": "stream",
          "text": [
            "Drive already mounted at /content/gdrive; to attempt to forcibly remount, call drive.mount(\"/content/gdrive\", force_remount=True).\n"
          ],
          "name": "stdout"
        }
      ]
    },
    {
      "cell_type": "code",
      "metadata": {
        "colab": {
          "base_uri": "https://localhost:8080/"
        },
        "id": "zJaHElwPaSNY",
        "outputId": "bfba251e-728f-4e8d-9089-cb9e7f3aae73"
      },
      "source": [
        "%cd /content/gdrive/My Drive/Colab Notebooks/"
      ],
      "execution_count": 64,
      "outputs": [
        {
          "output_type": "stream",
          "text": [
            "/content/gdrive/My Drive/Colab Notebooks\n"
          ],
          "name": "stdout"
        }
      ]
    },
    {
      "cell_type": "code",
      "metadata": {
        "colab": {
          "base_uri": "https://localhost:8080/"
        },
        "id": "XLk2jV_7aUAv",
        "outputId": "d5ab003f-398c-4863-fea4-c6f4568015bb"
      },
      "source": [
        "!ls"
      ],
      "execution_count": 65,
      "outputs": [
        {
          "output_type": "stream",
          "text": [
            " bi-lstm.ipynb\t\t\t\t    poetry-generation.ipynb\n",
            " Chatbot\t\t\t\t    poetry.h5\n",
            " Chatbot_squad_v5.ipynb\t\t\t    robert_frost.txt\n",
            "'Copy of bi-lstm.ipynb'\t\t\t    seq2seq.ipynb\n",
            "'Copy of C4W3_Colab_T5_SQuAD_Model.ipynb'   spa.txt\n",
            " glove.6B.50d.txt\t\t\t    Tutorials\n"
          ],
          "name": "stdout"
        }
      ]
    },
    {
      "cell_type": "markdown",
      "metadata": {
        "id": "PLfGC7yWa_u-"
      },
      "source": [
        "# Constants Configurations"
      ]
    },
    {
      "cell_type": "code",
      "metadata": {
        "id": "thIYwoyMaiAd"
      },
      "source": [
        "# some configuration\r\n",
        "MAX_SEQUENCE_LENGTH = 100\r\n",
        "MAX_VOCAB_SIZE = 3000\r\n",
        "EMBEDDING_DIM = 50\r\n",
        "VALIDATION_SPLIT = 0.2\r\n",
        "BATCH_SIZE = 128\r\n",
        "LATENT_DIM = 25\r\n",
        "MAX_NUM_WORDS=20000\r\n",
        "\r\n",
        "NUM_SAMPLES = 1000\r\n",
        "EPOCHS = 50"
      ],
      "execution_count": 66,
      "outputs": []
    },
    {
      "cell_type": "markdown",
      "metadata": {
        "id": "pRcqlffSbfeY"
      },
      "source": [
        "# Load in input texts, target texts, and teacher forced texts"
      ]
    },
    {
      "cell_type": "code",
      "metadata": {
        "id": "s6PatoPOaig9"
      },
      "source": [
        "# load in the data\r\n",
        "input_texts = []\r\n",
        "target_texts = []\r\n",
        "target_texts_inputs = [] # for teacher forcing, i.e. target_texts offset by 1"
      ],
      "execution_count": 67,
      "outputs": []
    },
    {
      "cell_type": "code",
      "metadata": {
        "id": "XSovAGYVarID"
      },
      "source": [
        "i = 0\r\n",
        "\r\n",
        "for line in open('spa.txt'):\r\n",
        "\r\n",
        "  i += 1\r\n",
        "  \r\n",
        "  # will take too long otherwise\r\n",
        "  # also, in datasets, longer sentences ordered at the end\r\n",
        "  # the longer the setence, the more the unnecessary paddings\r\n",
        "  if i > NUM_SAMPLES:\r\n",
        "    break\r\n",
        "\r\n",
        "  if '\\t' not in line:\r\n",
        "    continue\r\n",
        "\r\n",
        "  input_text, translation = line.split(\"\\t\")\r\n",
        "\r\n",
        "  line = line.rstrip()\r\n",
        "  if not line:\r\n",
        "    continue\r\n",
        "\r\n",
        "  input_line = '<sos> ' + line\r\n",
        "  target_line = line + ' <eos>'\r\n",
        "  target_texts_input = '<sos> ' + target_line  # teacher forcing\r\n",
        "\r\n",
        "  input_texts.append(input_line)\r\n",
        "  target_texts.append(target_line)\r\n",
        "  target_texts_inputs.append(target_texts_input)"
      ],
      "execution_count": 68,
      "outputs": []
    },
    {
      "cell_type": "code",
      "metadata": {
        "colab": {
          "base_uri": "https://localhost:8080/"
        },
        "id": "JnAor_Shcgda",
        "outputId": "7b23828d-b3da-46a1-c2f0-15297b67ec36"
      },
      "source": [
        "print(\"num samples\", len(input_texts))"
      ],
      "execution_count": 69,
      "outputs": [
        {
          "output_type": "stream",
          "text": [
            "num samples 1000\n"
          ],
          "name": "stdout"
        }
      ]
    },
    {
      "cell_type": "code",
      "metadata": {
        "colab": {
          "base_uri": "https://localhost:8080/"
        },
        "id": "PdsGtFQg9svN",
        "outputId": "cd103aa0-d777-4696-8f13-82f6b6964007"
      },
      "source": [
        "print(\"num samples\", len(target_texts))"
      ],
      "execution_count": 70,
      "outputs": [
        {
          "output_type": "stream",
          "text": [
            "num samples 1000\n"
          ],
          "name": "stdout"
        }
      ]
    },
    {
      "cell_type": "markdown",
      "metadata": {
        "id": "ddJTXreObqjM"
      },
      "source": [
        "# Tokenize the texts"
      ]
    },
    {
      "cell_type": "code",
      "metadata": {
        "id": "VtmvNadVcj4S"
      },
      "source": [
        "# tokenize the sentences\r\n",
        "# you need tokenizers as you have 2 different languages"
      ],
      "execution_count": 71,
      "outputs": []
    },
    {
      "cell_type": "code",
      "metadata": {
        "id": "VFGpP_81cujo"
      },
      "source": [
        "# the input tokenizer\r\n",
        "tokenizer_inputs = Tokenizer(num_words=MAX_NUM_WORDS, filters=\"\")\r\n",
        "tokenizer_inputs.fit_on_texts(input_texts)\r\n",
        "input_sequences =  tokenizer_inputs.texts_to_sequences(input_texts)"
      ],
      "execution_count": 72,
      "outputs": []
    },
    {
      "cell_type": "code",
      "metadata": {
        "colab": {
          "base_uri": "https://localhost:8080/"
        },
        "id": "G3O4BXFbdTeI",
        "outputId": "54852b6f-b0a2-48b2-f4bf-321d1bdd6a64"
      },
      "source": [
        "word2idx_input = tokenizer_inputs.word_index\r\n",
        "print(\"Len of input word index\", len(word2idx_input))"
      ],
      "execution_count": 73,
      "outputs": [
        {
          "output_type": "stream",
          "text": [
            "Len of input word index 1547\n"
          ],
          "name": "stdout"
        }
      ]
    },
    {
      "cell_type": "code",
      "metadata": {
        "colab": {
          "base_uri": "https://localhost:8080/"
        },
        "id": "l6jMLHbldgHP",
        "outputId": "e224eea2-07e9-4259-9ebd-545e41ed7de8"
      },
      "source": [
        "max_len_input = max(len(s) for s in input_sequences)\r\n",
        "print(max_len_input)"
      ],
      "execution_count": 74,
      "outputs": [
        {
          "output_type": "stream",
          "text": [
            "8\n"
          ],
          "name": "stdout"
        }
      ]
    },
    {
      "cell_type": "code",
      "metadata": {
        "id": "eODz94sddpKC"
      },
      "source": [
        "# tokenize the output\r\n",
        "tokenizer_outputs = Tokenizer(num_words=MAX_NUM_WORDS, filters=\"\")\r\n",
        "tokenizer_outputs.fit_on_texts(target_texts + target_texts_inputs)\r\n",
        "target_sequences =  tokenizer_inputs.texts_to_sequences(target_texts)\r\n",
        "target_sequences_inputs = tokenizer_outputs.texts_to_sequences(target_texts_inputs)"
      ],
      "execution_count": 75,
      "outputs": []
    },
    {
      "cell_type": "code",
      "metadata": {
        "colab": {
          "base_uri": "https://localhost:8080/"
        },
        "id": "PfqgvbTFeZDC",
        "outputId": "c1515f70-b996-4a6b-ea7e-7c25f8c8fa4e"
      },
      "source": [
        "word2idx_outputs = tokenizer_outputs.word_index\r\n",
        "print(\"Len of output word index\", len(word2idx_input))"
      ],
      "execution_count": 76,
      "outputs": [
        {
          "output_type": "stream",
          "text": [
            "Len of output word index 1547\n"
          ],
          "name": "stdout"
        }
      ]
    },
    {
      "cell_type": "code",
      "metadata": {
        "id": "o8hN6shLelL7"
      },
      "source": [
        "# store number of words for later\r\n",
        "# remember to add 1 since indexing starts at 1. <sos> is at index 0\r\n",
        "\r\n",
        "num_words_output = len(word2idx_outputs) + 1"
      ],
      "execution_count": 77,
      "outputs": []
    },
    {
      "cell_type": "code",
      "metadata": {
        "colab": {
          "base_uri": "https://localhost:8080/"
        },
        "id": "do9_DykW5_fZ",
        "outputId": "822637c0-0fc6-4ebd-8392-021e05db8e02"
      },
      "source": [
        "num_words_output"
      ],
      "execution_count": 78,
      "outputs": [
        {
          "output_type": "execute_result",
          "data": {
            "text/plain": [
              "1549"
            ]
          },
          "metadata": {
            "tags": []
          },
          "execution_count": 78
        }
      ]
    },
    {
      "cell_type": "code",
      "metadata": {
        "id": "lXiA6wdve-TY",
        "colab": {
          "base_uri": "https://localhost:8080/"
        },
        "outputId": "a9d2ab7b-bcf6-4760-87c3-eee81b70272d"
      },
      "source": [
        "# determine the maximum length output sequence\r\n",
        "\r\n",
        "max_len_target = max(len(s) for s in target_sequences)\r\n",
        "print(max_len_target)"
      ],
      "execution_count": 79,
      "outputs": [
        {
          "output_type": "stream",
          "text": [
            "7\n"
          ],
          "name": "stdout"
        }
      ]
    },
    {
      "cell_type": "code",
      "metadata": {
        "id": "cfTi1ydgfPWY"
      },
      "source": [
        "# pad the input, target, target_inputs sequences"
      ],
      "execution_count": 80,
      "outputs": []
    },
    {
      "cell_type": "code",
      "metadata": {
        "colab": {
          "base_uri": "https://localhost:8080/"
        },
        "id": "ciqBKHHPfX4G",
        "outputId": "c6b56a82-038e-4edd-ee5d-0a5a180ee730"
      },
      "source": [
        "encoder_inputs = pad_sequences(input_sequences, maxlen=max_len_input, padding=\"post\")\r\n",
        "print(encoder_inputs.shape)\r\n",
        "print(encoder_inputs[0])"
      ],
      "execution_count": 81,
      "outputs": [
        {
          "output_type": "stream",
          "text": [
            "(1000, 8)\n",
            "[  1 354   0   0   0   0   0   0]\n"
          ],
          "name": "stdout"
        }
      ]
    },
    {
      "cell_type": "code",
      "metadata": {
        "colab": {
          "base_uri": "https://localhost:8080/"
        },
        "id": "ukHZnVHnghKw",
        "outputId": "90da65a5-280a-4c53-8cea-6538e0ed19df"
      },
      "source": [
        "decoder_inputs = pad_sequences(target_sequences_inputs, maxlen=max_len_target, padding=\"post\")\r\n",
        "print(decoder_inputs.shape)\r\n",
        "print(decoder_inputs[0])"
      ],
      "execution_count": 82,
      "outputs": [
        {
          "output_type": "stream",
          "text": [
            "(1000, 7)\n",
            "[  2 355   1   0   0   0   0]\n"
          ],
          "name": "stdout"
        }
      ]
    },
    {
      "cell_type": "code",
      "metadata": {
        "colab": {
          "base_uri": "https://localhost:8080/"
        },
        "id": "d1vbFj4XhDKs",
        "outputId": "1ba3d2ed-3742-497e-a345-aec35ea1c9a2"
      },
      "source": [
        "decoder_targets = pad_sequences(target_sequences, maxlen=max_len_target, padding=\"post\")\r\n",
        "print(decoder_targets.shape)\r\n",
        "print(decoder_targets[0])"
      ],
      "execution_count": 83,
      "outputs": [
        {
          "output_type": "stream",
          "text": [
            "(1000, 7)\n",
            "[354   0   0   0   0   0   0]\n"
          ],
          "name": "stdout"
        }
      ]
    },
    {
      "cell_type": "markdown",
      "metadata": {
        "id": "kh3001flb35I"
      },
      "source": [
        "# Prepare pre-trained embedding matrix with Glove\r\n"
      ]
    },
    {
      "cell_type": "code",
      "metadata": {
        "colab": {
          "base_uri": "https://localhost:8080/"
        },
        "id": "oKCOYevVhbGZ",
        "outputId": "51da86a0-f574-4b74-ece1-0bbc35f189c8"
      },
      "source": [
        "# load in pre-trained word vectors\r\n",
        "\r\n",
        "word2vec = {}\r\n",
        "\r\n",
        "print('Loading word vectors...')\r\n",
        "\r\n",
        "file_path = f'glove.6B.{EMBEDDING_DIM}d.txt'\r\n",
        "with open(file_path) as f:\r\n",
        "  # is just a space-separated text file in the format:\r\n",
        "  # word vec[0] vec[1] vec[2] ...\r\n",
        "  for line in f:\r\n",
        "    values = line.split()\r\n",
        "    word = values[0]\r\n",
        "    vec = np.asarray(values[1:], dtype='float32')\r\n",
        "    word2vec[word] = vec\r\n",
        "print('Found %s word vectors.' % len(word2vec))"
      ],
      "execution_count": 84,
      "outputs": [
        {
          "output_type": "stream",
          "text": [
            "Loading word vectors...\n",
            "Found 400000 word vectors.\n"
          ],
          "name": "stdout"
        }
      ]
    },
    {
      "cell_type": "code",
      "metadata": {
        "colab": {
          "base_uri": "https://localhost:8080/"
        },
        "id": "Kdh4emMPhjSx",
        "outputId": "5431f161-df0b-4c10-cec0-2257408054d8"
      },
      "source": [
        "# Prepare pre-trained embedding matrix\r\n",
        "# Instead of a regular embedding matrix, where each cell is a numerical word_token corresponding to word_index, \r\n",
        "# each row is a pre-trained vector\r\n",
        "\r\n",
        "num_words = len(word2idx_outputs) + 1 # word index start from 1 after <sos> token\r\n",
        "\r\n",
        "embedding_matrix = np.zeros((num_words, EMBEDDING_DIM))\r\n",
        "\r\n",
        "print(embedding_matrix.shape) # words by feture dimensions\r\n",
        "print(embedding_matrix[0:2])\r\n",
        "print(embedding_matrix[0].shape)\r\n",
        "\r\n",
        "# now the embedding matrix is 3d\r\n",
        "for word, i in word2idx_outputs.items():\r\n",
        "  if i < MAX_VOCAB_SIZE:\r\n",
        "    embedding_vector = word2vec.get(word) # get returns None instead of throwing error if key does not exist\r\n",
        "    if embedding_vector is not None:\r\n",
        "      embedding_matrix[i] = embedding_vector"
      ],
      "execution_count": 85,
      "outputs": [
        {
          "output_type": "stream",
          "text": [
            "(1549, 50)\n",
            "[[0. 0. 0. 0. 0. 0. 0. 0. 0. 0. 0. 0. 0. 0. 0. 0. 0. 0. 0. 0. 0. 0. 0. 0.\n",
            "  0. 0. 0. 0. 0. 0. 0. 0. 0. 0. 0. 0. 0. 0. 0. 0. 0. 0. 0. 0. 0. 0. 0. 0.\n",
            "  0. 0.]\n",
            " [0. 0. 0. 0. 0. 0. 0. 0. 0. 0. 0. 0. 0. 0. 0. 0. 0. 0. 0. 0. 0. 0. 0. 0.\n",
            "  0. 0. 0. 0. 0. 0. 0. 0. 0. 0. 0. 0. 0. 0. 0. 0. 0. 0. 0. 0. 0. 0. 0. 0.\n",
            "  0. 0.]]\n",
            "(50,)\n"
          ],
          "name": "stdout"
        }
      ]
    },
    {
      "cell_type": "code",
      "metadata": {
        "colab": {
          "base_uri": "https://localhost:8080/"
        },
        "id": "I6AnSWxWiXOd",
        "outputId": "1e5053d2-805a-4c36-8784-46b2feeecd57"
      },
      "source": [
        "embedding_matrix.shape"
      ],
      "execution_count": 86,
      "outputs": [
        {
          "output_type": "execute_result",
          "data": {
            "text/plain": [
              "(1549, 50)"
            ]
          },
          "metadata": {
            "tags": []
          },
          "execution_count": 86
        }
      ]
    },
    {
      "cell_type": "markdown",
      "metadata": {
        "id": "UCk-mh3EcBWo"
      },
      "source": [
        "# One hot encode the target vectors"
      ]
    },
    {
      "cell_type": "code",
      "metadata": {
        "colab": {
          "base_uri": "https://localhost:8080/"
        },
        "id": "f9ENnsnL6pJ1",
        "outputId": "94ee6399-a3be-4762-e34d-629d92c90a67"
      },
      "source": [
        "print(len(input_texts), max_len_target, num_words_output)"
      ],
      "execution_count": 87,
      "outputs": [
        {
          "output_type": "stream",
          "text": [
            "1000 7 1549\n"
          ],
          "name": "stdout"
        }
      ]
    },
    {
      "cell_type": "code",
      "metadata": {
        "id": "dPnJ1XfIiYyZ",
        "colab": {
          "base_uri": "https://localhost:8080/"
        },
        "outputId": "8bb5ff4c-5ce5-4c05-8904-2944c410e8bf"
      },
      "source": [
        "# one-hot the targets (can't use sparse cross-entropy, since output is more than 2d). We get a sequence\r\n",
        "\r\n",
        "# dimension will be num samples x max_sequence_len x num words. \r\n",
        "\r\n",
        "one_hot_targets = np.zeros((len(input_texts), max_len_target, num_words_output))  \r\n",
        "print(one_hot_targets.shape)"
      ],
      "execution_count": 88,
      "outputs": [
        {
          "output_type": "stream",
          "text": [
            "(1000, 7, 1549)\n"
          ],
          "name": "stdout"
        }
      ]
    },
    {
      "cell_type": "code",
      "metadata": {
        "id": "wsbuEMKv-Muk"
      },
      "source": [
        "# for every target sequence, for every word_token in that sequence ...\r\n",
        "for i, target_sequence in enumerate(target_sequences):\r\n",
        "  for t, word_token in enumerate(target_sequence):\r\n",
        "    if word_token > 0:     # 0 used for padding\r\n",
        "      one_hot_targets[i, t, word_token] = 1"
      ],
      "execution_count": 89,
      "outputs": []
    },
    {
      "cell_type": "markdown",
      "metadata": {
        "id": "TIr3I32LcNu3"
      },
      "source": [
        "# Build the training model"
      ]
    },
    {
      "cell_type": "markdown",
      "metadata": {
        "id": "M0tE4XywchA-"
      },
      "source": [
        "1.   Note that the training model includes both the encoder RNN layer, followed by the decoder RNN layer\r\n",
        "2.   We discard the outputs of the encoder RNN, only saving the state\r\n",
        "3.   The decoder RNN reuses this state for teacher forcing.\r\n",
        "4.  Effectively, the decoder learns to generate targets[t+1...] given targets[...t], conditioned on the input sequence\r\n",
        "5.   Because the training process and inference process (decoding sentences) are quite different, we use different models for both, albeit they all leverage the same inner layers.\r\n",
        "\r\n"
      ]
    },
    {
      "cell_type": "markdown",
      "metadata": {
        "id": "pi0ZVLPKg__s"
      },
      "source": [
        "## Build the encoder layer\r\n"
      ]
    },
    {
      "cell_type": "code",
      "metadata": {
        "id": "daH8jVmQJeDt"
      },
      "source": [
        "encoder_inputs_placeholder = Input(shape=(max_len_input, ))"
      ],
      "execution_count": null,
      "outputs": []
    },
    {
      "cell_type": "code",
      "metadata": {
        "id": "9bH4jXLHil8Y"
      },
      "source": [
        "# load pre-trained word embedding into a single LSTM layer\r\n",
        "# for pre-training, need to specify the weights\r\n",
        "# also need to specify that this first layer should not be retrained since the weights have already been calculated for us\r\n",
        "embedding_layer = Embedding(num_words, EMBEDDING_DIM, weights=[embedding_matrix], trainable=False)  "
      ],
      "execution_count": 90,
      "outputs": []
    },
    {
      "cell_type": "code",
      "metadata": {
        "id": "yzynFgbEiaMF"
      },
      "source": [
        "x = embedding_layer(encoder_inputs_placeholder)\r\n",
        "encoder = LSTM(LATENT_DIM, return_state=True, dropout=0.5)\r\n"
      ],
      "execution_count": 91,
      "outputs": []
    },
    {
      "cell_type": "markdown",
      "metadata": {
        "id": "zQCC1qxYcaa9"
      },
      "source": [
        "## Save the thought vector for the decoder layer\r\n"
      ]
    },
    {
      "cell_type": "code",
      "metadata": {
        "id": "fP2POl3H0j_g"
      },
      "source": [
        "# retain the state to pass to the decoder\r\n",
        "# c represents the cell state, i.e. weights - you don't keras to generate the weights randomly\r\n",
        "# h is the hidden state, i.e. the prediction at the latest time step. h is the same as encoder_outputs here\r\n",
        "encoder_outputs, h, c = encoder(x)\r\n",
        "encoder_states = [h, c]"
      ],
      "execution_count": 92,
      "outputs": []
    },
    {
      "cell_type": "code",
      "metadata": {
        "id": "wlGebFmO1X4s",
        "colab": {
          "base_uri": "https://localhost:8080/"
        },
        "outputId": "f8255335-3bfb-4b61-8826-1ea32085d4f6"
      },
      "source": [
        "print(encoder_outputs.shape, h.shape, c.shape)\r\n",
        "print(encoder_outputs[0], h[0])"
      ],
      "execution_count": 93,
      "outputs": [
        {
          "output_type": "stream",
          "text": [
            "(None, 25) (None, 25) (None, 25)\n",
            "KerasTensor(type_spec=TensorSpec(shape=(25,), dtype=tf.float32, name=None), name='tf.__operators__.getitem_2/strided_slice:0', description=\"created by layer 'tf.__operators__.getitem_2'\") KerasTensor(type_spec=TensorSpec(shape=(25,), dtype=tf.float32, name=None), name='tf.__operators__.getitem_3/strided_slice:0', description=\"created by layer 'tf.__operators__.getitem_3'\")\n"
          ],
          "name": "stdout"
        }
      ]
    },
    {
      "cell_type": "markdown",
      "metadata": {
        "id": "zIq7l8lYhHS6"
      },
      "source": [
        "## Build the decoder layer"
      ]
    },
    {
      "cell_type": "code",
      "metadata": {
        "id": "TyzCK-r10_d0"
      },
      "source": [
        "# build the decoder layer\r\n",
        "decoder_inputs_placeholder = Input(shape=(max_len_target, ))"
      ],
      "execution_count": 94,
      "outputs": []
    },
    {
      "cell_type": "code",
      "metadata": {
        "colab": {
          "base_uri": "https://localhost:8080/"
        },
        "id": "i2Bkbvo5_YoP",
        "outputId": "3172f4be-17d4-48dc-d709-71abfbe3ebbf"
      },
      "source": [
        "decoder_inputs_placeholder.shape"
      ],
      "execution_count": 95,
      "outputs": [
        {
          "output_type": "execute_result",
          "data": {
            "text/plain": [
              "TensorShape([None, 7])"
            ]
          },
          "metadata": {
            "tags": []
          },
          "execution_count": 95
        }
      ]
    },
    {
      "cell_type": "code",
      "metadata": {
        "id": "WWbFSlYl1mEK"
      },
      "source": [
        "# use new embedding layer since you are using a new language\r\n",
        "decoder_embedding = Embedding(num_words_output, LATENT_DIM) # decoder_embedding layer will not use pre-trained word vectors\r\n",
        "decoder_inputs_x = decoder_embedding(decoder_inputs_placeholder)\r\n"
      ],
      "execution_count": 96,
      "outputs": []
    },
    {
      "cell_type": "code",
      "metadata": {
        "id": "g8z_2mJUwwk2"
      },
      "source": [
        "# since the decoder is a to-many model, we want return-sequences = True\r\n",
        "# many sentences are translated to many sentences\r\n",
        "decoder_lstm = LSTM(LATENT_DIM, return_sequences=True, return_state=True, dropout=0.5)\r\n",
        "decoder_outputs, _, _ = decoder_lstm(decoder_inputs_x, initial_state=encoder_states)"
      ],
      "execution_count": 97,
      "outputs": []
    },
    {
      "cell_type": "code",
      "metadata": {
        "id": "IlHvBkw4xY4B"
      },
      "source": [
        "# final dense layer for prediction\r\n",
        "decoder_dense = Dense(num_words_output, activation=\"softmax\")\r\n",
        "decoder_outputs = decoder_dense(decoder_outputs)"
      ],
      "execution_count": 98,
      "outputs": []
    },
    {
      "cell_type": "markdown",
      "metadata": {
        "id": "ke0r3J6RiHoh"
      },
      "source": [
        "## Compile the model"
      ]
    },
    {
      "cell_type": "code",
      "metadata": {
        "id": "YyWpZ-cP0OE2"
      },
      "source": [
        "model = Model([encoder_inputs_placeholder, decoder_inputs_placeholder], decoder_outputs)"
      ],
      "execution_count": 99,
      "outputs": []
    },
    {
      "cell_type": "code",
      "metadata": {
        "id": "t92yot9a0aEU"
      },
      "source": [
        "model.compile(optimizer=\"rmsprop\", loss=\"categorical_crossentropy\", metrics=[\"accuracy\"])"
      ],
      "execution_count": 100,
      "outputs": []
    },
    {
      "cell_type": "code",
      "metadata": {
        "colab": {
          "base_uri": "https://localhost:8080/"
        },
        "id": "FXb7qyIM-YCU",
        "outputId": "d4687aa9-6903-4ed4-a82c-f0f79fa7d21a"
      },
      "source": [
        "encoder_inputs.shape"
      ],
      "execution_count": 101,
      "outputs": [
        {
          "output_type": "execute_result",
          "data": {
            "text/plain": [
              "(1000, 8)"
            ]
          },
          "metadata": {
            "tags": []
          },
          "execution_count": 101
        }
      ]
    },
    {
      "cell_type": "code",
      "metadata": {
        "colab": {
          "base_uri": "https://localhost:8080/"
        },
        "id": "T913j0b8-kme",
        "outputId": "bee992f4-4b24-4545-8570-ea09db16e0d3"
      },
      "source": [
        "max_len_input"
      ],
      "execution_count": 102,
      "outputs": [
        {
          "output_type": "execute_result",
          "data": {
            "text/plain": [
              "8"
            ]
          },
          "metadata": {
            "tags": []
          },
          "execution_count": 102
        }
      ]
    },
    {
      "cell_type": "code",
      "metadata": {
        "colab": {
          "base_uri": "https://localhost:8080/"
        },
        "id": "SBVOr3U0-qj3",
        "outputId": "8e8da43e-a249-4ab6-8716-be1862f7e78d"
      },
      "source": [
        "decoder_inputs.shape"
      ],
      "execution_count": 103,
      "outputs": [
        {
          "output_type": "execute_result",
          "data": {
            "text/plain": [
              "(1000, 7)"
            ]
          },
          "metadata": {
            "tags": []
          },
          "execution_count": 103
        }
      ]
    },
    {
      "cell_type": "code",
      "metadata": {
        "colab": {
          "base_uri": "https://localhost:8080/"
        },
        "id": "UsoQmSDX-s7c",
        "outputId": "56a0022e-d9d3-4495-a662-0d7164b539cd"
      },
      "source": [
        "max_len_target"
      ],
      "execution_count": 104,
      "outputs": [
        {
          "output_type": "execute_result",
          "data": {
            "text/plain": [
              "7"
            ]
          },
          "metadata": {
            "tags": []
          },
          "execution_count": 104
        }
      ]
    },
    {
      "cell_type": "code",
      "metadata": {
        "id": "WMtx7Ivo1rUM",
        "colab": {
          "base_uri": "https://localhost:8080/"
        },
        "outputId": "757cfe05-e255-49ab-8a12-3b5a696fc83d"
      },
      "source": [
        "r = model.fit([encoder_inputs, decoder_inputs], one_hot_targets, # [english sentences, teacher forced senteces], target sentences\r\n",
        "              batch_size=BATCH_SIZE,\r\n",
        "              epochs=EPOCHS,\r\n",
        "              validation_split=0.2)"
      ],
      "execution_count": 105,
      "outputs": [
        {
          "output_type": "stream",
          "text": [
            "Epoch 1/50\n",
            "7/7 [==============================] - 4s 161ms/step - loss: 3.2334 - accuracy: 0.0037 - val_loss: 3.7240 - val_accuracy: 0.0050\n",
            "Epoch 2/50\n",
            "7/7 [==============================] - 0s 21ms/step - loss: 3.2237 - accuracy: 0.0153 - val_loss: 3.6994 - val_accuracy: 0.0036\n",
            "Epoch 3/50\n",
            "7/7 [==============================] - 0s 22ms/step - loss: 3.1952 - accuracy: 0.0187 - val_loss: 3.6653 - val_accuracy: 0.0000e+00\n",
            "Epoch 4/50\n",
            "7/7 [==============================] - 0s 21ms/step - loss: 3.0765 - accuracy: 0.0152 - val_loss: 3.6442 - val_accuracy: 0.0000e+00\n",
            "Epoch 5/50\n",
            "7/7 [==============================] - 0s 20ms/step - loss: 3.0275 - accuracy: 0.0134 - val_loss: 3.6338 - val_accuracy: 0.0000e+00\n",
            "Epoch 6/50\n",
            "7/7 [==============================] - 0s 20ms/step - loss: 2.9423 - accuracy: 0.0124 - val_loss: 3.6292 - val_accuracy: 0.0000e+00\n",
            "Epoch 7/50\n",
            "7/7 [==============================] - 0s 22ms/step - loss: 2.9709 - accuracy: 0.0144 - val_loss: 3.6289 - val_accuracy: 0.0000e+00\n",
            "Epoch 8/50\n",
            "7/7 [==============================] - 0s 22ms/step - loss: 2.9228 - accuracy: 0.0151 - val_loss: 3.6321 - val_accuracy: 0.0000e+00\n",
            "Epoch 9/50\n",
            "7/7 [==============================] - 0s 21ms/step - loss: 2.8918 - accuracy: 0.0153 - val_loss: 3.6394 - val_accuracy: 0.0057\n",
            "Epoch 10/50\n",
            "7/7 [==============================] - 0s 22ms/step - loss: 2.8752 - accuracy: 0.0186 - val_loss: 3.6480 - val_accuracy: 0.0057\n",
            "Epoch 11/50\n",
            "7/7 [==============================] - 0s 21ms/step - loss: 2.8870 - accuracy: 0.0177 - val_loss: 3.6576 - val_accuracy: 0.0057\n",
            "Epoch 12/50\n",
            "7/7 [==============================] - 0s 19ms/step - loss: 2.8970 - accuracy: 0.0190 - val_loss: 3.6711 - val_accuracy: 0.0057\n",
            "Epoch 13/50\n",
            "7/7 [==============================] - 0s 21ms/step - loss: 2.8844 - accuracy: 0.0186 - val_loss: 3.6803 - val_accuracy: 0.0057\n",
            "Epoch 14/50\n",
            "7/7 [==============================] - 0s 21ms/step - loss: 2.8955 - accuracy: 0.0173 - val_loss: 3.6929 - val_accuracy: 0.0057\n",
            "Epoch 15/50\n",
            "7/7 [==============================] - 0s 21ms/step - loss: 2.8975 - accuracy: 0.0190 - val_loss: 3.7065 - val_accuracy: 0.0057\n",
            "Epoch 16/50\n",
            "7/7 [==============================] - 0s 21ms/step - loss: 2.8719 - accuracy: 0.0184 - val_loss: 3.7198 - val_accuracy: 0.0057\n",
            "Epoch 17/50\n",
            "7/7 [==============================] - 0s 22ms/step - loss: 2.8451 - accuracy: 0.0177 - val_loss: 3.7355 - val_accuracy: 0.0057\n",
            "Epoch 18/50\n",
            "7/7 [==============================] - 0s 21ms/step - loss: 2.8397 - accuracy: 0.0196 - val_loss: 3.7493 - val_accuracy: 0.0057\n",
            "Epoch 19/50\n",
            "7/7 [==============================] - 0s 20ms/step - loss: 2.8525 - accuracy: 0.0182 - val_loss: 3.7641 - val_accuracy: 0.0057\n",
            "Epoch 20/50\n",
            "7/7 [==============================] - 0s 20ms/step - loss: 2.8734 - accuracy: 0.0201 - val_loss: 3.7784 - val_accuracy: 0.0057\n",
            "Epoch 21/50\n",
            "7/7 [==============================] - 0s 22ms/step - loss: 2.8549 - accuracy: 0.0201 - val_loss: 3.7922 - val_accuracy: 0.0057\n",
            "Epoch 22/50\n",
            "7/7 [==============================] - 0s 20ms/step - loss: 2.8469 - accuracy: 0.0176 - val_loss: 3.8054 - val_accuracy: 0.0057\n",
            "Epoch 23/50\n",
            "7/7 [==============================] - 0s 20ms/step - loss: 2.8770 - accuracy: 0.0192 - val_loss: 3.8185 - val_accuracy: 0.0057\n",
            "Epoch 24/50\n",
            "7/7 [==============================] - 0s 21ms/step - loss: 2.8531 - accuracy: 0.0182 - val_loss: 3.8330 - val_accuracy: 0.0057\n",
            "Epoch 25/50\n",
            "7/7 [==============================] - 0s 20ms/step - loss: 2.8841 - accuracy: 0.0177 - val_loss: 3.8465 - val_accuracy: 0.0057\n",
            "Epoch 26/50\n",
            "7/7 [==============================] - 0s 19ms/step - loss: 2.8677 - accuracy: 0.0182 - val_loss: 3.8599 - val_accuracy: 0.0057\n",
            "Epoch 27/50\n",
            "7/7 [==============================] - 0s 20ms/step - loss: 2.8706 - accuracy: 0.0192 - val_loss: 3.8728 - val_accuracy: 0.0057\n",
            "Epoch 28/50\n",
            "7/7 [==============================] - 0s 21ms/step - loss: 2.8167 - accuracy: 0.0202 - val_loss: 3.8859 - val_accuracy: 0.0057\n",
            "Epoch 29/50\n",
            "7/7 [==============================] - 0s 21ms/step - loss: 2.8890 - accuracy: 0.0181 - val_loss: 3.9001 - val_accuracy: 0.0057\n",
            "Epoch 30/50\n",
            "7/7 [==============================] - 0s 21ms/step - loss: 2.8876 - accuracy: 0.0189 - val_loss: 3.9134 - val_accuracy: 0.0057\n",
            "Epoch 31/50\n",
            "7/7 [==============================] - 0s 20ms/step - loss: 2.8531 - accuracy: 0.0175 - val_loss: 3.9267 - val_accuracy: 0.0057\n",
            "Epoch 32/50\n",
            "7/7 [==============================] - 0s 20ms/step - loss: 2.8866 - accuracy: 0.0209 - val_loss: 3.9414 - val_accuracy: 0.0057\n",
            "Epoch 33/50\n",
            "7/7 [==============================] - 0s 20ms/step - loss: 2.8752 - accuracy: 0.0205 - val_loss: 3.9559 - val_accuracy: 0.0057\n",
            "Epoch 34/50\n",
            "7/7 [==============================] - 0s 20ms/step - loss: 2.8590 - accuracy: 0.0195 - val_loss: 3.9690 - val_accuracy: 0.0057\n",
            "Epoch 35/50\n",
            "7/7 [==============================] - 0s 20ms/step - loss: 2.8310 - accuracy: 0.0185 - val_loss: 3.9835 - val_accuracy: 0.0057\n",
            "Epoch 36/50\n",
            "7/7 [==============================] - 0s 19ms/step - loss: 2.8664 - accuracy: 0.0179 - val_loss: 3.9972 - val_accuracy: 0.0057\n",
            "Epoch 37/50\n",
            "7/7 [==============================] - 0s 19ms/step - loss: 2.8523 - accuracy: 0.0188 - val_loss: 4.0109 - val_accuracy: 0.0057\n",
            "Epoch 38/50\n",
            "7/7 [==============================] - 0s 20ms/step - loss: 2.8585 - accuracy: 0.0183 - val_loss: 4.0229 - val_accuracy: 0.0057\n",
            "Epoch 39/50\n",
            "7/7 [==============================] - 0s 20ms/step - loss: 2.8681 - accuracy: 0.0199 - val_loss: 4.0365 - val_accuracy: 0.0057\n",
            "Epoch 40/50\n",
            "7/7 [==============================] - 0s 19ms/step - loss: 2.8441 - accuracy: 0.0180 - val_loss: 4.0503 - val_accuracy: 0.0057\n",
            "Epoch 41/50\n",
            "7/7 [==============================] - 0s 20ms/step - loss: 2.8724 - accuracy: 0.0184 - val_loss: 4.0660 - val_accuracy: 0.0057\n",
            "Epoch 42/50\n",
            "7/7 [==============================] - 0s 21ms/step - loss: 2.8718 - accuracy: 0.0195 - val_loss: 4.0805 - val_accuracy: 0.0057\n",
            "Epoch 43/50\n",
            "7/7 [==============================] - 0s 20ms/step - loss: 2.8755 - accuracy: 0.0196 - val_loss: 4.0924 - val_accuracy: 0.0057\n",
            "Epoch 44/50\n",
            "7/7 [==============================] - 0s 19ms/step - loss: 2.8601 - accuracy: 0.0193 - val_loss: 4.1055 - val_accuracy: 0.0057\n",
            "Epoch 45/50\n",
            "7/7 [==============================] - 0s 20ms/step - loss: 2.8461 - accuracy: 0.0194 - val_loss: 4.1176 - val_accuracy: 0.0057\n",
            "Epoch 46/50\n",
            "7/7 [==============================] - 0s 20ms/step - loss: 2.8547 - accuracy: 0.0191 - val_loss: 4.1310 - val_accuracy: 0.0057\n",
            "Epoch 47/50\n",
            "7/7 [==============================] - 0s 19ms/step - loss: 2.8501 - accuracy: 0.0172 - val_loss: 4.1447 - val_accuracy: 0.0057\n",
            "Epoch 48/50\n",
            "7/7 [==============================] - 0s 19ms/step - loss: 2.8520 - accuracy: 0.0197 - val_loss: 4.1583 - val_accuracy: 0.0057\n",
            "Epoch 49/50\n",
            "7/7 [==============================] - 0s 43ms/step - loss: 2.8543 - accuracy: 0.0195 - val_loss: 4.1736 - val_accuracy: 0.0057\n",
            "Epoch 50/50\n",
            "7/7 [==============================] - 0s 21ms/step - loss: 2.8214 - accuracy: 0.0187 - val_loss: 4.1856 - val_accuracy: 0.0057\n"
          ],
          "name": "stdout"
        }
      ]
    },
    {
      "cell_type": "markdown",
      "metadata": {
        "id": "1_P0JJeOiLMb"
      },
      "source": [
        "## Evaluate the model"
      ]
    },
    {
      "cell_type": "code",
      "metadata": {
        "id": "uZG3tZQu2jx4",
        "colab": {
          "base_uri": "https://localhost:8080/",
          "height": 283
        },
        "outputId": "f66fcb7b-db65-4993-e4f0-0c7bdc19aad8"
      },
      "source": [
        "# Plot loss per iteration\r\n",
        "\r\n",
        "plt.plot(r.history['loss'], label='loss')\r\n",
        "plt.plot(r.history['val_loss'], label='val_loss')\r\n",
        "plt.legend()"
      ],
      "execution_count": 106,
      "outputs": [
        {
          "output_type": "execute_result",
          "data": {
            "text/plain": [
              "<matplotlib.legend.Legend at 0x7f2c1348f470>"
            ]
          },
          "metadata": {
            "tags": []
          },
          "execution_count": 106
        },
        {
          "output_type": "display_data",
          "data": {
            "image/png": "[encoded data removed]",
            "text/plain": [
              "<Figure size 432x288 with 1 Axes>"
            ]
          },
          "metadata": {
            "tags": [],
            "needs_background": "light"
          }
        }
      ]
    },
    {
      "cell_type": "code",
      "metadata": {
        "id": "6YNyYwlS21TR",
        "colab": {
          "base_uri": "https://localhost:8080/",
          "height": 287
        },
        "outputId": "1d1aefa0-8123-4250-e126-7a8f9220ad99"
      },
      "source": [
        "# Plot accuracy per iteration\r\n",
        "\r\n",
        "plt.plot(r.history['accuracy'], label='acc')\r\n",
        "plt.plot(r.history['val_accuracy'], label='val_acc')\r\n",
        "plt.legend()"
      ],
      "execution_count": 107,
      "outputs": [
        {
          "output_type": "execute_result",
          "data": {
            "text/plain": [
              "<matplotlib.legend.Legend at 0x7f2c144af9e8>"
            ]
          },
          "metadata": {
            "tags": []
          },
          "execution_count": 107
        },
        {
          "output_type": "display_data",
          "data": {
            "image/png": "[encoded data removed]",
            "text/plain": [
              "<Figure size 432x288 with 1 Axes>"
            ]
          },
          "metadata": {
            "tags": [],
            "needs_background": "light"
          }
        }
      ]
    },
    {
      "cell_type": "markdown",
      "metadata": {
        "id": "dGp5-_lKiPA5"
      },
      "source": [
        "# Create prediction model\r\n",
        "\r\n",
        "\r\n",
        "\r\n",
        "1.   Because the training process and inference process (decoding sentences) are quite different, we use different models for both, albeit they all leverage the same inner layers.\r\n",
        "2.  An important thing to note is that you are making use of the same dense layer you created earlier - the same trained weights. If you use new layer, then it will have new random weights\r\n",
        "3.  Like the training model, the prediction model is made up of encoder and decoder layers"
      ]
    },
    {
      "cell_type": "markdown",
      "metadata": {
        "id": "iv87yvybpua3"
      },
      "source": [
        "## Theory\r\n",
        "\r\n",
        "1.   Encode the input sequence into state vectors.\r\n",
        "2.   Start with a target sequence of size 1 (just the start-of-sequence character).\r\n",
        "3.   Feed the state vectors and 1-char target sequence to the decoder to produce predictions for the next character.\r\n",
        "4.   Sample the next character using these predictions (we simply use argmax).\r\n",
        "5.   Append the sampled character to the target sequence\r\n",
        "6.   Repeat until we generate the end-of-sequence character or we hit the character limit."
      ]
    },
    {
      "cell_type": "markdown",
      "metadata": {
        "id": "dOCKZcZFmaqZ"
      },
      "source": [
        "## Encoder Layer for generating initial states"
      ]
    },
    {
      "cell_type": "code",
      "metadata": {
        "id": "fq0AgOvIcfF6"
      },
      "source": [
        "# The encoder will be stand-alone\r\n",
        "# From this we will get our initial decoder hidden state\r\n",
        "encoder_model = Model(encoder_inputs_placeholder, encoder_states)"
      ],
      "execution_count": 108,
      "outputs": []
    },
    {
      "cell_type": "markdown",
      "metadata": {
        "id": "cu6TL52-mf1V"
      },
      "source": [
        "## Create 3 input layers"
      ]
    },
    {
      "cell_type": "code",
      "metadata": {
        "id": "ddtVTPpvcgsg"
      },
      "source": [
        "# 3 input layers\r\n",
        "# you want to reuse the hidden state and the cell state\r\n",
        "\r\n",
        "decoder_state_input_h = Input(shape=(LATENT_DIM,))\r\n",
        "decoder_state_input_c = Input(shape=(LATENT_DIM,))\r\n",
        "decoder_states_inputs = [decoder_state_input_h, decoder_state_input_c]\r\n",
        "\r\n",
        "# predict 1 word at a time, i.e. unigram\r\n",
        "decoder_inputs_single = Input(shape=(1,))"
      ],
      "execution_count": 109,
      "outputs": []
    },
    {
      "cell_type": "markdown",
      "metadata": {
        "id": "Z2FvG8tLm5RS"
      },
      "source": [
        "## Decoder layer"
      ]
    },
    {
      "cell_type": "code",
      "metadata": {
        "id": "BVC_pyH_ck-F"
      },
      "source": [
        "decoder_inputs_single_x = decoder_embedding(decoder_inputs_single)"
      ],
      "execution_count": 110,
      "outputs": []
    },
    {
      "cell_type": "code",
      "metadata": {
        "id": "l4N5Cke9dFTA"
      },
      "source": [
        "# recall that you want to set the hidden state, cell state and x from the previous time step\r\n",
        "decoder_outputs, h, c = decoder_lstm(\r\n",
        "  decoder_inputs_single_x,\r\n",
        "  initial_state=decoder_states_inputs\r\n",
        ")"
      ],
      "execution_count": 111,
      "outputs": []
    },
    {
      "cell_type": "markdown",
      "metadata": {
        "id": "ZOwu9bxxnyBk"
      },
      "source": [
        "## Save the state, which will be updated after each time step"
      ]
    },
    {
      "cell_type": "code",
      "metadata": {
        "id": "muzaLM4_dSE8"
      },
      "source": [
        "# This allows the sampling model to predict the next sequences of words based on the current word\r\n",
        "decoder_states = [h, c]"
      ],
      "execution_count": 112,
      "outputs": []
    },
    {
      "cell_type": "markdown",
      "metadata": {
        "id": "zUIho-Mvnjlb"
      },
      "source": [
        "## Reuse the same trained dense layer from above\r\n"
      ]
    },
    {
      "cell_type": "code",
      "metadata": {
        "id": "8oddzjj-CjKc"
      },
      "source": [
        "### This is the important step where you reuse the same trained weights\r\n",
        "decoder_outputs = decoder_dense(decoder_outputs)"
      ],
      "execution_count": 113,
      "outputs": []
    },
    {
      "cell_type": "markdown",
      "metadata": {
        "id": "-SfieFqqnKDt"
      },
      "source": [
        "## Create the model, but do not compile it"
      ]
    },
    {
      "cell_type": "code",
      "metadata": {
        "id": "IaGyK3dyCsxW"
      },
      "source": [
        "# No need to compile since no training needed\r\n",
        "# you are merely using earlier trained weights\r\n",
        "\r\n",
        "# inputs: y(t-1), h(t-1), c(t-1)\r\n",
        "# outputs: y(t), h(t), c(t)\r\n",
        "decoder_model = Model([decoder_inputs_single, decoder_state_input_h, decoder_state_input_c], \r\n",
        "                      [decoder_outputs] + decoder_states)"
      ],
      "execution_count": 114,
      "outputs": []
    },
    {
      "cell_type": "markdown",
      "metadata": {
        "id": "LcAVMmgWnCJ5"
      },
      "source": [
        "## Map indexes back into real words\r\n"
      ]
    },
    {
      "cell_type": "code",
      "metadata": {
        "id": "Y4hYDsp3Efd3"
      },
      "source": [
        "# so we can view the results\r\n",
        "idx2word_eng = {v:k for k, v in word2idx_input.items()}\r\n",
        "idx2word_trans = {v:k for k, v in word2idx_outputs.items()}"
      ],
      "execution_count": 115,
      "outputs": []
    },
    {
      "cell_type": "markdown",
      "metadata": {
        "id": "CnwzMQbTvVft"
      },
      "source": [
        "# Create the sampling function\r\n"
      ]
    },
    {
      "cell_type": "code",
      "metadata": {
        "colab": {
          "base_uri": "https://localhost:8080/"
        },
        "id": "jPD22biPBwPQ",
        "outputId": "12aa9353-8df4-4a90-fae5-9608beba5473"
      },
      "source": [
        "word2idx_outputs['<sos>']"
      ],
      "execution_count": 116,
      "outputs": [
        {
          "output_type": "execute_result",
          "data": {
            "text/plain": [
              "2"
            ]
          },
          "metadata": {
            "tags": []
          },
          "execution_count": 116
        }
      ]
    },
    {
      "cell_type": "code",
      "metadata": {
        "id": "2NE5RDvJEf-m"
      },
      "source": [
        "def decode_sequence(input_seq):\r\n",
        "  # Encode the input as state vectors.\r\n",
        "  states_value = encoder_model.predict(input_seq)\r\n",
        "\r\n",
        "  # Generate empty target sequence of length 1.\r\n",
        "  target_seq = np.zeros((1, 1))\r\n",
        "\r\n",
        "  # Populate the first character of target sequence with the start character.\r\n",
        "  # NOTE: tokenizer lower-cases all words\r\n",
        "  target_seq[0, 0] = word2idx_outputs['<sos>']\r\n",
        "\r\n",
        "  # if we get this we break\r\n",
        "  eos = word2idx_outputs['<eos>']\r\n",
        "\r\n",
        "  # Create the translation\r\n",
        "  output_sentence = []\r\n",
        "  for _ in range(max_len_target):\r\n",
        "    output_tokens, h, c = decoder_model.predict(\r\n",
        "      [target_seq] + states_value\r\n",
        "    )\r\n",
        "    # output_tokens, h = decoder_model.predict(\r\n",
        "    #     [target_seq] + states_value\r\n",
        "    # ) # gru\r\n",
        "\r\n",
        "    # Get next word\r\n",
        "    idx = np.argmax(output_tokens[0, 0, :])\r\n",
        "\r\n",
        "    # End sentence of EOS\r\n",
        "    if eos == idx:\r\n",
        "      break\r\n",
        "\r\n",
        "    word = ''\r\n",
        "    if idx > 0:\r\n",
        "      word = idx2word_trans[idx]\r\n",
        "      output_sentence.append(word)\r\n",
        "\r\n",
        "    # Update the decoder input\r\n",
        "    # which is just the word just generated\r\n",
        "    target_seq[0, 0] = idx\r\n",
        "\r\n",
        "    # Update states\r\n",
        "    states_value = [h, c]\r\n",
        "    # states_value = [h] # gru\r\n",
        "\r\n",
        "  return ' '.join(output_sentence)"
      ],
      "execution_count": 119,
      "outputs": []
    },
    {
      "cell_type": "markdown",
      "metadata": {
        "id": "I0UDHb6GH97G"
      },
      "source": [
        "## Make Predictions\r\n"
      ]
    },
    {
      "cell_type": "code",
      "metadata": {
        "id": "ZLGJQpCVEieh",
        "colab": {
          "base_uri": "https://localhost:8080/"
        },
        "outputId": "4e4a9b6b-1b9a-465b-f551-12b0e3e4348f"
      },
      "source": [
        "for i in range(4):\r\n",
        "  i = np.random.choice(len(input_texts))\r\n",
        "  input_seq = encoder_inputs[i:i+1]\r\n",
        "  translation = decode_sequence(input_seq)\r\n",
        "  \r\n",
        "  print('-')\r\n",
        "  print('Input:', input_texts[i])\r\n",
        "  print('Translation:', translation)"
      ],
      "execution_count": 122,
      "outputs": [
        {
          "output_type": "stream",
          "text": [
            "-\n",
            "Input: <sos> We know.\tLo sabemos.\n",
            "Translation: <sos> <sos> <sos> <sos> <sos> <sos> <sos>\n",
            "-\n",
            "Input: <sos> Listen.\tEscuche.\n",
            "Translation: <sos> <sos> <sos> <sos> <sos> <sos> <sos>\n",
            "-\n",
            "Input: <sos> It's Tom.\tEs Tom.\n",
            "Translation: <sos> <sos> <sos> <sos> <sos> <sos> <sos>\n",
            "-\n",
            "Input: <sos> It rained.\tLlovió.\n",
            "Translation: <sos> <sos> <sos> <sos> <sos> <sos> <sos>\n"
          ],
          "name": "stdout"
        }
      ]
    }
  ]
}